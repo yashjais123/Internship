{
 "cells": [
  {
   "cell_type": "markdown",
   "id": "97560da0",
   "metadata": {},
   "source": [
    "# CAR PRICE PREDICTION"
   ]
  },
  {
   "cell_type": "markdown",
   "id": "f5094a21",
   "metadata": {},
   "source": [
    "# With the covid 19 impact in the market, we have seen lot of changes in the car market. Now some cars are in demand hence making them costly and some are not in demand hence cheaper. One of our clients works with small traders, who sell used cars. With the change in market due to covid 19 impact, our client is facing problems with their previcar price valuation machine learning models. So, they are looking for new machine learning models from new data. We have to make car price valuation model. This project contains two phase"
   ]
  },
  {
   "cell_type": "code",
   "execution_count": 1,
   "id": "e4e1f7de",
   "metadata": {},
   "outputs": [],
   "source": [
    "import selenium\n",
    "from selenium import webdriver \n",
    "import pandas as pd\n",
    "from selenium.webdriver.common.by import By\n",
    "import warnings\n",
    "warnings.filterwarnings('ignore')\n",
    "import time"
   ]
  },
  {
   "cell_type": "code",
   "execution_count": 74,
   "id": "05cc6797",
   "metadata": {},
   "outputs": [],
   "source": [
    "# scrap data for New Delhi used cars"
   ]
  },
  {
   "cell_type": "code",
   "execution_count": 2,
   "id": "49f25519",
   "metadata": {},
   "outputs": [],
   "source": [
    "driver = webdriver.Edge(r\"C:\\Users\\yjjai\\Downloads\\edgedriver_win64 (1)\\msedgedriver.exe\")\n",
    "driver.maximize_window()"
   ]
  },
  {
   "cell_type": "code",
   "execution_count": 3,
   "id": "059273cf",
   "metadata": {},
   "outputs": [],
   "source": [
    "url = \"https://www.cars24.com/buy-used-car?sort=P&storeCityId=2&pinId=110001\"\n",
    "driver.get(url)"
   ]
  },
  {
   "cell_type": "code",
   "execution_count": 4,
   "id": "118f2b4d",
   "metadata": {},
   "outputs": [],
   "source": [
    "Brand = []\n",
    "\n",
    "try:\n",
    "    name = driver.find_elements(By.XPATH,\"//h3[@class='_3FpCg']\")\n",
    "    for i in name:\n",
    "        Brand.append(i.text.split(' ')[1])\n",
    "except NoSuchElementException:\n",
    "    Brand.append('Nan')"
   ]
  },
  {
   "cell_type": "code",
   "execution_count": 5,
   "id": "e35598ca",
   "metadata": {},
   "outputs": [
    {
     "data": {
      "text/plain": [
       "1237"
      ]
     },
     "execution_count": 5,
     "metadata": {},
     "output_type": "execute_result"
    }
   ],
   "source": [
    "len(Brand)"
   ]
  },
  {
   "cell_type": "code",
   "execution_count": 6,
   "id": "023133de",
   "metadata": {},
   "outputs": [],
   "source": [
    "Year = []\n",
    "\n",
    "try:\n",
    "    name_year = driver.find_elements(By.XPATH,\"//h3[@class='_3FpCg']\")\n",
    "    for i in name_year:\n",
    "        Year.append(i.text.split(' ')[0])\n",
    "except NoSuchElementException:\n",
    "    Year.append('Nan')"
   ]
  },
  {
   "cell_type": "code",
   "execution_count": 7,
   "id": "ef4ab14a",
   "metadata": {},
   "outputs": [
    {
     "data": {
      "text/plain": [
       "1237"
      ]
     },
     "execution_count": 7,
     "metadata": {},
     "output_type": "execute_result"
    }
   ],
   "source": [
    "len(Year)"
   ]
  },
  {
   "cell_type": "code",
   "execution_count": 8,
   "id": "0522ca29",
   "metadata": {},
   "outputs": [],
   "source": [
    "model = []\n",
    "\n",
    "try:\n",
    "    model_name = driver.find_elements(By.XPATH,\"//h3[@class='_3FpCg']\")\n",
    "    for i in model_name:\n",
    "        model.append(i.text.split(' ')[2:4])\n",
    "except NoSuchElementException:\n",
    "    model.append('Nan')"
   ]
  },
  {
   "cell_type": "code",
   "execution_count": 9,
   "id": "d51e47e8",
   "metadata": {},
   "outputs": [
    {
     "data": {
      "text/plain": [
       "1237"
      ]
     },
     "execution_count": 9,
     "metadata": {},
     "output_type": "execute_result"
    }
   ],
   "source": [
    "len(model)"
   ]
  },
  {
   "cell_type": "code",
   "execution_count": 10,
   "id": "5faef14c",
   "metadata": {},
   "outputs": [],
   "source": [
    "variant = []\n",
    "\n",
    "try:\n",
    "    var_name = driver.find_elements(By.XPATH,'//p[@class=\"cvakB\"]')\n",
    "    for os in var_name:\n",
    "        variant.append(os.text)\n",
    "except NoSuchElementException:\n",
    "    variant.append('Nan')"
   ]
  },
  {
   "cell_type": "code",
   "execution_count": 11,
   "id": "5313933c",
   "metadata": {},
   "outputs": [
    {
     "data": {
      "text/plain": [
       "1237"
      ]
     },
     "execution_count": 11,
     "metadata": {},
     "output_type": "execute_result"
    }
   ],
   "source": [
    "len(variant)"
   ]
  },
  {
   "cell_type": "code",
   "execution_count": 12,
   "id": "a95777b4",
   "metadata": {},
   "outputs": [],
   "source": [
    "driven_kilometers = []\n",
    "\n",
    "\n",
    "try:\n",
    "    dri_name = driver.find_elements(By.XPATH,'//ul[@class=\"bVR0c\"]//li[1]')\n",
    "    for os in dri_name:\n",
    "        driven_kilometers.append(os.text)\n",
    "except NoSuchElementException:\n",
    "    driven_kilometers.append('Nan')"
   ]
  },
  {
   "cell_type": "code",
   "execution_count": 13,
   "id": "74629807",
   "metadata": {},
   "outputs": [
    {
     "data": {
      "text/plain": [
       "1237"
      ]
     },
     "execution_count": 13,
     "metadata": {},
     "output_type": "execute_result"
    }
   ],
   "source": [
    "len(driven_kilometers)"
   ]
  },
  {
   "cell_type": "code",
   "execution_count": 14,
   "id": "ee332954",
   "metadata": {},
   "outputs": [],
   "source": [
    "number_of_owners = []\n",
    "\n",
    "\n",
    "try:\n",
    "    own_name = driver.find_elements(By.XPATH,'//ul[@class=\"bVR0c\"]//li[2]')\n",
    "    for os in own_name:\n",
    "        number_of_owners.append(os.text)\n",
    "except NoSuchElementException:\n",
    "    number_of_owners.append('Nan')"
   ]
  },
  {
   "cell_type": "code",
   "execution_count": 15,
   "id": "29569759",
   "metadata": {},
   "outputs": [
    {
     "data": {
      "text/plain": [
       "1237"
      ]
     },
     "execution_count": 15,
     "metadata": {},
     "output_type": "execute_result"
    }
   ],
   "source": [
    "len(number_of_owners)"
   ]
  },
  {
   "cell_type": "code",
   "execution_count": 16,
   "id": "c02d6cb0",
   "metadata": {},
   "outputs": [],
   "source": [
    "fuel = []\n",
    "\n",
    "\n",
    "try:\n",
    "    fu_name = driver.find_elements(By.XPATH,'//ul[@class=\"bVR0c\"]//li[3]')\n",
    "    for os in fu_name:\n",
    "        fuel.append(os.text)\n",
    "except NoSuchElementException:\n",
    "    fuel.append('Nan')"
   ]
  },
  {
   "cell_type": "code",
   "execution_count": 17,
   "id": "2d241d8b",
   "metadata": {},
   "outputs": [
    {
     "data": {
      "text/plain": [
       "1237"
      ]
     },
     "execution_count": 17,
     "metadata": {},
     "output_type": "execute_result"
    }
   ],
   "source": [
    "len(fuel)"
   ]
  },
  {
   "cell_type": "code",
   "execution_count": 18,
   "id": "5eae0c2f",
   "metadata": {},
   "outputs": [],
   "source": [
    "Price = []\n",
    "\n",
    "\n",
    "try:\n",
    "    name = driver.find_elements(By.XPATH,\"//div[@class='_7udZZ']\")\n",
    "    for i in name:\n",
    "         Price.append(i.text.replace('₹','')) \n",
    "except NoSuchElementException:\n",
    "    Price.append('Nan')"
   ]
  },
  {
   "cell_type": "code",
   "execution_count": 25,
   "id": "57a6663e",
   "metadata": {},
   "outputs": [
    {
     "data": {
      "text/html": [
       "<div>\n",
       "<style scoped>\n",
       "    .dataframe tbody tr th:only-of-type {\n",
       "        vertical-align: middle;\n",
       "    }\n",
       "\n",
       "    .dataframe tbody tr th {\n",
       "        vertical-align: top;\n",
       "    }\n",
       "\n",
       "    .dataframe thead th {\n",
       "        text-align: right;\n",
       "    }\n",
       "</style>\n",
       "<table border=\"1\" class=\"dataframe\">\n",
       "  <thead>\n",
       "    <tr style=\"text-align: right;\">\n",
       "      <th></th>\n",
       "      <th>Brand Name</th>\n",
       "      <th>Car model</th>\n",
       "      <th>Car variant</th>\n",
       "      <th>Running kilometers</th>\n",
       "      <th>Number of owners</th>\n",
       "      <th>fuel System</th>\n",
       "      <th>manufacturing year</th>\n",
       "      <th>Price</th>\n",
       "    </tr>\n",
       "  </thead>\n",
       "  <tbody>\n",
       "    <tr>\n",
       "      <th>0</th>\n",
       "      <td>KIA</td>\n",
       "      <td>[SELTOS]</td>\n",
       "      <td>GTX+ 1.4 MT Manual</td>\n",
       "      <td>5,999 km</td>\n",
       "      <td>1st Owner</td>\n",
       "      <td>Petrol</td>\n",
       "      <td>2020</td>\n",
       "      <td>17,22,000</td>\n",
       "    </tr>\n",
       "    <tr>\n",
       "      <th>1</th>\n",
       "      <td>Maruti</td>\n",
       "      <td>[Alto, K10]</td>\n",
       "      <td>LXI Manual</td>\n",
       "      <td>32,278 km</td>\n",
       "      <td>2nd Owner</td>\n",
       "      <td>Petrol</td>\n",
       "      <td>2017</td>\n",
       "      <td>2,59,000</td>\n",
       "    </tr>\n",
       "    <tr>\n",
       "      <th>2</th>\n",
       "      <td>KIA</td>\n",
       "      <td>[SELTOS]</td>\n",
       "      <td>GTX + AT PETROL Automatic</td>\n",
       "      <td>9,417 km</td>\n",
       "      <td>1st Owner</td>\n",
       "      <td>Petrol</td>\n",
       "      <td>2020</td>\n",
       "      <td>16,81,000</td>\n",
       "    </tr>\n",
       "    <tr>\n",
       "      <th>3</th>\n",
       "      <td>Hyundai</td>\n",
       "      <td>[Grand, i10]</td>\n",
       "      <td>MAGNA 1.2 KAPPA VTVT Manual</td>\n",
       "      <td>19,964 km</td>\n",
       "      <td>1st Owner</td>\n",
       "      <td>Petrol</td>\n",
       "      <td>2019</td>\n",
       "      <td>5,03,000</td>\n",
       "    </tr>\n",
       "    <tr>\n",
       "      <th>4</th>\n",
       "      <td>Maruti</td>\n",
       "      <td>[Alto]</td>\n",
       "      <td>LXI Manual</td>\n",
       "      <td>12,030 km</td>\n",
       "      <td>2nd Owner</td>\n",
       "      <td>Petrol</td>\n",
       "      <td>2011</td>\n",
       "      <td>1,74,000</td>\n",
       "    </tr>\n",
       "    <tr>\n",
       "      <th>...</th>\n",
       "      <td>...</td>\n",
       "      <td>...</td>\n",
       "      <td>...</td>\n",
       "      <td>...</td>\n",
       "      <td>...</td>\n",
       "      <td>...</td>\n",
       "      <td>...</td>\n",
       "      <td>...</td>\n",
       "    </tr>\n",
       "    <tr>\n",
       "      <th>1232</th>\n",
       "      <td>Ford</td>\n",
       "      <td>[Ecosport]</td>\n",
       "      <td>1.5TITANIUM TDCI Manual</td>\n",
       "      <td>65,678 km</td>\n",
       "      <td>1st Owner</td>\n",
       "      <td>Diesel</td>\n",
       "      <td>2018</td>\n",
       "      <td>7,60,000</td>\n",
       "    </tr>\n",
       "    <tr>\n",
       "      <th>1233</th>\n",
       "      <td>Maruti</td>\n",
       "      <td>[Vitara, Brezza]</td>\n",
       "      <td>ZDI PLUS AMT</td>\n",
       "      <td>50,481 km</td>\n",
       "      <td>1st Owner</td>\n",
       "      <td>Diesel</td>\n",
       "      <td>2018</td>\n",
       "      <td>9,14,000</td>\n",
       "    </tr>\n",
       "    <tr>\n",
       "      <th>1234</th>\n",
       "      <td>Toyota</td>\n",
       "      <td>[Corolla, Altis]</td>\n",
       "      <td>VL AT Automatic</td>\n",
       "      <td>24,133 km</td>\n",
       "      <td>1st Owner</td>\n",
       "      <td>Petrol</td>\n",
       "      <td>2011</td>\n",
       "      <td>4,40,000</td>\n",
       "    </tr>\n",
       "    <tr>\n",
       "      <th>1235</th>\n",
       "      <td>Hyundai</td>\n",
       "      <td>[Elite, i20]</td>\n",
       "      <td>ASTA 1.2 Manual</td>\n",
       "      <td>94,461 km</td>\n",
       "      <td>1st Owner</td>\n",
       "      <td>CNG</td>\n",
       "      <td>2017</td>\n",
       "      <td>5,89,000</td>\n",
       "    </tr>\n",
       "    <tr>\n",
       "      <th>1236</th>\n",
       "      <td>Hyundai</td>\n",
       "      <td>[Verna]</td>\n",
       "      <td>FLUIDIC 1.6 SX VTVT Manual</td>\n",
       "      <td>73,256 km</td>\n",
       "      <td>1st Owner</td>\n",
       "      <td>Petrol</td>\n",
       "      <td>2011</td>\n",
       "      <td>3,33,000</td>\n",
       "    </tr>\n",
       "  </tbody>\n",
       "</table>\n",
       "<p>1237 rows × 8 columns</p>\n",
       "</div>"
      ],
      "text/plain": [
       "     Brand Name         Car model                  Car variant  \\\n",
       "0           KIA          [SELTOS]           GTX+ 1.4 MT Manual   \n",
       "1        Maruti       [Alto, K10]                   LXI Manual   \n",
       "2           KIA          [SELTOS]    GTX + AT PETROL Automatic   \n",
       "3       Hyundai      [Grand, i10]  MAGNA 1.2 KAPPA VTVT Manual   \n",
       "4        Maruti            [Alto]                   LXI Manual   \n",
       "...         ...               ...                          ...   \n",
       "1232       Ford        [Ecosport]      1.5TITANIUM TDCI Manual   \n",
       "1233     Maruti  [Vitara, Brezza]                 ZDI PLUS AMT   \n",
       "1234     Toyota  [Corolla, Altis]              VL AT Automatic   \n",
       "1235    Hyundai      [Elite, i20]              ASTA 1.2 Manual   \n",
       "1236    Hyundai           [Verna]   FLUIDIC 1.6 SX VTVT Manual   \n",
       "\n",
       "     Running kilometers Number of owners fuel System manufacturing year  \\\n",
       "0              5,999 km        1st Owner      Petrol               2020   \n",
       "1             32,278 km        2nd Owner      Petrol               2017   \n",
       "2              9,417 km        1st Owner      Petrol               2020   \n",
       "3             19,964 km        1st Owner      Petrol               2019   \n",
       "4             12,030 km        2nd Owner      Petrol               2011   \n",
       "...                 ...              ...         ...                ...   \n",
       "1232          65,678 km        1st Owner      Diesel               2018   \n",
       "1233          50,481 km        1st Owner      Diesel               2018   \n",
       "1234          24,133 km        1st Owner      Petrol               2011   \n",
       "1235          94,461 km        1st Owner         CNG               2017   \n",
       "1236          73,256 km        1st Owner      Petrol               2011   \n",
       "\n",
       "          Price  \n",
       "0     17,22,000  \n",
       "1      2,59,000  \n",
       "2     16,81,000  \n",
       "3      5,03,000  \n",
       "4      1,74,000  \n",
       "...         ...  \n",
       "1232   7,60,000  \n",
       "1233   9,14,000  \n",
       "1234   4,40,000  \n",
       "1235   5,89,000  \n",
       "1236   3,33,000  \n",
       "\n",
       "[1237 rows x 8 columns]"
      ]
     },
     "execution_count": 25,
     "metadata": {},
     "output_type": "execute_result"
    }
   ],
   "source": [
    "import pandas as pd\n",
    "car_price_2 = pd.DataFrame()\n",
    "car_price_2['Brand Name'] = Brand\n",
    "car_price_2['Car model'] = model\n",
    "car_price_2['Car variant'] = variant\n",
    "car_price_2['Running kilometers'] = driven_kilometers\n",
    "car_price_2['Number of owners'] = number_of_owners\n",
    "car_price_2['fuel System'] = fuel\n",
    "car_price_2['manufacturing year'] = Year\n",
    "car_price_2['Price'] = Price\n",
    "car_price_2 "
   ]
  },
  {
   "cell_type": "code",
   "execution_count": 26,
   "id": "43fad20a",
   "metadata": {},
   "outputs": [],
   "source": [
    "car_price_2.to_csv('car_price_2 ')"
   ]
  },
  {
   "cell_type": "code",
   "execution_count": 27,
   "id": "2285ad4b",
   "metadata": {},
   "outputs": [],
   "source": [
    "driver.close()"
   ]
  },
  {
   "cell_type": "code",
   "execution_count": 75,
   "id": "381b6245",
   "metadata": {},
   "outputs": [],
   "source": [
    "# scrap data for Bangalore used cars"
   ]
  },
  {
   "cell_type": "code",
   "execution_count": 28,
   "id": "f4e8e104",
   "metadata": {},
   "outputs": [],
   "source": [
    "driver = webdriver.Edge(r\"C:\\Users\\yjjai\\Downloads\\edgedriver_win64 (1)\\msedgedriver.exe\")\n",
    "driver.maximize_window()"
   ]
  },
  {
   "cell_type": "code",
   "execution_count": 29,
   "id": "3acf8fcb",
   "metadata": {},
   "outputs": [],
   "source": [
    "url = \"https://www.cars24.com/buy-used-car?sort=P&storeCityId=4709&pinId=560001\"\n",
    "driver.get(url)"
   ]
  },
  {
   "cell_type": "code",
   "execution_count": 30,
   "id": "8b5c0ce2",
   "metadata": {},
   "outputs": [],
   "source": [
    "Brand = []\n",
    "\n",
    "try:\n",
    "    name = driver.find_elements(By.XPATH,\"//h3[@class='_3FpCg']\")\n",
    "    for i in name:\n",
    "        Brand.append(i.text.split(' ')[1])\n",
    "except NoSuchElementException:\n",
    "    Brand.append('Nan')"
   ]
  },
  {
   "cell_type": "code",
   "execution_count": 32,
   "id": "1ba1687c",
   "metadata": {},
   "outputs": [
    {
     "data": {
      "text/plain": [
       "1232"
      ]
     },
     "execution_count": 32,
     "metadata": {},
     "output_type": "execute_result"
    }
   ],
   "source": [
    "len(Brand)"
   ]
  },
  {
   "cell_type": "code",
   "execution_count": 33,
   "id": "7730c6ac",
   "metadata": {},
   "outputs": [],
   "source": [
    "Year = []\n",
    "\n",
    "try:\n",
    "    name_year = driver.find_elements(By.XPATH,\"//h3[@class='_3FpCg']\")\n",
    "    for i in name_year:\n",
    "        Year.append(i.text.split(' ')[0])\n",
    "except NoSuchElementException:\n",
    "    Year.append('Nan')"
   ]
  },
  {
   "cell_type": "code",
   "execution_count": 34,
   "id": "f689ab34",
   "metadata": {},
   "outputs": [
    {
     "data": {
      "text/plain": [
       "1232"
      ]
     },
     "execution_count": 34,
     "metadata": {},
     "output_type": "execute_result"
    }
   ],
   "source": [
    "len(Year)"
   ]
  },
  {
   "cell_type": "code",
   "execution_count": 35,
   "id": "02d67682",
   "metadata": {},
   "outputs": [],
   "source": [
    "model = []\n",
    "\n",
    "try:\n",
    "    model_name = driver.find_elements(By.XPATH,\"//h3[@class='_3FpCg']\")\n",
    "    for i in model_name:\n",
    "        model.append(i.text.split(' ')[2:4])\n",
    "except NoSuchElementException:\n",
    "    model.append('Nan')"
   ]
  },
  {
   "cell_type": "code",
   "execution_count": 36,
   "id": "2737e325",
   "metadata": {},
   "outputs": [
    {
     "data": {
      "text/plain": [
       "1232"
      ]
     },
     "execution_count": 36,
     "metadata": {},
     "output_type": "execute_result"
    }
   ],
   "source": [
    "len(model)"
   ]
  },
  {
   "cell_type": "code",
   "execution_count": 37,
   "id": "3d3c8c68",
   "metadata": {},
   "outputs": [],
   "source": [
    "variant = []\n",
    "\n",
    "try:\n",
    "    var_name = driver.find_elements(By.XPATH,'//p[@class=\"cvakB\"]')\n",
    "    for os in var_name:\n",
    "        variant.append(os.text)\n",
    "except NoSuchElementException:\n",
    "    variant.append('Nan')"
   ]
  },
  {
   "cell_type": "code",
   "execution_count": 38,
   "id": "a5fe1af5",
   "metadata": {},
   "outputs": [
    {
     "data": {
      "text/plain": [
       "1232"
      ]
     },
     "execution_count": 38,
     "metadata": {},
     "output_type": "execute_result"
    }
   ],
   "source": [
    "len(variant)"
   ]
  },
  {
   "cell_type": "code",
   "execution_count": 39,
   "id": "ff45d455",
   "metadata": {},
   "outputs": [],
   "source": [
    "driven_kilometers = []\n",
    "\n",
    "\n",
    "try:\n",
    "    dri_name = driver.find_elements(By.XPATH,'//ul[@class=\"bVR0c\"]//li[1]')\n",
    "    for os in dri_name:\n",
    "        driven_kilometers.append(os.text)\n",
    "except NoSuchElementException:\n",
    "    driven_kilometers.append('Nan')"
   ]
  },
  {
   "cell_type": "code",
   "execution_count": 40,
   "id": "78e3a891",
   "metadata": {},
   "outputs": [
    {
     "data": {
      "text/plain": [
       "1232"
      ]
     },
     "execution_count": 40,
     "metadata": {},
     "output_type": "execute_result"
    }
   ],
   "source": [
    "len(driven_kilometers)"
   ]
  },
  {
   "cell_type": "code",
   "execution_count": 41,
   "id": "6fcc78e9",
   "metadata": {},
   "outputs": [],
   "source": [
    "number_of_owners = []\n",
    "\n",
    "\n",
    "try:\n",
    "    own_name = driver.find_elements(By.XPATH,'//ul[@class=\"bVR0c\"]//li[2]')\n",
    "    for os in own_name:\n",
    "        number_of_owners.append(os.text)\n",
    "except NoSuchElementException:\n",
    "    number_of_owners.append('Nan')"
   ]
  },
  {
   "cell_type": "code",
   "execution_count": 42,
   "id": "c2030857",
   "metadata": {},
   "outputs": [
    {
     "data": {
      "text/plain": [
       "1232"
      ]
     },
     "execution_count": 42,
     "metadata": {},
     "output_type": "execute_result"
    }
   ],
   "source": [
    "len(number_of_owners)"
   ]
  },
  {
   "cell_type": "code",
   "execution_count": 43,
   "id": "ccdea62d",
   "metadata": {},
   "outputs": [],
   "source": [
    "fuel = []\n",
    "\n",
    "\n",
    "try:\n",
    "    fu_name = driver.find_elements(By.XPATH,'//ul[@class=\"bVR0c\"]//li[3]')\n",
    "    for os in fu_name:\n",
    "        fuel.append(os.text)\n",
    "except NoSuchElementException:\n",
    "    fuel.append('Nan')"
   ]
  },
  {
   "cell_type": "code",
   "execution_count": 44,
   "id": "14622f32",
   "metadata": {},
   "outputs": [
    {
     "data": {
      "text/plain": [
       "1232"
      ]
     },
     "execution_count": 44,
     "metadata": {},
     "output_type": "execute_result"
    }
   ],
   "source": [
    "len(fuel)"
   ]
  },
  {
   "cell_type": "code",
   "execution_count": 45,
   "id": "2461d295",
   "metadata": {},
   "outputs": [],
   "source": [
    "Price = []\n",
    "\n",
    "\n",
    "try:\n",
    "    name = driver.find_elements(By.XPATH,\"//div[@class='_7udZZ']\")\n",
    "    for i in name:\n",
    "         Price.append(i.text.replace('₹','')) \n",
    "except NoSuchElementException:\n",
    "    Price.append('Nan')"
   ]
  },
  {
   "cell_type": "code",
   "execution_count": 47,
   "id": "4116194e",
   "metadata": {},
   "outputs": [
    {
     "data": {
      "text/plain": [
       "1232"
      ]
     },
     "execution_count": 47,
     "metadata": {},
     "output_type": "execute_result"
    }
   ],
   "source": [
    "len(Price)"
   ]
  },
  {
   "cell_type": "code",
   "execution_count": 48,
   "id": "ab63e8a3",
   "metadata": {},
   "outputs": [
    {
     "data": {
      "text/html": [
       "<div>\n",
       "<style scoped>\n",
       "    .dataframe tbody tr th:only-of-type {\n",
       "        vertical-align: middle;\n",
       "    }\n",
       "\n",
       "    .dataframe tbody tr th {\n",
       "        vertical-align: top;\n",
       "    }\n",
       "\n",
       "    .dataframe thead th {\n",
       "        text-align: right;\n",
       "    }\n",
       "</style>\n",
       "<table border=\"1\" class=\"dataframe\">\n",
       "  <thead>\n",
       "    <tr style=\"text-align: right;\">\n",
       "      <th></th>\n",
       "      <th>Brand Name</th>\n",
       "      <th>Car model</th>\n",
       "      <th>Car variant</th>\n",
       "      <th>Running kilometers</th>\n",
       "      <th>Number of owners</th>\n",
       "      <th>fuel System</th>\n",
       "      <th>manufacturing year</th>\n",
       "      <th>Price</th>\n",
       "    </tr>\n",
       "  </thead>\n",
       "  <tbody>\n",
       "    <tr>\n",
       "      <th>0</th>\n",
       "      <td>Tata</td>\n",
       "      <td>[Tiago]</td>\n",
       "      <td>XM 1.2 REVOTRON Manual</td>\n",
       "      <td>77,365 km</td>\n",
       "      <td>1st Owner</td>\n",
       "      <td>Petrol</td>\n",
       "      <td>2019</td>\n",
       "      <td>4,61,000</td>\n",
       "    </tr>\n",
       "    <tr>\n",
       "      <th>1</th>\n",
       "      <td>Hyundai</td>\n",
       "      <td>[i10]</td>\n",
       "      <td>MAGNA 1.2 Manual</td>\n",
       "      <td>59,757 km</td>\n",
       "      <td>2nd Owner</td>\n",
       "      <td>Petrol</td>\n",
       "      <td>2010</td>\n",
       "      <td>2,56,000</td>\n",
       "    </tr>\n",
       "    <tr>\n",
       "      <th>2</th>\n",
       "      <td>Hyundai</td>\n",
       "      <td>[Creta]</td>\n",
       "      <td>SX PLUS AT 1.6 PETROL</td>\n",
       "      <td>42,790 km</td>\n",
       "      <td>2nd Owner</td>\n",
       "      <td>Petrol</td>\n",
       "      <td>2017</td>\n",
       "      <td>10,87,000</td>\n",
       "    </tr>\n",
       "    <tr>\n",
       "      <th>3</th>\n",
       "      <td>Datsun</td>\n",
       "      <td>[Go]</td>\n",
       "      <td>T Manual</td>\n",
       "      <td>76,598 km</td>\n",
       "      <td>1st Owner</td>\n",
       "      <td>Petrol</td>\n",
       "      <td>2016</td>\n",
       "      <td>2,59,000</td>\n",
       "    </tr>\n",
       "    <tr>\n",
       "      <th>4</th>\n",
       "      <td>Maruti</td>\n",
       "      <td>[Alto, K10]</td>\n",
       "      <td>VXI Manual</td>\n",
       "      <td>90,837 km</td>\n",
       "      <td>2nd Owner</td>\n",
       "      <td>Petrol</td>\n",
       "      <td>2014</td>\n",
       "      <td>2,78,000</td>\n",
       "    </tr>\n",
       "    <tr>\n",
       "      <th>...</th>\n",
       "      <td>...</td>\n",
       "      <td>...</td>\n",
       "      <td>...</td>\n",
       "      <td>...</td>\n",
       "      <td>...</td>\n",
       "      <td>...</td>\n",
       "      <td>...</td>\n",
       "      <td>...</td>\n",
       "    </tr>\n",
       "    <tr>\n",
       "      <th>1227</th>\n",
       "      <td>Ford</td>\n",
       "      <td>[Ecosport]</td>\n",
       "      <td>1.5 TDCI TITANIUM PLUS Manual</td>\n",
       "      <td>25,013 km</td>\n",
       "      <td>2nd Owner</td>\n",
       "      <td>Diesel</td>\n",
       "      <td>2017</td>\n",
       "      <td>9,39,000</td>\n",
       "    </tr>\n",
       "    <tr>\n",
       "      <th>1228</th>\n",
       "      <td>Maruti</td>\n",
       "      <td>[Swift, Dzire]</td>\n",
       "      <td>VXI Manual</td>\n",
       "      <td>43,603 km</td>\n",
       "      <td>1st Owner</td>\n",
       "      <td>Petrol</td>\n",
       "      <td>2010</td>\n",
       "      <td>3,72,000</td>\n",
       "    </tr>\n",
       "    <tr>\n",
       "      <th>1229</th>\n",
       "      <td>Hyundai</td>\n",
       "      <td>[i10]</td>\n",
       "      <td>MAGNA 1.2</td>\n",
       "      <td>45,929 km</td>\n",
       "      <td>1st Owner</td>\n",
       "      <td>Petrol</td>\n",
       "      <td>2011</td>\n",
       "      <td>3,15,000</td>\n",
       "    </tr>\n",
       "    <tr>\n",
       "      <th>1230</th>\n",
       "      <td>Tata</td>\n",
       "      <td>[Tiago]</td>\n",
       "      <td>XZ 1.2 REVOTRON Manual</td>\n",
       "      <td>64,598 km</td>\n",
       "      <td>1st Owner</td>\n",
       "      <td>Petrol</td>\n",
       "      <td>2017</td>\n",
       "      <td>5,67,000</td>\n",
       "    </tr>\n",
       "    <tr>\n",
       "      <th>1231</th>\n",
       "      <td>Maruti</td>\n",
       "      <td>[Swift]</td>\n",
       "      <td>VXI O</td>\n",
       "      <td>24,724 km</td>\n",
       "      <td>1st Owner</td>\n",
       "      <td>Petrol</td>\n",
       "      <td>2016</td>\n",
       "      <td>5,33,000</td>\n",
       "    </tr>\n",
       "  </tbody>\n",
       "</table>\n",
       "<p>1232 rows × 8 columns</p>\n",
       "</div>"
      ],
      "text/plain": [
       "     Brand Name       Car model                    Car variant  \\\n",
       "0          Tata         [Tiago]         XM 1.2 REVOTRON Manual   \n",
       "1       Hyundai           [i10]               MAGNA 1.2 Manual   \n",
       "2       Hyundai         [Creta]          SX PLUS AT 1.6 PETROL   \n",
       "3        Datsun            [Go]                       T Manual   \n",
       "4        Maruti     [Alto, K10]                     VXI Manual   \n",
       "...         ...             ...                            ...   \n",
       "1227       Ford      [Ecosport]  1.5 TDCI TITANIUM PLUS Manual   \n",
       "1228     Maruti  [Swift, Dzire]                     VXI Manual   \n",
       "1229    Hyundai           [i10]                      MAGNA 1.2   \n",
       "1230       Tata         [Tiago]         XZ 1.2 REVOTRON Manual   \n",
       "1231     Maruti         [Swift]                          VXI O   \n",
       "\n",
       "     Running kilometers Number of owners fuel System manufacturing year  \\\n",
       "0             77,365 km        1st Owner      Petrol               2019   \n",
       "1             59,757 km        2nd Owner      Petrol               2010   \n",
       "2             42,790 km        2nd Owner      Petrol               2017   \n",
       "3             76,598 km        1st Owner      Petrol               2016   \n",
       "4             90,837 km        2nd Owner      Petrol               2014   \n",
       "...                 ...              ...         ...                ...   \n",
       "1227          25,013 km        2nd Owner      Diesel               2017   \n",
       "1228          43,603 km        1st Owner      Petrol               2010   \n",
       "1229          45,929 km        1st Owner      Petrol               2011   \n",
       "1230          64,598 km        1st Owner      Petrol               2017   \n",
       "1231          24,724 km        1st Owner      Petrol               2016   \n",
       "\n",
       "          Price  \n",
       "0      4,61,000  \n",
       "1      2,56,000  \n",
       "2     10,87,000  \n",
       "3      2,59,000  \n",
       "4      2,78,000  \n",
       "...         ...  \n",
       "1227   9,39,000  \n",
       "1228   3,72,000  \n",
       "1229   3,15,000  \n",
       "1230   5,67,000  \n",
       "1231   5,33,000  \n",
       "\n",
       "[1232 rows x 8 columns]"
      ]
     },
     "execution_count": 48,
     "metadata": {},
     "output_type": "execute_result"
    }
   ],
   "source": [
    "import pandas as pd\n",
    "car_price_3 = pd.DataFrame()\n",
    "car_price_3['Brand Name'] = Brand\n",
    "car_price_3['Car model'] = model\n",
    "car_price_3['Car variant'] = variant\n",
    "car_price_3['Running kilometers'] = driven_kilometers\n",
    "car_price_3['Number of owners'] = number_of_owners\n",
    "car_price_3['fuel System'] = fuel\n",
    "car_price_3['manufacturing year'] = Year\n",
    "car_price_3['Price'] = Price\n",
    "car_price_3 "
   ]
  },
  {
   "cell_type": "code",
   "execution_count": 49,
   "id": "30872798",
   "metadata": {},
   "outputs": [],
   "source": [
    "car_price_3.to_csv('car_price_3 ')"
   ]
  },
  {
   "cell_type": "code",
   "execution_count": 50,
   "id": "e02ceaec",
   "metadata": {},
   "outputs": [],
   "source": [
    "driver.close()"
   ]
  },
  {
   "cell_type": "code",
   "execution_count": null,
   "id": "872aad40",
   "metadata": {},
   "outputs": [],
   "source": [
    "Bangalore"
   ]
  },
  {
   "cell_type": "code",
   "execution_count": 52,
   "id": "556dcb80",
   "metadata": {},
   "outputs": [],
   "source": [
    "driver = webdriver.Edge(r\"C:\\Users\\yjjai\\Downloads\\edgedriver_win64 (1)\\msedgedriver.exe\")\n",
    "driver.maximize_window()"
   ]
  },
  {
   "cell_type": "code",
   "execution_count": 53,
   "id": "b4a5b20e",
   "metadata": {},
   "outputs": [],
   "source": [
    "url = \"https://www.cars24.com/buy-used-car?sort=P&storeCityId=2378&pinId=400001\"\n",
    "driver.get(url)"
   ]
  },
  {
   "cell_type": "code",
   "execution_count": 54,
   "id": "2384f781",
   "metadata": {},
   "outputs": [],
   "source": [
    "Brand = []\n",
    "model = []\n",
    "variant = []\n",
    "driven_kilometers = []\n",
    "number_of_owners = []\n",
    "fuel = []\n",
    "Year = []\n",
    "Price = []\n",
    "\n",
    "\n",
    "try:\n",
    "    name = driver.find_elements(By.XPATH,\"//h3[@class='_3FpCg']\")\n",
    "    for i in name:\n",
    "        Brand.append(i.text.split(' ')[1])\n",
    "except NoSuchElementException:\n",
    "    Brand.append('Nan')\n",
    "    \n",
    "\n",
    "try:\n",
    "    name_year = driver.find_elements(By.XPATH,\"//h3[@class='_3FpCg']\")\n",
    "    for i in name_year:\n",
    "        Year.append(i.text.split(' ')[0])\n",
    "except NoSuchElementException:\n",
    "    Year.append('Nan')\n",
    "    \n",
    "\n",
    "try:\n",
    "    model_name = driver.find_elements(By.XPATH,\"//h3[@class='_3FpCg']\")\n",
    "    for i in model_name:\n",
    "        model.append(i.text.split(' ')[2:4])\n",
    "except NoSuchElementException:\n",
    "    model.append('Nan')\n",
    "    \n",
    "    \n",
    "try:\n",
    "    var_name = driver.find_elements(By.XPATH,'//p[@class=\"cvakB\"]')\n",
    "    for os in var_name:\n",
    "        variant.append(os.text)\n",
    "except NoSuchElementException:\n",
    "    variant.append('Nan')\n",
    "    \n",
    "    \n",
    "try:\n",
    "    dri_name = driver.find_elements(By.XPATH,'//ul[@class=\"bVR0c\"]//li[1]')\n",
    "    for os in dri_name:\n",
    "        driven_kilometers.append(os.text)\n",
    "except NoSuchElementException:\n",
    "    driven_kilometers.append('Nan')\n",
    "    \n",
    "    \n",
    "try:\n",
    "    own_name = driver.find_elements(By.XPATH,'//ul[@class=\"bVR0c\"]//li[2]')\n",
    "    for os in own_name:\n",
    "        number_of_owners.append(os.text)\n",
    "except NoSuchElementException:\n",
    "    number_of_owners.append('Nan')\n",
    "    \n",
    "    \n",
    "try:\n",
    "    fu_name = driver.find_elements(By.XPATH,'//ul[@class=\"bVR0c\"]//li[3]')\n",
    "    for os in fu_name:\n",
    "        fuel.append(os.text)\n",
    "except NoSuchElementException:\n",
    "    fuel.append('Nan')\n",
    "    \n",
    "    \n",
    "try:\n",
    "    name = driver.find_elements(By.XPATH,\"//div[@class='_7udZZ']\")\n",
    "    for i in name:\n",
    "         Price.append(i.text.replace('₹','')) \n",
    "except NoSuchElementException:\n",
    "    Price.append('Nan')"
   ]
  },
  {
   "cell_type": "code",
   "execution_count": 56,
   "id": "45b4cda6",
   "metadata": {},
   "outputs": [
    {
     "data": {
      "text/html": [
       "<div>\n",
       "<style scoped>\n",
       "    .dataframe tbody tr th:only-of-type {\n",
       "        vertical-align: middle;\n",
       "    }\n",
       "\n",
       "    .dataframe tbody tr th {\n",
       "        vertical-align: top;\n",
       "    }\n",
       "\n",
       "    .dataframe thead th {\n",
       "        text-align: right;\n",
       "    }\n",
       "</style>\n",
       "<table border=\"1\" class=\"dataframe\">\n",
       "  <thead>\n",
       "    <tr style=\"text-align: right;\">\n",
       "      <th></th>\n",
       "      <th>Brand Name</th>\n",
       "      <th>Car model</th>\n",
       "      <th>Car variant</th>\n",
       "      <th>Running kilometers</th>\n",
       "      <th>Number of owners</th>\n",
       "      <th>fuel System</th>\n",
       "      <th>manufacturing year</th>\n",
       "      <th>Price</th>\n",
       "    </tr>\n",
       "  </thead>\n",
       "  <tbody>\n",
       "    <tr>\n",
       "      <th>0</th>\n",
       "      <td>Hyundai</td>\n",
       "      <td>[NEW, SANTRO]</td>\n",
       "      <td>1.1 SPORTZ MT CNG</td>\n",
       "      <td>31,394 km</td>\n",
       "      <td>1st Owner</td>\n",
       "      <td>CNG</td>\n",
       "      <td>2019</td>\n",
       "      <td>5,43,000</td>\n",
       "    </tr>\n",
       "    <tr>\n",
       "      <th>1</th>\n",
       "      <td>Hyundai</td>\n",
       "      <td>[i20]</td>\n",
       "      <td>SPORTZ 1.2 VTVT Manual</td>\n",
       "      <td>71,435 km</td>\n",
       "      <td>1st Owner</td>\n",
       "      <td>Petrol</td>\n",
       "      <td>2012</td>\n",
       "      <td>3,42,000</td>\n",
       "    </tr>\n",
       "    <tr>\n",
       "      <th>2</th>\n",
       "      <td>Hyundai</td>\n",
       "      <td>[Xcent]</td>\n",
       "      <td>S 1.2 OPT Manual</td>\n",
       "      <td>32,364 km</td>\n",
       "      <td>1st Owner</td>\n",
       "      <td>Petrol</td>\n",
       "      <td>2015</td>\n",
       "      <td>4,28,000</td>\n",
       "    </tr>\n",
       "    <tr>\n",
       "      <th>3</th>\n",
       "      <td>Maruti</td>\n",
       "      <td>[Wagon, R]</td>\n",
       "      <td>VXI Manual</td>\n",
       "      <td>9,975 km</td>\n",
       "      <td>1st Owner</td>\n",
       "      <td>Petrol</td>\n",
       "      <td>2013</td>\n",
       "      <td>3,31,000</td>\n",
       "    </tr>\n",
       "    <tr>\n",
       "      <th>4</th>\n",
       "      <td>Maruti</td>\n",
       "      <td>[Ritz]</td>\n",
       "      <td>ZXI Manual</td>\n",
       "      <td>34,379 km</td>\n",
       "      <td>2nd Owner</td>\n",
       "      <td>Petrol</td>\n",
       "      <td>2015</td>\n",
       "      <td>3,28,000</td>\n",
       "    </tr>\n",
       "    <tr>\n",
       "      <th>...</th>\n",
       "      <td>...</td>\n",
       "      <td>...</td>\n",
       "      <td>...</td>\n",
       "      <td>...</td>\n",
       "      <td>...</td>\n",
       "      <td>...</td>\n",
       "      <td>...</td>\n",
       "      <td>...</td>\n",
       "    </tr>\n",
       "    <tr>\n",
       "      <th>684</th>\n",
       "      <td>Maruti</td>\n",
       "      <td>[Dzire]</td>\n",
       "      <td>VXI Manual</td>\n",
       "      <td>31,271 km</td>\n",
       "      <td>1st Owner</td>\n",
       "      <td>Petrol</td>\n",
       "      <td>2017</td>\n",
       "      <td>6,05,000</td>\n",
       "    </tr>\n",
       "    <tr>\n",
       "      <th>685</th>\n",
       "      <td>Maruti</td>\n",
       "      <td>[Swift]</td>\n",
       "      <td>VXI Manual</td>\n",
       "      <td>37,991 km</td>\n",
       "      <td>2nd Owner</td>\n",
       "      <td>Petrol</td>\n",
       "      <td>2012</td>\n",
       "      <td>3,11,000</td>\n",
       "    </tr>\n",
       "    <tr>\n",
       "      <th>686</th>\n",
       "      <td>Volkswagen</td>\n",
       "      <td>[Polo]</td>\n",
       "      <td>HIGHLINE1.2L PETROL Manual</td>\n",
       "      <td>26,798 km</td>\n",
       "      <td>1st Owner</td>\n",
       "      <td>Petrol</td>\n",
       "      <td>2013</td>\n",
       "      <td>3,74,000</td>\n",
       "    </tr>\n",
       "    <tr>\n",
       "      <th>687</th>\n",
       "      <td>Volkswagen</td>\n",
       "      <td>[Polo]</td>\n",
       "      <td>HIGHLINE1.2L PETROL Manual</td>\n",
       "      <td>61,001 km</td>\n",
       "      <td>1st Owner</td>\n",
       "      <td>Petrol</td>\n",
       "      <td>2013</td>\n",
       "      <td>3,64,600</td>\n",
       "    </tr>\n",
       "    <tr>\n",
       "      <th>688</th>\n",
       "      <td>Maruti</td>\n",
       "      <td>[Wagon, R]</td>\n",
       "      <td>LXI CNG Manual</td>\n",
       "      <td>76,440 km</td>\n",
       "      <td>2nd Owner</td>\n",
       "      <td>CNG</td>\n",
       "      <td>2012</td>\n",
       "      <td>2,33,000</td>\n",
       "    </tr>\n",
       "  </tbody>\n",
       "</table>\n",
       "<p>689 rows × 8 columns</p>\n",
       "</div>"
      ],
      "text/plain": [
       "     Brand Name      Car model                 Car variant Running kilometers  \\\n",
       "0       Hyundai  [NEW, SANTRO]           1.1 SPORTZ MT CNG          31,394 km   \n",
       "1       Hyundai          [i20]      SPORTZ 1.2 VTVT Manual          71,435 km   \n",
       "2       Hyundai        [Xcent]            S 1.2 OPT Manual          32,364 km   \n",
       "3        Maruti     [Wagon, R]                  VXI Manual           9,975 km   \n",
       "4        Maruti         [Ritz]                  ZXI Manual          34,379 km   \n",
       "..          ...            ...                         ...                ...   \n",
       "684      Maruti        [Dzire]                  VXI Manual          31,271 km   \n",
       "685      Maruti        [Swift]                  VXI Manual          37,991 km   \n",
       "686  Volkswagen         [Polo]  HIGHLINE1.2L PETROL Manual          26,798 km   \n",
       "687  Volkswagen         [Polo]  HIGHLINE1.2L PETROL Manual          61,001 km   \n",
       "688      Maruti     [Wagon, R]              LXI CNG Manual          76,440 km   \n",
       "\n",
       "    Number of owners fuel System manufacturing year     Price  \n",
       "0          1st Owner         CNG               2019  5,43,000  \n",
       "1          1st Owner      Petrol               2012  3,42,000  \n",
       "2          1st Owner      Petrol               2015  4,28,000  \n",
       "3          1st Owner      Petrol               2013  3,31,000  \n",
       "4          2nd Owner      Petrol               2015  3,28,000  \n",
       "..               ...         ...                ...       ...  \n",
       "684        1st Owner      Petrol               2017  6,05,000  \n",
       "685        2nd Owner      Petrol               2012  3,11,000  \n",
       "686        1st Owner      Petrol               2013  3,74,000  \n",
       "687        1st Owner      Petrol               2013  3,64,600  \n",
       "688        2nd Owner         CNG               2012  2,33,000  \n",
       "\n",
       "[689 rows x 8 columns]"
      ]
     },
     "execution_count": 56,
     "metadata": {},
     "output_type": "execute_result"
    }
   ],
   "source": [
    "import pandas as pd\n",
    "car_price_4 = pd.DataFrame()\n",
    "car_price_4['Brand Name'] = Brand\n",
    "car_price_4['Car model'] = model\n",
    "car_price_4['Car variant'] = variant\n",
    "car_price_4['Running kilometers'] = driven_kilometers\n",
    "car_price_4['Number of owners'] = number_of_owners\n",
    "car_price_4['fuel System'] = fuel\n",
    "car_price_4['manufacturing year'] = Year\n",
    "car_price_4['Price'] = Price\n",
    "car_price_4 "
   ]
  },
  {
   "cell_type": "code",
   "execution_count": 57,
   "id": "434a7794",
   "metadata": {},
   "outputs": [],
   "source": [
    "car_price_4.to_csv('car_price_4 ')"
   ]
  },
  {
   "cell_type": "code",
   "execution_count": 58,
   "id": "6bfc0b99",
   "metadata": {},
   "outputs": [],
   "source": [
    "driver.close()"
   ]
  },
  {
   "cell_type": "code",
   "execution_count": 59,
   "id": "67c3f985",
   "metadata": {},
   "outputs": [],
   "source": [
    "driver = webdriver.Edge(r\"C:\\Users\\yjjai\\Downloads\\edgedriver_win64 (1)\\msedgedriver.exe\")\n",
    "driver.maximize_window()"
   ]
  },
  {
   "cell_type": "code",
   "execution_count": 60,
   "id": "8b17dd69",
   "metadata": {},
   "outputs": [],
   "source": [
    "url = \"https://www.cars24.com/buy-used-car?sort=P&storeCityId=5&pinId=122001\"\n",
    "driver.get(url)"
   ]
  },
  {
   "cell_type": "code",
   "execution_count": 61,
   "id": "638d4b52",
   "metadata": {},
   "outputs": [],
   "source": [
    "Brand = []\n",
    "model = []\n",
    "variant = []\n",
    "driven_kilometers = []\n",
    "number_of_owners = []\n",
    "fuel = []\n",
    "Year = []\n",
    "Price = []\n",
    "\n",
    "\n",
    "try:\n",
    "    name = driver.find_elements(By.XPATH,\"//h3[@class='_3FpCg']\")\n",
    "    for i in name:\n",
    "        Brand.append(i.text.split(' ')[1])\n",
    "except NoSuchElementException:\n",
    "    Brand.append('Nan')\n",
    "    \n",
    "\n",
    "try:\n",
    "    name_year = driver.find_elements(By.XPATH,\"//h3[@class='_3FpCg']\")\n",
    "    for i in name_year:\n",
    "        Year.append(i.text.split(' ')[0])\n",
    "except NoSuchElementException:\n",
    "    Year.append('Nan')\n",
    "    \n",
    "\n",
    "try:\n",
    "    model_name = driver.find_elements(By.XPATH,\"//h3[@class='_3FpCg']\")\n",
    "    for i in model_name:\n",
    "        model.append(i.text.split(' ')[2:4])\n",
    "except NoSuchElementException:\n",
    "    model.append('Nan')\n",
    "    \n",
    "    \n",
    "try:\n",
    "    var_name = driver.find_elements(By.XPATH,'//p[@class=\"cvakB\"]')\n",
    "    for os in var_name:\n",
    "        variant.append(os.text)\n",
    "except NoSuchElementException:\n",
    "    variant.append('Nan')\n",
    "    \n",
    "    \n",
    "try:\n",
    "    dri_name = driver.find_elements(By.XPATH,'//ul[@class=\"bVR0c\"]//li[1]')\n",
    "    for os in dri_name:\n",
    "        driven_kilometers.append(os.text)\n",
    "except NoSuchElementException:\n",
    "    driven_kilometers.append('Nan')\n",
    "    \n",
    "    \n",
    "try:\n",
    "    own_name = driver.find_elements(By.XPATH,'//ul[@class=\"bVR0c\"]//li[2]')\n",
    "    for os in own_name:\n",
    "        number_of_owners.append(os.text)\n",
    "except NoSuchElementException:\n",
    "    number_of_owners.append('Nan')\n",
    "    \n",
    "    \n",
    "try:\n",
    "    fu_name = driver.find_elements(By.XPATH,'//ul[@class=\"bVR0c\"]//li[3]')\n",
    "    for os in fu_name:\n",
    "        fuel.append(os.text)\n",
    "except NoSuchElementException:\n",
    "    fuel.append('Nan')\n",
    "    \n",
    "    \n",
    "try:\n",
    "    name = driver.find_elements(By.XPATH,\"//div[@class='_7udZZ']\")\n",
    "    for i in name:\n",
    "         Price.append(i.text.replace('₹','')) \n",
    "except NoSuchElementException:\n",
    "    Price.append('Nan')"
   ]
  },
  {
   "cell_type": "code",
   "execution_count": 63,
   "id": "fce8785c",
   "metadata": {},
   "outputs": [
    {
     "data": {
      "text/html": [
       "<div>\n",
       "<style scoped>\n",
       "    .dataframe tbody tr th:only-of-type {\n",
       "        vertical-align: middle;\n",
       "    }\n",
       "\n",
       "    .dataframe tbody tr th {\n",
       "        vertical-align: top;\n",
       "    }\n",
       "\n",
       "    .dataframe thead th {\n",
       "        text-align: right;\n",
       "    }\n",
       "</style>\n",
       "<table border=\"1\" class=\"dataframe\">\n",
       "  <thead>\n",
       "    <tr style=\"text-align: right;\">\n",
       "      <th></th>\n",
       "      <th>Brand Name</th>\n",
       "      <th>Car model</th>\n",
       "      <th>Car variant</th>\n",
       "      <th>Running kilometers</th>\n",
       "      <th>Number of owners</th>\n",
       "      <th>fuel System</th>\n",
       "      <th>manufacturing year</th>\n",
       "      <th>Price</th>\n",
       "    </tr>\n",
       "  </thead>\n",
       "  <tbody>\n",
       "    <tr>\n",
       "      <th>0</th>\n",
       "      <td>Honda</td>\n",
       "      <td>[City]</td>\n",
       "      <td>S MT PETROL Manual</td>\n",
       "      <td>52,408 km</td>\n",
       "      <td>1st Owner</td>\n",
       "      <td>Petrol</td>\n",
       "      <td>2011</td>\n",
       "      <td>3,16,000</td>\n",
       "    </tr>\n",
       "    <tr>\n",
       "      <th>1</th>\n",
       "      <td>Jeep</td>\n",
       "      <td>[Compass]</td>\n",
       "      <td>1.4 LONGITUDE (O) AT Automatic</td>\n",
       "      <td>23,690 km</td>\n",
       "      <td>1st Owner</td>\n",
       "      <td>Petrol</td>\n",
       "      <td>2019</td>\n",
       "      <td>19,23,000</td>\n",
       "    </tr>\n",
       "    <tr>\n",
       "      <th>2</th>\n",
       "      <td>Jeep</td>\n",
       "      <td>[Compass]</td>\n",
       "      <td>2.0 LIMITED Manual</td>\n",
       "      <td>47,040 km</td>\n",
       "      <td>1st Owner</td>\n",
       "      <td>Diesel</td>\n",
       "      <td>2019</td>\n",
       "      <td>17,06,000</td>\n",
       "    </tr>\n",
       "    <tr>\n",
       "      <th>3</th>\n",
       "      <td>Honda</td>\n",
       "      <td>[Brio]</td>\n",
       "      <td>1.2 V MT I VTEC Manual</td>\n",
       "      <td>52,532 km</td>\n",
       "      <td>1st Owner</td>\n",
       "      <td>Petrol</td>\n",
       "      <td>2012</td>\n",
       "      <td>2,52,000</td>\n",
       "    </tr>\n",
       "    <tr>\n",
       "      <th>4</th>\n",
       "      <td>Skoda</td>\n",
       "      <td>[Rapid]</td>\n",
       "      <td>ACTIVE 1.0 TSI Manual</td>\n",
       "      <td>18,953 km</td>\n",
       "      <td>1st Owner</td>\n",
       "      <td>Petrol</td>\n",
       "      <td>2020</td>\n",
       "      <td>8,85,000</td>\n",
       "    </tr>\n",
       "    <tr>\n",
       "      <th>...</th>\n",
       "      <td>...</td>\n",
       "      <td>...</td>\n",
       "      <td>...</td>\n",
       "      <td>...</td>\n",
       "      <td>...</td>\n",
       "      <td>...</td>\n",
       "      <td>...</td>\n",
       "      <td>...</td>\n",
       "    </tr>\n",
       "    <tr>\n",
       "      <th>1234</th>\n",
       "      <td>Maruti</td>\n",
       "      <td>[Vitara, Brezza]</td>\n",
       "      <td>ZDI PLUS AMT</td>\n",
       "      <td>50,481 km</td>\n",
       "      <td>1st Owner</td>\n",
       "      <td>Diesel</td>\n",
       "      <td>2018</td>\n",
       "      <td>9,14,000</td>\n",
       "    </tr>\n",
       "    <tr>\n",
       "      <th>1235</th>\n",
       "      <td>Toyota</td>\n",
       "      <td>[Corolla, Altis]</td>\n",
       "      <td>VL AT Automatic</td>\n",
       "      <td>24,133 km</td>\n",
       "      <td>1st Owner</td>\n",
       "      <td>Petrol</td>\n",
       "      <td>2011</td>\n",
       "      <td>4,40,000</td>\n",
       "    </tr>\n",
       "    <tr>\n",
       "      <th>1236</th>\n",
       "      <td>Hyundai</td>\n",
       "      <td>[Elite, i20]</td>\n",
       "      <td>ASTA 1.2 Manual</td>\n",
       "      <td>94,461 km</td>\n",
       "      <td>1st Owner</td>\n",
       "      <td>CNG</td>\n",
       "      <td>2017</td>\n",
       "      <td>5,89,000</td>\n",
       "    </tr>\n",
       "    <tr>\n",
       "      <th>1237</th>\n",
       "      <td>Maruti</td>\n",
       "      <td>[Alto, K10]</td>\n",
       "      <td>VXI Manual</td>\n",
       "      <td>66,169 km</td>\n",
       "      <td>1st Owner</td>\n",
       "      <td>CNG</td>\n",
       "      <td>2015</td>\n",
       "      <td>2,57,000</td>\n",
       "    </tr>\n",
       "    <tr>\n",
       "      <th>1238</th>\n",
       "      <td>Hyundai</td>\n",
       "      <td>[Verna]</td>\n",
       "      <td>FLUIDIC 1.6 SX VTVT Manual</td>\n",
       "      <td>73,256 km</td>\n",
       "      <td>1st Owner</td>\n",
       "      <td>Petrol</td>\n",
       "      <td>2011</td>\n",
       "      <td>3,33,000</td>\n",
       "    </tr>\n",
       "  </tbody>\n",
       "</table>\n",
       "<p>1239 rows × 8 columns</p>\n",
       "</div>"
      ],
      "text/plain": [
       "     Brand Name         Car model                     Car variant  \\\n",
       "0         Honda            [City]              S MT PETROL Manual   \n",
       "1          Jeep         [Compass]  1.4 LONGITUDE (O) AT Automatic   \n",
       "2          Jeep         [Compass]              2.0 LIMITED Manual   \n",
       "3         Honda            [Brio]          1.2 V MT I VTEC Manual   \n",
       "4         Skoda           [Rapid]           ACTIVE 1.0 TSI Manual   \n",
       "...         ...               ...                             ...   \n",
       "1234     Maruti  [Vitara, Brezza]                    ZDI PLUS AMT   \n",
       "1235     Toyota  [Corolla, Altis]                 VL AT Automatic   \n",
       "1236    Hyundai      [Elite, i20]                 ASTA 1.2 Manual   \n",
       "1237     Maruti       [Alto, K10]                      VXI Manual   \n",
       "1238    Hyundai           [Verna]      FLUIDIC 1.6 SX VTVT Manual   \n",
       "\n",
       "     Running kilometers Number of owners fuel System manufacturing year  \\\n",
       "0             52,408 km        1st Owner      Petrol               2011   \n",
       "1             23,690 km        1st Owner      Petrol               2019   \n",
       "2             47,040 km        1st Owner      Diesel               2019   \n",
       "3             52,532 km        1st Owner      Petrol               2012   \n",
       "4             18,953 km        1st Owner      Petrol               2020   \n",
       "...                 ...              ...         ...                ...   \n",
       "1234          50,481 km        1st Owner      Diesel               2018   \n",
       "1235          24,133 km        1st Owner      Petrol               2011   \n",
       "1236          94,461 km        1st Owner         CNG               2017   \n",
       "1237          66,169 km        1st Owner         CNG               2015   \n",
       "1238          73,256 km        1st Owner      Petrol               2011   \n",
       "\n",
       "          Price  \n",
       "0      3,16,000  \n",
       "1     19,23,000  \n",
       "2     17,06,000  \n",
       "3      2,52,000  \n",
       "4      8,85,000  \n",
       "...         ...  \n",
       "1234   9,14,000  \n",
       "1235   4,40,000  \n",
       "1236   5,89,000  \n",
       "1237   2,57,000  \n",
       "1238   3,33,000  \n",
       "\n",
       "[1239 rows x 8 columns]"
      ]
     },
     "execution_count": 63,
     "metadata": {},
     "output_type": "execute_result"
    }
   ],
   "source": [
    "import pandas as pd\n",
    "car_price_5 = pd.DataFrame()\n",
    "car_price_5['Brand Name'] = Brand\n",
    "car_price_5['Car model'] = model\n",
    "car_price_5['Car variant'] = variant\n",
    "car_price_5['Running kilometers'] = driven_kilometers\n",
    "car_price_5['Number of owners'] = number_of_owners\n",
    "car_price_5['fuel System'] = fuel\n",
    "car_price_5['manufacturing year'] = Year\n",
    "car_price_5['Price'] = Price\n",
    "car_price_5 "
   ]
  },
  {
   "cell_type": "code",
   "execution_count": 64,
   "id": "e0c786ca",
   "metadata": {},
   "outputs": [],
   "source": [
    "car_price_5.to_csv('car_price_5 ')"
   ]
  },
  {
   "cell_type": "code",
   "execution_count": 65,
   "id": "360b3274",
   "metadata": {},
   "outputs": [],
   "source": [
    "driver.close()"
   ]
  },
  {
   "cell_type": "code",
   "execution_count": 66,
   "id": "501ec82c",
   "metadata": {},
   "outputs": [],
   "source": [
    "# scrap data for Ghaziabad used cars"
   ]
  },
  {
   "cell_type": "code",
   "execution_count": 67,
   "id": "a1da80ad",
   "metadata": {},
   "outputs": [],
   "source": [
    "driver = webdriver.Edge(r\"C:\\Users\\yjjai\\Downloads\\edgedriver_win64 (1)\\msedgedriver.exe\")\n",
    "driver.maximize_window()"
   ]
  },
  {
   "cell_type": "code",
   "execution_count": 68,
   "id": "7fa5e520",
   "metadata": {},
   "outputs": [],
   "source": [
    "url = \"https://www.cars24.com/buy-used-car?sort=P&storeCityId=132&pinId=201001\"\n",
    "driver.get(url)"
   ]
  },
  {
   "cell_type": "code",
   "execution_count": 69,
   "id": "3e04bbb1",
   "metadata": {},
   "outputs": [],
   "source": [
    "Brand = []\n",
    "model = []\n",
    "variant = []\n",
    "driven_kilometers = []\n",
    "number_of_owners = []\n",
    "fuel = []\n",
    "Year = []\n",
    "Price = []\n",
    "\n",
    "\n",
    "try:\n",
    "    name = driver.find_elements(By.XPATH,\"//h3[@class='_3FpCg']\")\n",
    "    for i in name:\n",
    "        Brand.append(i.text.split(' ')[1])\n",
    "except NoSuchElementException:\n",
    "    Brand.append('Nan')\n",
    "    \n",
    "\n",
    "try:\n",
    "    name_year = driver.find_elements(By.XPATH,\"//h3[@class='_3FpCg']\")\n",
    "    for i in name_year:\n",
    "        Year.append(i.text.split(' ')[0])\n",
    "except NoSuchElementException:\n",
    "    Year.append('Nan')\n",
    "    \n",
    "\n",
    "try:\n",
    "    model_name = driver.find_elements(By.XPATH,\"//h3[@class='_3FpCg']\")\n",
    "    for i in model_name:\n",
    "        model.append(i.text.split(' ')[2:4])\n",
    "except NoSuchElementException:\n",
    "    model.append('Nan')\n",
    "    \n",
    "    \n",
    "try:\n",
    "    var_name = driver.find_elements(By.XPATH,'//p[@class=\"cvakB\"]')\n",
    "    for os in var_name:\n",
    "        variant.append(os.text)\n",
    "except NoSuchElementException:\n",
    "    variant.append('Nan')\n",
    "    \n",
    "    \n",
    "try:\n",
    "    dri_name = driver.find_elements(By.XPATH,'//ul[@class=\"bVR0c\"]//li[1]')\n",
    "    for os in dri_name:\n",
    "        driven_kilometers.append(os.text)\n",
    "except NoSuchElementException:\n",
    "    driven_kilometers.append('Nan')\n",
    "    \n",
    "    \n",
    "try:\n",
    "    own_name = driver.find_elements(By.XPATH,'//ul[@class=\"bVR0c\"]//li[2]')\n",
    "    for os in own_name:\n",
    "        number_of_owners.append(os.text)\n",
    "except NoSuchElementException:\n",
    "    number_of_owners.append('Nan')\n",
    "    \n",
    "    \n",
    "try:\n",
    "    fu_name = driver.find_elements(By.XPATH,'//ul[@class=\"bVR0c\"]//li[3]')\n",
    "    for os in fu_name:\n",
    "        fuel.append(os.text)\n",
    "except NoSuchElementException:\n",
    "    fuel.append('Nan')\n",
    "    \n",
    "    \n",
    "try:\n",
    "    name = driver.find_elements(By.XPATH,\"//div[@class='_7udZZ']\")\n",
    "    for i in name:\n",
    "         Price.append(i.text.replace('₹','')) \n",
    "except NoSuchElementException:\n",
    "    Price.append('Nan')"
   ]
  },
  {
   "cell_type": "code",
   "execution_count": 71,
   "id": "49f61818",
   "metadata": {},
   "outputs": [
    {
     "data": {
      "text/html": [
       "<div>\n",
       "<style scoped>\n",
       "    .dataframe tbody tr th:only-of-type {\n",
       "        vertical-align: middle;\n",
       "    }\n",
       "\n",
       "    .dataframe tbody tr th {\n",
       "        vertical-align: top;\n",
       "    }\n",
       "\n",
       "    .dataframe thead th {\n",
       "        text-align: right;\n",
       "    }\n",
       "</style>\n",
       "<table border=\"1\" class=\"dataframe\">\n",
       "  <thead>\n",
       "    <tr style=\"text-align: right;\">\n",
       "      <th></th>\n",
       "      <th>Brand Name</th>\n",
       "      <th>Car model</th>\n",
       "      <th>Car variant</th>\n",
       "      <th>Running kilometers</th>\n",
       "      <th>Number of owners</th>\n",
       "      <th>fuel System</th>\n",
       "      <th>manufacturing year</th>\n",
       "      <th>Price</th>\n",
       "    </tr>\n",
       "  </thead>\n",
       "  <tbody>\n",
       "    <tr>\n",
       "      <th>0</th>\n",
       "      <td>Maruti</td>\n",
       "      <td>[Vitara, Brezza]</td>\n",
       "      <td>ZDI PLUS Manual</td>\n",
       "      <td>76,606 km</td>\n",
       "      <td>2nd Owner</td>\n",
       "      <td>Diesel</td>\n",
       "      <td>2017</td>\n",
       "      <td>6,45,000</td>\n",
       "    </tr>\n",
       "    <tr>\n",
       "      <th>1</th>\n",
       "      <td>Maruti</td>\n",
       "      <td>[Alto]</td>\n",
       "      <td>LXI Manual</td>\n",
       "      <td>11,284 km</td>\n",
       "      <td>1st Owner</td>\n",
       "      <td>Petrol</td>\n",
       "      <td>2020</td>\n",
       "      <td>3,73,000</td>\n",
       "    </tr>\n",
       "    <tr>\n",
       "      <th>2</th>\n",
       "      <td>Maruti</td>\n",
       "      <td>[Ertiga]</td>\n",
       "      <td>VXI Manual</td>\n",
       "      <td>65,966 km</td>\n",
       "      <td>1st Owner</td>\n",
       "      <td>Petrol</td>\n",
       "      <td>2018</td>\n",
       "      <td>6,91,000</td>\n",
       "    </tr>\n",
       "    <tr>\n",
       "      <th>3</th>\n",
       "      <td>Toyota</td>\n",
       "      <td>[Corolla, Altis]</td>\n",
       "      <td>G Manual</td>\n",
       "      <td>81,483 km</td>\n",
       "      <td>1st Owner</td>\n",
       "      <td>Petrol</td>\n",
       "      <td>2015</td>\n",
       "      <td>7,17,000</td>\n",
       "    </tr>\n",
       "    <tr>\n",
       "      <th>4</th>\n",
       "      <td>Volkswagen</td>\n",
       "      <td>[Ameo]</td>\n",
       "      <td>COMFORTLINE 1.2 Manual</td>\n",
       "      <td>54,491 km</td>\n",
       "      <td>1st Owner</td>\n",
       "      <td>Petrol</td>\n",
       "      <td>2018</td>\n",
       "      <td>4,48,000</td>\n",
       "    </tr>\n",
       "    <tr>\n",
       "      <th>...</th>\n",
       "      <td>...</td>\n",
       "      <td>...</td>\n",
       "      <td>...</td>\n",
       "      <td>...</td>\n",
       "      <td>...</td>\n",
       "      <td>...</td>\n",
       "      <td>...</td>\n",
       "      <td>...</td>\n",
       "    </tr>\n",
       "    <tr>\n",
       "      <th>1236</th>\n",
       "      <td>Maruti</td>\n",
       "      <td>[Vitara, Brezza]</td>\n",
       "      <td>ZDI PLUS AMT</td>\n",
       "      <td>50,481 km</td>\n",
       "      <td>1st Owner</td>\n",
       "      <td>Diesel</td>\n",
       "      <td>2018</td>\n",
       "      <td>9,14,000</td>\n",
       "    </tr>\n",
       "    <tr>\n",
       "      <th>1237</th>\n",
       "      <td>Toyota</td>\n",
       "      <td>[Corolla, Altis]</td>\n",
       "      <td>VL AT Automatic</td>\n",
       "      <td>24,133 km</td>\n",
       "      <td>1st Owner</td>\n",
       "      <td>Petrol</td>\n",
       "      <td>2011</td>\n",
       "      <td>4,40,000</td>\n",
       "    </tr>\n",
       "    <tr>\n",
       "      <th>1238</th>\n",
       "      <td>Hyundai</td>\n",
       "      <td>[Elite, i20]</td>\n",
       "      <td>ASTA 1.2 Manual</td>\n",
       "      <td>94,461 km</td>\n",
       "      <td>1st Owner</td>\n",
       "      <td>CNG</td>\n",
       "      <td>2017</td>\n",
       "      <td>5,89,000</td>\n",
       "    </tr>\n",
       "    <tr>\n",
       "      <th>1239</th>\n",
       "      <td>Maruti</td>\n",
       "      <td>[Alto, K10]</td>\n",
       "      <td>VXI Manual</td>\n",
       "      <td>66,169 km</td>\n",
       "      <td>1st Owner</td>\n",
       "      <td>CNG</td>\n",
       "      <td>2015</td>\n",
       "      <td>2,57,000</td>\n",
       "    </tr>\n",
       "    <tr>\n",
       "      <th>1240</th>\n",
       "      <td>Hyundai</td>\n",
       "      <td>[Verna]</td>\n",
       "      <td>FLUIDIC 1.6 SX VTVT Manual</td>\n",
       "      <td>73,256 km</td>\n",
       "      <td>1st Owner</td>\n",
       "      <td>Petrol</td>\n",
       "      <td>2011</td>\n",
       "      <td>3,33,000</td>\n",
       "    </tr>\n",
       "  </tbody>\n",
       "</table>\n",
       "<p>1241 rows × 8 columns</p>\n",
       "</div>"
      ],
      "text/plain": [
       "      Brand Name         Car model                 Car variant  \\\n",
       "0         Maruti  [Vitara, Brezza]             ZDI PLUS Manual   \n",
       "1         Maruti            [Alto]                  LXI Manual   \n",
       "2         Maruti          [Ertiga]                  VXI Manual   \n",
       "3         Toyota  [Corolla, Altis]                    G Manual   \n",
       "4     Volkswagen            [Ameo]      COMFORTLINE 1.2 Manual   \n",
       "...          ...               ...                         ...   \n",
       "1236      Maruti  [Vitara, Brezza]                ZDI PLUS AMT   \n",
       "1237      Toyota  [Corolla, Altis]             VL AT Automatic   \n",
       "1238     Hyundai      [Elite, i20]             ASTA 1.2 Manual   \n",
       "1239      Maruti       [Alto, K10]                  VXI Manual   \n",
       "1240     Hyundai           [Verna]  FLUIDIC 1.6 SX VTVT Manual   \n",
       "\n",
       "     Running kilometers Number of owners fuel System manufacturing year  \\\n",
       "0             76,606 km        2nd Owner      Diesel               2017   \n",
       "1             11,284 km        1st Owner      Petrol               2020   \n",
       "2             65,966 km        1st Owner      Petrol               2018   \n",
       "3             81,483 km        1st Owner      Petrol               2015   \n",
       "4             54,491 km        1st Owner      Petrol               2018   \n",
       "...                 ...              ...         ...                ...   \n",
       "1236          50,481 km        1st Owner      Diesel               2018   \n",
       "1237          24,133 km        1st Owner      Petrol               2011   \n",
       "1238          94,461 km        1st Owner         CNG               2017   \n",
       "1239          66,169 km        1st Owner         CNG               2015   \n",
       "1240          73,256 km        1st Owner      Petrol               2011   \n",
       "\n",
       "         Price  \n",
       "0     6,45,000  \n",
       "1     3,73,000  \n",
       "2     6,91,000  \n",
       "3     7,17,000  \n",
       "4     4,48,000  \n",
       "...        ...  \n",
       "1236  9,14,000  \n",
       "1237  4,40,000  \n",
       "1238  5,89,000  \n",
       "1239  2,57,000  \n",
       "1240  3,33,000  \n",
       "\n",
       "[1241 rows x 8 columns]"
      ]
     },
     "execution_count": 71,
     "metadata": {},
     "output_type": "execute_result"
    }
   ],
   "source": [
    "import pandas as pd\n",
    "car_price_6 = pd.DataFrame()\n",
    "car_price_6['Brand Name'] = Brand\n",
    "car_price_6['Car model'] = model\n",
    "car_price_6['Car variant'] = variant\n",
    "car_price_6['Running kilometers'] = driven_kilometers\n",
    "car_price_6['Number of owners'] = number_of_owners\n",
    "car_price_6['fuel System'] = fuel\n",
    "car_price_6['manufacturing year'] = Year\n",
    "car_price_6['Price'] = Price\n",
    "car_price_6 "
   ]
  },
  {
   "cell_type": "code",
   "execution_count": 72,
   "id": "b46b36c8",
   "metadata": {},
   "outputs": [],
   "source": [
    "car_price_6.to_csv('car_price_6 ')"
   ]
  },
  {
   "cell_type": "code",
   "execution_count": 73,
   "id": "b8cdc01d",
   "metadata": {},
   "outputs": [],
   "source": [
    "driver.close()"
   ]
  },
  {
   "cell_type": "markdown",
   "id": "626a1457",
   "metadata": {},
   "source": [
    "# Model Building Phase\n",
    "# After collecting the data, you need to build a machine learning model. Before model building do all\n",
    "# data pre-processing steps. Try different models with different hyper parameters and select the best\n",
    "# model.\n",
    "# Follow the complete life cycle of data science. Include all the steps like.\n",
    "# 1. Data Cleaning\n",
    "# 2. Exploratory Data Analysis\n",
    "# 3. Data Pre-processing\n",
    "# 4. Model Building\n",
    "# 5. Model Evaluation\n",
    "# 6. Selecting the best model"
   ]
  },
  {
   "cell_type": "code",
   "execution_count": 113,
   "id": "87644219",
   "metadata": {},
   "outputs": [],
   "source": [
    "import numpy as np \n",
    "import pandas as pd\n",
    "import matplotlib.pyplot as plt\n",
    "import seaborn as sns\n",
    "\n",
    "import warnings\n",
    "warnings.filterwarnings('ignore')"
   ]
  },
  {
   "cell_type": "code",
   "execution_count": 114,
   "id": "adb0d66a",
   "metadata": {},
   "outputs": [
    {
     "data": {
      "text/html": [
       "<div>\n",
       "<style scoped>\n",
       "    .dataframe tbody tr th:only-of-type {\n",
       "        vertical-align: middle;\n",
       "    }\n",
       "\n",
       "    .dataframe tbody tr th {\n",
       "        vertical-align: top;\n",
       "    }\n",
       "\n",
       "    .dataframe thead th {\n",
       "        text-align: right;\n",
       "    }\n",
       "</style>\n",
       "<table border=\"1\" class=\"dataframe\">\n",
       "  <thead>\n",
       "    <tr style=\"text-align: right;\">\n",
       "      <th></th>\n",
       "      <th>Unnamed: 0</th>\n",
       "      <th>Brand Name</th>\n",
       "      <th>Car model</th>\n",
       "      <th>Car variant</th>\n",
       "      <th>Running kilometers</th>\n",
       "      <th>Number of owners</th>\n",
       "      <th>fuel System</th>\n",
       "      <th>manufacturing year</th>\n",
       "      <th>Price</th>\n",
       "    </tr>\n",
       "  </thead>\n",
       "  <tbody>\n",
       "    <tr>\n",
       "      <th>0</th>\n",
       "      <td>0</td>\n",
       "      <td>KIA</td>\n",
       "      <td>['SELTOS']</td>\n",
       "      <td>GTX+ 1.4 MT Manual</td>\n",
       "      <td>5,999 km</td>\n",
       "      <td>1st Owner</td>\n",
       "      <td>Petrol</td>\n",
       "      <td>2020</td>\n",
       "      <td>17,22,000</td>\n",
       "    </tr>\n",
       "    <tr>\n",
       "      <th>1</th>\n",
       "      <td>1</td>\n",
       "      <td>Maruti</td>\n",
       "      <td>['Alto', 'K10']</td>\n",
       "      <td>LXI Manual</td>\n",
       "      <td>32,278 km</td>\n",
       "      <td>2nd Owner</td>\n",
       "      <td>Petrol</td>\n",
       "      <td>2017</td>\n",
       "      <td>2,59,000</td>\n",
       "    </tr>\n",
       "    <tr>\n",
       "      <th>2</th>\n",
       "      <td>2</td>\n",
       "      <td>KIA</td>\n",
       "      <td>['SELTOS']</td>\n",
       "      <td>GTX + AT PETROL Automatic</td>\n",
       "      <td>9,417 km</td>\n",
       "      <td>1st Owner</td>\n",
       "      <td>Petrol</td>\n",
       "      <td>2020</td>\n",
       "      <td>16,81,000</td>\n",
       "    </tr>\n",
       "    <tr>\n",
       "      <th>3</th>\n",
       "      <td>3</td>\n",
       "      <td>Hyundai</td>\n",
       "      <td>['Grand', 'i10']</td>\n",
       "      <td>MAGNA 1.2 KAPPA VTVT Manual</td>\n",
       "      <td>19,964 km</td>\n",
       "      <td>1st Owner</td>\n",
       "      <td>Petrol</td>\n",
       "      <td>2019</td>\n",
       "      <td>5,03,000</td>\n",
       "    </tr>\n",
       "    <tr>\n",
       "      <th>4</th>\n",
       "      <td>4</td>\n",
       "      <td>Maruti</td>\n",
       "      <td>['Alto']</td>\n",
       "      <td>LXI Manual</td>\n",
       "      <td>12,030 km</td>\n",
       "      <td>2nd Owner</td>\n",
       "      <td>Petrol</td>\n",
       "      <td>2011</td>\n",
       "      <td>1,74,000</td>\n",
       "    </tr>\n",
       "    <tr>\n",
       "      <th>...</th>\n",
       "      <td>...</td>\n",
       "      <td>...</td>\n",
       "      <td>...</td>\n",
       "      <td>...</td>\n",
       "      <td>...</td>\n",
       "      <td>...</td>\n",
       "      <td>...</td>\n",
       "      <td>...</td>\n",
       "      <td>...</td>\n",
       "    </tr>\n",
       "    <tr>\n",
       "      <th>1232</th>\n",
       "      <td>1232</td>\n",
       "      <td>Ford</td>\n",
       "      <td>['Ecosport']</td>\n",
       "      <td>1.5TITANIUM TDCI Manual</td>\n",
       "      <td>65,678 km</td>\n",
       "      <td>1st Owner</td>\n",
       "      <td>Diesel</td>\n",
       "      <td>2018</td>\n",
       "      <td>7,60,000</td>\n",
       "    </tr>\n",
       "    <tr>\n",
       "      <th>1233</th>\n",
       "      <td>1233</td>\n",
       "      <td>Maruti</td>\n",
       "      <td>['Vitara', 'Brezza']</td>\n",
       "      <td>ZDI PLUS AMT</td>\n",
       "      <td>50,481 km</td>\n",
       "      <td>1st Owner</td>\n",
       "      <td>Diesel</td>\n",
       "      <td>2018</td>\n",
       "      <td>9,14,000</td>\n",
       "    </tr>\n",
       "    <tr>\n",
       "      <th>1234</th>\n",
       "      <td>1234</td>\n",
       "      <td>Toyota</td>\n",
       "      <td>['Corolla', 'Altis']</td>\n",
       "      <td>VL AT Automatic</td>\n",
       "      <td>24,133 km</td>\n",
       "      <td>1st Owner</td>\n",
       "      <td>Petrol</td>\n",
       "      <td>2011</td>\n",
       "      <td>4,40,000</td>\n",
       "    </tr>\n",
       "    <tr>\n",
       "      <th>1235</th>\n",
       "      <td>1235</td>\n",
       "      <td>Hyundai</td>\n",
       "      <td>['Elite', 'i20']</td>\n",
       "      <td>ASTA 1.2 Manual</td>\n",
       "      <td>94,461 km</td>\n",
       "      <td>1st Owner</td>\n",
       "      <td>CNG</td>\n",
       "      <td>2017</td>\n",
       "      <td>5,89,000</td>\n",
       "    </tr>\n",
       "    <tr>\n",
       "      <th>1236</th>\n",
       "      <td>1236</td>\n",
       "      <td>Hyundai</td>\n",
       "      <td>['Verna']</td>\n",
       "      <td>FLUIDIC 1.6 SX VTVT Manual</td>\n",
       "      <td>73,256 km</td>\n",
       "      <td>1st Owner</td>\n",
       "      <td>Petrol</td>\n",
       "      <td>2011</td>\n",
       "      <td>3,33,000</td>\n",
       "    </tr>\n",
       "  </tbody>\n",
       "</table>\n",
       "<p>1237 rows × 9 columns</p>\n",
       "</div>"
      ],
      "text/plain": [
       "      Unnamed: 0 Brand Name             Car model  \\\n",
       "0              0        KIA            ['SELTOS']   \n",
       "1              1     Maruti       ['Alto', 'K10']   \n",
       "2              2        KIA            ['SELTOS']   \n",
       "3              3    Hyundai      ['Grand', 'i10']   \n",
       "4              4     Maruti              ['Alto']   \n",
       "...          ...        ...                   ...   \n",
       "1232        1232       Ford          ['Ecosport']   \n",
       "1233        1233     Maruti  ['Vitara', 'Brezza']   \n",
       "1234        1234     Toyota  ['Corolla', 'Altis']   \n",
       "1235        1235    Hyundai      ['Elite', 'i20']   \n",
       "1236        1236    Hyundai             ['Verna']   \n",
       "\n",
       "                      Car variant Running kilometers Number of owners  \\\n",
       "0              GTX+ 1.4 MT Manual           5,999 km        1st Owner   \n",
       "1                      LXI Manual          32,278 km        2nd Owner   \n",
       "2       GTX + AT PETROL Automatic           9,417 km        1st Owner   \n",
       "3     MAGNA 1.2 KAPPA VTVT Manual          19,964 km        1st Owner   \n",
       "4                      LXI Manual          12,030 km        2nd Owner   \n",
       "...                           ...                ...              ...   \n",
       "1232      1.5TITANIUM TDCI Manual          65,678 km        1st Owner   \n",
       "1233                 ZDI PLUS AMT          50,481 km        1st Owner   \n",
       "1234              VL AT Automatic          24,133 km        1st Owner   \n",
       "1235              ASTA 1.2 Manual          94,461 km        1st Owner   \n",
       "1236   FLUIDIC 1.6 SX VTVT Manual          73,256 km        1st Owner   \n",
       "\n",
       "     fuel System  manufacturing year      Price  \n",
       "0         Petrol                2020  17,22,000  \n",
       "1         Petrol                2017   2,59,000  \n",
       "2         Petrol                2020  16,81,000  \n",
       "3         Petrol                2019   5,03,000  \n",
       "4         Petrol                2011   1,74,000  \n",
       "...          ...                 ...        ...  \n",
       "1232      Diesel                2018   7,60,000  \n",
       "1233      Diesel                2018   9,14,000  \n",
       "1234      Petrol                2011   4,40,000  \n",
       "1235         CNG                2017   5,89,000  \n",
       "1236      Petrol                2011   3,33,000  \n",
       "\n",
       "[1237 rows x 9 columns]"
      ]
     },
     "execution_count": 114,
     "metadata": {},
     "output_type": "execute_result"
    }
   ],
   "source": [
    "data1 = pd.read_csv(\"car_price_2 \")\n",
    "data1"
   ]
  },
  {
   "cell_type": "code",
   "execution_count": 115,
   "id": "ddecbf45",
   "metadata": {},
   "outputs": [
    {
     "data": {
      "text/html": [
       "<div>\n",
       "<style scoped>\n",
       "    .dataframe tbody tr th:only-of-type {\n",
       "        vertical-align: middle;\n",
       "    }\n",
       "\n",
       "    .dataframe tbody tr th {\n",
       "        vertical-align: top;\n",
       "    }\n",
       "\n",
       "    .dataframe thead th {\n",
       "        text-align: right;\n",
       "    }\n",
       "</style>\n",
       "<table border=\"1\" class=\"dataframe\">\n",
       "  <thead>\n",
       "    <tr style=\"text-align: right;\">\n",
       "      <th></th>\n",
       "      <th>Unnamed: 0</th>\n",
       "      <th>Brand Name</th>\n",
       "      <th>Car model</th>\n",
       "      <th>Car variant</th>\n",
       "      <th>Running kilometers</th>\n",
       "      <th>Number of owners</th>\n",
       "      <th>fuel System</th>\n",
       "      <th>manufacturing year</th>\n",
       "      <th>Price</th>\n",
       "    </tr>\n",
       "  </thead>\n",
       "  <tbody>\n",
       "    <tr>\n",
       "      <th>0</th>\n",
       "      <td>0</td>\n",
       "      <td>Tata</td>\n",
       "      <td>['Tiago']</td>\n",
       "      <td>XM 1.2 REVOTRON Manual</td>\n",
       "      <td>77,365 km</td>\n",
       "      <td>1st Owner</td>\n",
       "      <td>Petrol</td>\n",
       "      <td>2019</td>\n",
       "      <td>4,61,000</td>\n",
       "    </tr>\n",
       "    <tr>\n",
       "      <th>1</th>\n",
       "      <td>1</td>\n",
       "      <td>Hyundai</td>\n",
       "      <td>['i10']</td>\n",
       "      <td>MAGNA 1.2 Manual</td>\n",
       "      <td>59,757 km</td>\n",
       "      <td>2nd Owner</td>\n",
       "      <td>Petrol</td>\n",
       "      <td>2010</td>\n",
       "      <td>2,56,000</td>\n",
       "    </tr>\n",
       "    <tr>\n",
       "      <th>2</th>\n",
       "      <td>2</td>\n",
       "      <td>Hyundai</td>\n",
       "      <td>['Creta']</td>\n",
       "      <td>SX PLUS AT 1.6 PETROL</td>\n",
       "      <td>42,790 km</td>\n",
       "      <td>2nd Owner</td>\n",
       "      <td>Petrol</td>\n",
       "      <td>2017</td>\n",
       "      <td>10,87,000</td>\n",
       "    </tr>\n",
       "    <tr>\n",
       "      <th>3</th>\n",
       "      <td>3</td>\n",
       "      <td>Datsun</td>\n",
       "      <td>['Go']</td>\n",
       "      <td>T Manual</td>\n",
       "      <td>76,598 km</td>\n",
       "      <td>1st Owner</td>\n",
       "      <td>Petrol</td>\n",
       "      <td>2016</td>\n",
       "      <td>2,59,000</td>\n",
       "    </tr>\n",
       "    <tr>\n",
       "      <th>4</th>\n",
       "      <td>4</td>\n",
       "      <td>Maruti</td>\n",
       "      <td>['Alto', 'K10']</td>\n",
       "      <td>VXI Manual</td>\n",
       "      <td>90,837 km</td>\n",
       "      <td>2nd Owner</td>\n",
       "      <td>Petrol</td>\n",
       "      <td>2014</td>\n",
       "      <td>2,78,000</td>\n",
       "    </tr>\n",
       "    <tr>\n",
       "      <th>...</th>\n",
       "      <td>...</td>\n",
       "      <td>...</td>\n",
       "      <td>...</td>\n",
       "      <td>...</td>\n",
       "      <td>...</td>\n",
       "      <td>...</td>\n",
       "      <td>...</td>\n",
       "      <td>...</td>\n",
       "      <td>...</td>\n",
       "    </tr>\n",
       "    <tr>\n",
       "      <th>1227</th>\n",
       "      <td>1227</td>\n",
       "      <td>Ford</td>\n",
       "      <td>['Ecosport']</td>\n",
       "      <td>1.5 TDCI TITANIUM PLUS Manual</td>\n",
       "      <td>25,013 km</td>\n",
       "      <td>2nd Owner</td>\n",
       "      <td>Diesel</td>\n",
       "      <td>2017</td>\n",
       "      <td>9,39,000</td>\n",
       "    </tr>\n",
       "    <tr>\n",
       "      <th>1228</th>\n",
       "      <td>1228</td>\n",
       "      <td>Maruti</td>\n",
       "      <td>['Swift', 'Dzire']</td>\n",
       "      <td>VXI Manual</td>\n",
       "      <td>43,603 km</td>\n",
       "      <td>1st Owner</td>\n",
       "      <td>Petrol</td>\n",
       "      <td>2010</td>\n",
       "      <td>3,72,000</td>\n",
       "    </tr>\n",
       "    <tr>\n",
       "      <th>1229</th>\n",
       "      <td>1229</td>\n",
       "      <td>Hyundai</td>\n",
       "      <td>['i10']</td>\n",
       "      <td>MAGNA 1.2</td>\n",
       "      <td>45,929 km</td>\n",
       "      <td>1st Owner</td>\n",
       "      <td>Petrol</td>\n",
       "      <td>2011</td>\n",
       "      <td>3,15,000</td>\n",
       "    </tr>\n",
       "    <tr>\n",
       "      <th>1230</th>\n",
       "      <td>1230</td>\n",
       "      <td>Tata</td>\n",
       "      <td>['Tiago']</td>\n",
       "      <td>XZ 1.2 REVOTRON Manual</td>\n",
       "      <td>64,598 km</td>\n",
       "      <td>1st Owner</td>\n",
       "      <td>Petrol</td>\n",
       "      <td>2017</td>\n",
       "      <td>5,67,000</td>\n",
       "    </tr>\n",
       "    <tr>\n",
       "      <th>1231</th>\n",
       "      <td>1231</td>\n",
       "      <td>Maruti</td>\n",
       "      <td>['Swift']</td>\n",
       "      <td>VXI O</td>\n",
       "      <td>24,724 km</td>\n",
       "      <td>1st Owner</td>\n",
       "      <td>Petrol</td>\n",
       "      <td>2016</td>\n",
       "      <td>5,33,000</td>\n",
       "    </tr>\n",
       "  </tbody>\n",
       "</table>\n",
       "<p>1232 rows × 9 columns</p>\n",
       "</div>"
      ],
      "text/plain": [
       "      Unnamed: 0 Brand Name           Car model  \\\n",
       "0              0       Tata           ['Tiago']   \n",
       "1              1    Hyundai             ['i10']   \n",
       "2              2    Hyundai           ['Creta']   \n",
       "3              3     Datsun              ['Go']   \n",
       "4              4     Maruti     ['Alto', 'K10']   \n",
       "...          ...        ...                 ...   \n",
       "1227        1227       Ford        ['Ecosport']   \n",
       "1228        1228     Maruti  ['Swift', 'Dzire']   \n",
       "1229        1229    Hyundai             ['i10']   \n",
       "1230        1230       Tata           ['Tiago']   \n",
       "1231        1231     Maruti           ['Swift']   \n",
       "\n",
       "                        Car variant Running kilometers Number of owners  \\\n",
       "0            XM 1.2 REVOTRON Manual          77,365 km        1st Owner   \n",
       "1                  MAGNA 1.2 Manual          59,757 km        2nd Owner   \n",
       "2             SX PLUS AT 1.6 PETROL          42,790 km        2nd Owner   \n",
       "3                          T Manual          76,598 km        1st Owner   \n",
       "4                        VXI Manual          90,837 km        2nd Owner   \n",
       "...                             ...                ...              ...   \n",
       "1227  1.5 TDCI TITANIUM PLUS Manual          25,013 km        2nd Owner   \n",
       "1228                     VXI Manual          43,603 km        1st Owner   \n",
       "1229                      MAGNA 1.2          45,929 km        1st Owner   \n",
       "1230         XZ 1.2 REVOTRON Manual          64,598 km        1st Owner   \n",
       "1231                          VXI O          24,724 km        1st Owner   \n",
       "\n",
       "     fuel System  manufacturing year      Price  \n",
       "0         Petrol                2019   4,61,000  \n",
       "1         Petrol                2010   2,56,000  \n",
       "2         Petrol                2017  10,87,000  \n",
       "3         Petrol                2016   2,59,000  \n",
       "4         Petrol                2014   2,78,000  \n",
       "...          ...                 ...        ...  \n",
       "1227      Diesel                2017   9,39,000  \n",
       "1228      Petrol                2010   3,72,000  \n",
       "1229      Petrol                2011   3,15,000  \n",
       "1230      Petrol                2017   5,67,000  \n",
       "1231      Petrol                2016   5,33,000  \n",
       "\n",
       "[1232 rows x 9 columns]"
      ]
     },
     "execution_count": 115,
     "metadata": {},
     "output_type": "execute_result"
    }
   ],
   "source": [
    "data2 = pd.read_csv(\"car_price_3 \")\n",
    "data2"
   ]
  },
  {
   "cell_type": "code",
   "execution_count": 116,
   "id": "9282885b",
   "metadata": {},
   "outputs": [
    {
     "data": {
      "text/html": [
       "<div>\n",
       "<style scoped>\n",
       "    .dataframe tbody tr th:only-of-type {\n",
       "        vertical-align: middle;\n",
       "    }\n",
       "\n",
       "    .dataframe tbody tr th {\n",
       "        vertical-align: top;\n",
       "    }\n",
       "\n",
       "    .dataframe thead th {\n",
       "        text-align: right;\n",
       "    }\n",
       "</style>\n",
       "<table border=\"1\" class=\"dataframe\">\n",
       "  <thead>\n",
       "    <tr style=\"text-align: right;\">\n",
       "      <th></th>\n",
       "      <th>Unnamed: 0</th>\n",
       "      <th>Brand Name</th>\n",
       "      <th>Car model</th>\n",
       "      <th>Car variant</th>\n",
       "      <th>Running kilometers</th>\n",
       "      <th>Number of owners</th>\n",
       "      <th>fuel System</th>\n",
       "      <th>manufacturing year</th>\n",
       "      <th>Price</th>\n",
       "    </tr>\n",
       "  </thead>\n",
       "  <tbody>\n",
       "    <tr>\n",
       "      <th>0</th>\n",
       "      <td>0</td>\n",
       "      <td>Hyundai</td>\n",
       "      <td>['NEW', 'SANTRO']</td>\n",
       "      <td>1.1 SPORTZ MT CNG</td>\n",
       "      <td>31,394 km</td>\n",
       "      <td>1st Owner</td>\n",
       "      <td>CNG</td>\n",
       "      <td>2019</td>\n",
       "      <td>5,43,000</td>\n",
       "    </tr>\n",
       "    <tr>\n",
       "      <th>1</th>\n",
       "      <td>1</td>\n",
       "      <td>Hyundai</td>\n",
       "      <td>['i20']</td>\n",
       "      <td>SPORTZ 1.2 VTVT Manual</td>\n",
       "      <td>71,435 km</td>\n",
       "      <td>1st Owner</td>\n",
       "      <td>Petrol</td>\n",
       "      <td>2012</td>\n",
       "      <td>3,42,000</td>\n",
       "    </tr>\n",
       "    <tr>\n",
       "      <th>2</th>\n",
       "      <td>2</td>\n",
       "      <td>Hyundai</td>\n",
       "      <td>['Xcent']</td>\n",
       "      <td>S 1.2 OPT Manual</td>\n",
       "      <td>32,364 km</td>\n",
       "      <td>1st Owner</td>\n",
       "      <td>Petrol</td>\n",
       "      <td>2015</td>\n",
       "      <td>4,28,000</td>\n",
       "    </tr>\n",
       "    <tr>\n",
       "      <th>3</th>\n",
       "      <td>3</td>\n",
       "      <td>Maruti</td>\n",
       "      <td>['Wagon', 'R']</td>\n",
       "      <td>VXI Manual</td>\n",
       "      <td>9,975 km</td>\n",
       "      <td>1st Owner</td>\n",
       "      <td>Petrol</td>\n",
       "      <td>2013</td>\n",
       "      <td>3,31,000</td>\n",
       "    </tr>\n",
       "    <tr>\n",
       "      <th>4</th>\n",
       "      <td>4</td>\n",
       "      <td>Maruti</td>\n",
       "      <td>['Ritz']</td>\n",
       "      <td>ZXI Manual</td>\n",
       "      <td>34,379 km</td>\n",
       "      <td>2nd Owner</td>\n",
       "      <td>Petrol</td>\n",
       "      <td>2015</td>\n",
       "      <td>3,28,000</td>\n",
       "    </tr>\n",
       "    <tr>\n",
       "      <th>...</th>\n",
       "      <td>...</td>\n",
       "      <td>...</td>\n",
       "      <td>...</td>\n",
       "      <td>...</td>\n",
       "      <td>...</td>\n",
       "      <td>...</td>\n",
       "      <td>...</td>\n",
       "      <td>...</td>\n",
       "      <td>...</td>\n",
       "    </tr>\n",
       "    <tr>\n",
       "      <th>684</th>\n",
       "      <td>684</td>\n",
       "      <td>Maruti</td>\n",
       "      <td>['Dzire']</td>\n",
       "      <td>VXI Manual</td>\n",
       "      <td>31,271 km</td>\n",
       "      <td>1st Owner</td>\n",
       "      <td>Petrol</td>\n",
       "      <td>2017</td>\n",
       "      <td>6,05,000</td>\n",
       "    </tr>\n",
       "    <tr>\n",
       "      <th>685</th>\n",
       "      <td>685</td>\n",
       "      <td>Maruti</td>\n",
       "      <td>['Swift']</td>\n",
       "      <td>VXI Manual</td>\n",
       "      <td>37,991 km</td>\n",
       "      <td>2nd Owner</td>\n",
       "      <td>Petrol</td>\n",
       "      <td>2012</td>\n",
       "      <td>3,11,000</td>\n",
       "    </tr>\n",
       "    <tr>\n",
       "      <th>686</th>\n",
       "      <td>686</td>\n",
       "      <td>Volkswagen</td>\n",
       "      <td>['Polo']</td>\n",
       "      <td>HIGHLINE1.2L PETROL Manual</td>\n",
       "      <td>26,798 km</td>\n",
       "      <td>1st Owner</td>\n",
       "      <td>Petrol</td>\n",
       "      <td>2013</td>\n",
       "      <td>3,74,000</td>\n",
       "    </tr>\n",
       "    <tr>\n",
       "      <th>687</th>\n",
       "      <td>687</td>\n",
       "      <td>Volkswagen</td>\n",
       "      <td>['Polo']</td>\n",
       "      <td>HIGHLINE1.2L PETROL Manual</td>\n",
       "      <td>61,001 km</td>\n",
       "      <td>1st Owner</td>\n",
       "      <td>Petrol</td>\n",
       "      <td>2013</td>\n",
       "      <td>3,64,600</td>\n",
       "    </tr>\n",
       "    <tr>\n",
       "      <th>688</th>\n",
       "      <td>688</td>\n",
       "      <td>Maruti</td>\n",
       "      <td>['Wagon', 'R']</td>\n",
       "      <td>LXI CNG Manual</td>\n",
       "      <td>76,440 km</td>\n",
       "      <td>2nd Owner</td>\n",
       "      <td>CNG</td>\n",
       "      <td>2012</td>\n",
       "      <td>2,33,000</td>\n",
       "    </tr>\n",
       "  </tbody>\n",
       "</table>\n",
       "<p>689 rows × 9 columns</p>\n",
       "</div>"
      ],
      "text/plain": [
       "     Unnamed: 0  Brand Name          Car model                 Car variant  \\\n",
       "0             0     Hyundai  ['NEW', 'SANTRO']           1.1 SPORTZ MT CNG   \n",
       "1             1     Hyundai            ['i20']      SPORTZ 1.2 VTVT Manual   \n",
       "2             2     Hyundai          ['Xcent']            S 1.2 OPT Manual   \n",
       "3             3      Maruti     ['Wagon', 'R']                  VXI Manual   \n",
       "4             4      Maruti           ['Ritz']                  ZXI Manual   \n",
       "..          ...         ...                ...                         ...   \n",
       "684         684      Maruti          ['Dzire']                  VXI Manual   \n",
       "685         685      Maruti          ['Swift']                  VXI Manual   \n",
       "686         686  Volkswagen           ['Polo']  HIGHLINE1.2L PETROL Manual   \n",
       "687         687  Volkswagen           ['Polo']  HIGHLINE1.2L PETROL Manual   \n",
       "688         688      Maruti     ['Wagon', 'R']              LXI CNG Manual   \n",
       "\n",
       "    Running kilometers Number of owners fuel System  manufacturing year  \\\n",
       "0            31,394 km        1st Owner         CNG                2019   \n",
       "1            71,435 km        1st Owner      Petrol                2012   \n",
       "2            32,364 km        1st Owner      Petrol                2015   \n",
       "3             9,975 km        1st Owner      Petrol                2013   \n",
       "4            34,379 km        2nd Owner      Petrol                2015   \n",
       "..                 ...              ...         ...                 ...   \n",
       "684          31,271 km        1st Owner      Petrol                2017   \n",
       "685          37,991 km        2nd Owner      Petrol                2012   \n",
       "686          26,798 km        1st Owner      Petrol                2013   \n",
       "687          61,001 km        1st Owner      Petrol                2013   \n",
       "688          76,440 km        2nd Owner         CNG                2012   \n",
       "\n",
       "        Price  \n",
       "0    5,43,000  \n",
       "1    3,42,000  \n",
       "2    4,28,000  \n",
       "3    3,31,000  \n",
       "4    3,28,000  \n",
       "..        ...  \n",
       "684  6,05,000  \n",
       "685  3,11,000  \n",
       "686  3,74,000  \n",
       "687  3,64,600  \n",
       "688  2,33,000  \n",
       "\n",
       "[689 rows x 9 columns]"
      ]
     },
     "execution_count": 116,
     "metadata": {},
     "output_type": "execute_result"
    }
   ],
   "source": [
    "data3 = pd.read_csv(\"car_price_4 \")\n",
    "data3"
   ]
  },
  {
   "cell_type": "code",
   "execution_count": 117,
   "id": "2dc3248c",
   "metadata": {},
   "outputs": [
    {
     "data": {
      "text/html": [
       "<div>\n",
       "<style scoped>\n",
       "    .dataframe tbody tr th:only-of-type {\n",
       "        vertical-align: middle;\n",
       "    }\n",
       "\n",
       "    .dataframe tbody tr th {\n",
       "        vertical-align: top;\n",
       "    }\n",
       "\n",
       "    .dataframe thead th {\n",
       "        text-align: right;\n",
       "    }\n",
       "</style>\n",
       "<table border=\"1\" class=\"dataframe\">\n",
       "  <thead>\n",
       "    <tr style=\"text-align: right;\">\n",
       "      <th></th>\n",
       "      <th>Unnamed: 0</th>\n",
       "      <th>Brand Name</th>\n",
       "      <th>Car model</th>\n",
       "      <th>Car variant</th>\n",
       "      <th>Running kilometers</th>\n",
       "      <th>Number of owners</th>\n",
       "      <th>fuel System</th>\n",
       "      <th>manufacturing year</th>\n",
       "      <th>Price</th>\n",
       "    </tr>\n",
       "  </thead>\n",
       "  <tbody>\n",
       "    <tr>\n",
       "      <th>0</th>\n",
       "      <td>0</td>\n",
       "      <td>Honda</td>\n",
       "      <td>['City']</td>\n",
       "      <td>S MT PETROL Manual</td>\n",
       "      <td>52,408 km</td>\n",
       "      <td>1st Owner</td>\n",
       "      <td>Petrol</td>\n",
       "      <td>2011</td>\n",
       "      <td>3,16,000</td>\n",
       "    </tr>\n",
       "    <tr>\n",
       "      <th>1</th>\n",
       "      <td>1</td>\n",
       "      <td>Jeep</td>\n",
       "      <td>['Compass']</td>\n",
       "      <td>1.4 LONGITUDE (O) AT Automatic</td>\n",
       "      <td>23,690 km</td>\n",
       "      <td>1st Owner</td>\n",
       "      <td>Petrol</td>\n",
       "      <td>2019</td>\n",
       "      <td>19,23,000</td>\n",
       "    </tr>\n",
       "    <tr>\n",
       "      <th>2</th>\n",
       "      <td>2</td>\n",
       "      <td>Jeep</td>\n",
       "      <td>['Compass']</td>\n",
       "      <td>2.0 LIMITED Manual</td>\n",
       "      <td>47,040 km</td>\n",
       "      <td>1st Owner</td>\n",
       "      <td>Diesel</td>\n",
       "      <td>2019</td>\n",
       "      <td>17,06,000</td>\n",
       "    </tr>\n",
       "    <tr>\n",
       "      <th>3</th>\n",
       "      <td>3</td>\n",
       "      <td>Honda</td>\n",
       "      <td>['Brio']</td>\n",
       "      <td>1.2 V MT I VTEC Manual</td>\n",
       "      <td>52,532 km</td>\n",
       "      <td>1st Owner</td>\n",
       "      <td>Petrol</td>\n",
       "      <td>2012</td>\n",
       "      <td>2,52,000</td>\n",
       "    </tr>\n",
       "    <tr>\n",
       "      <th>4</th>\n",
       "      <td>4</td>\n",
       "      <td>Skoda</td>\n",
       "      <td>['Rapid']</td>\n",
       "      <td>ACTIVE 1.0 TSI Manual</td>\n",
       "      <td>18,953 km</td>\n",
       "      <td>1st Owner</td>\n",
       "      <td>Petrol</td>\n",
       "      <td>2020</td>\n",
       "      <td>8,85,000</td>\n",
       "    </tr>\n",
       "    <tr>\n",
       "      <th>...</th>\n",
       "      <td>...</td>\n",
       "      <td>...</td>\n",
       "      <td>...</td>\n",
       "      <td>...</td>\n",
       "      <td>...</td>\n",
       "      <td>...</td>\n",
       "      <td>...</td>\n",
       "      <td>...</td>\n",
       "      <td>...</td>\n",
       "    </tr>\n",
       "    <tr>\n",
       "      <th>1234</th>\n",
       "      <td>1234</td>\n",
       "      <td>Maruti</td>\n",
       "      <td>['Vitara', 'Brezza']</td>\n",
       "      <td>ZDI PLUS AMT</td>\n",
       "      <td>50,481 km</td>\n",
       "      <td>1st Owner</td>\n",
       "      <td>Diesel</td>\n",
       "      <td>2018</td>\n",
       "      <td>9,14,000</td>\n",
       "    </tr>\n",
       "    <tr>\n",
       "      <th>1235</th>\n",
       "      <td>1235</td>\n",
       "      <td>Toyota</td>\n",
       "      <td>['Corolla', 'Altis']</td>\n",
       "      <td>VL AT Automatic</td>\n",
       "      <td>24,133 km</td>\n",
       "      <td>1st Owner</td>\n",
       "      <td>Petrol</td>\n",
       "      <td>2011</td>\n",
       "      <td>4,40,000</td>\n",
       "    </tr>\n",
       "    <tr>\n",
       "      <th>1236</th>\n",
       "      <td>1236</td>\n",
       "      <td>Hyundai</td>\n",
       "      <td>['Elite', 'i20']</td>\n",
       "      <td>ASTA 1.2 Manual</td>\n",
       "      <td>94,461 km</td>\n",
       "      <td>1st Owner</td>\n",
       "      <td>CNG</td>\n",
       "      <td>2017</td>\n",
       "      <td>5,89,000</td>\n",
       "    </tr>\n",
       "    <tr>\n",
       "      <th>1237</th>\n",
       "      <td>1237</td>\n",
       "      <td>Maruti</td>\n",
       "      <td>['Alto', 'K10']</td>\n",
       "      <td>VXI Manual</td>\n",
       "      <td>66,169 km</td>\n",
       "      <td>1st Owner</td>\n",
       "      <td>CNG</td>\n",
       "      <td>2015</td>\n",
       "      <td>2,57,000</td>\n",
       "    </tr>\n",
       "    <tr>\n",
       "      <th>1238</th>\n",
       "      <td>1238</td>\n",
       "      <td>Hyundai</td>\n",
       "      <td>['Verna']</td>\n",
       "      <td>FLUIDIC 1.6 SX VTVT Manual</td>\n",
       "      <td>73,256 km</td>\n",
       "      <td>1st Owner</td>\n",
       "      <td>Petrol</td>\n",
       "      <td>2011</td>\n",
       "      <td>3,33,000</td>\n",
       "    </tr>\n",
       "  </tbody>\n",
       "</table>\n",
       "<p>1239 rows × 9 columns</p>\n",
       "</div>"
      ],
      "text/plain": [
       "      Unnamed: 0 Brand Name             Car model  \\\n",
       "0              0      Honda              ['City']   \n",
       "1              1       Jeep           ['Compass']   \n",
       "2              2       Jeep           ['Compass']   \n",
       "3              3      Honda              ['Brio']   \n",
       "4              4      Skoda             ['Rapid']   \n",
       "...          ...        ...                   ...   \n",
       "1234        1234     Maruti  ['Vitara', 'Brezza']   \n",
       "1235        1235     Toyota  ['Corolla', 'Altis']   \n",
       "1236        1236    Hyundai      ['Elite', 'i20']   \n",
       "1237        1237     Maruti       ['Alto', 'K10']   \n",
       "1238        1238    Hyundai             ['Verna']   \n",
       "\n",
       "                         Car variant Running kilometers Number of owners  \\\n",
       "0                 S MT PETROL Manual          52,408 km        1st Owner   \n",
       "1     1.4 LONGITUDE (O) AT Automatic          23,690 km        1st Owner   \n",
       "2                 2.0 LIMITED Manual          47,040 km        1st Owner   \n",
       "3             1.2 V MT I VTEC Manual          52,532 km        1st Owner   \n",
       "4              ACTIVE 1.0 TSI Manual          18,953 km        1st Owner   \n",
       "...                              ...                ...              ...   \n",
       "1234                    ZDI PLUS AMT          50,481 km        1st Owner   \n",
       "1235                 VL AT Automatic          24,133 km        1st Owner   \n",
       "1236                 ASTA 1.2 Manual          94,461 km        1st Owner   \n",
       "1237                      VXI Manual          66,169 km        1st Owner   \n",
       "1238      FLUIDIC 1.6 SX VTVT Manual          73,256 km        1st Owner   \n",
       "\n",
       "     fuel System  manufacturing year      Price  \n",
       "0         Petrol                2011   3,16,000  \n",
       "1         Petrol                2019  19,23,000  \n",
       "2         Diesel                2019  17,06,000  \n",
       "3         Petrol                2012   2,52,000  \n",
       "4         Petrol                2020   8,85,000  \n",
       "...          ...                 ...        ...  \n",
       "1234      Diesel                2018   9,14,000  \n",
       "1235      Petrol                2011   4,40,000  \n",
       "1236         CNG                2017   5,89,000  \n",
       "1237         CNG                2015   2,57,000  \n",
       "1238      Petrol                2011   3,33,000  \n",
       "\n",
       "[1239 rows x 9 columns]"
      ]
     },
     "execution_count": 117,
     "metadata": {},
     "output_type": "execute_result"
    }
   ],
   "source": [
    "data4 = pd.read_csv(\"car_price_5 \")\n",
    "data4"
   ]
  },
  {
   "cell_type": "code",
   "execution_count": 118,
   "id": "1c4e437f",
   "metadata": {},
   "outputs": [
    {
     "data": {
      "text/html": [
       "<div>\n",
       "<style scoped>\n",
       "    .dataframe tbody tr th:only-of-type {\n",
       "        vertical-align: middle;\n",
       "    }\n",
       "\n",
       "    .dataframe tbody tr th {\n",
       "        vertical-align: top;\n",
       "    }\n",
       "\n",
       "    .dataframe thead th {\n",
       "        text-align: right;\n",
       "    }\n",
       "</style>\n",
       "<table border=\"1\" class=\"dataframe\">\n",
       "  <thead>\n",
       "    <tr style=\"text-align: right;\">\n",
       "      <th></th>\n",
       "      <th>Unnamed: 0</th>\n",
       "      <th>Brand Name</th>\n",
       "      <th>Car model</th>\n",
       "      <th>Car variant</th>\n",
       "      <th>Running kilometers</th>\n",
       "      <th>Number of owners</th>\n",
       "      <th>fuel System</th>\n",
       "      <th>manufacturing year</th>\n",
       "      <th>Price</th>\n",
       "    </tr>\n",
       "  </thead>\n",
       "  <tbody>\n",
       "    <tr>\n",
       "      <th>0</th>\n",
       "      <td>0</td>\n",
       "      <td>Maruti</td>\n",
       "      <td>['Vitara', 'Brezza']</td>\n",
       "      <td>ZDI PLUS Manual</td>\n",
       "      <td>76,606 km</td>\n",
       "      <td>2nd Owner</td>\n",
       "      <td>Diesel</td>\n",
       "      <td>2017</td>\n",
       "      <td>6,45,000</td>\n",
       "    </tr>\n",
       "    <tr>\n",
       "      <th>1</th>\n",
       "      <td>1</td>\n",
       "      <td>Maruti</td>\n",
       "      <td>['Alto']</td>\n",
       "      <td>LXI Manual</td>\n",
       "      <td>11,284 km</td>\n",
       "      <td>1st Owner</td>\n",
       "      <td>Petrol</td>\n",
       "      <td>2020</td>\n",
       "      <td>3,73,000</td>\n",
       "    </tr>\n",
       "    <tr>\n",
       "      <th>2</th>\n",
       "      <td>2</td>\n",
       "      <td>Maruti</td>\n",
       "      <td>['Ertiga']</td>\n",
       "      <td>VXI Manual</td>\n",
       "      <td>65,966 km</td>\n",
       "      <td>1st Owner</td>\n",
       "      <td>Petrol</td>\n",
       "      <td>2018</td>\n",
       "      <td>6,91,000</td>\n",
       "    </tr>\n",
       "    <tr>\n",
       "      <th>3</th>\n",
       "      <td>3</td>\n",
       "      <td>Toyota</td>\n",
       "      <td>['Corolla', 'Altis']</td>\n",
       "      <td>G Manual</td>\n",
       "      <td>81,483 km</td>\n",
       "      <td>1st Owner</td>\n",
       "      <td>Petrol</td>\n",
       "      <td>2015</td>\n",
       "      <td>7,17,000</td>\n",
       "    </tr>\n",
       "    <tr>\n",
       "      <th>4</th>\n",
       "      <td>4</td>\n",
       "      <td>Volkswagen</td>\n",
       "      <td>['Ameo']</td>\n",
       "      <td>COMFORTLINE 1.2 Manual</td>\n",
       "      <td>54,491 km</td>\n",
       "      <td>1st Owner</td>\n",
       "      <td>Petrol</td>\n",
       "      <td>2018</td>\n",
       "      <td>4,48,000</td>\n",
       "    </tr>\n",
       "    <tr>\n",
       "      <th>...</th>\n",
       "      <td>...</td>\n",
       "      <td>...</td>\n",
       "      <td>...</td>\n",
       "      <td>...</td>\n",
       "      <td>...</td>\n",
       "      <td>...</td>\n",
       "      <td>...</td>\n",
       "      <td>...</td>\n",
       "      <td>...</td>\n",
       "    </tr>\n",
       "    <tr>\n",
       "      <th>1236</th>\n",
       "      <td>1236</td>\n",
       "      <td>Maruti</td>\n",
       "      <td>['Vitara', 'Brezza']</td>\n",
       "      <td>ZDI PLUS AMT</td>\n",
       "      <td>50,481 km</td>\n",
       "      <td>1st Owner</td>\n",
       "      <td>Diesel</td>\n",
       "      <td>2018</td>\n",
       "      <td>9,14,000</td>\n",
       "    </tr>\n",
       "    <tr>\n",
       "      <th>1237</th>\n",
       "      <td>1237</td>\n",
       "      <td>Toyota</td>\n",
       "      <td>['Corolla', 'Altis']</td>\n",
       "      <td>VL AT Automatic</td>\n",
       "      <td>24,133 km</td>\n",
       "      <td>1st Owner</td>\n",
       "      <td>Petrol</td>\n",
       "      <td>2011</td>\n",
       "      <td>4,40,000</td>\n",
       "    </tr>\n",
       "    <tr>\n",
       "      <th>1238</th>\n",
       "      <td>1238</td>\n",
       "      <td>Hyundai</td>\n",
       "      <td>['Elite', 'i20']</td>\n",
       "      <td>ASTA 1.2 Manual</td>\n",
       "      <td>94,461 km</td>\n",
       "      <td>1st Owner</td>\n",
       "      <td>CNG</td>\n",
       "      <td>2017</td>\n",
       "      <td>5,89,000</td>\n",
       "    </tr>\n",
       "    <tr>\n",
       "      <th>1239</th>\n",
       "      <td>1239</td>\n",
       "      <td>Maruti</td>\n",
       "      <td>['Alto', 'K10']</td>\n",
       "      <td>VXI Manual</td>\n",
       "      <td>66,169 km</td>\n",
       "      <td>1st Owner</td>\n",
       "      <td>CNG</td>\n",
       "      <td>2015</td>\n",
       "      <td>2,57,000</td>\n",
       "    </tr>\n",
       "    <tr>\n",
       "      <th>1240</th>\n",
       "      <td>1240</td>\n",
       "      <td>Hyundai</td>\n",
       "      <td>['Verna']</td>\n",
       "      <td>FLUIDIC 1.6 SX VTVT Manual</td>\n",
       "      <td>73,256 km</td>\n",
       "      <td>1st Owner</td>\n",
       "      <td>Petrol</td>\n",
       "      <td>2011</td>\n",
       "      <td>3,33,000</td>\n",
       "    </tr>\n",
       "  </tbody>\n",
       "</table>\n",
       "<p>1241 rows × 9 columns</p>\n",
       "</div>"
      ],
      "text/plain": [
       "      Unnamed: 0  Brand Name             Car model  \\\n",
       "0              0      Maruti  ['Vitara', 'Brezza']   \n",
       "1              1      Maruti              ['Alto']   \n",
       "2              2      Maruti            ['Ertiga']   \n",
       "3              3      Toyota  ['Corolla', 'Altis']   \n",
       "4              4  Volkswagen              ['Ameo']   \n",
       "...          ...         ...                   ...   \n",
       "1236        1236      Maruti  ['Vitara', 'Brezza']   \n",
       "1237        1237      Toyota  ['Corolla', 'Altis']   \n",
       "1238        1238     Hyundai      ['Elite', 'i20']   \n",
       "1239        1239      Maruti       ['Alto', 'K10']   \n",
       "1240        1240     Hyundai             ['Verna']   \n",
       "\n",
       "                     Car variant Running kilometers Number of owners  \\\n",
       "0                ZDI PLUS Manual          76,606 km        2nd Owner   \n",
       "1                     LXI Manual          11,284 km        1st Owner   \n",
       "2                     VXI Manual          65,966 km        1st Owner   \n",
       "3                       G Manual          81,483 km        1st Owner   \n",
       "4         COMFORTLINE 1.2 Manual          54,491 km        1st Owner   \n",
       "...                          ...                ...              ...   \n",
       "1236                ZDI PLUS AMT          50,481 km        1st Owner   \n",
       "1237             VL AT Automatic          24,133 km        1st Owner   \n",
       "1238             ASTA 1.2 Manual          94,461 km        1st Owner   \n",
       "1239                  VXI Manual          66,169 km        1st Owner   \n",
       "1240  FLUIDIC 1.6 SX VTVT Manual          73,256 km        1st Owner   \n",
       "\n",
       "     fuel System  manufacturing year     Price  \n",
       "0         Diesel                2017  6,45,000  \n",
       "1         Petrol                2020  3,73,000  \n",
       "2         Petrol                2018  6,91,000  \n",
       "3         Petrol                2015  7,17,000  \n",
       "4         Petrol                2018  4,48,000  \n",
       "...          ...                 ...       ...  \n",
       "1236      Diesel                2018  9,14,000  \n",
       "1237      Petrol                2011  4,40,000  \n",
       "1238         CNG                2017  5,89,000  \n",
       "1239         CNG                2015  2,57,000  \n",
       "1240      Petrol                2011  3,33,000  \n",
       "\n",
       "[1241 rows x 9 columns]"
      ]
     },
     "execution_count": 118,
     "metadata": {},
     "output_type": "execute_result"
    }
   ],
   "source": [
    "data5 = pd.read_csv(\"car_price_6 \")\n",
    "data5"
   ]
  },
  {
   "cell_type": "code",
   "execution_count": 119,
   "id": "e9e1ef3a",
   "metadata": {},
   "outputs": [],
   "source": [
    "df = pd.concat([data1,data2,data3,data4,data5])"
   ]
  },
  {
   "cell_type": "code",
   "execution_count": 120,
   "id": "fa85a27e",
   "metadata": {},
   "outputs": [
    {
     "data": {
      "text/html": [
       "<div>\n",
       "<style scoped>\n",
       "    .dataframe tbody tr th:only-of-type {\n",
       "        vertical-align: middle;\n",
       "    }\n",
       "\n",
       "    .dataframe tbody tr th {\n",
       "        vertical-align: top;\n",
       "    }\n",
       "\n",
       "    .dataframe thead th {\n",
       "        text-align: right;\n",
       "    }\n",
       "</style>\n",
       "<table border=\"1\" class=\"dataframe\">\n",
       "  <thead>\n",
       "    <tr style=\"text-align: right;\">\n",
       "      <th></th>\n",
       "      <th>Unnamed: 0</th>\n",
       "      <th>Brand Name</th>\n",
       "      <th>Car model</th>\n",
       "      <th>Car variant</th>\n",
       "      <th>Running kilometers</th>\n",
       "      <th>Number of owners</th>\n",
       "      <th>fuel System</th>\n",
       "      <th>manufacturing year</th>\n",
       "      <th>Price</th>\n",
       "    </tr>\n",
       "  </thead>\n",
       "  <tbody>\n",
       "    <tr>\n",
       "      <th>0</th>\n",
       "      <td>0</td>\n",
       "      <td>KIA</td>\n",
       "      <td>['SELTOS']</td>\n",
       "      <td>GTX+ 1.4 MT Manual</td>\n",
       "      <td>5,999 km</td>\n",
       "      <td>1st Owner</td>\n",
       "      <td>Petrol</td>\n",
       "      <td>2020</td>\n",
       "      <td>17,22,000</td>\n",
       "    </tr>\n",
       "    <tr>\n",
       "      <th>1</th>\n",
       "      <td>1</td>\n",
       "      <td>Maruti</td>\n",
       "      <td>['Alto', 'K10']</td>\n",
       "      <td>LXI Manual</td>\n",
       "      <td>32,278 km</td>\n",
       "      <td>2nd Owner</td>\n",
       "      <td>Petrol</td>\n",
       "      <td>2017</td>\n",
       "      <td>2,59,000</td>\n",
       "    </tr>\n",
       "    <tr>\n",
       "      <th>2</th>\n",
       "      <td>2</td>\n",
       "      <td>KIA</td>\n",
       "      <td>['SELTOS']</td>\n",
       "      <td>GTX + AT PETROL Automatic</td>\n",
       "      <td>9,417 km</td>\n",
       "      <td>1st Owner</td>\n",
       "      <td>Petrol</td>\n",
       "      <td>2020</td>\n",
       "      <td>16,81,000</td>\n",
       "    </tr>\n",
       "    <tr>\n",
       "      <th>3</th>\n",
       "      <td>3</td>\n",
       "      <td>Hyundai</td>\n",
       "      <td>['Grand', 'i10']</td>\n",
       "      <td>MAGNA 1.2 KAPPA VTVT Manual</td>\n",
       "      <td>19,964 km</td>\n",
       "      <td>1st Owner</td>\n",
       "      <td>Petrol</td>\n",
       "      <td>2019</td>\n",
       "      <td>5,03,000</td>\n",
       "    </tr>\n",
       "    <tr>\n",
       "      <th>4</th>\n",
       "      <td>4</td>\n",
       "      <td>Maruti</td>\n",
       "      <td>['Alto']</td>\n",
       "      <td>LXI Manual</td>\n",
       "      <td>12,030 km</td>\n",
       "      <td>2nd Owner</td>\n",
       "      <td>Petrol</td>\n",
       "      <td>2011</td>\n",
       "      <td>1,74,000</td>\n",
       "    </tr>\n",
       "    <tr>\n",
       "      <th>...</th>\n",
       "      <td>...</td>\n",
       "      <td>...</td>\n",
       "      <td>...</td>\n",
       "      <td>...</td>\n",
       "      <td>...</td>\n",
       "      <td>...</td>\n",
       "      <td>...</td>\n",
       "      <td>...</td>\n",
       "      <td>...</td>\n",
       "    </tr>\n",
       "    <tr>\n",
       "      <th>1236</th>\n",
       "      <td>1236</td>\n",
       "      <td>Maruti</td>\n",
       "      <td>['Vitara', 'Brezza']</td>\n",
       "      <td>ZDI PLUS AMT</td>\n",
       "      <td>50,481 km</td>\n",
       "      <td>1st Owner</td>\n",
       "      <td>Diesel</td>\n",
       "      <td>2018</td>\n",
       "      <td>9,14,000</td>\n",
       "    </tr>\n",
       "    <tr>\n",
       "      <th>1237</th>\n",
       "      <td>1237</td>\n",
       "      <td>Toyota</td>\n",
       "      <td>['Corolla', 'Altis']</td>\n",
       "      <td>VL AT Automatic</td>\n",
       "      <td>24,133 km</td>\n",
       "      <td>1st Owner</td>\n",
       "      <td>Petrol</td>\n",
       "      <td>2011</td>\n",
       "      <td>4,40,000</td>\n",
       "    </tr>\n",
       "    <tr>\n",
       "      <th>1238</th>\n",
       "      <td>1238</td>\n",
       "      <td>Hyundai</td>\n",
       "      <td>['Elite', 'i20']</td>\n",
       "      <td>ASTA 1.2 Manual</td>\n",
       "      <td>94,461 km</td>\n",
       "      <td>1st Owner</td>\n",
       "      <td>CNG</td>\n",
       "      <td>2017</td>\n",
       "      <td>5,89,000</td>\n",
       "    </tr>\n",
       "    <tr>\n",
       "      <th>1239</th>\n",
       "      <td>1239</td>\n",
       "      <td>Maruti</td>\n",
       "      <td>['Alto', 'K10']</td>\n",
       "      <td>VXI Manual</td>\n",
       "      <td>66,169 km</td>\n",
       "      <td>1st Owner</td>\n",
       "      <td>CNG</td>\n",
       "      <td>2015</td>\n",
       "      <td>2,57,000</td>\n",
       "    </tr>\n",
       "    <tr>\n",
       "      <th>1240</th>\n",
       "      <td>1240</td>\n",
       "      <td>Hyundai</td>\n",
       "      <td>['Verna']</td>\n",
       "      <td>FLUIDIC 1.6 SX VTVT Manual</td>\n",
       "      <td>73,256 km</td>\n",
       "      <td>1st Owner</td>\n",
       "      <td>Petrol</td>\n",
       "      <td>2011</td>\n",
       "      <td>3,33,000</td>\n",
       "    </tr>\n",
       "  </tbody>\n",
       "</table>\n",
       "<p>5638 rows × 9 columns</p>\n",
       "</div>"
      ],
      "text/plain": [
       "      Unnamed: 0 Brand Name             Car model  \\\n",
       "0              0        KIA            ['SELTOS']   \n",
       "1              1     Maruti       ['Alto', 'K10']   \n",
       "2              2        KIA            ['SELTOS']   \n",
       "3              3    Hyundai      ['Grand', 'i10']   \n",
       "4              4     Maruti              ['Alto']   \n",
       "...          ...        ...                   ...   \n",
       "1236        1236     Maruti  ['Vitara', 'Brezza']   \n",
       "1237        1237     Toyota  ['Corolla', 'Altis']   \n",
       "1238        1238    Hyundai      ['Elite', 'i20']   \n",
       "1239        1239     Maruti       ['Alto', 'K10']   \n",
       "1240        1240    Hyundai             ['Verna']   \n",
       "\n",
       "                      Car variant Running kilometers Number of owners  \\\n",
       "0              GTX+ 1.4 MT Manual           5,999 km        1st Owner   \n",
       "1                      LXI Manual          32,278 km        2nd Owner   \n",
       "2       GTX + AT PETROL Automatic           9,417 km        1st Owner   \n",
       "3     MAGNA 1.2 KAPPA VTVT Manual          19,964 km        1st Owner   \n",
       "4                      LXI Manual          12,030 km        2nd Owner   \n",
       "...                           ...                ...              ...   \n",
       "1236                 ZDI PLUS AMT          50,481 km        1st Owner   \n",
       "1237              VL AT Automatic          24,133 km        1st Owner   \n",
       "1238              ASTA 1.2 Manual          94,461 km        1st Owner   \n",
       "1239                   VXI Manual          66,169 km        1st Owner   \n",
       "1240   FLUIDIC 1.6 SX VTVT Manual          73,256 km        1st Owner   \n",
       "\n",
       "     fuel System  manufacturing year      Price  \n",
       "0         Petrol                2020  17,22,000  \n",
       "1         Petrol                2017   2,59,000  \n",
       "2         Petrol                2020  16,81,000  \n",
       "3         Petrol                2019   5,03,000  \n",
       "4         Petrol                2011   1,74,000  \n",
       "...          ...                 ...        ...  \n",
       "1236      Diesel                2018   9,14,000  \n",
       "1237      Petrol                2011   4,40,000  \n",
       "1238         CNG                2017   5,89,000  \n",
       "1239         CNG                2015   2,57,000  \n",
       "1240      Petrol                2011   3,33,000  \n",
       "\n",
       "[5638 rows x 9 columns]"
      ]
     },
     "execution_count": 120,
     "metadata": {},
     "output_type": "execute_result"
    }
   ],
   "source": [
    "df"
   ]
  },
  {
   "cell_type": "code",
   "execution_count": 121,
   "id": "c85b83e1",
   "metadata": {},
   "outputs": [
    {
     "data": {
      "text/plain": [
       "(5638, 9)"
      ]
     },
     "execution_count": 121,
     "metadata": {},
     "output_type": "execute_result"
    }
   ],
   "source": [
    "# Lets check the shape of dataset\n",
    "df.shape"
   ]
  },
  {
   "cell_type": "markdown",
   "id": "92188a55",
   "metadata": {},
   "source": [
    "So , here we have 5638 rows and 9 columns"
   ]
  },
  {
   "cell_type": "markdown",
   "id": "1ec1bdaf",
   "metadata": {},
   "source": [
    "# Data is Duplicated ?"
   ]
  },
  {
   "cell_type": "code",
   "execution_count": 122,
   "id": "1f82e7f0",
   "metadata": {},
   "outputs": [
    {
     "data": {
      "text/plain": [
       "18"
      ]
     },
     "execution_count": 122,
     "metadata": {},
     "output_type": "execute_result"
    }
   ],
   "source": [
    "df.duplicated().sum()"
   ]
  },
  {
   "cell_type": "markdown",
   "id": "21a768f3",
   "metadata": {},
   "source": [
    "so, here we have 18 Duplicated Data"
   ]
  },
  {
   "cell_type": "code",
   "execution_count": 123,
   "id": "6e6fe05f",
   "metadata": {},
   "outputs": [
    {
     "data": {
      "text/plain": [
       "Unnamed: 0             int64\n",
       "Brand Name            object\n",
       "Car model             object\n",
       "Car variant           object\n",
       "Running kilometers    object\n",
       "Number of owners      object\n",
       "fuel System           object\n",
       "manufacturing year     int64\n",
       "Price                 object\n",
       "dtype: object"
      ]
     },
     "execution_count": 123,
     "metadata": {},
     "output_type": "execute_result"
    }
   ],
   "source": [
    "#Lets check the data type of dataset\n",
    "df.dtypes"
   ]
  },
  {
   "cell_type": "markdown",
   "id": "cf83045f",
   "metadata": {},
   "source": [
    "so here we have\n",
    "\n",
    "int64 type - Unnamed: 0 , manufacturing year columns\n",
    "\n",
    "Object type - Than All columns are object columns"
   ]
  },
  {
   "cell_type": "markdown",
   "id": "0128ee76",
   "metadata": {},
   "source": [
    "# Convert object columns are int64 columns"
   ]
  },
  {
   "cell_type": "code",
   "execution_count": 124,
   "id": "404997bd",
   "metadata": {},
   "outputs": [],
   "source": [
    "df['Price'] = df['Price'].str.replace(',','').astype(int)"
   ]
  },
  {
   "cell_type": "code",
   "execution_count": 125,
   "id": "267e2125",
   "metadata": {},
   "outputs": [
    {
     "data": {
      "text/plain": [
       "Unnamed: 0             int64\n",
       "Brand Name            object\n",
       "Car model             object\n",
       "Car variant           object\n",
       "Running kilometers    object\n",
       "Number of owners      object\n",
       "fuel System           object\n",
       "manufacturing year     int64\n",
       "Price                  int32\n",
       "dtype: object"
      ]
     },
     "execution_count": 125,
     "metadata": {},
     "output_type": "execute_result"
    }
   ],
   "source": [
    "df.dtypes"
   ]
  },
  {
   "cell_type": "code",
   "execution_count": 126,
   "id": "d2e02c86",
   "metadata": {},
   "outputs": [],
   "source": [
    "# Now we can drop Unnamed: 0 as it is of no use\n",
    "df.drop([\"Unnamed: 0\"], axis = 1, inplace = True)"
   ]
  },
  {
   "cell_type": "code",
   "execution_count": 127,
   "id": "0bf1cda0",
   "metadata": {},
   "outputs": [
    {
     "data": {
      "text/html": [
       "<div>\n",
       "<style scoped>\n",
       "    .dataframe tbody tr th:only-of-type {\n",
       "        vertical-align: middle;\n",
       "    }\n",
       "\n",
       "    .dataframe tbody tr th {\n",
       "        vertical-align: top;\n",
       "    }\n",
       "\n",
       "    .dataframe thead th {\n",
       "        text-align: right;\n",
       "    }\n",
       "</style>\n",
       "<table border=\"1\" class=\"dataframe\">\n",
       "  <thead>\n",
       "    <tr style=\"text-align: right;\">\n",
       "      <th></th>\n",
       "      <th>Brand Name</th>\n",
       "      <th>Car model</th>\n",
       "      <th>Car variant</th>\n",
       "      <th>Running kilometers</th>\n",
       "      <th>Number of owners</th>\n",
       "      <th>fuel System</th>\n",
       "      <th>manufacturing year</th>\n",
       "      <th>Price</th>\n",
       "    </tr>\n",
       "  </thead>\n",
       "  <tbody>\n",
       "    <tr>\n",
       "      <th>0</th>\n",
       "      <td>KIA</td>\n",
       "      <td>['SELTOS']</td>\n",
       "      <td>GTX+ 1.4 MT Manual</td>\n",
       "      <td>5,999 km</td>\n",
       "      <td>1st Owner</td>\n",
       "      <td>Petrol</td>\n",
       "      <td>2020</td>\n",
       "      <td>1722000</td>\n",
       "    </tr>\n",
       "    <tr>\n",
       "      <th>1</th>\n",
       "      <td>Maruti</td>\n",
       "      <td>['Alto', 'K10']</td>\n",
       "      <td>LXI Manual</td>\n",
       "      <td>32,278 km</td>\n",
       "      <td>2nd Owner</td>\n",
       "      <td>Petrol</td>\n",
       "      <td>2017</td>\n",
       "      <td>259000</td>\n",
       "    </tr>\n",
       "    <tr>\n",
       "      <th>2</th>\n",
       "      <td>KIA</td>\n",
       "      <td>['SELTOS']</td>\n",
       "      <td>GTX + AT PETROL Automatic</td>\n",
       "      <td>9,417 km</td>\n",
       "      <td>1st Owner</td>\n",
       "      <td>Petrol</td>\n",
       "      <td>2020</td>\n",
       "      <td>1681000</td>\n",
       "    </tr>\n",
       "    <tr>\n",
       "      <th>3</th>\n",
       "      <td>Hyundai</td>\n",
       "      <td>['Grand', 'i10']</td>\n",
       "      <td>MAGNA 1.2 KAPPA VTVT Manual</td>\n",
       "      <td>19,964 km</td>\n",
       "      <td>1st Owner</td>\n",
       "      <td>Petrol</td>\n",
       "      <td>2019</td>\n",
       "      <td>503000</td>\n",
       "    </tr>\n",
       "    <tr>\n",
       "      <th>4</th>\n",
       "      <td>Maruti</td>\n",
       "      <td>['Alto']</td>\n",
       "      <td>LXI Manual</td>\n",
       "      <td>12,030 km</td>\n",
       "      <td>2nd Owner</td>\n",
       "      <td>Petrol</td>\n",
       "      <td>2011</td>\n",
       "      <td>174000</td>\n",
       "    </tr>\n",
       "  </tbody>\n",
       "</table>\n",
       "</div>"
      ],
      "text/plain": [
       "  Brand Name         Car model                  Car variant  \\\n",
       "0        KIA        ['SELTOS']           GTX+ 1.4 MT Manual   \n",
       "1     Maruti   ['Alto', 'K10']                   LXI Manual   \n",
       "2        KIA        ['SELTOS']    GTX + AT PETROL Automatic   \n",
       "3    Hyundai  ['Grand', 'i10']  MAGNA 1.2 KAPPA VTVT Manual   \n",
       "4     Maruti          ['Alto']                   LXI Manual   \n",
       "\n",
       "  Running kilometers Number of owners fuel System  manufacturing year    Price  \n",
       "0           5,999 km        1st Owner      Petrol                2020  1722000  \n",
       "1          32,278 km        2nd Owner      Petrol                2017   259000  \n",
       "2           9,417 km        1st Owner      Petrol                2020  1681000  \n",
       "3          19,964 km        1st Owner      Petrol                2019   503000  \n",
       "4          12,030 km        2nd Owner      Petrol                2011   174000  "
      ]
     },
     "execution_count": 127,
     "metadata": {},
     "output_type": "execute_result"
    }
   ],
   "source": [
    "df.head()"
   ]
  },
  {
   "cell_type": "markdown",
   "id": "bce91fc4",
   "metadata": {},
   "source": [
    "# Missing Values"
   ]
  },
  {
   "cell_type": "code",
   "execution_count": 128,
   "id": "96ea9516",
   "metadata": {},
   "outputs": [
    {
     "data": {
      "text/plain": [
       "Brand Name            0\n",
       "Car model             0\n",
       "Car variant           0\n",
       "Running kilometers    0\n",
       "Number of owners      0\n",
       "fuel System           0\n",
       "manufacturing year    0\n",
       "Price                 0\n",
       "dtype: int64"
      ]
     },
     "execution_count": 128,
     "metadata": {},
     "output_type": "execute_result"
    }
   ],
   "source": [
    "df.isnull().sum()"
   ]
  },
  {
   "cell_type": "code",
   "execution_count": 129,
   "id": "8f6ab074",
   "metadata": {},
   "outputs": [
    {
     "data": {
      "text/html": [
       "<div>\n",
       "<style scoped>\n",
       "    .dataframe tbody tr th:only-of-type {\n",
       "        vertical-align: middle;\n",
       "    }\n",
       "\n",
       "    .dataframe tbody tr th {\n",
       "        vertical-align: top;\n",
       "    }\n",
       "\n",
       "    .dataframe thead th {\n",
       "        text-align: right;\n",
       "    }\n",
       "</style>\n",
       "<table border=\"1\" class=\"dataframe\">\n",
       "  <thead>\n",
       "    <tr style=\"text-align: right;\">\n",
       "      <th></th>\n",
       "      <th>manufacturing year</th>\n",
       "      <th>Price</th>\n",
       "    </tr>\n",
       "  </thead>\n",
       "  <tbody>\n",
       "    <tr>\n",
       "      <th>count</th>\n",
       "      <td>5638.000000</td>\n",
       "      <td>5.638000e+03</td>\n",
       "    </tr>\n",
       "    <tr>\n",
       "      <th>mean</th>\n",
       "      <td>2017.600213</td>\n",
       "      <td>6.753235e+05</td>\n",
       "    </tr>\n",
       "    <tr>\n",
       "      <th>std</th>\n",
       "      <td>2.733470</td>\n",
       "      <td>3.366062e+05</td>\n",
       "    </tr>\n",
       "    <tr>\n",
       "      <th>min</th>\n",
       "      <td>2009.000000</td>\n",
       "      <td>1.480000e+05</td>\n",
       "    </tr>\n",
       "    <tr>\n",
       "      <th>25%</th>\n",
       "      <td>2016.000000</td>\n",
       "      <td>4.470000e+05</td>\n",
       "    </tr>\n",
       "    <tr>\n",
       "      <th>50%</th>\n",
       "      <td>2018.000000</td>\n",
       "      <td>5.930000e+05</td>\n",
       "    </tr>\n",
       "    <tr>\n",
       "      <th>75%</th>\n",
       "      <td>2020.000000</td>\n",
       "      <td>8.210000e+05</td>\n",
       "    </tr>\n",
       "    <tr>\n",
       "      <th>max</th>\n",
       "      <td>2022.000000</td>\n",
       "      <td>2.880000e+06</td>\n",
       "    </tr>\n",
       "  </tbody>\n",
       "</table>\n",
       "</div>"
      ],
      "text/plain": [
       "       manufacturing year         Price\n",
       "count         5638.000000  5.638000e+03\n",
       "mean          2017.600213  6.753235e+05\n",
       "std              2.733470  3.366062e+05\n",
       "min           2009.000000  1.480000e+05\n",
       "25%           2016.000000  4.470000e+05\n",
       "50%           2018.000000  5.930000e+05\n",
       "75%           2020.000000  8.210000e+05\n",
       "max           2022.000000  2.880000e+06"
      ]
     },
     "execution_count": 129,
     "metadata": {},
     "output_type": "execute_result"
    }
   ],
   "source": [
    "df.describe()"
   ]
  },
  {
   "cell_type": "markdown",
   "id": "921289a2",
   "metadata": {},
   "source": [
    "# Exploratory Data Analysis: Univarient"
   ]
  },
  {
   "cell_type": "code",
   "execution_count": 130,
   "id": "103a5d78",
   "metadata": {},
   "outputs": [
    {
     "name": "stdout",
     "output_type": "stream",
     "text": [
      "Number of Categorical features: 6\n",
      "Number of Continuous features: 2\n"
     ]
    }
   ],
   "source": [
    "catg_features=[col for col in df.columns if df[col].dtypes=='object']\n",
    "cont_features=[col for col in df.columns if df[col].dtypes!='object']\n",
    "\n",
    "\n",
    "print(f'Number of Categorical features: {len(catg_features)}')\n",
    "print(f'Number of Continuous features: {len(cont_features)}')"
   ]
  },
  {
   "cell_type": "code",
   "execution_count": 131,
   "id": "00406e07",
   "metadata": {},
   "outputs": [
    {
     "data": {
      "image/png": "[encoded data removed]",
      "text/plain": [
       "<Figure size 432x288 with 1 Axes>"
      ]
     },
     "metadata": {},
     "output_type": "display_data"
    }
   ],
   "source": [
    "plt.pie([len(catg_features),len(cont_features)],labels=['Categorical','Continuous'],textprops={'fontsize':12},autopct='%1.1f%%')\n",
    "plt.show()"
   ]
  },
  {
   "cell_type": "markdown",
   "id": "6dc083bc",
   "metadata": {},
   "source": [
    "# Value count Function"
   ]
  },
  {
   "cell_type": "code",
   "execution_count": 132,
   "id": "0cb7e432",
   "metadata": {},
   "outputs": [
    {
     "data": {
      "text/plain": [
       "Maruti        2409\n",
       "Hyundai       1348\n",
       "Honda          550\n",
       "Renault        281\n",
       "Tata           274\n",
       "Mahindra       161\n",
       "Toyota         147\n",
       "Ford           132\n",
       "KIA            101\n",
       "Volkswagen      80\n",
       "Skoda           56\n",
       "Datsun          29\n",
       "MG              20\n",
       "Nissan          18\n",
       "Jeep            15\n",
       "Audi             9\n",
       "MARUTI           4\n",
       "Fiat             2\n",
       "SKODA            1\n",
       "Mercedes         1\n",
       "Name: Brand Name, dtype: int64"
      ]
     },
     "execution_count": 132,
     "metadata": {},
     "output_type": "execute_result"
    }
   ],
   "source": [
    "df['Brand Name'].value_counts()"
   ]
  },
  {
   "cell_type": "code",
   "execution_count": 133,
   "id": "9401b3cd",
   "metadata": {},
   "outputs": [
    {
     "data": {
      "text/plain": [
       "['Baleno']            359\n",
       "['Swift']             331\n",
       "['Grand', 'i10']      312\n",
       "['New', 'Wagon-R']    277\n",
       "['Elite', 'i20']      245\n",
       "                     ... \n",
       "['Zen', 'Estilo']       1\n",
       "['Bolero']              1\n",
       "['BOLERO', 'NEO']       1\n",
       "['HECTOR', 'PLUS']      1\n",
       "['Figo', 'Aspire']      1\n",
       "Name: Car model, Length: 116, dtype: int64"
      ]
     },
     "execution_count": 133,
     "metadata": {},
     "output_type": "execute_result"
    }
   ],
   "source": [
    "df['Car model'].value_counts()"
   ]
  },
  {
   "cell_type": "code",
   "execution_count": 134,
   "id": "86c2e19d",
   "metadata": {},
   "outputs": [
    {
     "data": {
      "text/plain": [
       "VXI Manual                   472\n",
       "LXI Manual                   244\n",
       "LXI CNG Manual               151\n",
       "LXI CNG 1.0 L Manual         128\n",
       "DELTA PETROL 1.2 Manual      115\n",
       "                            ... \n",
       "RXZ Manual                     1\n",
       "XV CVT TURBO                   1\n",
       "XL P Manual                    1\n",
       "ZXI+ AT SHVS DUAL TONE         1\n",
       "1.5 PLATINE DIESEL Manual      1\n",
       "Name: Car variant, Length: 785, dtype: int64"
      ]
     },
     "execution_count": 134,
     "metadata": {},
     "output_type": "execute_result"
    }
   ],
   "source": [
    "df['Car variant'].value_counts()"
   ]
  },
  {
   "cell_type": "code",
   "execution_count": 135,
   "id": "0a8d8264",
   "metadata": {},
   "outputs": [
    {
     "data": {
      "text/plain": [
       "17,815 km    7\n",
       "74 km        6\n",
       "21,612 km    6\n",
       "56,608 km    6\n",
       "12,030 km    6\n",
       "            ..\n",
       "38,863 km    1\n",
       "73,781 km    1\n",
       "15,531 km    1\n",
       "20,505 km    1\n",
       "70,347 km    1\n",
       "Name: Running kilometers, Length: 3102, dtype: int64"
      ]
     },
     "execution_count": 135,
     "metadata": {},
     "output_type": "execute_result"
    }
   ],
   "source": [
    "df['Running kilometers'].value_counts()"
   ]
  },
  {
   "cell_type": "code",
   "execution_count": 136,
   "id": "aa6a6276",
   "metadata": {},
   "outputs": [
    {
     "data": {
      "text/plain": [
       "1st Owner    4522\n",
       "2nd Owner    1094\n",
       "3rd Owner      22\n",
       "Name: Number of owners, dtype: int64"
      ]
     },
     "execution_count": 136,
     "metadata": {},
     "output_type": "execute_result"
    }
   ],
   "source": [
    "df['Number of owners'].value_counts()"
   ]
  },
  {
   "cell_type": "code",
   "execution_count": 137,
   "id": "3d6c9e6a",
   "metadata": {},
   "outputs": [
    {
     "data": {
      "text/plain": [
       "Petrol    4173\n",
       "Diesel     774\n",
       "CNG        690\n",
       "Hybrid       1\n",
       "Name: fuel System, dtype: int64"
      ]
     },
     "execution_count": 137,
     "metadata": {},
     "output_type": "execute_result"
    }
   ],
   "source": [
    "df['fuel System'].value_counts()"
   ]
  },
  {
   "cell_type": "code",
   "execution_count": 138,
   "id": "0518ff51",
   "metadata": {},
   "outputs": [
    {
     "data": {
      "text/plain": [
       "2018    885\n",
       "2019    867\n",
       "2017    682\n",
       "2021    667\n",
       "2020    657\n",
       "2016    514\n",
       "2015    356\n",
       "2014    329\n",
       "2013    191\n",
       "2022    181\n",
       "2012    134\n",
       "2011    101\n",
       "2010     66\n",
       "2009      8\n",
       "Name: manufacturing year, dtype: int64"
      ]
     },
     "execution_count": 138,
     "metadata": {},
     "output_type": "execute_result"
    }
   ],
   "source": [
    "df['manufacturing year'].value_counts()"
   ]
  },
  {
   "cell_type": "code",
   "execution_count": 139,
   "id": "89385ea0",
   "metadata": {},
   "outputs": [
    {
     "data": {
      "text/plain": [
       "480000     36\n",
       "561000     25\n",
       "571000     21\n",
       "406000     21\n",
       "528000     21\n",
       "           ..\n",
       "837000      1\n",
       "829000      1\n",
       "776000      1\n",
       "1250000     1\n",
       "364600      1\n",
       "Name: Price, Length: 1117, dtype: int64"
      ]
     },
     "execution_count": 139,
     "metadata": {},
     "output_type": "execute_result"
    }
   ],
   "source": [
    "df['Price'].value_counts()"
   ]
  },
  {
   "cell_type": "markdown",
   "id": "fa0034f9",
   "metadata": {},
   "source": [
    "# EXPLORATORY DATA ANALYSIS (EDA)"
   ]
  },
  {
   "cell_type": "code",
   "execution_count": 140,
   "id": "81ba06b9",
   "metadata": {},
   "outputs": [
    {
     "data": {
      "image/png": "[encoded data removed]",
      "text/plain": [
       "<Figure size 1080x648 with 1 Axes>"
      ]
     },
     "metadata": {
      "needs_background": "light"
     },
     "output_type": "display_data"
    }
   ],
   "source": [
    "plt.figure(figsize=(15,9))\n",
    "df_good = df.sort_values(by=\"Price\",ascending=False)\n",
    "sns.barplot(x=\"Brand Name\",y=\"Price\",data=df_good)\n",
    "plt.show()"
   ]
  },
  {
   "cell_type": "code",
   "execution_count": 141,
   "id": "6321dd6a",
   "metadata": {},
   "outputs": [
    {
     "data": {
      "image/png": "[encoded data removed]",
      "text/plain": [
       "<Figure size 936x504 with 1 Axes>"
      ]
     },
     "metadata": {
      "needs_background": "light"
     },
     "output_type": "display_data"
    }
   ],
   "source": [
    "plt.figure(figsize=(13,7))\n",
    "df_good = df.sort_values(by=\"Price\",ascending=False).iloc[0:30]\n",
    "sns.barplot(x=\"Car model\",y=\"Price\",data=df_good)\n",
    "plt.show()"
   ]
  },
  {
   "cell_type": "code",
   "execution_count": 142,
   "id": "fb5b448a",
   "metadata": {},
   "outputs": [
    {
     "data": {
      "image/png": "[encoded data removed]",
      "text/plain": [
       "<Figure size 1080x432 with 1 Axes>"
      ]
     },
     "metadata": {
      "needs_background": "light"
     },
     "output_type": "display_data"
    }
   ],
   "source": [
    "plt.figure(figsize=(15,6))\n",
    "df_good = df.sort_values(by=\"Price\",ascending=False).iloc[0:10]\n",
    "sns.barplot(x=\"Car variant\",y=\"Price\",data=df_good)\n",
    "plt.show()"
   ]
  },
  {
   "cell_type": "code",
   "execution_count": 143,
   "id": "7b57f2b4",
   "metadata": {},
   "outputs": [
    {
     "data": {
      "image/png": "[encoded data removed]",
      "text/plain": [
       "<Figure size 1080x432 with 1 Axes>"
      ]
     },
     "metadata": {
      "needs_background": "light"
     },
     "output_type": "display_data"
    }
   ],
   "source": [
    "plt.figure(figsize=(15,6))\n",
    "df_good = df.sort_values(by=\"Price\",ascending=False).iloc[0:10]\n",
    "sns.barplot(x=\"Running kilometers\",y=\"Price\",data=df_good)\n",
    "plt.show()"
   ]
  },
  {
   "cell_type": "code",
   "execution_count": 144,
   "id": "c9ec2133",
   "metadata": {},
   "outputs": [
    {
     "data": {
      "image/png": "[encoded data removed]",
      "text/plain": [
       "<Figure size 720x360 with 1 Axes>"
      ]
     },
     "metadata": {
      "needs_background": "light"
     },
     "output_type": "display_data"
    }
   ],
   "source": [
    "plt.figure(figsize=(10,5))\n",
    "df_good = df.sort_values(by=\"Price\",ascending=False)\n",
    "sns.barplot(x=\"Number of owners\",y=\"Price\",data=df_good)\n",
    "plt.show()"
   ]
  },
  {
   "cell_type": "code",
   "execution_count": 145,
   "id": "d577f6b3",
   "metadata": {},
   "outputs": [
    {
     "data": {
      "image/png": "[encoded data removed]",
      "text/plain": [
       "<Figure size 720x360 with 1 Axes>"
      ]
     },
     "metadata": {
      "needs_background": "light"
     },
     "output_type": "display_data"
    }
   ],
   "source": [
    "plt.figure(figsize=(10,5))\n",
    "df_good = df.sort_values(by=\"Price\",ascending=False)\n",
    "sns.barplot(x=\"fuel System\",y=\"Price\",data=df_good)\n",
    "plt.show()"
   ]
  },
  {
   "cell_type": "code",
   "execution_count": 146,
   "id": "d17314d5",
   "metadata": {},
   "outputs": [
    {
     "data": {
      "image/png": "[encoded data removed]",
      "text/plain": [
       "<Figure size 648x576 with 1 Axes>"
      ]
     },
     "metadata": {
      "needs_background": "light"
     },
     "output_type": "display_data"
    }
   ],
   "source": [
    "plt.figure(figsize=(9,8))\n",
    "df_good = df.sort_values(by=\"Price\",ascending=False)\n",
    "sns.barplot(x=\"manufacturing year\",y=\"Price\",data=df_good)\n",
    "plt.show()"
   ]
  },
  {
   "cell_type": "markdown",
   "id": "d7143a3d",
   "metadata": {},
   "source": [
    "# Change index name"
   ]
  },
  {
   "cell_type": "code",
   "execution_count": 147,
   "id": "2e72ff8e",
   "metadata": {},
   "outputs": [],
   "source": [
    "df.rename(columns={'Brand Name': 'Brand_Name', 'Car model': 'Car_model', 'Car variant': 'Car_variant', 'Running kilometers': 'Running_kilometers', 'Number of owners': 'Number_of_owners', 'fuel System': 'fuel_System', 'manufacturing year': 'manufacturing_year'},inplace=True)"
   ]
  },
  {
   "cell_type": "code",
   "execution_count": 148,
   "id": "a8b170d8",
   "metadata": {},
   "outputs": [
    {
     "data": {
      "text/html": [
       "<div>\n",
       "<style scoped>\n",
       "    .dataframe tbody tr th:only-of-type {\n",
       "        vertical-align: middle;\n",
       "    }\n",
       "\n",
       "    .dataframe tbody tr th {\n",
       "        vertical-align: top;\n",
       "    }\n",
       "\n",
       "    .dataframe thead th {\n",
       "        text-align: right;\n",
       "    }\n",
       "</style>\n",
       "<table border=\"1\" class=\"dataframe\">\n",
       "  <thead>\n",
       "    <tr style=\"text-align: right;\">\n",
       "      <th></th>\n",
       "      <th>Brand_Name</th>\n",
       "      <th>Car_model</th>\n",
       "      <th>Car_variant</th>\n",
       "      <th>Running_kilometers</th>\n",
       "      <th>Number_of_owners</th>\n",
       "      <th>fuel_System</th>\n",
       "      <th>manufacturing_year</th>\n",
       "      <th>Price</th>\n",
       "    </tr>\n",
       "  </thead>\n",
       "  <tbody>\n",
       "    <tr>\n",
       "      <th>0</th>\n",
       "      <td>KIA</td>\n",
       "      <td>['SELTOS']</td>\n",
       "      <td>GTX+ 1.4 MT Manual</td>\n",
       "      <td>5,999 km</td>\n",
       "      <td>1st Owner</td>\n",
       "      <td>Petrol</td>\n",
       "      <td>2020</td>\n",
       "      <td>1722000</td>\n",
       "    </tr>\n",
       "    <tr>\n",
       "      <th>1</th>\n",
       "      <td>Maruti</td>\n",
       "      <td>['Alto', 'K10']</td>\n",
       "      <td>LXI Manual</td>\n",
       "      <td>32,278 km</td>\n",
       "      <td>2nd Owner</td>\n",
       "      <td>Petrol</td>\n",
       "      <td>2017</td>\n",
       "      <td>259000</td>\n",
       "    </tr>\n",
       "    <tr>\n",
       "      <th>2</th>\n",
       "      <td>KIA</td>\n",
       "      <td>['SELTOS']</td>\n",
       "      <td>GTX + AT PETROL Automatic</td>\n",
       "      <td>9,417 km</td>\n",
       "      <td>1st Owner</td>\n",
       "      <td>Petrol</td>\n",
       "      <td>2020</td>\n",
       "      <td>1681000</td>\n",
       "    </tr>\n",
       "    <tr>\n",
       "      <th>3</th>\n",
       "      <td>Hyundai</td>\n",
       "      <td>['Grand', 'i10']</td>\n",
       "      <td>MAGNA 1.2 KAPPA VTVT Manual</td>\n",
       "      <td>19,964 km</td>\n",
       "      <td>1st Owner</td>\n",
       "      <td>Petrol</td>\n",
       "      <td>2019</td>\n",
       "      <td>503000</td>\n",
       "    </tr>\n",
       "    <tr>\n",
       "      <th>4</th>\n",
       "      <td>Maruti</td>\n",
       "      <td>['Alto']</td>\n",
       "      <td>LXI Manual</td>\n",
       "      <td>12,030 km</td>\n",
       "      <td>2nd Owner</td>\n",
       "      <td>Petrol</td>\n",
       "      <td>2011</td>\n",
       "      <td>174000</td>\n",
       "    </tr>\n",
       "  </tbody>\n",
       "</table>\n",
       "</div>"
      ],
      "text/plain": [
       "  Brand_Name         Car_model                  Car_variant  \\\n",
       "0        KIA        ['SELTOS']           GTX+ 1.4 MT Manual   \n",
       "1     Maruti   ['Alto', 'K10']                   LXI Manual   \n",
       "2        KIA        ['SELTOS']    GTX + AT PETROL Automatic   \n",
       "3    Hyundai  ['Grand', 'i10']  MAGNA 1.2 KAPPA VTVT Manual   \n",
       "4     Maruti          ['Alto']                   LXI Manual   \n",
       "\n",
       "  Running_kilometers Number_of_owners fuel_System  manufacturing_year    Price  \n",
       "0           5,999 km        1st Owner      Petrol                2020  1722000  \n",
       "1          32,278 km        2nd Owner      Petrol                2017   259000  \n",
       "2           9,417 km        1st Owner      Petrol                2020  1681000  \n",
       "3          19,964 km        1st Owner      Petrol                2019   503000  \n",
       "4          12,030 km        2nd Owner      Petrol                2011   174000  "
      ]
     },
     "execution_count": 148,
     "metadata": {},
     "output_type": "execute_result"
    }
   ],
   "source": [
    "df.head()"
   ]
  },
  {
   "cell_type": "code",
   "execution_count": 149,
   "id": "ef7a4438",
   "metadata": {},
   "outputs": [],
   "source": [
    "# Find top 10 car brand\n",
    "val=df.Brand_Name.value_counts().values\n",
    "label = df.Brand_Name.value_counts().index"
   ]
  },
  {
   "cell_type": "code",
   "execution_count": 150,
   "id": "578ae140",
   "metadata": {},
   "outputs": [
    {
     "data": {
      "image/png": "[encoded data removed]",
      "text/plain": [
       "<Figure size 576x504 with 1 Axes>"
      ]
     },
     "metadata": {},
     "output_type": "display_data"
    }
   ],
   "source": [
    "plt.figure(figsize=(8,7))\n",
    "plt.pie(val[:10],labels=label[:10],autopct='%1.2f%%')\n",
    "plt.show()"
   ]
  },
  {
   "cell_type": "code",
   "execution_count": 151,
   "id": "f554e449",
   "metadata": {},
   "outputs": [],
   "source": [
    "# Find top 10 car model\n",
    "val=df.Car_model.value_counts().values\n",
    "label = df.Car_model.value_counts().index"
   ]
  },
  {
   "cell_type": "code",
   "execution_count": 152,
   "id": "e6724356",
   "metadata": {},
   "outputs": [
    {
     "data": {
      "image/png": "[encoded data removed]",
      "text/plain": [
       "<Figure size 576x504 with 1 Axes>"
      ]
     },
     "metadata": {},
     "output_type": "display_data"
    }
   ],
   "source": [
    "plt.figure(figsize=(8,7))\n",
    "plt.pie(val[:10],labels=label[:10],autopct='%1.2f%%')\n",
    "plt.show()"
   ]
  },
  {
   "cell_type": "markdown",
   "id": "f8843583",
   "metadata": {},
   "source": [
    "# Encoding:"
   ]
  },
  {
   "cell_type": "code",
   "execution_count": 153,
   "id": "83adee24",
   "metadata": {},
   "outputs": [],
   "source": [
    "from sklearn.preprocessing import LabelEncoder"
   ]
  },
  {
   "cell_type": "code",
   "execution_count": 154,
   "id": "b3a679e7",
   "metadata": {},
   "outputs": [],
   "source": [
    "lab_enc=LabelEncoder()"
   ]
  },
  {
   "cell_type": "code",
   "execution_count": 155,
   "id": "ddae7e2b",
   "metadata": {},
   "outputs": [
    {
     "data": {
      "text/html": [
       "<div>\n",
       "<style scoped>\n",
       "    .dataframe tbody tr th:only-of-type {\n",
       "        vertical-align: middle;\n",
       "    }\n",
       "\n",
       "    .dataframe tbody tr th {\n",
       "        vertical-align: top;\n",
       "    }\n",
       "\n",
       "    .dataframe thead th {\n",
       "        text-align: right;\n",
       "    }\n",
       "</style>\n",
       "<table border=\"1\" class=\"dataframe\">\n",
       "  <thead>\n",
       "    <tr style=\"text-align: right;\">\n",
       "      <th></th>\n",
       "      <th>Brand_Name</th>\n",
       "      <th>Car_model</th>\n",
       "      <th>Car_variant</th>\n",
       "      <th>Running_kilometers</th>\n",
       "      <th>Number_of_owners</th>\n",
       "      <th>fuel_System</th>\n",
       "      <th>manufacturing_year</th>\n",
       "      <th>Price</th>\n",
       "    </tr>\n",
       "  </thead>\n",
       "  <tbody>\n",
       "    <tr>\n",
       "      <th>0</th>\n",
       "      <td>7</td>\n",
       "      <td>80</td>\n",
       "      <td>305</td>\n",
       "      <td>1892</td>\n",
       "      <td>0</td>\n",
       "      <td>3</td>\n",
       "      <td>11</td>\n",
       "      <td>1057</td>\n",
       "    </tr>\n",
       "    <tr>\n",
       "      <th>1</th>\n",
       "      <td>11</td>\n",
       "      <td>7</td>\n",
       "      <td>365</td>\n",
       "      <td>1126</td>\n",
       "      <td>1</td>\n",
       "      <td>3</td>\n",
       "      <td>8</td>\n",
       "      <td>44</td>\n",
       "    </tr>\n",
       "    <tr>\n",
       "      <th>2</th>\n",
       "      <td>7</td>\n",
       "      <td>80</td>\n",
       "      <td>296</td>\n",
       "      <td>2960</td>\n",
       "      <td>0</td>\n",
       "      <td>3</td>\n",
       "      <td>11</td>\n",
       "      <td>1048</td>\n",
       "    </tr>\n",
       "    <tr>\n",
       "      <th>3</th>\n",
       "      <td>5</td>\n",
       "      <td>47</td>\n",
       "      <td>379</td>\n",
       "      <td>488</td>\n",
       "      <td>0</td>\n",
       "      <td>3</td>\n",
       "      <td>10</td>\n",
       "      <td>296</td>\n",
       "    </tr>\n",
       "    <tr>\n",
       "      <th>4</th>\n",
       "      <td>11</td>\n",
       "      <td>8</td>\n",
       "      <td>365</td>\n",
       "      <td>112</td>\n",
       "      <td>1</td>\n",
       "      <td>3</td>\n",
       "      <td>2</td>\n",
       "      <td>4</td>\n",
       "    </tr>\n",
       "  </tbody>\n",
       "</table>\n",
       "</div>"
      ],
      "text/plain": [
       "   Brand_Name  Car_model  Car_variant  Running_kilometers  Number_of_owners  \\\n",
       "0           7         80          305                1892                 0   \n",
       "1          11          7          365                1126                 1   \n",
       "2           7         80          296                2960                 0   \n",
       "3           5         47          379                 488                 0   \n",
       "4          11          8          365                 112                 1   \n",
       "\n",
       "   fuel_System  manufacturing_year  Price  \n",
       "0            3                  11   1057  \n",
       "1            3                   8     44  \n",
       "2            3                  11   1048  \n",
       "3            3                  10    296  \n",
       "4            3                   2      4  "
      ]
     },
     "execution_count": 155,
     "metadata": {},
     "output_type": "execute_result"
    }
   ],
   "source": [
    "df1 = df.copy()\n",
    "df1 = df1.apply(LabelEncoder().fit_transform)\n",
    "df1.head()"
   ]
  },
  {
   "cell_type": "markdown",
   "id": "6267b0e2",
   "metadata": {},
   "source": [
    "# Checking Outliers"
   ]
  },
  {
   "cell_type": "code",
   "execution_count": 156,
   "id": "b8395cf8",
   "metadata": {},
   "outputs": [
    {
     "data": {
      "image/png": "[encoded data removed]",
      "text/plain": [
       "<Figure size 1440x1800 with 8 Axes>"
      ]
     },
     "metadata": {},
     "output_type": "display_data"
    }
   ],
   "source": [
    "numerical_col=['Brand_Name','Car_model','Car_variant','Running_kilometers','Number_of_owners','fuel_System','manufacturing_year','Price']\n",
    "plt.figure(figsize=(20,25), facecolor='white')\n",
    "plotnumber = 1\n",
    "\n",
    "for column in numerical_col:\n",
    "    if plotnumber<=8:\n",
    "        ax = plt.subplot(4,2,plotnumber)\n",
    "        sns.boxplot(df1[column],color='y')\n",
    "        plt.xlabel(column,fontsize=20)\n",
    "    plotnumber+=1\n",
    "plt.show()"
   ]
  },
  {
   "cell_type": "raw",
   "id": "3305f718",
   "metadata": {},
   "source": [
    "* Some feature are having outliers but those are categorical features."
   ]
  },
  {
   "cell_type": "markdown",
   "id": "efeadd42",
   "metadata": {},
   "source": [
    "# Checking and removing Skewness:"
   ]
  },
  {
   "cell_type": "code",
   "execution_count": 157,
   "id": "395cc6c2",
   "metadata": {},
   "outputs": [
    {
     "data": {
      "image/png": "[encoded data removed]",
      "text/plain": [
       "<Figure size 1440x1800 with 8 Axes>"
      ]
     },
     "metadata": {},
     "output_type": "display_data"
    }
   ],
   "source": [
    "numerical_col=['Brand_Name','Car_model','Car_variant','Running_kilometers','Number_of_owners','fuel_System','manufacturing_year','Price']\n",
    "plt.figure(figsize=(20,25), facecolor='white')\n",
    "plotnumber = 1\n",
    "\n",
    "for column in numerical_col:\n",
    "    if plotnumber<=8:\n",
    "        ax = plt.subplot(4,2,plotnumber)\n",
    "        sns.distplot(df1[column],color='r')\n",
    "        plt.xlabel(column,fontsize=20)\n",
    "    plotnumber+=1\n",
    "plt.show()"
   ]
  },
  {
   "cell_type": "markdown",
   "id": "eeaa5dd3",
   "metadata": {},
   "source": [
    "# Correlation using HEAT map:"
   ]
  },
  {
   "cell_type": "code",
   "execution_count": 158,
   "id": "beb4ffa5",
   "metadata": {},
   "outputs": [
    {
     "data": {
      "text/html": [
       "<div>\n",
       "<style scoped>\n",
       "    .dataframe tbody tr th:only-of-type {\n",
       "        vertical-align: middle;\n",
       "    }\n",
       "\n",
       "    .dataframe tbody tr th {\n",
       "        vertical-align: top;\n",
       "    }\n",
       "\n",
       "    .dataframe thead th {\n",
       "        text-align: right;\n",
       "    }\n",
       "</style>\n",
       "<table border=\"1\" class=\"dataframe\">\n",
       "  <thead>\n",
       "    <tr style=\"text-align: right;\">\n",
       "      <th></th>\n",
       "      <th>Brand_Name</th>\n",
       "      <th>Car_model</th>\n",
       "      <th>Car_variant</th>\n",
       "      <th>Running_kilometers</th>\n",
       "      <th>Number_of_owners</th>\n",
       "      <th>fuel_System</th>\n",
       "      <th>manufacturing_year</th>\n",
       "      <th>Price</th>\n",
       "    </tr>\n",
       "  </thead>\n",
       "  <tbody>\n",
       "    <tr>\n",
       "      <th>Brand_Name</th>\n",
       "      <td>1.000000</td>\n",
       "      <td>0.106175</td>\n",
       "      <td>0.346606</td>\n",
       "      <td>-0.046180</td>\n",
       "      <td>-0.070661</td>\n",
       "      <td>-0.073750</td>\n",
       "      <td>0.187023</td>\n",
       "      <td>0.023357</td>\n",
       "    </tr>\n",
       "    <tr>\n",
       "      <th>Car_model</th>\n",
       "      <td>0.106175</td>\n",
       "      <td>1.000000</td>\n",
       "      <td>0.100085</td>\n",
       "      <td>0.033821</td>\n",
       "      <td>0.022206</td>\n",
       "      <td>-0.128968</td>\n",
       "      <td>-0.017095</td>\n",
       "      <td>0.064362</td>\n",
       "    </tr>\n",
       "    <tr>\n",
       "      <th>Car_variant</th>\n",
       "      <td>0.346606</td>\n",
       "      <td>0.100085</td>\n",
       "      <td>1.000000</td>\n",
       "      <td>-0.005185</td>\n",
       "      <td>-0.030502</td>\n",
       "      <td>0.003665</td>\n",
       "      <td>-0.007186</td>\n",
       "      <td>-0.050945</td>\n",
       "    </tr>\n",
       "    <tr>\n",
       "      <th>Running_kilometers</th>\n",
       "      <td>-0.046180</td>\n",
       "      <td>0.033821</td>\n",
       "      <td>-0.005185</td>\n",
       "      <td>1.000000</td>\n",
       "      <td>0.071287</td>\n",
       "      <td>-0.160023</td>\n",
       "      <td>-0.348569</td>\n",
       "      <td>-0.171950</td>\n",
       "    </tr>\n",
       "    <tr>\n",
       "      <th>Number_of_owners</th>\n",
       "      <td>-0.070661</td>\n",
       "      <td>0.022206</td>\n",
       "      <td>-0.030502</td>\n",
       "      <td>0.071287</td>\n",
       "      <td>1.000000</td>\n",
       "      <td>0.047103</td>\n",
       "      <td>-0.207799</td>\n",
       "      <td>-0.113367</td>\n",
       "    </tr>\n",
       "    <tr>\n",
       "      <th>fuel_System</th>\n",
       "      <td>-0.073750</td>\n",
       "      <td>-0.128968</td>\n",
       "      <td>0.003665</td>\n",
       "      <td>-0.160023</td>\n",
       "      <td>0.047103</td>\n",
       "      <td>1.000000</td>\n",
       "      <td>-0.190241</td>\n",
       "      <td>-0.113269</td>\n",
       "    </tr>\n",
       "    <tr>\n",
       "      <th>manufacturing_year</th>\n",
       "      <td>0.187023</td>\n",
       "      <td>-0.017095</td>\n",
       "      <td>-0.007186</td>\n",
       "      <td>-0.348569</td>\n",
       "      <td>-0.207799</td>\n",
       "      <td>-0.190241</td>\n",
       "      <td>1.000000</td>\n",
       "      <td>0.553882</td>\n",
       "    </tr>\n",
       "    <tr>\n",
       "      <th>Price</th>\n",
       "      <td>0.023357</td>\n",
       "      <td>0.064362</td>\n",
       "      <td>-0.050945</td>\n",
       "      <td>-0.171950</td>\n",
       "      <td>-0.113367</td>\n",
       "      <td>-0.113269</td>\n",
       "      <td>0.553882</td>\n",
       "      <td>1.000000</td>\n",
       "    </tr>\n",
       "  </tbody>\n",
       "</table>\n",
       "</div>"
      ],
      "text/plain": [
       "                    Brand_Name  Car_model  Car_variant  Running_kilometers  \\\n",
       "Brand_Name            1.000000   0.106175     0.346606           -0.046180   \n",
       "Car_model             0.106175   1.000000     0.100085            0.033821   \n",
       "Car_variant           0.346606   0.100085     1.000000           -0.005185   \n",
       "Running_kilometers   -0.046180   0.033821    -0.005185            1.000000   \n",
       "Number_of_owners     -0.070661   0.022206    -0.030502            0.071287   \n",
       "fuel_System          -0.073750  -0.128968     0.003665           -0.160023   \n",
       "manufacturing_year    0.187023  -0.017095    -0.007186           -0.348569   \n",
       "Price                 0.023357   0.064362    -0.050945           -0.171950   \n",
       "\n",
       "                    Number_of_owners  fuel_System  manufacturing_year  \\\n",
       "Brand_Name                 -0.070661    -0.073750            0.187023   \n",
       "Car_model                   0.022206    -0.128968           -0.017095   \n",
       "Car_variant                -0.030502     0.003665           -0.007186   \n",
       "Running_kilometers          0.071287    -0.160023           -0.348569   \n",
       "Number_of_owners            1.000000     0.047103           -0.207799   \n",
       "fuel_System                 0.047103     1.000000           -0.190241   \n",
       "manufacturing_year         -0.207799    -0.190241            1.000000   \n",
       "Price                      -0.113367    -0.113269            0.553882   \n",
       "\n",
       "                       Price  \n",
       "Brand_Name          0.023357  \n",
       "Car_model           0.064362  \n",
       "Car_variant        -0.050945  \n",
       "Running_kilometers -0.171950  \n",
       "Number_of_owners   -0.113367  \n",
       "fuel_System        -0.113269  \n",
       "manufacturing_year  0.553882  \n",
       "Price               1.000000  "
      ]
     },
     "execution_count": 158,
     "metadata": {},
     "output_type": "execute_result"
    }
   ],
   "source": [
    "# Checking the correlation between features and the target\n",
    "cor = df1.corr()\n",
    "cor"
   ]
  },
  {
   "cell_type": "code",
   "execution_count": 159,
   "id": "5e23be88",
   "metadata": {},
   "outputs": [
    {
     "data": {
      "text/plain": [
       "(array([0.5, 1.5, 2.5, 3.5, 4.5, 5.5, 6.5, 7.5]),\n",
       " [Text(0, 0.5, 'Brand_Name'),\n",
       "  Text(0, 1.5, 'Car_model'),\n",
       "  Text(0, 2.5, 'Car_variant'),\n",
       "  Text(0, 3.5, 'Running_kilometers'),\n",
       "  Text(0, 4.5, 'Number_of_owners'),\n",
       "  Text(0, 5.5, 'fuel_System'),\n",
       "  Text(0, 6.5, 'manufacturing_year'),\n",
       "  Text(0, 7.5, 'Price')])"
      ]
     },
     "execution_count": 159,
     "metadata": {},
     "output_type": "execute_result"
    },
    {
     "data": {
      "image/png": "[encoded data removed]",
      "text/plain": [
       "<Figure size 1152x648 with 2 Axes>"
      ]
     },
     "metadata": {
      "needs_background": "light"
     },
     "output_type": "display_data"
    }
   ],
   "source": [
    "# Visualizing the correlation matrix by plotting heat map.\n",
    "plt.figure(figsize=(16,9))\n",
    "sns.heatmap(df1.corr(),linewidths=.1,fmt='0.3f', annot = True)\n",
    "plt.yticks(rotation=0)"
   ]
  },
  {
   "cell_type": "code",
   "execution_count": 160,
   "id": "b5635deb",
   "metadata": {},
   "outputs": [
    {
     "data": {
      "text/plain": [
       "Price                 1.000000\n",
       "manufacturing_year    0.553882\n",
       "Car_model             0.064362\n",
       "Brand_Name            0.023357\n",
       "Car_variant          -0.050945\n",
       "fuel_System          -0.113269\n",
       "Number_of_owners     -0.113367\n",
       "Running_kilometers   -0.171950\n",
       "Name: Price, dtype: float64"
      ]
     },
     "execution_count": 160,
     "metadata": {},
     "output_type": "execute_result"
    }
   ],
   "source": [
    "cor['Price'].sort_values(ascending=False)"
   ]
  },
  {
   "cell_type": "markdown",
   "id": "81c8c92a",
   "metadata": {},
   "source": [
    "# Visualizing the correlation between label and features using bar plot"
   ]
  },
  {
   "cell_type": "code",
   "execution_count": 161,
   "id": "64475165",
   "metadata": {},
   "outputs": [
    {
     "data": {
      "image/png": "[encoded data removed]",
      "text/plain": [
       "<Figure size 1296x504 with 1 Axes>"
      ]
     },
     "metadata": {
      "needs_background": "light"
     },
     "output_type": "display_data"
    }
   ],
   "source": [
    "plt.figure(figsize=(18,7))\n",
    "df1.corr()['Price'].sort_values(ascending=False).drop(['Price']).plot(kind='bar',color='c')\n",
    "plt.xlabel('Feature',fontsize=14)\n",
    "plt.ylabel('target',fontsize=14)\n",
    "plt.title('correlation between lanel and feature using bar plot',fontsize=18)\n",
    "plt.show()"
   ]
  },
  {
   "cell_type": "markdown",
   "id": "d9b4fad2",
   "metadata": {},
   "source": [
    "# Dividing data in feature and Label"
   ]
  },
  {
   "cell_type": "code",
   "execution_count": 162,
   "id": "3c51b7cf",
   "metadata": {},
   "outputs": [],
   "source": [
    "x=df1.drop(columns='Price')#Feature\n",
    "y=df1.Price#Target"
   ]
  },
  {
   "cell_type": "code",
   "execution_count": 163,
   "id": "0a822b58",
   "metadata": {},
   "outputs": [
    {
     "data": {
      "text/plain": [
       "array([[-0.54439438,  0.7381326 , -0.4286269 , ..., -0.49112569,\n",
       "         0.57673248,  0.87800473],\n",
       "       [ 0.40467659, -1.42144334, -0.15498104, ...,  1.94206115,\n",
       "         0.57673248, -0.21959852],\n",
       "       [-0.54439438,  0.7381326 , -0.46967377, ..., -0.49112569,\n",
       "         0.57673248,  0.87800473],\n",
       "       ...,\n",
       "       [-1.01892986, -0.62269608, -0.8482172 , ..., -0.49112569,\n",
       "        -2.11872295, -0.21959852],\n",
       "       [ 0.40467659, -1.42144334,  0.94416312, ..., -0.49112569,\n",
       "        -2.11872295, -0.95133402],\n",
       "       [-1.01892986,  1.3889637 , -0.56544982, ..., -0.49112569,\n",
       "         0.57673248, -2.41480502]])"
      ]
     },
     "execution_count": 163,
     "metadata": {},
     "output_type": "execute_result"
    }
   ],
   "source": [
    "#Lets import standardscaler\n",
    "from sklearn.preprocessing import StandardScaler\n",
    "scaler=StandardScaler()\n",
    "x_scaled=scaler.fit_transform(x)\n",
    "x_scaled"
   ]
  },
  {
   "cell_type": "markdown",
   "id": "0a8c5ece",
   "metadata": {},
   "source": [
    "# Now use VIF for checking multicollinearity problem"
   ]
  },
  {
   "cell_type": "raw",
   "id": "1d30a41c",
   "metadata": {},
   "source": [
    "VIF - > Variance Inflation Factor"
   ]
  },
  {
   "cell_type": "code",
   "execution_count": 164,
   "id": "31980759",
   "metadata": {},
   "outputs": [],
   "source": [
    "#Lets import VIF\n",
    "from statsmodels.stats.outliers_influence import variance_inflation_factor\n",
    "\n",
    "vif=pd.DataFrame()\n",
    "vif['vif']=[variance_inflation_factor(x_scaled,i)for i in range(x_scaled.shape[1])]\n",
    "vif['feature']=x.columns"
   ]
  },
  {
   "cell_type": "code",
   "execution_count": 165,
   "id": "65ba9f84",
   "metadata": {},
   "outputs": [
    {
     "data": {
      "text/html": [
       "<div>\n",
       "<style scoped>\n",
       "    .dataframe tbody tr th:only-of-type {\n",
       "        vertical-align: middle;\n",
       "    }\n",
       "\n",
       "    .dataframe tbody tr th {\n",
       "        vertical-align: top;\n",
       "    }\n",
       "\n",
       "    .dataframe thead th {\n",
       "        text-align: right;\n",
       "    }\n",
       "</style>\n",
       "<table border=\"1\" class=\"dataframe\">\n",
       "  <thead>\n",
       "    <tr style=\"text-align: right;\">\n",
       "      <th></th>\n",
       "      <th>vif</th>\n",
       "      <th>feature</th>\n",
       "    </tr>\n",
       "  </thead>\n",
       "  <tbody>\n",
       "    <tr>\n",
       "      <th>0</th>\n",
       "      <td>1.195121</td>\n",
       "      <td>Brand_Name</td>\n",
       "    </tr>\n",
       "    <tr>\n",
       "      <th>1</th>\n",
       "      <td>1.036081</td>\n",
       "      <td>Car_model</td>\n",
       "    </tr>\n",
       "    <tr>\n",
       "      <th>2</th>\n",
       "      <td>1.150046</td>\n",
       "      <td>Car_variant</td>\n",
       "    </tr>\n",
       "    <tr>\n",
       "      <th>3</th>\n",
       "      <td>1.211978</td>\n",
       "      <td>Running_kilometers</td>\n",
       "    </tr>\n",
       "    <tr>\n",
       "      <th>4</th>\n",
       "      <td>1.047540</td>\n",
       "      <td>Number_of_owners</td>\n",
       "    </tr>\n",
       "    <tr>\n",
       "      <th>5</th>\n",
       "      <td>1.124996</td>\n",
       "      <td>fuel_System</td>\n",
       "    </tr>\n",
       "    <tr>\n",
       "      <th>6</th>\n",
       "      <td>1.312540</td>\n",
       "      <td>manufacturing_year</td>\n",
       "    </tr>\n",
       "  </tbody>\n",
       "</table>\n",
       "</div>"
      ],
      "text/plain": [
       "        vif             feature\n",
       "0  1.195121          Brand_Name\n",
       "1  1.036081           Car_model\n",
       "2  1.150046         Car_variant\n",
       "3  1.211978  Running_kilometers\n",
       "4  1.047540    Number_of_owners\n",
       "5  1.124996         fuel_System\n",
       "6  1.312540  manufacturing_year"
      ]
     },
     "execution_count": 165,
     "metadata": {},
     "output_type": "execute_result"
    }
   ],
   "source": [
    "vif"
   ]
  },
  {
   "cell_type": "markdown",
   "id": "4ead8b4f",
   "metadata": {},
   "source": [
    "# TRAIN TEST SPLIT"
   ]
  },
  {
   "cell_type": "code",
   "execution_count": 166,
   "id": "e7162c54",
   "metadata": {},
   "outputs": [],
   "source": [
    "from sklearn.model_selection import train_test_split"
   ]
  },
  {
   "cell_type": "markdown",
   "id": "e68a9de4",
   "metadata": {},
   "source": [
    "# Logistic Regression"
   ]
  },
  {
   "cell_type": "code",
   "execution_count": 167,
   "id": "50335522",
   "metadata": {},
   "outputs": [],
   "source": [
    "#Import Linear Regression\n",
    "from sklearn.linear_model import LinearRegression\n",
    "lr=LinearRegression()\n",
    "#Import R2_score\n",
    "from sklearn.metrics import r2_score,mean_squared_error"
   ]
  },
  {
   "cell_type": "code",
   "execution_count": 168,
   "id": "12f9a190",
   "metadata": {},
   "outputs": [
    {
     "name": "stdout",
     "output_type": "stream",
     "text": [
      " At random state 0 , the Training accuracy is :- 0.321724577343541\n",
      " At random state 0 , the testing accuracy is :- 0.3186123211787597\n",
      "\n",
      "\n",
      " At random state 1 , the Training accuracy is :- 0.3262139244108545\n",
      " At random state 1 , the testing accuracy is :- 0.3006598281231222\n",
      "\n",
      "\n",
      " At random state 2 , the Training accuracy is :- 0.3182403927590234\n",
      " At random state 2 , the testing accuracy is :- 0.334194159402301\n",
      "\n",
      "\n",
      " At random state 3 , the Training accuracy is :- 0.3230869865387498\n",
      " At random state 3 , the testing accuracy is :- 0.3132355026423317\n",
      "\n",
      "\n",
      " At random state 4 , the Training accuracy is :- 0.3260602662530355\n",
      " At random state 4 , the testing accuracy is :- 0.30295906762900493\n",
      "\n",
      "\n",
      " At random state 5 , the Training accuracy is :- 0.3208146097468978\n",
      " At random state 5 , the testing accuracy is :- 0.3218440374857905\n",
      "\n",
      "\n",
      " At random state 6 , the Training accuracy is :- 0.3283272210620808\n",
      " At random state 6 , the testing accuracy is :- 0.2944967777557168\n",
      "\n",
      "\n",
      " At random state 7 , the Training accuracy is :- 0.31849805296971945\n",
      " At random state 7 , the testing accuracy is :- 0.32922031610026103\n",
      "\n",
      "\n",
      " At random state 8 , the Training accuracy is :- 0.3290299802710248\n",
      " At random state 8 , the testing accuracy is :- 0.28927933565973596\n",
      "\n",
      "\n",
      " At random state 9 , the Training accuracy is :- 0.32733767777828093\n",
      " At random state 9 , the testing accuracy is :- 0.2985518662620572\n",
      "\n",
      "\n",
      " At random state 10 , the Training accuracy is :- 0.3266565124429902\n",
      " At random state 10 , the testing accuracy is :- 0.2997822062190544\n",
      "\n",
      "\n",
      " At random state 11 , the Training accuracy is :- 0.3104135297831585\n",
      " At random state 11 , the testing accuracy is :- 0.3593986474011026\n",
      "\n",
      "\n",
      " At random state 12 , the Training accuracy is :- 0.3255324565289821\n",
      " At random state 12 , the testing accuracy is :- 0.3053462161315329\n",
      "\n",
      "\n",
      " At random state 13 , the Training accuracy is :- 0.32258948104923924\n",
      " At random state 13 , the testing accuracy is :- 0.31593885575281777\n",
      "\n",
      "\n",
      " At random state 14 , the Training accuracy is :- 0.33160319044586084\n",
      " At random state 14 , the testing accuracy is :- 0.2799028628248337\n",
      "\n",
      "\n",
      " At random state 15 , the Training accuracy is :- 0.3272592608413829\n",
      " At random state 15 , the testing accuracy is :- 0.2956730333608326\n",
      "\n",
      "\n",
      " At random state 16 , the Training accuracy is :- 0.32158765914114174\n",
      " At random state 16 , the testing accuracy is :- 0.32008552158296455\n",
      "\n",
      "\n",
      " At random state 17 , the Training accuracy is :- 0.3162743159445902\n",
      " At random state 17 , the testing accuracy is :- 0.339165550301576\n",
      "\n",
      "\n",
      " At random state 18 , the Training accuracy is :- 0.3177803882221021\n",
      " At random state 18 , the testing accuracy is :- 0.33467392721418354\n",
      "\n",
      "\n",
      " At random state 19 , the Training accuracy is :- 0.31928315538571184\n",
      " At random state 19 , the testing accuracy is :- 0.3278400300642096\n",
      "\n",
      "\n",
      " At random state 20 , the Training accuracy is :- 0.31422228982952827\n",
      " At random state 20 , the testing accuracy is :- 0.34655792665400476\n",
      "\n",
      "\n",
      " At random state 21 , the Training accuracy is :- 0.32264055918446033\n",
      " At random state 21 , the testing accuracy is :- 0.3159774498632245\n",
      "\n",
      "\n",
      " At random state 22 , the Training accuracy is :- 0.32140474063544\n",
      " At random state 22 , the testing accuracy is :- 0.32142990399779203\n",
      "\n",
      "\n",
      " At random state 23 , the Training accuracy is :- 0.3163204340478425\n",
      " At random state 23 , the testing accuracy is :- 0.34041845306777385\n",
      "\n",
      "\n",
      " At random state 24 , the Training accuracy is :- 0.3190256446528439\n",
      " At random state 24 , the testing accuracy is :- 0.32928099567779323\n",
      "\n",
      "\n",
      " At random state 25 , the Training accuracy is :- 0.3254219245924892\n",
      " At random state 25 , the testing accuracy is :- 0.2969062222140074\n",
      "\n",
      "\n",
      " At random state 26 , the Training accuracy is :- 0.3213290676285415\n",
      " At random state 26 , the testing accuracy is :- 0.321218297649291\n",
      "\n",
      "\n",
      " At random state 27 , the Training accuracy is :- 0.32122342587780006\n",
      " At random state 27 , the testing accuracy is :- 0.3176431342386502\n",
      "\n",
      "\n",
      " At random state 28 , the Training accuracy is :- 0.31226585307347887\n",
      " At random state 28 , the testing accuracy is :- 0.3597763984318487\n",
      "\n",
      "\n",
      " At random state 29 , the Training accuracy is :- 0.32040889145947615\n",
      " At random state 29 , the testing accuracy is :- 0.3237856507674741\n",
      "\n",
      "\n",
      " At random state 30 , the Training accuracy is :- 0.3260661387550734\n",
      " At random state 30 , the testing accuracy is :- 0.30275563689186347\n",
      "\n",
      "\n",
      " At random state 31 , the Training accuracy is :- 0.31168983046969156\n",
      " At random state 31 , the testing accuracy is :- 0.3578545333871397\n",
      "\n",
      "\n",
      " At random state 32 , the Training accuracy is :- 0.32481793880668286\n",
      " At random state 32 , the testing accuracy is :- 0.3062801839355763\n",
      "\n",
      "\n",
      " At random state 33 , the Training accuracy is :- 0.3178774613535589\n",
      " At random state 33 , the testing accuracy is :- 0.33369399680466894\n",
      "\n",
      "\n",
      " At random state 34 , the Training accuracy is :- 0.3271623304159682\n",
      " At random state 34 , the testing accuracy is :- 0.29549719926775064\n",
      "\n",
      "\n",
      " At random state 35 , the Training accuracy is :- 0.31772150557805634\n",
      " At random state 35 , the testing accuracy is :- 0.3325094197625331\n",
      "\n",
      "\n",
      " At random state 36 , the Training accuracy is :- 0.32486884078408806\n",
      " At random state 36 , the testing accuracy is :- 0.3074834243329373\n",
      "\n",
      "\n",
      " At random state 37 , the Training accuracy is :- 0.3175292783356993\n",
      " At random state 37 , the testing accuracy is :- 0.3357764153731051\n",
      "\n",
      "\n",
      " At random state 38 , the Training accuracy is :- 0.3233025388879034\n",
      " At random state 38 , the testing accuracy is :- 0.3096783601875349\n",
      "\n",
      "\n",
      " At random state 39 , the Training accuracy is :- 0.322942454532393\n",
      " At random state 39 , the testing accuracy is :- 0.3151975385033132\n",
      "\n",
      "\n",
      " At random state 40 , the Training accuracy is :- 0.3298235985112805\n",
      " At random state 40 , the testing accuracy is :- 0.28488056740242595\n",
      "\n",
      "\n",
      " At random state 41 , the Training accuracy is :- 0.3208901973664431\n",
      " At random state 41 , the testing accuracy is :- 0.32348824159861767\n",
      "\n",
      "\n",
      " At random state 42 , the Training accuracy is :- 0.32462233800456186\n",
      " At random state 42 , the testing accuracy is :- 0.3074285905930271\n",
      "\n",
      "\n",
      " At random state 43 , the Training accuracy is :- 0.33243419723766443\n",
      " At random state 43 , the testing accuracy is :- 0.27648621427180375\n",
      "\n",
      "\n",
      " At random state 44 , the Training accuracy is :- 0.3232958723557866\n",
      " At random state 44 , the testing accuracy is :- 0.3105064273325647\n",
      "\n",
      "\n",
      " At random state 45 , the Training accuracy is :- 0.31176627474339147\n",
      " At random state 45 , the testing accuracy is :- 0.3588678856414609\n",
      "\n",
      "\n",
      " At random state 46 , the Training accuracy is :- 0.3159040906171592\n",
      " At random state 46 , the testing accuracy is :- 0.3434986075835478\n",
      "\n",
      "\n",
      " At random state 47 , the Training accuracy is :- 0.3185727930376887\n",
      " At random state 47 , the testing accuracy is :- 0.3314940812728536\n",
      "\n",
      "\n",
      " At random state 48 , the Training accuracy is :- 0.3312566756781271\n",
      " At random state 48 , the testing accuracy is :- 0.27595373018488767\n",
      "\n",
      "\n",
      " At random state 49 , the Training accuracy is :- 0.32036182176167305\n",
      " At random state 49 , the testing accuracy is :- 0.32503411411478933\n",
      "\n",
      "\n",
      " At random state 50 , the Training accuracy is :- 0.31418782387905675\n",
      " At random state 50 , the testing accuracy is :- 0.3493252032025458\n",
      "\n",
      "\n",
      " At random state 51 , the Training accuracy is :- 0.3201701327928439\n",
      " At random state 51 , the testing accuracy is :- 0.32435276776197886\n",
      "\n",
      "\n",
      " At random state 52 , the Training accuracy is :- 0.32820561345122246\n",
      " At random state 52 , the testing accuracy is :- 0.2919543989165171\n",
      "\n",
      "\n",
      " At random state 53 , the Training accuracy is :- 0.3259472822639884\n",
      " At random state 53 , the testing accuracy is :- 0.3031043536473188\n",
      "\n",
      "\n",
      " At random state 54 , the Training accuracy is :- 0.31701644604865675\n",
      " At random state 54 , the testing accuracy is :- 0.33700697909339494\n",
      "\n",
      "\n",
      " At random state 55 , the Training accuracy is :- 0.3237818122956374\n",
      " At random state 55 , the testing accuracy is :- 0.3097137857884713\n",
      "\n",
      "\n",
      " At random state 56 , the Training accuracy is :- 0.3195617895825158\n",
      " At random state 56 , the testing accuracy is :- 0.3268370098289647\n",
      "\n",
      "\n",
      " At random state 57 , the Training accuracy is :- 0.3184082899120676\n",
      " At random state 57 , the testing accuracy is :- 0.33044205543943006\n",
      "\n",
      "\n",
      " At random state 58 , the Training accuracy is :- 0.32267859740611704\n",
      " At random state 58 , the testing accuracy is :- 0.3135336295540393\n",
      "\n",
      "\n",
      " At random state 59 , the Training accuracy is :- 0.322634081697867\n",
      " At random state 59 , the testing accuracy is :- 0.31504593009331083\n",
      "\n",
      "\n",
      " At random state 60 , the Training accuracy is :- 0.32511289904365204\n",
      " At random state 60 , the testing accuracy is :- 0.30566762150151916\n",
      "\n",
      "\n",
      " At random state 61 , the Training accuracy is :- 0.31336513243427155\n",
      " At random state 61 , the testing accuracy is :- 0.3537166994032226\n",
      "\n",
      "\n",
      " At random state 62 , the Training accuracy is :- 0.3272774778572335\n",
      " At random state 62 , the testing accuracy is :- 0.2971049179373053\n",
      "\n",
      "\n",
      " At random state 63 , the Training accuracy is :- 0.3110125218985348\n",
      " At random state 63 , the testing accuracy is :- 0.36063515083194586\n",
      "\n",
      "\n",
      " At random state 64 , the Training accuracy is :- 0.31985852536250303\n",
      " At random state 64 , the testing accuracy is :- 0.3272822366367899\n",
      "\n",
      "\n",
      " At random state 65 , the Training accuracy is :- 0.31230608751255085\n",
      " At random state 65 , the testing accuracy is :- 0.3561041064495216\n",
      "\n",
      "\n",
      " At random state 66 , the Training accuracy is :- 0.32579079444621395\n",
      " At random state 66 , the testing accuracy is :- 0.30311244349847255\n",
      "\n",
      "\n",
      " At random state 67 , the Training accuracy is :- 0.3280786029449494\n",
      " At random state 67 , the testing accuracy is :- 0.29332450654892017\n",
      "\n",
      "\n",
      " At random state 68 , the Training accuracy is :- 0.3218630138299594\n",
      " At random state 68 , the testing accuracy is :- 0.3177063767972367\n",
      "\n",
      "\n",
      " At random state 69 , the Training accuracy is :- 0.31968620375498313\n",
      " At random state 69 , the testing accuracy is :- 0.32579113807473103\n",
      "\n",
      "\n",
      " At random state 70 , the Training accuracy is :- 0.3240187382424672\n",
      " At random state 70 , the testing accuracy is :- 0.310796533963804\n",
      "\n",
      "\n",
      " At random state 71 , the Training accuracy is :- 0.3197971855111208\n",
      " At random state 71 , the testing accuracy is :- 0.32754888611474264\n",
      "\n",
      "\n",
      " At random state 72 , the Training accuracy is :- 0.32129704471112697\n",
      " At random state 72 , the testing accuracy is :- 0.32020889972392064\n",
      "\n",
      "\n",
      " At random state 73 , the Training accuracy is :- 0.3181813570507257\n",
      " At random state 73 , the testing accuracy is :- 0.33433667093129815\n",
      "\n",
      "\n",
      " At random state 74 , the Training accuracy is :- 0.3224905531876\n",
      " At random state 74 , the testing accuracy is :- 0.3172620974125737\n",
      "\n",
      "\n",
      " At random state 75 , the Training accuracy is :- 0.32260153616653187\n",
      " At random state 75 , the testing accuracy is :- 0.3158936861145776\n",
      "\n",
      "\n",
      " At random state 76 , the Training accuracy is :- 0.32565988569861937\n",
      " At random state 76 , the testing accuracy is :- 0.3042739528622851\n",
      "\n",
      "\n",
      " At random state 77 , the Training accuracy is :- 0.3194686537283957\n",
      " At random state 77 , the testing accuracy is :- 0.3289697519523339\n",
      "\n",
      "\n",
      " At random state 78 , the Training accuracy is :- 0.32503753650187905\n",
      " At random state 78 , the testing accuracy is :- 0.3060801588716533\n",
      "\n",
      "\n",
      " At random state 79 , the Training accuracy is :- 0.32028250665241176\n",
      " At random state 79 , the testing accuracy is :- 0.321728278494985\n",
      "\n",
      "\n",
      " At random state 80 , the Training accuracy is :- 0.3245372400464631\n",
      " At random state 80 , the testing accuracy is :- 0.3085413482554804\n",
      "\n",
      "\n",
      " At random state 81 , the Training accuracy is :- 0.3279294713496722\n",
      " At random state 81 , the testing accuracy is :- 0.2942012024519416\n",
      "\n",
      "\n",
      " At random state 82 , the Training accuracy is :- 0.3260945022210061\n",
      " At random state 82 , the testing accuracy is :- 0.300851777953297\n",
      "\n",
      "\n",
      " At random state 83 , the Training accuracy is :- 0.3224325984447748\n",
      " At random state 83 , the testing accuracy is :- 0.3173716622737227\n",
      "\n",
      "\n",
      " At random state 84 , the Training accuracy is :- 0.31432860083958536\n",
      " At random state 84 , the testing accuracy is :- 0.34474551199719594\n",
      "\n",
      "\n",
      " At random state 85 , the Training accuracy is :- 0.31827790514076093\n",
      " At random state 85 , the testing accuracy is :- 0.3301661184560645\n",
      "\n",
      "\n",
      " At random state 86 , the Training accuracy is :- 0.32044821019267755\n",
      " At random state 86 , the testing accuracy is :- 0.32442682384818133\n",
      "\n",
      "\n",
      " At random state 87 , the Training accuracy is :- 0.3251449748673232\n",
      " At random state 87 , the testing accuracy is :- 0.3046300315969259\n",
      "\n",
      "\n",
      " At random state 88 , the Training accuracy is :- 0.31679204183677423\n",
      " At random state 88 , the testing accuracy is :- 0.33979533472974466\n",
      "\n",
      "\n",
      " At random state 89 , the Training accuracy is :- 0.31827473295997677\n",
      " At random state 89 , the testing accuracy is :- 0.332144423319611\n",
      "\n",
      "\n",
      " At random state 90 , the Training accuracy is :- 0.32369273279344746\n",
      " At random state 90 , the testing accuracy is :- 0.31134813685221807\n",
      "\n",
      "\n",
      " At random state 91 , the Training accuracy is :- 0.3257808858586102\n",
      " At random state 91 , the testing accuracy is :- 0.30355444176049295\n",
      "\n",
      "\n",
      " At random state 92 , the Training accuracy is :- 0.31432135826178764\n",
      " At random state 92 , the testing accuracy is :- 0.3480945929400008\n",
      "\n",
      "\n",
      " At random state 93 , the Training accuracy is :- 0.32362427964327056\n",
      " At random state 93 , the testing accuracy is :- 0.3116779276891962\n",
      "\n",
      "\n",
      " At random state 94 , the Training accuracy is :- 0.32974562965303256\n",
      " At random state 94 , the testing accuracy is :- 0.28616459467735134\n",
      "\n",
      "\n",
      " At random state 95 , the Training accuracy is :- 0.3318544340322571\n",
      " At random state 95 , the testing accuracy is :- 0.27996136742152755\n",
      "\n",
      "\n",
      " At random state 96 , the Training accuracy is :- 0.31910904193773315\n",
      " At random state 96 , the testing accuracy is :- 0.3286713872467143\n",
      "\n",
      "\n",
      " At random state 97 , the Training accuracy is :- 0.3210265317062798\n",
      " At random state 97 , the testing accuracy is :- 0.3204776562176336\n",
      "\n",
      "\n",
      " At random state 98 , the Training accuracy is :- 0.3267272305979181\n",
      " At random state 98 , the testing accuracy is :- 0.29942580014679687\n",
      "\n",
      "\n",
      " At random state 99 , the Training accuracy is :- 0.32448456152828864\n",
      " At random state 99 , the testing accuracy is :- 0.30889298565493073\n",
      "\n",
      "\n"
     ]
    }
   ],
   "source": [
    "#Lets check with diffrent method\n",
    "for i in range(0,100):\n",
    "    x_train,x_test,y_train,y_test=train_test_split(x_scaled,y,test_size=0.2,random_state=i)\n",
    "    lr.fit(x_train,y_train)\n",
    "    x_pred=lr.predict(x_train)\n",
    "    y_pred=lr.predict(x_test)\n",
    "    print(f\" At random state {i} , the Training accuracy is :- {r2_score(y_train,x_pred)}\")\n",
    "    print(f\" At random state {i} , the testing accuracy is :- {r2_score(y_test,y_pred)}\")\n",
    "    print(\"\\n\")"
   ]
  },
  {
   "cell_type": "markdown",
   "id": "77b2a609",
   "metadata": {},
   "source": [
    "Here we can select random state 99"
   ]
  },
  {
   "cell_type": "code",
   "execution_count": 169,
   "id": "98042ba6",
   "metadata": {},
   "outputs": [],
   "source": [
    "x_train,x_test,y_train,y_test=train_test_split(x_scaled,y,test_size=0.2,random_state=99)"
   ]
  },
  {
   "cell_type": "code",
   "execution_count": 170,
   "id": "ec461759",
   "metadata": {},
   "outputs": [
    {
     "data": {
      "text/html": [
       "<style>#sk-container-id-2 {color: black;background-color: white;}#sk-container-id-2 pre{padding: 0;}#sk-container-id-2 div.sk-toggleable {background-color: white;}#sk-container-id-2 label.sk-toggleable__label {cursor: pointer;display: block;width: 100%;margin-bottom: 0;padding: 0.3em;box-sizing: border-box;text-align: center;}#sk-container-id-2 label.sk-toggleable__label-arrow:before {content: \"▸\";float: left;margin-right: 0.25em;color: #696969;}#sk-container-id-2 label.sk-toggleable__label-arrow:hover:before {color: black;}#sk-container-id-2 div.sk-estimator:hover label.sk-toggleable__label-arrow:before {color: black;}#sk-container-id-2 div.sk-toggleable__content {max-height: 0;max-width: 0;overflow: hidden;text-align: left;background-color: #f0f8ff;}#sk-container-id-2 div.sk-toggleable__content pre {margin: 0.2em;color: black;border-radius: 0.25em;background-color: #f0f8ff;}#sk-container-id-2 input.sk-toggleable__control:checked~div.sk-toggleable__content {max-height: 200px;max-width: 100%;overflow: auto;}#sk-container-id-2 input.sk-toggleable__control:checked~label.sk-toggleable__label-arrow:before {content: \"▾\";}#sk-container-id-2 div.sk-estimator input.sk-toggleable__control:checked~label.sk-toggleable__label {background-color: #d4ebff;}#sk-container-id-2 div.sk-label input.sk-toggleable__control:checked~label.sk-toggleable__label {background-color: #d4ebff;}#sk-container-id-2 input.sk-hidden--visually {border: 0;clip: rect(1px 1px 1px 1px);clip: rect(1px, 1px, 1px, 1px);height: 1px;margin: -1px;overflow: hidden;padding: 0;position: absolute;width: 1px;}#sk-container-id-2 div.sk-estimator {font-family: monospace;background-color: #f0f8ff;border: 1px dotted black;border-radius: 0.25em;box-sizing: border-box;margin-bottom: 0.5em;}#sk-container-id-2 div.sk-estimator:hover {background-color: #d4ebff;}#sk-container-id-2 div.sk-parallel-item::after {content: \"\";width: 100%;border-bottom: 1px solid gray;flex-grow: 1;}#sk-container-id-2 div.sk-label:hover label.sk-toggleable__label {background-color: #d4ebff;}#sk-container-id-2 div.sk-serial::before {content: \"\";position: absolute;border-left: 1px solid gray;box-sizing: border-box;top: 0;bottom: 0;left: 50%;z-index: 0;}#sk-container-id-2 div.sk-serial {display: flex;flex-direction: column;align-items: center;background-color: white;padding-right: 0.2em;padding-left: 0.2em;position: relative;}#sk-container-id-2 div.sk-item {position: relative;z-index: 1;}#sk-container-id-2 div.sk-parallel {display: flex;align-items: stretch;justify-content: center;background-color: white;position: relative;}#sk-container-id-2 div.sk-item::before, #sk-container-id-2 div.sk-parallel-item::before {content: \"\";position: absolute;border-left: 1px solid gray;box-sizing: border-box;top: 0;bottom: 0;left: 50%;z-index: -1;}#sk-container-id-2 div.sk-parallel-item {display: flex;flex-direction: column;z-index: 1;position: relative;background-color: white;}#sk-container-id-2 div.sk-parallel-item:first-child::after {align-self: flex-end;width: 50%;}#sk-container-id-2 div.sk-parallel-item:last-child::after {align-self: flex-start;width: 50%;}#sk-container-id-2 div.sk-parallel-item:only-child::after {width: 0;}#sk-container-id-2 div.sk-dashed-wrapped {border: 1px dashed gray;margin: 0 0.4em 0.5em 0.4em;box-sizing: border-box;padding-bottom: 0.4em;background-color: white;}#sk-container-id-2 div.sk-label label {font-family: monospace;font-weight: bold;display: inline-block;line-height: 1.2em;}#sk-container-id-2 div.sk-label-container {text-align: center;}#sk-container-id-2 div.sk-container {/* jupyter's `normalize.less` sets `[hidden] { display: none; }` but bootstrap.min.css set `[hidden] { display: none !important; }` so we also need the `!important` here to be able to override the default hidden behavior on the sphinx rendered scikit-learn.org. See: https://github.com/scikit-learn/scikit-learn/issues/21755 */display: inline-block !important;position: relative;}#sk-container-id-2 div.sk-text-repr-fallback {display: none;}</style><div id=\"sk-container-id-2\" class=\"sk-top-container\"><div class=\"sk-text-repr-fallback\"><pre>LinearRegression()</pre><b>In a Jupyter environment, please rerun this cell to show the HTML representation or trust the notebook. <br />On GitHub, the HTML representation is unable to render, please try loading this page with nbviewer.org.</b></div><div class=\"sk-container\" hidden><div class=\"sk-item\"><div class=\"sk-estimator sk-toggleable\"><input class=\"sk-toggleable__control sk-hidden--visually\" id=\"sk-estimator-id-2\" type=\"checkbox\" checked><label for=\"sk-estimator-id-2\" class=\"sk-toggleable__label sk-toggleable__label-arrow\">LinearRegression</label><div class=\"sk-toggleable__content\"><pre>LinearRegression()</pre></div></div></div></div></div>"
      ],
      "text/plain": [
       "LinearRegression()"
      ]
     },
     "execution_count": 170,
     "metadata": {},
     "output_type": "execute_result"
    }
   ],
   "source": [
    "lr.fit(x_train,y_train)"
   ]
  },
  {
   "cell_type": "code",
   "execution_count": 171,
   "id": "d3d30b72",
   "metadata": {},
   "outputs": [
    {
     "name": "stdout",
     "output_type": "stream",
     "text": [
      "0.32448456152828864\n"
     ]
    }
   ],
   "source": [
    "#Lets Print Training Score\n",
    "pred_train=lr.predict(x_train)\n",
    "print(r2_score(y_train,pred_train))"
   ]
  },
  {
   "cell_type": "code",
   "execution_count": 172,
   "id": "68eb41d9",
   "metadata": {},
   "outputs": [
    {
     "name": "stdout",
     "output_type": "stream",
     "text": [
      "0.30889298565493073\n"
     ]
    }
   ],
   "source": [
    "#Lets Print Testing Score\n",
    "pred_test=lr.predict(x_test)\n",
    "print(r2_score(y_test,pred_test))"
   ]
  },
  {
   "cell_type": "markdown",
   "id": "a7a02690",
   "metadata": {},
   "source": [
    "# Cross Validation of the Model"
   ]
  },
  {
   "cell_type": "code",
   "execution_count": 173,
   "id": "8e008ff9",
   "metadata": {},
   "outputs": [
    {
     "name": "stdout",
     "output_type": "stream",
     "text": [
      "At cross fold 2 the CV Score is 0.2935681577983397 and accuracy for training is 0.32448456152828864 and accuracy for testing is 0.30889298565493073\n",
      "\n",
      "\n",
      "At cross fold 3 the CV Score is 0.29930918789333166 and accuracy for training is 0.32448456152828864 and accuracy for testing is 0.30889298565493073\n",
      "\n",
      "\n",
      "At cross fold 4 the CV Score is 0.2969906043569371 and accuracy for training is 0.32448456152828864 and accuracy for testing is 0.30889298565493073\n",
      "\n",
      "\n",
      "At cross fold 5 the CV Score is 0.29483085503525447 and accuracy for training is 0.32448456152828864 and accuracy for testing is 0.30889298565493073\n",
      "\n",
      "\n",
      "At cross fold 6 the CV Score is 0.2984522217930153 and accuracy for training is 0.32448456152828864 and accuracy for testing is 0.30889298565493073\n",
      "\n",
      "\n",
      "At cross fold 7 the CV Score is 0.2934936608439285 and accuracy for training is 0.32448456152828864 and accuracy for testing is 0.30889298565493073\n",
      "\n",
      "\n",
      "At cross fold 8 the CV Score is 0.2972908898332258 and accuracy for training is 0.32448456152828864 and accuracy for testing is 0.30889298565493073\n",
      "\n",
      "\n",
      "At cross fold 9 the CV Score is 0.29697809982862017 and accuracy for training is 0.32448456152828864 and accuracy for testing is 0.30889298565493073\n",
      "\n",
      "\n"
     ]
    }
   ],
   "source": [
    "train_accuracy=r2_score(y_train,x_pred)\n",
    "test_accuracy=r2_score(y_test,y_pred)\n",
    "#Lets import Cross Validation\n",
    "from sklearn.model_selection import cross_val_score\n",
    "for j in range(2,10):\n",
    "    cv_score=cross_val_score(lr,x_scaled,y,cv=j)\n",
    "    cv_mean=cv_score.mean()\n",
    "    \n",
    "    print(f\"At cross fold {j} the CV Score is {cv_mean} and accuracy for training is {train_accuracy} and accuracy for testing is {test_accuracy}\")\n",
    "    print(\"\\n\")"
   ]
  },
  {
   "cell_type": "markdown",
   "id": "4da7fd1b",
   "metadata": {},
   "source": [
    "# Lets Plot Best Fit Line and Check How Data points are Close to the Best Fit Line"
   ]
  },
  {
   "cell_type": "code",
   "execution_count": 174,
   "id": "68108a7b",
   "metadata": {},
   "outputs": [
    {
     "data": {
      "image/png": "[encoded data removed]",
      "text/plain": [
       "<Figure size 576x432 with 1 Axes>"
      ]
     },
     "metadata": {
      "needs_background": "light"
     },
     "output_type": "display_data"
    }
   ],
   "source": [
    "import matplotlib.pyplot as plt\n",
    "plt.figure(figsize=(8,6))\n",
    "plt.scatter(x=y_test,y=pred_test,color='r')\n",
    "plt.plot(y_test,y_test,color='b')\n",
    "plt.xlabel(\"Acutal Charges \",fontsize=14)\n",
    "plt.ylabel(\"Predicted Charges \",fontsize=14)\n",
    "plt.title(\"Linear Regression \",fontsize=18)\n",
    "plt.savefig('lr.png')\n",
    "plt.show()"
   ]
  },
  {
   "cell_type": "markdown",
   "id": "fa69f526",
   "metadata": {},
   "source": [
    "# Regularization"
   ]
  },
  {
   "cell_type": "code",
   "execution_count": 175,
   "id": "26fd9634",
   "metadata": {},
   "outputs": [],
   "source": [
    "from sklearn.model_selection import GridSearchCV\n",
    "from sklearn.model_selection import cross_val_score"
   ]
  },
  {
   "cell_type": "code",
   "execution_count": 176,
   "id": "f72f2f3a",
   "metadata": {},
   "outputs": [
    {
     "data": {
      "text/html": [
       "<style>#sk-container-id-3 {color: black;background-color: white;}#sk-container-id-3 pre{padding: 0;}#sk-container-id-3 div.sk-toggleable {background-color: white;}#sk-container-id-3 label.sk-toggleable__label {cursor: pointer;display: block;width: 100%;margin-bottom: 0;padding: 0.3em;box-sizing: border-box;text-align: center;}#sk-container-id-3 label.sk-toggleable__label-arrow:before {content: \"▸\";float: left;margin-right: 0.25em;color: #696969;}#sk-container-id-3 label.sk-toggleable__label-arrow:hover:before {color: black;}#sk-container-id-3 div.sk-estimator:hover label.sk-toggleable__label-arrow:before {color: black;}#sk-container-id-3 div.sk-toggleable__content {max-height: 0;max-width: 0;overflow: hidden;text-align: left;background-color: #f0f8ff;}#sk-container-id-3 div.sk-toggleable__content pre {margin: 0.2em;color: black;border-radius: 0.25em;background-color: #f0f8ff;}#sk-container-id-3 input.sk-toggleable__control:checked~div.sk-toggleable__content {max-height: 200px;max-width: 100%;overflow: auto;}#sk-container-id-3 input.sk-toggleable__control:checked~label.sk-toggleable__label-arrow:before {content: \"▾\";}#sk-container-id-3 div.sk-estimator input.sk-toggleable__control:checked~label.sk-toggleable__label {background-color: #d4ebff;}#sk-container-id-3 div.sk-label input.sk-toggleable__control:checked~label.sk-toggleable__label {background-color: #d4ebff;}#sk-container-id-3 input.sk-hidden--visually {border: 0;clip: rect(1px 1px 1px 1px);clip: rect(1px, 1px, 1px, 1px);height: 1px;margin: -1px;overflow: hidden;padding: 0;position: absolute;width: 1px;}#sk-container-id-3 div.sk-estimator {font-family: monospace;background-color: #f0f8ff;border: 1px dotted black;border-radius: 0.25em;box-sizing: border-box;margin-bottom: 0.5em;}#sk-container-id-3 div.sk-estimator:hover {background-color: #d4ebff;}#sk-container-id-3 div.sk-parallel-item::after {content: \"\";width: 100%;border-bottom: 1px solid gray;flex-grow: 1;}#sk-container-id-3 div.sk-label:hover label.sk-toggleable__label {background-color: #d4ebff;}#sk-container-id-3 div.sk-serial::before {content: \"\";position: absolute;border-left: 1px solid gray;box-sizing: border-box;top: 0;bottom: 0;left: 50%;z-index: 0;}#sk-container-id-3 div.sk-serial {display: flex;flex-direction: column;align-items: center;background-color: white;padding-right: 0.2em;padding-left: 0.2em;position: relative;}#sk-container-id-3 div.sk-item {position: relative;z-index: 1;}#sk-container-id-3 div.sk-parallel {display: flex;align-items: stretch;justify-content: center;background-color: white;position: relative;}#sk-container-id-3 div.sk-item::before, #sk-container-id-3 div.sk-parallel-item::before {content: \"\";position: absolute;border-left: 1px solid gray;box-sizing: border-box;top: 0;bottom: 0;left: 50%;z-index: -1;}#sk-container-id-3 div.sk-parallel-item {display: flex;flex-direction: column;z-index: 1;position: relative;background-color: white;}#sk-container-id-3 div.sk-parallel-item:first-child::after {align-self: flex-end;width: 50%;}#sk-container-id-3 div.sk-parallel-item:last-child::after {align-self: flex-start;width: 50%;}#sk-container-id-3 div.sk-parallel-item:only-child::after {width: 0;}#sk-container-id-3 div.sk-dashed-wrapped {border: 1px dashed gray;margin: 0 0.4em 0.5em 0.4em;box-sizing: border-box;padding-bottom: 0.4em;background-color: white;}#sk-container-id-3 div.sk-label label {font-family: monospace;font-weight: bold;display: inline-block;line-height: 1.2em;}#sk-container-id-3 div.sk-label-container {text-align: center;}#sk-container-id-3 div.sk-container {/* jupyter's `normalize.less` sets `[hidden] { display: none; }` but bootstrap.min.css set `[hidden] { display: none !important; }` so we also need the `!important` here to be able to override the default hidden behavior on the sphinx rendered scikit-learn.org. See: https://github.com/scikit-learn/scikit-learn/issues/21755 */display: inline-block !important;position: relative;}#sk-container-id-3 div.sk-text-repr-fallback {display: none;}</style><div id=\"sk-container-id-3\" class=\"sk-top-container\"><div class=\"sk-text-repr-fallback\"><pre>LassoCV(max_iter=100, normalize=True)</pre><b>In a Jupyter environment, please rerun this cell to show the HTML representation or trust the notebook. <br />On GitHub, the HTML representation is unable to render, please try loading this page with nbviewer.org.</b></div><div class=\"sk-container\" hidden><div class=\"sk-item\"><div class=\"sk-estimator sk-toggleable\"><input class=\"sk-toggleable__control sk-hidden--visually\" id=\"sk-estimator-id-3\" type=\"checkbox\" checked><label for=\"sk-estimator-id-3\" class=\"sk-toggleable__label sk-toggleable__label-arrow\">LassoCV</label><div class=\"sk-toggleable__content\"><pre>LassoCV(max_iter=100, normalize=True)</pre></div></div></div></div></div>"
      ],
      "text/plain": [
       "LassoCV(max_iter=100, normalize=True)"
      ]
     },
     "execution_count": 176,
     "metadata": {},
     "output_type": "execute_result"
    }
   ],
   "source": [
    "#lets import Lasso (Least absolute shrinkage and selection operator)\n",
    "from sklearn.linear_model import Ridge,Lasso,RidgeCV,LassoCV\n",
    "#LASSOCV will return best alpha after max iteration\n",
    "#normalize is subtracting the mean and divide by L2_norm\n",
    "import warnings\n",
    "warnings.filterwarnings('ignore')\n",
    "\n",
    "lasscv=LassoCV(alphas = None , max_iter =100,normalize=True)\n",
    "lasscv.fit(x_train,y_train)"
   ]
  },
  {
   "cell_type": "code",
   "execution_count": 177,
   "id": "7996d0b5",
   "metadata": {},
   "outputs": [
    {
     "data": {
      "text/plain": [
       "0.016661910313110602"
      ]
     },
     "execution_count": 177,
     "metadata": {},
     "output_type": "execute_result"
    }
   ],
   "source": [
    "#best alpha paremetere\n",
    "alpha=lasscv.alpha_\n",
    "alpha"
   ]
  },
  {
   "cell_type": "code",
   "execution_count": 178,
   "id": "2fdb5dbf",
   "metadata": {},
   "outputs": [
    {
     "data": {
      "text/html": [
       "<style>#sk-container-id-4 {color: black;background-color: white;}#sk-container-id-4 pre{padding: 0;}#sk-container-id-4 div.sk-toggleable {background-color: white;}#sk-container-id-4 label.sk-toggleable__label {cursor: pointer;display: block;width: 100%;margin-bottom: 0;padding: 0.3em;box-sizing: border-box;text-align: center;}#sk-container-id-4 label.sk-toggleable__label-arrow:before {content: \"▸\";float: left;margin-right: 0.25em;color: #696969;}#sk-container-id-4 label.sk-toggleable__label-arrow:hover:before {color: black;}#sk-container-id-4 div.sk-estimator:hover label.sk-toggleable__label-arrow:before {color: black;}#sk-container-id-4 div.sk-toggleable__content {max-height: 0;max-width: 0;overflow: hidden;text-align: left;background-color: #f0f8ff;}#sk-container-id-4 div.sk-toggleable__content pre {margin: 0.2em;color: black;border-radius: 0.25em;background-color: #f0f8ff;}#sk-container-id-4 input.sk-toggleable__control:checked~div.sk-toggleable__content {max-height: 200px;max-width: 100%;overflow: auto;}#sk-container-id-4 input.sk-toggleable__control:checked~label.sk-toggleable__label-arrow:before {content: \"▾\";}#sk-container-id-4 div.sk-estimator input.sk-toggleable__control:checked~label.sk-toggleable__label {background-color: #d4ebff;}#sk-container-id-4 div.sk-label input.sk-toggleable__control:checked~label.sk-toggleable__label {background-color: #d4ebff;}#sk-container-id-4 input.sk-hidden--visually {border: 0;clip: rect(1px 1px 1px 1px);clip: rect(1px, 1px, 1px, 1px);height: 1px;margin: -1px;overflow: hidden;padding: 0;position: absolute;width: 1px;}#sk-container-id-4 div.sk-estimator {font-family: monospace;background-color: #f0f8ff;border: 1px dotted black;border-radius: 0.25em;box-sizing: border-box;margin-bottom: 0.5em;}#sk-container-id-4 div.sk-estimator:hover {background-color: #d4ebff;}#sk-container-id-4 div.sk-parallel-item::after {content: \"\";width: 100%;border-bottom: 1px solid gray;flex-grow: 1;}#sk-container-id-4 div.sk-label:hover label.sk-toggleable__label {background-color: #d4ebff;}#sk-container-id-4 div.sk-serial::before {content: \"\";position: absolute;border-left: 1px solid gray;box-sizing: border-box;top: 0;bottom: 0;left: 50%;z-index: 0;}#sk-container-id-4 div.sk-serial {display: flex;flex-direction: column;align-items: center;background-color: white;padding-right: 0.2em;padding-left: 0.2em;position: relative;}#sk-container-id-4 div.sk-item {position: relative;z-index: 1;}#sk-container-id-4 div.sk-parallel {display: flex;align-items: stretch;justify-content: center;background-color: white;position: relative;}#sk-container-id-4 div.sk-item::before, #sk-container-id-4 div.sk-parallel-item::before {content: \"\";position: absolute;border-left: 1px solid gray;box-sizing: border-box;top: 0;bottom: 0;left: 50%;z-index: -1;}#sk-container-id-4 div.sk-parallel-item {display: flex;flex-direction: column;z-index: 1;position: relative;background-color: white;}#sk-container-id-4 div.sk-parallel-item:first-child::after {align-self: flex-end;width: 50%;}#sk-container-id-4 div.sk-parallel-item:last-child::after {align-self: flex-start;width: 50%;}#sk-container-id-4 div.sk-parallel-item:only-child::after {width: 0;}#sk-container-id-4 div.sk-dashed-wrapped {border: 1px dashed gray;margin: 0 0.4em 0.5em 0.4em;box-sizing: border-box;padding-bottom: 0.4em;background-color: white;}#sk-container-id-4 div.sk-label label {font-family: monospace;font-weight: bold;display: inline-block;line-height: 1.2em;}#sk-container-id-4 div.sk-label-container {text-align: center;}#sk-container-id-4 div.sk-container {/* jupyter's `normalize.less` sets `[hidden] { display: none; }` but bootstrap.min.css set `[hidden] { display: none !important; }` so we also need the `!important` here to be able to override the default hidden behavior on the sphinx rendered scikit-learn.org. See: https://github.com/scikit-learn/scikit-learn/issues/21755 */display: inline-block !important;position: relative;}#sk-container-id-4 div.sk-text-repr-fallback {display: none;}</style><div id=\"sk-container-id-4\" class=\"sk-top-container\"><div class=\"sk-text-repr-fallback\"><pre>Lasso(alpha=0.016661910313110602)</pre><b>In a Jupyter environment, please rerun this cell to show the HTML representation or trust the notebook. <br />On GitHub, the HTML representation is unable to render, please try loading this page with nbviewer.org.</b></div><div class=\"sk-container\" hidden><div class=\"sk-item\"><div class=\"sk-estimator sk-toggleable\"><input class=\"sk-toggleable__control sk-hidden--visually\" id=\"sk-estimator-id-4\" type=\"checkbox\" checked><label for=\"sk-estimator-id-4\" class=\"sk-toggleable__label sk-toggleable__label-arrow\">Lasso</label><div class=\"sk-toggleable__content\"><pre>Lasso(alpha=0.016661910313110602)</pre></div></div></div></div></div>"
      ],
      "text/plain": [
       "Lasso(alpha=0.016661910313110602)"
      ]
     },
     "execution_count": 178,
     "metadata": {},
     "output_type": "execute_result"
    }
   ],
   "source": [
    "#Now that we have best parameter,Lets use Lasso regression and see how well our data has fitted before\n",
    "lasso_reg=Lasso(alpha)\n",
    "lasso_reg.fit(x_train,y_train)"
   ]
  },
  {
   "cell_type": "code",
   "execution_count": 179,
   "id": "67e4e101",
   "metadata": {},
   "outputs": [
    {
     "data": {
      "text/plain": [
       "0.32448452106927084"
      ]
     },
     "execution_count": 179,
     "metadata": {},
     "output_type": "execute_result"
    }
   ],
   "source": [
    "lasso_reg.score(x_train,y_train)#Testing Score"
   ]
  },
  {
   "cell_type": "code",
   "execution_count": 180,
   "id": "32a42afb",
   "metadata": {},
   "outputs": [
    {
     "data": {
      "text/plain": [
       "0.3088983371065036"
      ]
     },
     "execution_count": 180,
     "metadata": {},
     "output_type": "execute_result"
    }
   ],
   "source": [
    "lasso_reg.score(x_test,y_test) #Testing Score"
   ]
  },
  {
   "cell_type": "markdown",
   "id": "8a482ab6",
   "metadata": {},
   "source": [
    "# Using Ridge Regression Model"
   ]
  },
  {
   "cell_type": "code",
   "execution_count": 181,
   "id": "7acb983c",
   "metadata": {},
   "outputs": [
    {
     "data": {
      "text/html": [
       "<style>#sk-container-id-5 {color: black;background-color: white;}#sk-container-id-5 pre{padding: 0;}#sk-container-id-5 div.sk-toggleable {background-color: white;}#sk-container-id-5 label.sk-toggleable__label {cursor: pointer;display: block;width: 100%;margin-bottom: 0;padding: 0.3em;box-sizing: border-box;text-align: center;}#sk-container-id-5 label.sk-toggleable__label-arrow:before {content: \"▸\";float: left;margin-right: 0.25em;color: #696969;}#sk-container-id-5 label.sk-toggleable__label-arrow:hover:before {color: black;}#sk-container-id-5 div.sk-estimator:hover label.sk-toggleable__label-arrow:before {color: black;}#sk-container-id-5 div.sk-toggleable__content {max-height: 0;max-width: 0;overflow: hidden;text-align: left;background-color: #f0f8ff;}#sk-container-id-5 div.sk-toggleable__content pre {margin: 0.2em;color: black;border-radius: 0.25em;background-color: #f0f8ff;}#sk-container-id-5 input.sk-toggleable__control:checked~div.sk-toggleable__content {max-height: 200px;max-width: 100%;overflow: auto;}#sk-container-id-5 input.sk-toggleable__control:checked~label.sk-toggleable__label-arrow:before {content: \"▾\";}#sk-container-id-5 div.sk-estimator input.sk-toggleable__control:checked~label.sk-toggleable__label {background-color: #d4ebff;}#sk-container-id-5 div.sk-label input.sk-toggleable__control:checked~label.sk-toggleable__label {background-color: #d4ebff;}#sk-container-id-5 input.sk-hidden--visually {border: 0;clip: rect(1px 1px 1px 1px);clip: rect(1px, 1px, 1px, 1px);height: 1px;margin: -1px;overflow: hidden;padding: 0;position: absolute;width: 1px;}#sk-container-id-5 div.sk-estimator {font-family: monospace;background-color: #f0f8ff;border: 1px dotted black;border-radius: 0.25em;box-sizing: border-box;margin-bottom: 0.5em;}#sk-container-id-5 div.sk-estimator:hover {background-color: #d4ebff;}#sk-container-id-5 div.sk-parallel-item::after {content: \"\";width: 100%;border-bottom: 1px solid gray;flex-grow: 1;}#sk-container-id-5 div.sk-label:hover label.sk-toggleable__label {background-color: #d4ebff;}#sk-container-id-5 div.sk-serial::before {content: \"\";position: absolute;border-left: 1px solid gray;box-sizing: border-box;top: 0;bottom: 0;left: 50%;z-index: 0;}#sk-container-id-5 div.sk-serial {display: flex;flex-direction: column;align-items: center;background-color: white;padding-right: 0.2em;padding-left: 0.2em;position: relative;}#sk-container-id-5 div.sk-item {position: relative;z-index: 1;}#sk-container-id-5 div.sk-parallel {display: flex;align-items: stretch;justify-content: center;background-color: white;position: relative;}#sk-container-id-5 div.sk-item::before, #sk-container-id-5 div.sk-parallel-item::before {content: \"\";position: absolute;border-left: 1px solid gray;box-sizing: border-box;top: 0;bottom: 0;left: 50%;z-index: -1;}#sk-container-id-5 div.sk-parallel-item {display: flex;flex-direction: column;z-index: 1;position: relative;background-color: white;}#sk-container-id-5 div.sk-parallel-item:first-child::after {align-self: flex-end;width: 50%;}#sk-container-id-5 div.sk-parallel-item:last-child::after {align-self: flex-start;width: 50%;}#sk-container-id-5 div.sk-parallel-item:only-child::after {width: 0;}#sk-container-id-5 div.sk-dashed-wrapped {border: 1px dashed gray;margin: 0 0.4em 0.5em 0.4em;box-sizing: border-box;padding-bottom: 0.4em;background-color: white;}#sk-container-id-5 div.sk-label label {font-family: monospace;font-weight: bold;display: inline-block;line-height: 1.2em;}#sk-container-id-5 div.sk-label-container {text-align: center;}#sk-container-id-5 div.sk-container {/* jupyter's `normalize.less` sets `[hidden] { display: none; }` but bootstrap.min.css set `[hidden] { display: none !important; }` so we also need the `!important` here to be able to override the default hidden behavior on the sphinx rendered scikit-learn.org. See: https://github.com/scikit-learn/scikit-learn/issues/21755 */display: inline-block !important;position: relative;}#sk-container-id-5 div.sk-text-repr-fallback {display: none;}</style><div id=\"sk-container-id-5\" class=\"sk-top-container\"><div class=\"sk-text-repr-fallback\"><pre>RidgeCV(alphas=array([0.001, 0.011, 0.021, 0.031, 0.041, 0.051, 0.061, 0.071, 0.081,\n",
       "       0.091]),\n",
       "        normalize=True)</pre><b>In a Jupyter environment, please rerun this cell to show the HTML representation or trust the notebook. <br />On GitHub, the HTML representation is unable to render, please try loading this page with nbviewer.org.</b></div><div class=\"sk-container\" hidden><div class=\"sk-item\"><div class=\"sk-estimator sk-toggleable\"><input class=\"sk-toggleable__control sk-hidden--visually\" id=\"sk-estimator-id-5\" type=\"checkbox\" checked><label for=\"sk-estimator-id-5\" class=\"sk-toggleable__label sk-toggleable__label-arrow\">RidgeCV</label><div class=\"sk-toggleable__content\"><pre>RidgeCV(alphas=array([0.001, 0.011, 0.021, 0.031, 0.041, 0.051, 0.061, 0.071, 0.081,\n",
       "       0.091]),\n",
       "        normalize=True)</pre></div></div></div></div></div>"
      ],
      "text/plain": [
       "RidgeCV(alphas=array([0.001, 0.011, 0.021, 0.031, 0.041, 0.051, 0.061, 0.071, 0.081,\n",
       "       0.091]),\n",
       "        normalize=True)"
      ]
     },
     "execution_count": 181,
     "metadata": {},
     "output_type": "execute_result"
    }
   ],
   "source": [
    "# Ridge will return best alpha and coefficients after performing 10 Cross validation\n",
    "\n",
    "ridgecv=RidgeCV(alphas =np.arange(0.001,0.1,0.01),normalize=True)\n",
    "ridgecv.fit(x_train,y_train)"
   ]
  },
  {
   "cell_type": "code",
   "execution_count": 182,
   "id": "6ee68d6d",
   "metadata": {},
   "outputs": [
    {
     "data": {
      "text/plain": [
       "0.001"
      ]
     },
     "execution_count": 182,
     "metadata": {},
     "output_type": "execute_result"
    }
   ],
   "source": [
    "ridgecv.alpha_"
   ]
  },
  {
   "cell_type": "code",
   "execution_count": 183,
   "id": "8b4c03ea",
   "metadata": {},
   "outputs": [
    {
     "data": {
      "text/html": [
       "<style>#sk-container-id-6 {color: black;background-color: white;}#sk-container-id-6 pre{padding: 0;}#sk-container-id-6 div.sk-toggleable {background-color: white;}#sk-container-id-6 label.sk-toggleable__label {cursor: pointer;display: block;width: 100%;margin-bottom: 0;padding: 0.3em;box-sizing: border-box;text-align: center;}#sk-container-id-6 label.sk-toggleable__label-arrow:before {content: \"▸\";float: left;margin-right: 0.25em;color: #696969;}#sk-container-id-6 label.sk-toggleable__label-arrow:hover:before {color: black;}#sk-container-id-6 div.sk-estimator:hover label.sk-toggleable__label-arrow:before {color: black;}#sk-container-id-6 div.sk-toggleable__content {max-height: 0;max-width: 0;overflow: hidden;text-align: left;background-color: #f0f8ff;}#sk-container-id-6 div.sk-toggleable__content pre {margin: 0.2em;color: black;border-radius: 0.25em;background-color: #f0f8ff;}#sk-container-id-6 input.sk-toggleable__control:checked~div.sk-toggleable__content {max-height: 200px;max-width: 100%;overflow: auto;}#sk-container-id-6 input.sk-toggleable__control:checked~label.sk-toggleable__label-arrow:before {content: \"▾\";}#sk-container-id-6 div.sk-estimator input.sk-toggleable__control:checked~label.sk-toggleable__label {background-color: #d4ebff;}#sk-container-id-6 div.sk-label input.sk-toggleable__control:checked~label.sk-toggleable__label {background-color: #d4ebff;}#sk-container-id-6 input.sk-hidden--visually {border: 0;clip: rect(1px 1px 1px 1px);clip: rect(1px, 1px, 1px, 1px);height: 1px;margin: -1px;overflow: hidden;padding: 0;position: absolute;width: 1px;}#sk-container-id-6 div.sk-estimator {font-family: monospace;background-color: #f0f8ff;border: 1px dotted black;border-radius: 0.25em;box-sizing: border-box;margin-bottom: 0.5em;}#sk-container-id-6 div.sk-estimator:hover {background-color: #d4ebff;}#sk-container-id-6 div.sk-parallel-item::after {content: \"\";width: 100%;border-bottom: 1px solid gray;flex-grow: 1;}#sk-container-id-6 div.sk-label:hover label.sk-toggleable__label {background-color: #d4ebff;}#sk-container-id-6 div.sk-serial::before {content: \"\";position: absolute;border-left: 1px solid gray;box-sizing: border-box;top: 0;bottom: 0;left: 50%;z-index: 0;}#sk-container-id-6 div.sk-serial {display: flex;flex-direction: column;align-items: center;background-color: white;padding-right: 0.2em;padding-left: 0.2em;position: relative;}#sk-container-id-6 div.sk-item {position: relative;z-index: 1;}#sk-container-id-6 div.sk-parallel {display: flex;align-items: stretch;justify-content: center;background-color: white;position: relative;}#sk-container-id-6 div.sk-item::before, #sk-container-id-6 div.sk-parallel-item::before {content: \"\";position: absolute;border-left: 1px solid gray;box-sizing: border-box;top: 0;bottom: 0;left: 50%;z-index: -1;}#sk-container-id-6 div.sk-parallel-item {display: flex;flex-direction: column;z-index: 1;position: relative;background-color: white;}#sk-container-id-6 div.sk-parallel-item:first-child::after {align-self: flex-end;width: 50%;}#sk-container-id-6 div.sk-parallel-item:last-child::after {align-self: flex-start;width: 50%;}#sk-container-id-6 div.sk-parallel-item:only-child::after {width: 0;}#sk-container-id-6 div.sk-dashed-wrapped {border: 1px dashed gray;margin: 0 0.4em 0.5em 0.4em;box-sizing: border-box;padding-bottom: 0.4em;background-color: white;}#sk-container-id-6 div.sk-label label {font-family: monospace;font-weight: bold;display: inline-block;line-height: 1.2em;}#sk-container-id-6 div.sk-label-container {text-align: center;}#sk-container-id-6 div.sk-container {/* jupyter's `normalize.less` sets `[hidden] { display: none; }` but bootstrap.min.css set `[hidden] { display: none !important; }` so we also need the `!important` here to be able to override the default hidden behavior on the sphinx rendered scikit-learn.org. See: https://github.com/scikit-learn/scikit-learn/issues/21755 */display: inline-block !important;position: relative;}#sk-container-id-6 div.sk-text-repr-fallback {display: none;}</style><div id=\"sk-container-id-6\" class=\"sk-top-container\"><div class=\"sk-text-repr-fallback\"><pre>Ridge(alpha=0.001)</pre><b>In a Jupyter environment, please rerun this cell to show the HTML representation or trust the notebook. <br />On GitHub, the HTML representation is unable to render, please try loading this page with nbviewer.org.</b></div><div class=\"sk-container\" hidden><div class=\"sk-item\"><div class=\"sk-estimator sk-toggleable\"><input class=\"sk-toggleable__control sk-hidden--visually\" id=\"sk-estimator-id-6\" type=\"checkbox\" checked><label for=\"sk-estimator-id-6\" class=\"sk-toggleable__label sk-toggleable__label-arrow\">Ridge</label><div class=\"sk-toggleable__content\"><pre>Ridge(alpha=0.001)</pre></div></div></div></div></div>"
      ],
      "text/plain": [
       "Ridge(alpha=0.001)"
      ]
     },
     "execution_count": 183,
     "metadata": {},
     "output_type": "execute_result"
    }
   ],
   "source": [
    "ridge_model = Ridge(alpha=ridgecv.alpha_)\n",
    "ridge_model.fit(x_train,y_train)"
   ]
  },
  {
   "cell_type": "code",
   "execution_count": 184,
   "id": "2f2fc950",
   "metadata": {},
   "outputs": [
    {
     "data": {
      "text/plain": [
       "0.3244845615282631"
      ]
     },
     "execution_count": 184,
     "metadata": {},
     "output_type": "execute_result"
    }
   ],
   "source": [
    "ridge_model.score(x_train,y_train)#Training Score"
   ]
  },
  {
   "cell_type": "code",
   "execution_count": 185,
   "id": "d81bc98e",
   "metadata": {},
   "outputs": [
    {
     "data": {
      "text/plain": [
       "0.3088929927493752"
      ]
     },
     "execution_count": 185,
     "metadata": {},
     "output_type": "execute_result"
    }
   ],
   "source": [
    "ridge_model.score(x_test,y_test)#Testing Score"
   ]
  },
  {
   "cell_type": "markdown",
   "id": "941077ad",
   "metadata": {},
   "source": [
    "# Model Evaluation"
   ]
  },
  {
   "cell_type": "code",
   "execution_count": 186,
   "id": "5f360ed3",
   "metadata": {},
   "outputs": [],
   "source": [
    "from sklearn.metrics import mean_squared_error,mean_absolute_error"
   ]
  },
  {
   "cell_type": "code",
   "execution_count": 187,
   "id": "5e6c16cc",
   "metadata": {},
   "outputs": [],
   "source": [
    "y_pred=ridge_model.predict(x_test)"
   ]
  },
  {
   "cell_type": "code",
   "execution_count": 188,
   "id": "8d8b35d0",
   "metadata": {},
   "outputs": [
    {
     "data": {
      "text/plain": [
       "177.90566520805757"
      ]
     },
     "execution_count": 188,
     "metadata": {},
     "output_type": "execute_result"
    }
   ],
   "source": [
    "#MAE\n",
    "mean_absolute_error(y_test,y_pred)"
   ]
  },
  {
   "cell_type": "code",
   "execution_count": 189,
   "id": "9743ba11",
   "metadata": {},
   "outputs": [
    {
     "data": {
      "text/plain": [
       "49340.97809344562"
      ]
     },
     "execution_count": 189,
     "metadata": {},
     "output_type": "execute_result"
    }
   ],
   "source": [
    "#MSE\n",
    "mean_squared_error(y_test,y_pred)"
   ]
  },
  {
   "cell_type": "code",
   "execution_count": 190,
   "id": "37d73bc4",
   "metadata": {},
   "outputs": [
    {
     "data": {
      "text/plain": [
       "222.12829196985606"
      ]
     },
     "execution_count": 190,
     "metadata": {},
     "output_type": "execute_result"
    }
   ],
   "source": [
    "#RMSE\n",
    "\n",
    "np.sqrt(mean_squared_error(y_test,y_pred))"
   ]
  },
  {
   "cell_type": "markdown",
   "id": "830dcbf1",
   "metadata": {},
   "source": [
    "# Lets Plot With Decision Tree Regressor\n"
   ]
  },
  {
   "cell_type": "code",
   "execution_count": 192,
   "id": "3664e54d",
   "metadata": {},
   "outputs": [],
   "source": [
    "from sklearn.tree import DecisionTreeRegressor\n",
    "dt = DecisionTreeRegressor()"
   ]
  },
  {
   "cell_type": "code",
   "execution_count": 193,
   "id": "b98d4b59",
   "metadata": {},
   "outputs": [
    {
     "name": "stdout",
     "output_type": "stream",
     "text": [
      " At random state 0 , the Training accuracy is :- 0.99999983228082\n",
      " At random state 0 , the testing accuracy is :- 0.9325471723232023\n",
      "\n",
      "\n",
      " At random state 1 , the Training accuracy is :- 0.9999998646691401\n",
      " At random state 1 , the testing accuracy is :- 0.9193114285725054\n",
      "\n",
      "\n",
      " At random state 2 , the Training accuracy is :- 0.9999998646531988\n",
      " At random state 2 , the testing accuracy is :- 0.9407248763500095\n",
      "\n",
      "\n",
      " At random state 3 , the Training accuracy is :- 0.9999998622924263\n",
      " At random state 3 , the testing accuracy is :- 0.9531580566806218\n",
      "\n",
      "\n",
      " At random state 4 , the Training accuracy is :- 0.999999915335772\n",
      " At random state 4 , the testing accuracy is :- 0.9363535872831041\n",
      "\n",
      "\n",
      " At random state 5 , the Training accuracy is :- 0.9999999249177196\n",
      " At random state 5 , the testing accuracy is :- 0.9564101330037867\n",
      "\n",
      "\n",
      " At random state 6 , the Training accuracy is :- 0.9999999237813131\n",
      " At random state 6 , the testing accuracy is :- 0.9415461601834094\n",
      "\n",
      "\n",
      " At random state 7 , the Training accuracy is :- 0.9999998626595148\n",
      " At random state 7 , the testing accuracy is :- 0.9417838387822508\n",
      "\n",
      "\n",
      " At random state 8 , the Training accuracy is :- 0.999999865054794\n",
      " At random state 8 , the testing accuracy is :- 0.9394770429401514\n",
      "\n",
      "\n",
      " At random state 9 , the Training accuracy is :- 0.9999998296029147\n",
      " At random state 9 , the testing accuracy is :- 0.9355012434978577\n",
      "\n",
      "\n",
      " At random state 10 , the Training accuracy is :- 1.0\n",
      " At random state 10 , the testing accuracy is :- 0.9223858008175142\n",
      "\n",
      "\n",
      " At random state 11 , the Training accuracy is :- 0.9999999139556546\n",
      " At random state 11 , the testing accuracy is :- 0.9366921209890194\n",
      "\n",
      "\n",
      " At random state 12 , the Training accuracy is :- 0.9999998640863363\n",
      " At random state 12 , the testing accuracy is :- 0.9554476095803036\n",
      "\n",
      "\n",
      " At random state 13 , the Training accuracy is :- 0.9999999156403281\n",
      " At random state 13 , the testing accuracy is :- 0.9268121716259063\n",
      "\n",
      "\n",
      " At random state 14 , the Training accuracy is :- 0.9999998639791581\n",
      " At random state 14 , the testing accuracy is :- 0.9433417912019683\n",
      "\n",
      "\n",
      " At random state 15 , the Training accuracy is :- 0.9999998648310958\n",
      " At random state 15 , the testing accuracy is :- 0.9206058838717156\n",
      "\n",
      "\n",
      " At random state 16 , the Training accuracy is :- 0.9999998306673366\n",
      " At random state 16 , the testing accuracy is :- 0.9347795153441998\n",
      "\n",
      "\n",
      " At random state 17 , the Training accuracy is :- 0.9999998636092733\n",
      " At random state 17 , the testing accuracy is :- 0.9497593847327082\n",
      "\n",
      "\n",
      " At random state 18 , the Training accuracy is :- 0.9999998285172838\n",
      " At random state 18 , the testing accuracy is :- 0.9539345019057505\n",
      "\n",
      "\n",
      " At random state 19 , the Training accuracy is :- 0.9999998871533954\n",
      " At random state 19 , the testing accuracy is :- 0.8928959193714227\n",
      "\n",
      "\n",
      " At random state 20 , the Training accuracy is :- 0.9999998280697461\n",
      " At random state 20 , the testing accuracy is :- 0.9473372527258419\n",
      "\n",
      "\n",
      " At random state 21 , the Training accuracy is :- 0.9999998859890861\n",
      " At random state 21 , the testing accuracy is :- 0.8922283344511457\n",
      "\n",
      "\n",
      " At random state 22 , the Training accuracy is :- 0.9999999252890702\n",
      " At random state 22 , the testing accuracy is :- 0.9373909375834667\n",
      "\n",
      "\n",
      " At random state 23 , the Training accuracy is :- 0.9999998859512423\n",
      " At random state 23 , the testing accuracy is :- 0.9430311113043145\n",
      "\n",
      "\n",
      " At random state 24 , the Training accuracy is :- 0.9999998280069294\n",
      " At random state 24 , the testing accuracy is :- 0.9367857474762452\n",
      "\n",
      "\n",
      " At random state 25 , the Training accuracy is :- 0.9999998889596623\n",
      " At random state 25 , the testing accuracy is :- 0.9363563637589668\n",
      "\n",
      "\n",
      " At random state 26 , the Training accuracy is :- 0.9999998874479107\n",
      " At random state 26 , the testing accuracy is :- 0.9161333525035277\n",
      "\n",
      "\n",
      " At random state 27 , the Training accuracy is :- 0.9999998629370715\n",
      " At random state 27 , the testing accuracy is :- 0.9371217335384444\n",
      "\n",
      "\n",
      " At random state 28 , the Training accuracy is :- 0.9999998881583074\n",
      " At random state 28 , the testing accuracy is :- 0.9364854248758073\n",
      "\n",
      "\n",
      " At random state 29 , the Training accuracy is :- 0.9999998298083483\n",
      " At random state 29 , the testing accuracy is :- 0.9347510391433542\n",
      "\n",
      "\n",
      " At random state 30 , the Training accuracy is :- 0.9999999150599088\n",
      " At random state 30 , the testing accuracy is :- 0.9256271536947359\n",
      "\n",
      "\n",
      " At random state 31 , the Training accuracy is :- 0.999999829059239\n",
      " At random state 31 , the testing accuracy is :- 0.9525988442505517\n",
      "\n",
      "\n",
      " At random state 32 , the Training accuracy is :- 0.9999998312005149\n",
      " At random state 32 , the testing accuracy is :- 0.9230990199434599\n",
      "\n",
      "\n",
      " At random state 33 , the Training accuracy is :- 0.9999998638119425\n",
      " At random state 33 , the testing accuracy is :- 0.9311802726227607\n",
      "\n",
      "\n",
      " At random state 34 , the Training accuracy is :- 0.9999999255103983\n",
      " At random state 34 , the testing accuracy is :- 0.944776283717449\n",
      "\n",
      "\n",
      " At random state 35 , the Training accuracy is :- 0.9999998268185168\n",
      " At random state 35 , the testing accuracy is :- 0.9479351415125709\n",
      "\n",
      "\n",
      " At random state 36 , the Training accuracy is :- 0.9999998288994575\n",
      " At random state 36 , the testing accuracy is :- 0.9257954166325235\n",
      "\n",
      "\n",
      " At random state 37 , the Training accuracy is :- 0.9999999149128513\n",
      " At random state 37 , the testing accuracy is :- 0.9518281101030359\n",
      "\n",
      "\n",
      " At random state 38 , the Training accuracy is :- 0.9999998639620999\n",
      " At random state 38 , the testing accuracy is :- 0.9352032352508808\n",
      "\n",
      "\n",
      " At random state 39 , the Training accuracy is :- 0.9999998326923375\n",
      " At random state 39 , the testing accuracy is :- 0.9418031951671428\n",
      "\n",
      "\n",
      " At random state 40 , the Training accuracy is :- 0.9999998883042548\n",
      " At random state 40 , the testing accuracy is :- 0.9263311493663274\n",
      "\n",
      "\n",
      " At random state 41 , the Training accuracy is :- 0.9999998645962576\n",
      " At random state 41 , the testing accuracy is :- 0.9334997711847991\n",
      "\n",
      "\n",
      " At random state 42 , the Training accuracy is :- 0.9999998869840971\n",
      " At random state 42 , the testing accuracy is :- 0.9426050691324673\n",
      "\n",
      "\n",
      " At random state 43 , the Training accuracy is :- 0.9999998646719993\n",
      " At random state 43 , the testing accuracy is :- 0.9212131770094736\n",
      "\n",
      "\n",
      " At random state 44 , the Training accuracy is :- 0.9999998306551857\n",
      " At random state 44 , the testing accuracy is :- 0.9223540127353574\n",
      "\n",
      "\n",
      " At random state 45 , the Training accuracy is :- 0.9999999243965423\n",
      " At random state 45 , the testing accuracy is :- 0.9506808777308877\n",
      "\n",
      "\n",
      " At random state 46 , the Training accuracy is :- 0.9999999151699422\n",
      " At random state 46 , the testing accuracy is :- 0.9224392665734336\n",
      "\n",
      "\n",
      " At random state 47 , the Training accuracy is :- 0.9999999252368701\n",
      " At random state 47 , the testing accuracy is :- 0.9451127108284118\n",
      "\n",
      "\n",
      " At random state 48 , the Training accuracy is :- 0.9999998337164117\n",
      " At random state 48 , the testing accuracy is :- 0.9394317699720244\n",
      "\n",
      "\n",
      " At random state 49 , the Training accuracy is :- 0.9999998655955584\n",
      " At random state 49 , the testing accuracy is :- 0.9429196743895902\n",
      "\n",
      "\n",
      " At random state 50 , the Training accuracy is :- 0.9999998312401644\n",
      " At random state 50 , the testing accuracy is :- 0.9423123777075222\n",
      "\n",
      "\n",
      " At random state 51 , the Training accuracy is :- 0.9999999237544036\n",
      " At random state 51 , the testing accuracy is :- 0.9459008616488156\n",
      "\n",
      "\n",
      " At random state 52 , the Training accuracy is :- 0.9999999161933147\n",
      " At random state 52 , the testing accuracy is :- 0.9164192846887719\n",
      "\n",
      "\n",
      " At random state 53 , the Training accuracy is :- 0.9999998645776145\n",
      " At random state 53 , the testing accuracy is :- 0.9076439050063103\n",
      "\n",
      "\n",
      " At random state 54 , the Training accuracy is :- 0.9999998315712316\n",
      " At random state 54 , the testing accuracy is :- 0.9521704754457233\n",
      "\n",
      "\n",
      " At random state 55 , the Training accuracy is :- 0.9999998306340897\n",
      " At random state 55 , the testing accuracy is :- 0.9340325759417251\n",
      "\n",
      "\n",
      " At random state 56 , the Training accuracy is :- 0.9999999151693365\n",
      " At random state 56 , the testing accuracy is :- 0.9448216919720075\n",
      "\n",
      "\n",
      " At random state 57 , the Training accuracy is :- 0.9999998634053823\n",
      " At random state 57 , the testing accuracy is :- 0.9418444519061656\n",
      "\n",
      "\n",
      " At random state 58 , the Training accuracy is :- 0.9999998335760227\n",
      " At random state 58 , the testing accuracy is :- 0.9326041038114362\n",
      "\n",
      "\n",
      " At random state 59 , the Training accuracy is :- 0.9999998866740781\n",
      " At random state 59 , the testing accuracy is :- 0.9371744216549278\n",
      "\n",
      "\n",
      " At random state 60 , the Training accuracy is :- 0.9999998633999422\n",
      " At random state 60 , the testing accuracy is :- 0.9406304734704098\n",
      "\n",
      "\n",
      " At random state 61 , the Training accuracy is :- 0.9999999152939805\n",
      " At random state 61 , the testing accuracy is :- 0.9321691874899575\n",
      "\n",
      "\n",
      " At random state 62 , the Training accuracy is :- 0.9999998647580598\n",
      " At random state 62 , the testing accuracy is :- 0.9147254271761927\n",
      "\n",
      "\n",
      " At random state 63 , the Training accuracy is :- 0.9999998630493223\n",
      " At random state 63 , the testing accuracy is :- 0.9311381390547411\n",
      "\n",
      "\n",
      " At random state 64 , the Training accuracy is :- 0.9999998633250123\n",
      " At random state 64 , the testing accuracy is :- 0.9342836469649601\n",
      "\n",
      "\n",
      " At random state 65 , the Training accuracy is :- 0.9999998644853622\n",
      " At random state 65 , the testing accuracy is :- 0.933335692784778\n",
      "\n",
      "\n",
      " At random state 66 , the Training accuracy is :- 0.999999887167968\n",
      " At random state 66 , the testing accuracy is :- 0.9113437499971729\n",
      "\n",
      "\n",
      " At random state 67 , the Training accuracy is :- 0.999999865669078\n",
      " At random state 67 , the testing accuracy is :- 0.9333560851692229\n",
      "\n",
      "\n",
      " At random state 68 , the Training accuracy is :- 0.9999998309655861\n",
      " At random state 68 , the testing accuracy is :- 0.927582824865261\n",
      "\n",
      "\n",
      " At random state 69 , the Training accuracy is :- 0.9999998638518564\n",
      " At random state 69 , the testing accuracy is :- 0.9461545993466818\n",
      "\n",
      "\n",
      " At random state 70 , the Training accuracy is :- 0.9999998316063273\n",
      " At random state 70 , the testing accuracy is :- 0.926206613332424\n",
      "\n",
      "\n",
      " At random state 71 , the Training accuracy is :- 0.9999999157899817\n",
      " At random state 71 , the testing accuracy is :- 0.9423492038428306\n",
      "\n",
      "\n",
      " At random state 72 , the Training accuracy is :- 0.9999998304664992\n",
      " At random state 72 , the testing accuracy is :- 0.9295394851216445\n",
      "\n",
      "\n",
      " At random state 73 , the Training accuracy is :- 0.9999999160766198\n",
      " At random state 73 , the testing accuracy is :- 0.924797800456083\n",
      "\n",
      "\n",
      " At random state 74 , the Training accuracy is :- 0.9999998876125162\n",
      " At random state 74 , the testing accuracy is :- 0.9271712137910049\n",
      "\n",
      "\n",
      " At random state 75 , the Training accuracy is :- 0.9999999153166999\n",
      " At random state 75 , the testing accuracy is :- 0.9308666466137633\n",
      "\n",
      "\n",
      " At random state 76 , the Training accuracy is :- 0.9999998311348691\n",
      " At random state 76 , the testing accuracy is :- 0.9277427680559149\n",
      "\n",
      "\n",
      " At random state 77 , the Training accuracy is :- 0.9999998644936352\n",
      " At random state 77 , the testing accuracy is :- 0.9490089748523991\n",
      "\n",
      "\n",
      " At random state 78 , the Training accuracy is :- 0.9999999252722246\n",
      " At random state 78 , the testing accuracy is :- 0.919462399659318\n",
      "\n",
      "\n",
      " At random state 79 , the Training accuracy is :- 0.9999998301260544\n",
      " At random state 79 , the testing accuracy is :- 0.9340236852246617\n",
      "\n",
      "\n",
      " At random state 80 , the Training accuracy is :- 0.9999998297112707\n",
      " At random state 80 , the testing accuracy is :- 0.9381469390716145\n",
      "\n",
      "\n",
      " At random state 81 , the Training accuracy is :- 0.9999998874515126\n",
      " At random state 81 , the testing accuracy is :- 0.932820476187588\n",
      "\n",
      "\n",
      " At random state 82 , the Training accuracy is :- 0.9999998620611651\n",
      " At random state 82 , the testing accuracy is :- 0.9448048619483307\n",
      "\n",
      "\n",
      " At random state 83 , the Training accuracy is :- 0.9999998301888697\n",
      " At random state 83 , the testing accuracy is :- 0.9030053447921073\n",
      "\n",
      "\n",
      " At random state 84 , the Training accuracy is :- 0.9999998264311165\n",
      " At random state 84 , the testing accuracy is :- 0.9420758761481118\n",
      "\n",
      "\n",
      " At random state 85 , the Training accuracy is :- 0.9999999150475504\n",
      " At random state 85 , the testing accuracy is :- 0.9546464393236035\n",
      "\n",
      "\n",
      " At random state 86 , the Training accuracy is :- 0.9999998632331482\n",
      " At random state 86 , the testing accuracy is :- 0.9310774017783231\n",
      "\n",
      "\n",
      " At random state 87 , the Training accuracy is :- 0.9999998330019301\n",
      " At random state 87 , the testing accuracy is :- 0.9414856157654465\n",
      "\n",
      "\n",
      " At random state 88 , the Training accuracy is :- 0.9999998655662208\n",
      " At random state 88 , the testing accuracy is :- 0.9102986695770083\n",
      "\n",
      "\n",
      " At random state 89 , the Training accuracy is :- 0.9999999153969759\n",
      " At random state 89 , the testing accuracy is :- 0.946112242238323\n",
      "\n",
      "\n",
      " At random state 90 , the Training accuracy is :- 0.9999998315807327\n",
      " At random state 90 , the testing accuracy is :- 0.949492581515439\n",
      "\n",
      "\n",
      " At random state 91 , the Training accuracy is :- 0.9999998306200453\n",
      " At random state 91 , the testing accuracy is :- 0.923067149346091\n",
      "\n",
      "\n",
      " At random state 92 , the Training accuracy is :- 0.9999998642851018\n",
      " At random state 92 , the testing accuracy is :- 0.933122000031609\n",
      "\n",
      "\n",
      " At random state 93 , the Training accuracy is :- 0.9999999149847173\n",
      " At random state 93 , the testing accuracy is :- 0.9103753351927325\n",
      "\n",
      "\n",
      " At random state 94 , the Training accuracy is :- 0.999999831458815\n",
      " At random state 94 , the testing accuracy is :- 0.930777391365442\n",
      "\n",
      "\n",
      " At random state 95 , the Training accuracy is :- 0.9999998865817765\n",
      " At random state 95 , the testing accuracy is :- 0.941439479836397\n",
      "\n",
      "\n",
      " At random state 96 , the Training accuracy is :- 0.9999998640816876\n",
      " At random state 96 , the testing accuracy is :- 0.9394330083909013\n",
      "\n",
      "\n",
      " At random state 97 , the Training accuracy is :- 0.9999998876990804\n",
      " At random state 97 , the testing accuracy is :- 0.9321339014830856\n",
      "\n",
      "\n",
      " At random state 98 , the Training accuracy is :- 0.999999864045802\n",
      " At random state 98 , the testing accuracy is :- 0.9241871132243976\n",
      "\n",
      "\n",
      " At random state 99 , the Training accuracy is :- 0.9999999150622206\n",
      " At random state 99 , the testing accuracy is :- 0.9476049812972108\n",
      "\n",
      "\n"
     ]
    }
   ],
   "source": [
    "#Lets check with diffrent method\n",
    "for i in range(0,100):\n",
    "    x_train,x_test,y_train,y_test=train_test_split(x_scaled,y,test_size=0.2,random_state=i)\n",
    "    dt.fit(x_train,y_train)\n",
    "    x_pred=dt.predict(x_train)\n",
    "    y_pred=dt.predict(x_test)\n",
    "    print(f\" At random state {i} , the Training accuracy is :- {r2_score(y_train,x_pred)}\")\n",
    "    print(f\" At random state {i} , the testing accuracy is :- {r2_score(y_test,y_pred)}\")\n",
    "    print(\"\\n\")"
   ]
  },
  {
   "cell_type": "markdown",
   "id": "34e97059",
   "metadata": {},
   "source": [
    "Here we select random state 3"
   ]
  },
  {
   "cell_type": "code",
   "execution_count": 194,
   "id": "4f347db2",
   "metadata": {},
   "outputs": [],
   "source": [
    "x_train,x_test,y_train,y_test=train_test_split(x_scaled,y,test_size=0.2,random_state=3)"
   ]
  },
  {
   "cell_type": "code",
   "execution_count": 195,
   "id": "23c13fdf",
   "metadata": {},
   "outputs": [
    {
     "data": {
      "text/html": [
       "<style>#sk-container-id-7 {color: black;background-color: white;}#sk-container-id-7 pre{padding: 0;}#sk-container-id-7 div.sk-toggleable {background-color: white;}#sk-container-id-7 label.sk-toggleable__label {cursor: pointer;display: block;width: 100%;margin-bottom: 0;padding: 0.3em;box-sizing: border-box;text-align: center;}#sk-container-id-7 label.sk-toggleable__label-arrow:before {content: \"▸\";float: left;margin-right: 0.25em;color: #696969;}#sk-container-id-7 label.sk-toggleable__label-arrow:hover:before {color: black;}#sk-container-id-7 div.sk-estimator:hover label.sk-toggleable__label-arrow:before {color: black;}#sk-container-id-7 div.sk-toggleable__content {max-height: 0;max-width: 0;overflow: hidden;text-align: left;background-color: #f0f8ff;}#sk-container-id-7 div.sk-toggleable__content pre {margin: 0.2em;color: black;border-radius: 0.25em;background-color: #f0f8ff;}#sk-container-id-7 input.sk-toggleable__control:checked~div.sk-toggleable__content {max-height: 200px;max-width: 100%;overflow: auto;}#sk-container-id-7 input.sk-toggleable__control:checked~label.sk-toggleable__label-arrow:before {content: \"▾\";}#sk-container-id-7 div.sk-estimator input.sk-toggleable__control:checked~label.sk-toggleable__label {background-color: #d4ebff;}#sk-container-id-7 div.sk-label input.sk-toggleable__control:checked~label.sk-toggleable__label {background-color: #d4ebff;}#sk-container-id-7 input.sk-hidden--visually {border: 0;clip: rect(1px 1px 1px 1px);clip: rect(1px, 1px, 1px, 1px);height: 1px;margin: -1px;overflow: hidden;padding: 0;position: absolute;width: 1px;}#sk-container-id-7 div.sk-estimator {font-family: monospace;background-color: #f0f8ff;border: 1px dotted black;border-radius: 0.25em;box-sizing: border-box;margin-bottom: 0.5em;}#sk-container-id-7 div.sk-estimator:hover {background-color: #d4ebff;}#sk-container-id-7 div.sk-parallel-item::after {content: \"\";width: 100%;border-bottom: 1px solid gray;flex-grow: 1;}#sk-container-id-7 div.sk-label:hover label.sk-toggleable__label {background-color: #d4ebff;}#sk-container-id-7 div.sk-serial::before {content: \"\";position: absolute;border-left: 1px solid gray;box-sizing: border-box;top: 0;bottom: 0;left: 50%;z-index: 0;}#sk-container-id-7 div.sk-serial {display: flex;flex-direction: column;align-items: center;background-color: white;padding-right: 0.2em;padding-left: 0.2em;position: relative;}#sk-container-id-7 div.sk-item {position: relative;z-index: 1;}#sk-container-id-7 div.sk-parallel {display: flex;align-items: stretch;justify-content: center;background-color: white;position: relative;}#sk-container-id-7 div.sk-item::before, #sk-container-id-7 div.sk-parallel-item::before {content: \"\";position: absolute;border-left: 1px solid gray;box-sizing: border-box;top: 0;bottom: 0;left: 50%;z-index: -1;}#sk-container-id-7 div.sk-parallel-item {display: flex;flex-direction: column;z-index: 1;position: relative;background-color: white;}#sk-container-id-7 div.sk-parallel-item:first-child::after {align-self: flex-end;width: 50%;}#sk-container-id-7 div.sk-parallel-item:last-child::after {align-self: flex-start;width: 50%;}#sk-container-id-7 div.sk-parallel-item:only-child::after {width: 0;}#sk-container-id-7 div.sk-dashed-wrapped {border: 1px dashed gray;margin: 0 0.4em 0.5em 0.4em;box-sizing: border-box;padding-bottom: 0.4em;background-color: white;}#sk-container-id-7 div.sk-label label {font-family: monospace;font-weight: bold;display: inline-block;line-height: 1.2em;}#sk-container-id-7 div.sk-label-container {text-align: center;}#sk-container-id-7 div.sk-container {/* jupyter's `normalize.less` sets `[hidden] { display: none; }` but bootstrap.min.css set `[hidden] { display: none !important; }` so we also need the `!important` here to be able to override the default hidden behavior on the sphinx rendered scikit-learn.org. See: https://github.com/scikit-learn/scikit-learn/issues/21755 */display: inline-block !important;position: relative;}#sk-container-id-7 div.sk-text-repr-fallback {display: none;}</style><div id=\"sk-container-id-7\" class=\"sk-top-container\"><div class=\"sk-text-repr-fallback\"><pre>DecisionTreeRegressor()</pre><b>In a Jupyter environment, please rerun this cell to show the HTML representation or trust the notebook. <br />On GitHub, the HTML representation is unable to render, please try loading this page with nbviewer.org.</b></div><div class=\"sk-container\" hidden><div class=\"sk-item\"><div class=\"sk-estimator sk-toggleable\"><input class=\"sk-toggleable__control sk-hidden--visually\" id=\"sk-estimator-id-7\" type=\"checkbox\" checked><label for=\"sk-estimator-id-7\" class=\"sk-toggleable__label sk-toggleable__label-arrow\">DecisionTreeRegressor</label><div class=\"sk-toggleable__content\"><pre>DecisionTreeRegressor()</pre></div></div></div></div></div>"
      ],
      "text/plain": [
       "DecisionTreeRegressor()"
      ]
     },
     "execution_count": 195,
     "metadata": {},
     "output_type": "execute_result"
    }
   ],
   "source": [
    "dt.fit(x_train,y_train)"
   ]
  },
  {
   "cell_type": "code",
   "execution_count": 196,
   "id": "f5357e2a",
   "metadata": {},
   "outputs": [
    {
     "name": "stdout",
     "output_type": "stream",
     "text": [
      "0.9999998622924263\n"
     ]
    }
   ],
   "source": [
    "#Lets Print Training Score\n",
    "pred_train=dt.predict(x_train)\n",
    "print(r2_score(y_train,pred_train))"
   ]
  },
  {
   "cell_type": "code",
   "execution_count": 197,
   "id": "bdfcb947",
   "metadata": {},
   "outputs": [
    {
     "name": "stdout",
     "output_type": "stream",
     "text": [
      "0.9474092128051615\n"
     ]
    }
   ],
   "source": [
    "#Lets Print Testing Score\n",
    "train_pred=dt.predict(x_test)\n",
    "print(r2_score(y_test,train_pred))"
   ]
  },
  {
   "cell_type": "markdown",
   "id": "d83aefb6",
   "metadata": {},
   "source": [
    "# Cross Validation of the Model"
   ]
  },
  {
   "cell_type": "code",
   "execution_count": 198,
   "id": "aacf6a89",
   "metadata": {},
   "outputs": [
    {
     "name": "stdout",
     "output_type": "stream",
     "text": [
      "At cross fold 2 the CV Score is 0.895447878671518 and accuracy for training is -1.0571849236603916 and accuracy for testing is -1.0586569839916402\n",
      "\n",
      "\n",
      "At cross fold 3 the CV Score is 0.9196974828847146 and accuracy for training is -1.0571849236603916 and accuracy for testing is -1.0586569839916402\n",
      "\n",
      "\n",
      "At cross fold 4 the CV Score is 0.9158947698481114 and accuracy for training is -1.0571849236603916 and accuracy for testing is -1.0586569839916402\n",
      "\n",
      "\n",
      "At cross fold 5 the CV Score is 0.9256930508778618 and accuracy for training is -1.0571849236603916 and accuracy for testing is -1.0586569839916402\n",
      "\n",
      "\n",
      "At cross fold 6 the CV Score is 0.9347740279779204 and accuracy for training is -1.0571849236603916 and accuracy for testing is -1.0586569839916402\n",
      "\n",
      "\n",
      "At cross fold 7 the CV Score is 0.9250657467193301 and accuracy for training is -1.0571849236603916 and accuracy for testing is -1.0586569839916402\n",
      "\n",
      "\n",
      "At cross fold 8 the CV Score is 0.935069401971713 and accuracy for training is -1.0571849236603916 and accuracy for testing is -1.0586569839916402\n",
      "\n",
      "\n",
      "At cross fold 9 the CV Score is 0.9341845687013249 and accuracy for training is -1.0571849236603916 and accuracy for testing is -1.0586569839916402\n",
      "\n",
      "\n"
     ]
    }
   ],
   "source": [
    "train_accuracy=r2_score(y_train,x_pred)\n",
    "test_accuracy=r2_score(y_test,y_pred)\n",
    "#Lets import Cross Validation\n",
    "from sklearn.model_selection import cross_val_score\n",
    "for j in range(2,10):\n",
    "    cv_score=cross_val_score(dt,x_scaled,y,cv=j)\n",
    "    cv_mean=cv_score.mean()\n",
    "    \n",
    "    print(f\"At cross fold {j} the CV Score is {cv_mean} and accuracy for training is {train_accuracy} and accuracy for testing is {test_accuracy}\")\n",
    "    print(\"\\n\")"
   ]
  },
  {
   "cell_type": "markdown",
   "id": "02f224a1",
   "metadata": {},
   "source": [
    "# Lets Plot Best Fit Line and Check How Data points are Close to the Best Fit Line"
   ]
  },
  {
   "cell_type": "code",
   "execution_count": 199,
   "id": "e39cf8de",
   "metadata": {},
   "outputs": [
    {
     "data": {
      "image/png": "[encoded data removed]",
      "text/plain": [
       "<Figure size 576x432 with 1 Axes>"
      ]
     },
     "metadata": {
      "needs_background": "light"
     },
     "output_type": "display_data"
    }
   ],
   "source": [
    "import matplotlib.pyplot as plt\n",
    "plt.figure(figsize=(8,6))\n",
    "plt.scatter(x=y_test,y=train_pred,color='r')\n",
    "plt.plot(y_test,y_test,color='b')\n",
    "plt.xlabel(\"Acutal Charges \",fontsize=14)\n",
    "plt.ylabel(\"Predicted Charges \",fontsize=14)\n",
    "plt.title(\"Decision Tree Regression \",fontsize=18)\n",
    "plt.savefig('dt.png')\n",
    "plt.show()"
   ]
  },
  {
   "cell_type": "markdown",
   "id": "41dc1387",
   "metadata": {},
   "source": [
    "# Lets Plot With Random Forest"
   ]
  },
  {
   "cell_type": "code",
   "execution_count": 200,
   "id": "ed447020",
   "metadata": {},
   "outputs": [],
   "source": [
    "from sklearn.ensemble import RandomForestRegressor\n",
    "rf=RandomForestRegressor()"
   ]
  },
  {
   "cell_type": "code",
   "execution_count": 201,
   "id": "5a997984",
   "metadata": {},
   "outputs": [
    {
     "name": "stdout",
     "output_type": "stream",
     "text": [
      " At random state 0 , the Training accuracy is :- 0.9937608476181653\n",
      " At random state 0 , the testing accuracy is :- 0.9589396367821417\n",
      "\n",
      "\n",
      " At random state 1 , the Training accuracy is :- 0.9938226632623832\n",
      " At random state 1 , the testing accuracy is :- 0.9502669702472927\n",
      "\n",
      "\n",
      " At random state 2 , the Training accuracy is :- 0.9936961740035378\n",
      " At random state 2 , the testing accuracy is :- 0.9616275004190143\n",
      "\n",
      "\n",
      " At random state 3 , the Training accuracy is :- 0.9937326142024211\n",
      " At random state 3 , the testing accuracy is :- 0.9713681787457296\n",
      "\n",
      "\n",
      " At random state 4 , the Training accuracy is :- 0.9938399713845603\n",
      " At random state 4 , the testing accuracy is :- 0.9560753416288402\n",
      "\n",
      "\n",
      " At random state 5 , the Training accuracy is :- 0.9936124889235253\n",
      " At random state 5 , the testing accuracy is :- 0.9638180950230646\n",
      "\n",
      "\n",
      " At random state 6 , the Training accuracy is :- 0.9937050622724513\n",
      " At random state 6 , the testing accuracy is :- 0.9517940211523475\n",
      "\n",
      "\n",
      " At random state 7 , the Training accuracy is :- 0.9941220803243817\n",
      " At random state 7 , the testing accuracy is :- 0.9523218692591802\n",
      "\n",
      "\n",
      " At random state 8 , the Training accuracy is :- 0.9939498326730458\n",
      " At random state 8 , the testing accuracy is :- 0.959468384219779\n",
      "\n",
      "\n",
      " At random state 9 , the Training accuracy is :- 0.9937828213653449\n",
      " At random state 9 , the testing accuracy is :- 0.952098375796892\n",
      "\n",
      "\n",
      " At random state 10 , the Training accuracy is :- 0.9938551421519396\n",
      " At random state 10 , the testing accuracy is :- 0.9437546781946772\n",
      "\n",
      "\n",
      " At random state 11 , the Training accuracy is :- 0.9938554628663991\n",
      " At random state 11 , the testing accuracy is :- 0.9591334506044167\n",
      "\n",
      "\n",
      " At random state 12 , the Training accuracy is :- 0.9934055538401941\n",
      " At random state 12 , the testing accuracy is :- 0.964718916178512\n",
      "\n",
      "\n",
      " At random state 13 , the Training accuracy is :- 0.9943114040156275\n",
      " At random state 13 , the testing accuracy is :- 0.9524958420029672\n",
      "\n",
      "\n",
      " At random state 14 , the Training accuracy is :- 0.9939589841312798\n",
      " At random state 14 , the testing accuracy is :- 0.9647205673800117\n",
      "\n",
      "\n",
      " At random state 15 , the Training accuracy is :- 0.9940959367798595\n",
      " At random state 15 , the testing accuracy is :- 0.9444086488972081\n",
      "\n",
      "\n",
      " At random state 16 , the Training accuracy is :- 0.9941065784058759\n",
      " At random state 16 , the testing accuracy is :- 0.9574581323485927\n",
      "\n",
      "\n",
      " At random state 17 , the Training accuracy is :- 0.9931466287537896\n",
      " At random state 17 , the testing accuracy is :- 0.9618257555503883\n",
      "\n",
      "\n",
      " At random state 18 , the Training accuracy is :- 0.9935210939207341\n",
      " At random state 18 , the testing accuracy is :- 0.9655868863093626\n",
      "\n",
      "\n",
      " At random state 19 , the Training accuracy is :- 0.994245621706313\n",
      " At random state 19 , the testing accuracy is :- 0.9424053336060129\n",
      "\n",
      "\n",
      " At random state 20 , the Training accuracy is :- 0.9939065783570825\n",
      " At random state 20 , the testing accuracy is :- 0.9681975373927993\n",
      "\n",
      "\n",
      " At random state 21 , the Training accuracy is :- 0.9936728413853091\n",
      " At random state 21 , the testing accuracy is :- 0.9421352727700201\n",
      "\n",
      "\n",
      " At random state 22 , the Training accuracy is :- 0.9935779192091941\n",
      " At random state 22 , the testing accuracy is :- 0.9586238328729432\n",
      "\n",
      "\n",
      " At random state 23 , the Training accuracy is :- 0.9939142545168493\n",
      " At random state 23 , the testing accuracy is :- 0.9608345285174035\n",
      "\n",
      "\n",
      " At random state 24 , the Training accuracy is :- 0.9938211682630645\n",
      " At random state 24 , the testing accuracy is :- 0.9522612900760893\n",
      "\n",
      "\n",
      " At random state 25 , the Training accuracy is :- 0.993872209677608\n",
      " At random state 25 , the testing accuracy is :- 0.9577669948513235\n",
      "\n",
      "\n",
      " At random state 26 , the Training accuracy is :- 0.9940970040634484\n",
      " At random state 26 , the testing accuracy is :- 0.9494787545878012\n",
      "\n",
      "\n",
      " At random state 27 , the Training accuracy is :- 0.994366702987616\n",
      " At random state 27 , the testing accuracy is :- 0.9575682373643933\n",
      "\n",
      "\n",
      " At random state 28 , the Training accuracy is :- 0.9938542108516232\n",
      " At random state 28 , the testing accuracy is :- 0.9552081175721115\n",
      "\n",
      "\n",
      " At random state 29 , the Training accuracy is :- 0.9942214374410733\n",
      " At random state 29 , the testing accuracy is :- 0.9545602412880919\n",
      "\n",
      "\n",
      " At random state 30 , the Training accuracy is :- 0.994003429213197\n",
      " At random state 30 , the testing accuracy is :- 0.9553429269941656\n",
      "\n",
      "\n",
      " At random state 31 , the Training accuracy is :- 0.9940724132871608\n",
      " At random state 31 , the testing accuracy is :- 0.9669194909148688\n",
      "\n",
      "\n",
      " At random state 32 , the Training accuracy is :- 0.9944345654937188\n",
      " At random state 32 , the testing accuracy is :- 0.9493408184927199\n",
      "\n",
      "\n",
      " At random state 33 , the Training accuracy is :- 0.9939476564254602\n",
      " At random state 33 , the testing accuracy is :- 0.9492991031005035\n",
      "\n",
      "\n",
      " At random state 34 , the Training accuracy is :- 0.9938897800711071\n",
      " At random state 34 , the testing accuracy is :- 0.9583296200840467\n",
      "\n",
      "\n",
      " At random state 35 , the Training accuracy is :- 0.993733833490843\n",
      " At random state 35 , the testing accuracy is :- 0.9641519715204615\n",
      "\n",
      "\n",
      " At random state 36 , the Training accuracy is :- 0.9937665480837655\n",
      " At random state 36 , the testing accuracy is :- 0.950562853280691\n",
      "\n",
      "\n",
      " At random state 37 , the Training accuracy is :- 0.9941215340466488\n",
      " At random state 37 , the testing accuracy is :- 0.9622564960959392\n",
      "\n",
      "\n",
      " At random state 38 , the Training accuracy is :- 0.9941373313703431\n",
      " At random state 38 , the testing accuracy is :- 0.9445339840534588\n",
      "\n",
      "\n",
      " At random state 39 , the Training accuracy is :- 0.9938319888436468\n",
      " At random state 39 , the testing accuracy is :- 0.9603769517897577\n",
      "\n",
      "\n",
      " At random state 40 , the Training accuracy is :- 0.9939297792541419\n",
      " At random state 40 , the testing accuracy is :- 0.9598497975771819\n",
      "\n",
      "\n",
      " At random state 41 , the Training accuracy is :- 0.994244474465956\n",
      " At random state 41 , the testing accuracy is :- 0.9485075465174224\n",
      "\n",
      "\n",
      " At random state 42 , the Training accuracy is :- 0.9944421893687581\n",
      " At random state 42 , the testing accuracy is :- 0.9556704069644991\n",
      "\n",
      "\n",
      " At random state 43 , the Training accuracy is :- 0.9937019403450023\n",
      " At random state 43 , the testing accuracy is :- 0.9582236811585622\n",
      "\n",
      "\n",
      " At random state 44 , the Training accuracy is :- 0.9939598244833453\n",
      " At random state 44 , the testing accuracy is :- 0.955211555786551\n",
      "\n",
      "\n",
      " At random state 45 , the Training accuracy is :- 0.9935996329005434\n",
      " At random state 45 , the testing accuracy is :- 0.9631188058810669\n",
      "\n",
      "\n",
      " At random state 46 , the Training accuracy is :- 0.994021926763879\n",
      " At random state 46 , the testing accuracy is :- 0.939872850425521\n",
      "\n",
      "\n",
      " At random state 47 , the Training accuracy is :- 0.9937850428981159\n",
      " At random state 47 , the testing accuracy is :- 0.9628618823217117\n",
      "\n",
      "\n",
      " At random state 48 , the Training accuracy is :- 0.9941326915511333\n",
      " At random state 48 , the testing accuracy is :- 0.9607228938567641\n",
      "\n",
      "\n",
      " At random state 49 , the Training accuracy is :- 0.9932372210401509\n",
      " At random state 49 , the testing accuracy is :- 0.9642195232504007\n",
      "\n",
      "\n",
      " At random state 50 , the Training accuracy is :- 0.9939567780661996\n",
      " At random state 50 , the testing accuracy is :- 0.9616046994882186\n",
      "\n",
      "\n",
      " At random state 51 , the Training accuracy is :- 0.9937635544024043\n",
      " At random state 51 , the testing accuracy is :- 0.9618599886411205\n",
      "\n",
      "\n",
      " At random state 52 , the Training accuracy is :- 0.9935338956693034\n",
      " At random state 52 , the testing accuracy is :- 0.9487406725918341\n",
      "\n",
      "\n",
      " At random state 53 , the Training accuracy is :- 0.9941703488958574\n",
      " At random state 53 , the testing accuracy is :- 0.9428624564363579\n",
      "\n",
      "\n",
      " At random state 54 , the Training accuracy is :- 0.9944252351067617\n",
      " At random state 54 , the testing accuracy is :- 0.964536544247259\n",
      "\n",
      "\n",
      " At random state 55 , the Training accuracy is :- 0.9934203212864857\n",
      " At random state 55 , the testing accuracy is :- 0.9676628198770586\n",
      "\n",
      "\n",
      " At random state 56 , the Training accuracy is :- 0.9936518541660884\n",
      " At random state 56 , the testing accuracy is :- 0.960645866891677\n",
      "\n",
      "\n",
      " At random state 57 , the Training accuracy is :- 0.9936499172366815\n",
      " At random state 57 , the testing accuracy is :- 0.9658495898889026\n",
      "\n",
      "\n",
      " At random state 58 , the Training accuracy is :- 0.9941555347782064\n",
      " At random state 58 , the testing accuracy is :- 0.9455749083759327\n",
      "\n",
      "\n",
      " At random state 59 , the Training accuracy is :- 0.9935034679014768\n",
      " At random state 59 , the testing accuracy is :- 0.9568569401988192\n",
      "\n",
      "\n",
      " At random state 60 , the Training accuracy is :- 0.9939562122423389\n",
      " At random state 60 , the testing accuracy is :- 0.9562658626159477\n",
      "\n",
      "\n",
      " At random state 61 , the Training accuracy is :- 0.993941994418153\n",
      " At random state 61 , the testing accuracy is :- 0.9604384133633326\n",
      "\n",
      "\n",
      " At random state 62 , the Training accuracy is :- 0.9938386342976766\n",
      " At random state 62 , the testing accuracy is :- 0.9573314656591049\n",
      "\n",
      "\n",
      " At random state 63 , the Training accuracy is :- 0.9942811938052976\n",
      " At random state 63 , the testing accuracy is :- 0.9604044498793713\n",
      "\n",
      "\n",
      " At random state 64 , the Training accuracy is :- 0.993931366388303\n",
      " At random state 64 , the testing accuracy is :- 0.9569958289468471\n",
      "\n",
      "\n",
      " At random state 65 , the Training accuracy is :- 0.9939111727625748\n",
      " At random state 65 , the testing accuracy is :- 0.9623359265977317\n",
      "\n",
      "\n",
      " At random state 66 , the Training accuracy is :- 0.9939515598108907\n",
      " At random state 66 , the testing accuracy is :- 0.9525598465804652\n",
      "\n",
      "\n",
      " At random state 67 , the Training accuracy is :- 0.9936961697350801\n",
      " At random state 67 , the testing accuracy is :- 0.9498971255447791\n",
      "\n",
      "\n",
      " At random state 68 , the Training accuracy is :- 0.9943005762755448\n",
      " At random state 68 , the testing accuracy is :- 0.9369326989401399\n",
      "\n",
      "\n",
      " At random state 69 , the Training accuracy is :- 0.9935227764449462\n",
      " At random state 69 , the testing accuracy is :- 0.962574865168928\n",
      "\n",
      "\n",
      " At random state 70 , the Training accuracy is :- 0.9944259311370249\n",
      " At random state 70 , the testing accuracy is :- 0.957026878796629\n",
      "\n",
      "\n",
      " At random state 71 , the Training accuracy is :- 0.9938516364141197\n",
      " At random state 71 , the testing accuracy is :- 0.9595397919692931\n",
      "\n",
      "\n",
      " At random state 72 , the Training accuracy is :- 0.9940319138477371\n",
      " At random state 72 , the testing accuracy is :- 0.9607086002080295\n",
      "\n",
      "\n",
      " At random state 73 , the Training accuracy is :- 0.9941197325397434\n",
      " At random state 73 , the testing accuracy is :- 0.9526698100583801\n",
      "\n",
      "\n",
      " At random state 74 , the Training accuracy is :- 0.9944243438893519\n",
      " At random state 74 , the testing accuracy is :- 0.9490945369635759\n",
      "\n",
      "\n",
      " At random state 75 , the Training accuracy is :- 0.9937986629828179\n",
      " At random state 75 , the testing accuracy is :- 0.9529913699143646\n",
      "\n",
      "\n",
      " At random state 76 , the Training accuracy is :- 0.9939675014173249\n",
      " At random state 76 , the testing accuracy is :- 0.9487983026878934\n",
      "\n",
      "\n",
      " At random state 77 , the Training accuracy is :- 0.9936910942135058\n",
      " At random state 77 , the testing accuracy is :- 0.965789167409947\n",
      "\n",
      "\n",
      " At random state 78 , the Training accuracy is :- 0.9942509910906814\n",
      " At random state 78 , the testing accuracy is :- 0.9508719388466187\n",
      "\n",
      "\n",
      " At random state 79 , the Training accuracy is :- 0.994383094697403\n",
      " At random state 79 , the testing accuracy is :- 0.9556131098748227\n",
      "\n",
      "\n",
      " At random state 80 , the Training accuracy is :- 0.9937736436370433\n",
      " At random state 80 , the testing accuracy is :- 0.963652093555308\n",
      "\n",
      "\n",
      " At random state 81 , the Training accuracy is :- 0.99374166606417\n",
      " At random state 81 , the testing accuracy is :- 0.9607889603596121\n",
      "\n",
      "\n",
      " At random state 82 , the Training accuracy is :- 0.9933244268650264\n",
      " At random state 82 , the testing accuracy is :- 0.9616697993843122\n",
      "\n",
      "\n",
      " At random state 83 , the Training accuracy is :- 0.993642608221502\n",
      " At random state 83 , the testing accuracy is :- 0.9456940004033731\n",
      "\n",
      "\n",
      " At random state 84 , the Training accuracy is :- 0.9940133717742989\n",
      " At random state 84 , the testing accuracy is :- 0.9666057817895174\n",
      "\n",
      "\n",
      " At random state 85 , the Training accuracy is :- 0.9933777017342701\n",
      " At random state 85 , the testing accuracy is :- 0.9650893328613683\n",
      "\n",
      "\n",
      " At random state 86 , the Training accuracy is :- 0.9938855216360685\n",
      " At random state 86 , the testing accuracy is :- 0.9543962875671325\n",
      "\n",
      "\n",
      " At random state 87 , the Training accuracy is :- 0.9942798792217139\n",
      " At random state 87 , the testing accuracy is :- 0.9557260280714144\n",
      "\n",
      "\n",
      " At random state 88 , the Training accuracy is :- 0.9943703761043676\n",
      " At random state 88 , the testing accuracy is :- 0.9346593472846808\n",
      "\n",
      "\n",
      " At random state 89 , the Training accuracy is :- 0.9935160018364769\n",
      " At random state 89 , the testing accuracy is :- 0.9650689482501322\n",
      "\n",
      "\n",
      " At random state 90 , the Training accuracy is :- 0.9938070136591981\n",
      " At random state 90 , the testing accuracy is :- 0.9612177244113623\n",
      "\n",
      "\n",
      " At random state 91 , the Training accuracy is :- 0.9942637268819678\n",
      " At random state 91 , the testing accuracy is :- 0.9475600240132346\n",
      "\n",
      "\n",
      " At random state 92 , the Training accuracy is :- 0.9943546468056081\n",
      " At random state 92 , the testing accuracy is :- 0.952742636434083\n",
      "\n",
      "\n",
      " At random state 93 , the Training accuracy is :- 0.9939445627008917\n",
      " At random state 93 , the testing accuracy is :- 0.950821493842628\n",
      "\n",
      "\n",
      " At random state 94 , the Training accuracy is :- 0.9939540785116073\n",
      " At random state 94 , the testing accuracy is :- 0.9537557184924779\n",
      "\n",
      "\n",
      " At random state 95 , the Training accuracy is :- 0.9936941888304001\n",
      " At random state 95 , the testing accuracy is :- 0.9540332995436314\n",
      "\n",
      "\n",
      " At random state 96 , the Training accuracy is :- 0.9938078965215893\n",
      " At random state 96 , the testing accuracy is :- 0.96275732927895\n",
      "\n",
      "\n",
      " At random state 97 , the Training accuracy is :- 0.993688890622363\n",
      " At random state 97 , the testing accuracy is :- 0.9645360142225019\n",
      "\n",
      "\n",
      " At random state 98 , the Training accuracy is :- 0.9944202837750489\n",
      " At random state 98 , the testing accuracy is :- 0.9451790334745508\n",
      "\n",
      "\n",
      " At random state 99 , the Training accuracy is :- 0.9934638138439753\n",
      " At random state 99 , the testing accuracy is :- 0.9560107223774834\n",
      "\n",
      "\n"
     ]
    }
   ],
   "source": [
    "#Lets check with diffrent method\n",
    "for i in range(0,100):\n",
    "    x_train,x_test,y_train,y_test=train_test_split(x_scaled,y,test_size=0.2,random_state=i)\n",
    "    rf.fit(x_train,y_train)\n",
    "    x_pred=rf.predict(x_train)\n",
    "    y_pred=rf.predict(x_test)\n",
    "    print(f\" At random state {i} , the Training accuracy is :- {r2_score(y_train,x_pred)}\")\n",
    "    print(f\" At random state {i} , the testing accuracy is :- {r2_score(y_test,y_pred)}\")\n",
    "    print(\"\\n\")"
   ]
  },
  {
   "cell_type": "markdown",
   "id": "d744412c",
   "metadata": {},
   "source": [
    "Here we select random state 3"
   ]
  },
  {
   "cell_type": "code",
   "execution_count": 204,
   "id": "e496d036",
   "metadata": {},
   "outputs": [],
   "source": [
    "x_train,x_test,y_train,y_test=train_test_split(x_scaled,y,test_size=0.2,random_state=3)"
   ]
  },
  {
   "cell_type": "code",
   "execution_count": 205,
   "id": "533a146e",
   "metadata": {},
   "outputs": [
    {
     "data": {
      "text/html": [
       "<style>#sk-container-id-8 {color: black;background-color: white;}#sk-container-id-8 pre{padding: 0;}#sk-container-id-8 div.sk-toggleable {background-color: white;}#sk-container-id-8 label.sk-toggleable__label {cursor: pointer;display: block;width: 100%;margin-bottom: 0;padding: 0.3em;box-sizing: border-box;text-align: center;}#sk-container-id-8 label.sk-toggleable__label-arrow:before {content: \"▸\";float: left;margin-right: 0.25em;color: #696969;}#sk-container-id-8 label.sk-toggleable__label-arrow:hover:before {color: black;}#sk-container-id-8 div.sk-estimator:hover label.sk-toggleable__label-arrow:before {color: black;}#sk-container-id-8 div.sk-toggleable__content {max-height: 0;max-width: 0;overflow: hidden;text-align: left;background-color: #f0f8ff;}#sk-container-id-8 div.sk-toggleable__content pre {margin: 0.2em;color: black;border-radius: 0.25em;background-color: #f0f8ff;}#sk-container-id-8 input.sk-toggleable__control:checked~div.sk-toggleable__content {max-height: 200px;max-width: 100%;overflow: auto;}#sk-container-id-8 input.sk-toggleable__control:checked~label.sk-toggleable__label-arrow:before {content: \"▾\";}#sk-container-id-8 div.sk-estimator input.sk-toggleable__control:checked~label.sk-toggleable__label {background-color: #d4ebff;}#sk-container-id-8 div.sk-label input.sk-toggleable__control:checked~label.sk-toggleable__label {background-color: #d4ebff;}#sk-container-id-8 input.sk-hidden--visually {border: 0;clip: rect(1px 1px 1px 1px);clip: rect(1px, 1px, 1px, 1px);height: 1px;margin: -1px;overflow: hidden;padding: 0;position: absolute;width: 1px;}#sk-container-id-8 div.sk-estimator {font-family: monospace;background-color: #f0f8ff;border: 1px dotted black;border-radius: 0.25em;box-sizing: border-box;margin-bottom: 0.5em;}#sk-container-id-8 div.sk-estimator:hover {background-color: #d4ebff;}#sk-container-id-8 div.sk-parallel-item::after {content: \"\";width: 100%;border-bottom: 1px solid gray;flex-grow: 1;}#sk-container-id-8 div.sk-label:hover label.sk-toggleable__label {background-color: #d4ebff;}#sk-container-id-8 div.sk-serial::before {content: \"\";position: absolute;border-left: 1px solid gray;box-sizing: border-box;top: 0;bottom: 0;left: 50%;z-index: 0;}#sk-container-id-8 div.sk-serial {display: flex;flex-direction: column;align-items: center;background-color: white;padding-right: 0.2em;padding-left: 0.2em;position: relative;}#sk-container-id-8 div.sk-item {position: relative;z-index: 1;}#sk-container-id-8 div.sk-parallel {display: flex;align-items: stretch;justify-content: center;background-color: white;position: relative;}#sk-container-id-8 div.sk-item::before, #sk-container-id-8 div.sk-parallel-item::before {content: \"\";position: absolute;border-left: 1px solid gray;box-sizing: border-box;top: 0;bottom: 0;left: 50%;z-index: -1;}#sk-container-id-8 div.sk-parallel-item {display: flex;flex-direction: column;z-index: 1;position: relative;background-color: white;}#sk-container-id-8 div.sk-parallel-item:first-child::after {align-self: flex-end;width: 50%;}#sk-container-id-8 div.sk-parallel-item:last-child::after {align-self: flex-start;width: 50%;}#sk-container-id-8 div.sk-parallel-item:only-child::after {width: 0;}#sk-container-id-8 div.sk-dashed-wrapped {border: 1px dashed gray;margin: 0 0.4em 0.5em 0.4em;box-sizing: border-box;padding-bottom: 0.4em;background-color: white;}#sk-container-id-8 div.sk-label label {font-family: monospace;font-weight: bold;display: inline-block;line-height: 1.2em;}#sk-container-id-8 div.sk-label-container {text-align: center;}#sk-container-id-8 div.sk-container {/* jupyter's `normalize.less` sets `[hidden] { display: none; }` but bootstrap.min.css set `[hidden] { display: none !important; }` so we also need the `!important` here to be able to override the default hidden behavior on the sphinx rendered scikit-learn.org. See: https://github.com/scikit-learn/scikit-learn/issues/21755 */display: inline-block !important;position: relative;}#sk-container-id-8 div.sk-text-repr-fallback {display: none;}</style><div id=\"sk-container-id-8\" class=\"sk-top-container\"><div class=\"sk-text-repr-fallback\"><pre>RandomForestRegressor()</pre><b>In a Jupyter environment, please rerun this cell to show the HTML representation or trust the notebook. <br />On GitHub, the HTML representation is unable to render, please try loading this page with nbviewer.org.</b></div><div class=\"sk-container\" hidden><div class=\"sk-item\"><div class=\"sk-estimator sk-toggleable\"><input class=\"sk-toggleable__control sk-hidden--visually\" id=\"sk-estimator-id-8\" type=\"checkbox\" checked><label for=\"sk-estimator-id-8\" class=\"sk-toggleable__label sk-toggleable__label-arrow\">RandomForestRegressor</label><div class=\"sk-toggleable__content\"><pre>RandomForestRegressor()</pre></div></div></div></div></div>"
      ],
      "text/plain": [
       "RandomForestRegressor()"
      ]
     },
     "execution_count": 205,
     "metadata": {},
     "output_type": "execute_result"
    }
   ],
   "source": [
    "rf.fit(x_train,y_train)"
   ]
  },
  {
   "cell_type": "code",
   "execution_count": 206,
   "id": "574510e5",
   "metadata": {},
   "outputs": [
    {
     "name": "stdout",
     "output_type": "stream",
     "text": [
      "0.9932593901318522\n"
     ]
    }
   ],
   "source": [
    "#Lets Print Training Score\n",
    "pred_train=rf.predict(x_train)\n",
    "print(r2_score(y_train,pred_train))"
   ]
  },
  {
   "cell_type": "code",
   "execution_count": 207,
   "id": "4809c227",
   "metadata": {},
   "outputs": [
    {
     "name": "stdout",
     "output_type": "stream",
     "text": [
      "0.9693911133188712\n"
     ]
    }
   ],
   "source": [
    "#Lets Print Testing Score\n",
    "train_pred=rf.predict(x_test)\n",
    "print(r2_score(y_test,train_pred))"
   ]
  },
  {
   "cell_type": "markdown",
   "id": "9026e825",
   "metadata": {},
   "source": [
    "# Cross Validation of the Model"
   ]
  },
  {
   "cell_type": "code",
   "execution_count": 208,
   "id": "cdcdad95",
   "metadata": {},
   "outputs": [
    {
     "name": "stdout",
     "output_type": "stream",
     "text": [
      "At cross fold 2 the CV Score is 0.923541432908971 and accuracy for training is -1.02697158901293 and accuracy for testing is -0.992434425307642\n",
      "\n",
      "\n",
      "At cross fold 3 the CV Score is 0.9467833551279501 and accuracy for training is -1.02697158901293 and accuracy for testing is -0.992434425307642\n",
      "\n",
      "\n",
      "At cross fold 4 the CV Score is 0.9412401283686205 and accuracy for training is -1.02697158901293 and accuracy for testing is -0.992434425307642\n",
      "\n",
      "\n",
      "At cross fold 5 the CV Score is 0.9472862458124336 and accuracy for training is -1.02697158901293 and accuracy for testing is -0.992434425307642\n",
      "\n",
      "\n",
      "At cross fold 6 the CV Score is 0.9568194338107804 and accuracy for training is -1.02697158901293 and accuracy for testing is -0.992434425307642\n",
      "\n",
      "\n",
      "At cross fold 7 the CV Score is 0.9493149626481235 and accuracy for training is -1.02697158901293 and accuracy for testing is -0.992434425307642\n",
      "\n",
      "\n",
      "At cross fold 8 the CV Score is 0.9564920895812383 and accuracy for training is -1.02697158901293 and accuracy for testing is -0.992434425307642\n",
      "\n",
      "\n",
      "At cross fold 9 the CV Score is 0.9526268415128745 and accuracy for training is -1.02697158901293 and accuracy for testing is -0.992434425307642\n",
      "\n",
      "\n"
     ]
    }
   ],
   "source": [
    "train_accuracy=r2_score(y_train,x_pred)\n",
    "test_accuracy=r2_score(y_test,y_pred)\n",
    "#Lets import Cross Validation\n",
    "from sklearn.model_selection import cross_val_score\n",
    "for j in range(2,10):\n",
    "    cv_score=cross_val_score(rf,x_scaled,y,cv=j)\n",
    "    cv_mean=cv_score.mean()\n",
    "    \n",
    "    print(f\"At cross fold {j} the CV Score is {cv_mean} and accuracy for training is {train_accuracy} and accuracy for testing is {test_accuracy}\")\n",
    "    print(\"\\n\")"
   ]
  },
  {
   "cell_type": "markdown",
   "id": "a3c6f52e",
   "metadata": {},
   "source": [
    "# Lets Plot Best Fit Line and Check How Data points are Close to the Best Fit Line"
   ]
  },
  {
   "cell_type": "code",
   "execution_count": 209,
   "id": "d619f588",
   "metadata": {},
   "outputs": [
    {
     "data": {
      "image/png": "[encoded data removed]",
      "text/plain": [
       "<Figure size 576x432 with 1 Axes>"
      ]
     },
     "metadata": {
      "needs_background": "light"
     },
     "output_type": "display_data"
    }
   ],
   "source": [
    "import matplotlib.pyplot as plt\n",
    "plt.figure(figsize=(8,6))\n",
    "plt.scatter(x=y_test,y=train_pred,color='r')\n",
    "plt.plot(y_test,y_test,color='b')\n",
    "plt.xlabel(\"Acutal Charges \",fontsize=14)\n",
    "plt.ylabel(\"Predicted Charges \",fontsize=14)\n",
    "plt.title(\"Random Forest Regression \",fontsize=18)\n",
    "plt.savefig('rf.png')\n",
    "plt.show()"
   ]
  },
  {
   "cell_type": "markdown",
   "id": "fd5024af",
   "metadata": {},
   "source": [
    "# Lets Plot With XGBOOST"
   ]
  },
  {
   "cell_type": "code",
   "execution_count": 210,
   "id": "fb7c4a22",
   "metadata": {},
   "outputs": [],
   "source": [
    "import xgboost as xgb\n",
    "xgb = xgb.XGBRegressor()"
   ]
  },
  {
   "cell_type": "code",
   "execution_count": 211,
   "id": "e6eaa941",
   "metadata": {},
   "outputs": [
    {
     "name": "stdout",
     "output_type": "stream",
     "text": [
      " At random state 0 , the Training accuracy is :- 0.9900996439598629\n",
      " At random state 0 , the testing accuracy is :- 0.9613421203601198\n",
      "\n",
      "\n",
      " At random state 1 , the Training accuracy is :- 0.9896799854012507\n",
      " At random state 1 , the testing accuracy is :- 0.9628088699263844\n",
      "\n",
      "\n",
      " At random state 2 , the Training accuracy is :- 0.9907789431551219\n",
      " At random state 2 , the testing accuracy is :- 0.962733562043819\n",
      "\n",
      "\n",
      " At random state 3 , the Training accuracy is :- 0.990448343436521\n",
      " At random state 3 , the testing accuracy is :- 0.9666244633016372\n",
      "\n",
      "\n",
      " At random state 4 , the Training accuracy is :- 0.9904261883342331\n",
      " At random state 4 , the testing accuracy is :- 0.9609855287757176\n",
      "\n",
      "\n",
      " At random state 5 , the Training accuracy is :- 0.9902240602668569\n",
      " At random state 5 , the testing accuracy is :- 0.9644385497459137\n",
      "\n",
      "\n",
      " At random state 6 , the Training accuracy is :- 0.9899169958774784\n",
      " At random state 6 , the testing accuracy is :- 0.9546590083612329\n",
      "\n",
      "\n",
      " At random state 7 , the Training accuracy is :- 0.9898993524380492\n",
      " At random state 7 , the testing accuracy is :- 0.9565689503435423\n",
      "\n",
      "\n",
      " At random state 8 , the Training accuracy is :- 0.9897398358726378\n",
      " At random state 8 , the testing accuracy is :- 0.9552733869796792\n",
      "\n",
      "\n",
      " At random state 9 , the Training accuracy is :- 0.9904051466865585\n",
      " At random state 9 , the testing accuracy is :- 0.9542385670296877\n",
      "\n",
      "\n",
      " At random state 10 , the Training accuracy is :- 0.9902747697311386\n",
      " At random state 10 , the testing accuracy is :- 0.9522667575798066\n",
      "\n",
      "\n",
      " At random state 11 , the Training accuracy is :- 0.9899147964671211\n",
      " At random state 11 , the testing accuracy is :- 0.9629368647524399\n",
      "\n",
      "\n",
      " At random state 12 , the Training accuracy is :- 0.989741361969114\n",
      " At random state 12 , the testing accuracy is :- 0.9627780462988499\n",
      "\n",
      "\n",
      " At random state 13 , the Training accuracy is :- 0.9893243812221892\n",
      " At random state 13 , the testing accuracy is :- 0.951123869160919\n",
      "\n",
      "\n",
      " At random state 14 , the Training accuracy is :- 0.9904776154378572\n",
      " At random state 14 , the testing accuracy is :- 0.9613097538874582\n",
      "\n",
      "\n",
      " At random state 15 , the Training accuracy is :- 0.9898760982484547\n",
      " At random state 15 , the testing accuracy is :- 0.9556254582833714\n",
      "\n",
      "\n",
      " At random state 16 , the Training accuracy is :- 0.990376655546816\n",
      " At random state 16 , the testing accuracy is :- 0.958836646037076\n",
      "\n",
      "\n",
      " At random state 17 , the Training accuracy is :- 0.9893178202502168\n",
      " At random state 17 , the testing accuracy is :- 0.9649388384076465\n",
      "\n",
      "\n",
      " At random state 18 , the Training accuracy is :- 0.9895037215358109\n",
      " At random state 18 , the testing accuracy is :- 0.9645602153888615\n",
      "\n",
      "\n",
      " At random state 19 , the Training accuracy is :- 0.9897747938449772\n",
      " At random state 19 , the testing accuracy is :- 0.9548331706574323\n",
      "\n",
      "\n",
      " At random state 20 , the Training accuracy is :- 0.9899875707461984\n",
      " At random state 20 , the testing accuracy is :- 0.9606398803231309\n",
      "\n",
      "\n",
      " At random state 21 , the Training accuracy is :- 0.9913159063342696\n",
      " At random state 21 , the testing accuracy is :- 0.9510647081599779\n",
      "\n",
      "\n",
      " At random state 22 , the Training accuracy is :- 0.9905236008183792\n",
      " At random state 22 , the testing accuracy is :- 0.9608659667269266\n",
      "\n",
      "\n",
      " At random state 23 , the Training accuracy is :- 0.99009766485791\n",
      " At random state 23 , the testing accuracy is :- 0.9614265734964476\n",
      "\n",
      "\n",
      " At random state 24 , the Training accuracy is :- 0.9895293403304289\n",
      " At random state 24 , the testing accuracy is :- 0.9532822941847771\n",
      "\n",
      "\n",
      " At random state 25 , the Training accuracy is :- 0.9899021668780467\n",
      " At random state 25 , the testing accuracy is :- 0.9540158884124577\n",
      "\n",
      "\n",
      " At random state 26 , the Training accuracy is :- 0.9906725707270028\n",
      " At random state 26 , the testing accuracy is :- 0.9518593100561631\n",
      "\n",
      "\n",
      " At random state 27 , the Training accuracy is :- 0.989662277749075\n",
      " At random state 27 , the testing accuracy is :- 0.9575111662908389\n",
      "\n",
      "\n",
      " At random state 28 , the Training accuracy is :- 0.9910353264148136\n",
      " At random state 28 , the testing accuracy is :- 0.9625796446768868\n",
      "\n",
      "\n",
      " At random state 29 , the Training accuracy is :- 0.9903997494310252\n",
      " At random state 29 , the testing accuracy is :- 0.9602402376225092\n",
      "\n",
      "\n",
      " At random state 30 , the Training accuracy is :- 0.9901750878919259\n",
      " At random state 30 , the testing accuracy is :- 0.9553587928697383\n",
      "\n",
      "\n",
      " At random state 31 , the Training accuracy is :- 0.9900745468742982\n",
      " At random state 31 , the testing accuracy is :- 0.9640813688859692\n",
      "\n",
      "\n",
      " At random state 32 , the Training accuracy is :- 0.9899684636456609\n",
      " At random state 32 , the testing accuracy is :- 0.9476604490390167\n",
      "\n",
      "\n",
      " At random state 33 , the Training accuracy is :- 0.9899536861298905\n",
      " At random state 33 , the testing accuracy is :- 0.9498179212633053\n",
      "\n",
      "\n",
      " At random state 34 , the Training accuracy is :- 0.9894660442534245\n",
      " At random state 34 , the testing accuracy is :- 0.9607128937078242\n",
      "\n",
      "\n",
      " At random state 35 , the Training accuracy is :- 0.9899545828957074\n",
      " At random state 35 , the testing accuracy is :- 0.9621174895842266\n",
      "\n",
      "\n",
      " At random state 36 , the Training accuracy is :- 0.9898653746042079\n",
      " At random state 36 , the testing accuracy is :- 0.9489604182938126\n",
      "\n",
      "\n",
      " At random state 37 , the Training accuracy is :- 0.9905653110632593\n",
      " At random state 37 , the testing accuracy is :- 0.9602308861316966\n",
      "\n",
      "\n",
      " At random state 38 , the Training accuracy is :- 0.9896021976570533\n",
      " At random state 38 , the testing accuracy is :- 0.946660547398491\n",
      "\n",
      "\n",
      " At random state 39 , the Training accuracy is :- 0.9898291709564698\n",
      " At random state 39 , the testing accuracy is :- 0.9571578339877491\n",
      "\n",
      "\n",
      " At random state 40 , the Training accuracy is :- 0.989146894261501\n",
      " At random state 40 , the testing accuracy is :- 0.9622627315638602\n",
      "\n",
      "\n",
      " At random state 41 , the Training accuracy is :- 0.990982451813048\n",
      " At random state 41 , the testing accuracy is :- 0.9500430568293151\n",
      "\n",
      "\n",
      " At random state 42 , the Training accuracy is :- 0.9901728056406812\n",
      " At random state 42 , the testing accuracy is :- 0.9555943343572973\n",
      "\n",
      "\n",
      " At random state 43 , the Training accuracy is :- 0.9900346890114756\n",
      " At random state 43 , the testing accuracy is :- 0.9583557024961493\n",
      "\n",
      "\n",
      " At random state 44 , the Training accuracy is :- 0.9904720283357962\n",
      " At random state 44 , the testing accuracy is :- 0.9593162871015612\n",
      "\n",
      "\n",
      " At random state 45 , the Training accuracy is :- 0.9895211687749134\n",
      " At random state 45 , the testing accuracy is :- 0.9661393320519238\n",
      "\n",
      "\n",
      " At random state 46 , the Training accuracy is :- 0.9896496710308795\n",
      " At random state 46 , the testing accuracy is :- 0.9503575411783308\n",
      "\n",
      "\n",
      " At random state 47 , the Training accuracy is :- 0.9901032728563158\n",
      " At random state 47 , the testing accuracy is :- 0.9611187374901823\n",
      "\n",
      "\n",
      " At random state 48 , the Training accuracy is :- 0.9905643106640263\n",
      " At random state 48 , the testing accuracy is :- 0.9614625127574336\n",
      "\n",
      "\n",
      " At random state 49 , the Training accuracy is :- 0.9899989781523971\n",
      " At random state 49 , the testing accuracy is :- 0.9655777040272311\n",
      "\n",
      "\n",
      " At random state 50 , the Training accuracy is :- 0.9897343310769704\n",
      " At random state 50 , the testing accuracy is :- 0.9673583362071901\n",
      "\n",
      "\n",
      " At random state 51 , the Training accuracy is :- 0.9900973189372995\n",
      " At random state 51 , the testing accuracy is :- 0.9589886419149767\n",
      "\n",
      "\n",
      " At random state 52 , the Training accuracy is :- 0.9892789177679067\n",
      " At random state 52 , the testing accuracy is :- 0.9543963095563109\n",
      "\n",
      "\n",
      " At random state 53 , the Training accuracy is :- 0.9899996338912642\n",
      " At random state 53 , the testing accuracy is :- 0.952663533550595\n",
      "\n",
      "\n",
      " At random state 54 , the Training accuracy is :- 0.9904081495123178\n",
      " At random state 54 , the testing accuracy is :- 0.9592794257112228\n",
      "\n",
      "\n",
      " At random state 55 , the Training accuracy is :- 0.9897843295086056\n",
      " At random state 55 , the testing accuracy is :- 0.9680024440196905\n",
      "\n",
      "\n",
      " At random state 56 , the Training accuracy is :- 0.9897687641815879\n",
      " At random state 56 , the testing accuracy is :- 0.961007239462227\n",
      "\n",
      "\n",
      " At random state 57 , the Training accuracy is :- 0.9904176249590888\n",
      " At random state 57 , the testing accuracy is :- 0.9643320250514528\n",
      "\n",
      "\n",
      " At random state 58 , the Training accuracy is :- 0.9906643175016765\n",
      " At random state 58 , the testing accuracy is :- 0.9490497788863577\n",
      "\n",
      "\n",
      " At random state 59 , the Training accuracy is :- 0.9907389090508029\n",
      " At random state 59 , the testing accuracy is :- 0.9599854005666787\n",
      "\n",
      "\n",
      " At random state 60 , the Training accuracy is :- 0.9900956342237566\n",
      " At random state 60 , the testing accuracy is :- 0.9591439223632073\n",
      "\n",
      "\n",
      " At random state 61 , the Training accuracy is :- 0.9894301679555341\n",
      " At random state 61 , the testing accuracy is :- 0.9567737771953123\n",
      "\n",
      "\n",
      " At random state 62 , the Training accuracy is :- 0.9901031412205618\n",
      " At random state 62 , the testing accuracy is :- 0.9560177477193348\n",
      "\n",
      "\n",
      " At random state 63 , the Training accuracy is :- 0.9908843418883094\n",
      " At random state 63 , the testing accuracy is :- 0.9656920391429018\n",
      "\n",
      "\n",
      " At random state 64 , the Training accuracy is :- 0.989961941621309\n",
      " At random state 64 , the testing accuracy is :- 0.9639848333605481\n",
      "\n",
      "\n",
      " At random state 65 , the Training accuracy is :- 0.9895747468726364\n",
      " At random state 65 , the testing accuracy is :- 0.9596824733905706\n",
      "\n",
      "\n",
      " At random state 66 , the Training accuracy is :- 0.9899572290450176\n",
      " At random state 66 , the testing accuracy is :- 0.9523532727565677\n",
      "\n",
      "\n",
      " At random state 67 , the Training accuracy is :- 0.9906427582737714\n",
      " At random state 67 , the testing accuracy is :- 0.9521687715509011\n",
      "\n",
      "\n",
      " At random state 68 , the Training accuracy is :- 0.9901691120010966\n",
      " At random state 68 , the testing accuracy is :- 0.9477666309836844\n",
      "\n",
      "\n",
      " At random state 69 , the Training accuracy is :- 0.9905374248858797\n",
      " At random state 69 , the testing accuracy is :- 0.9572466661918044\n",
      "\n",
      "\n",
      " At random state 70 , the Training accuracy is :- 0.9897694209740096\n",
      " At random state 70 , the testing accuracy is :- 0.9593998496847193\n",
      "\n",
      "\n",
      " At random state 71 , the Training accuracy is :- 0.9899093946851162\n",
      " At random state 71 , the testing accuracy is :- 0.9593231340005736\n",
      "\n",
      "\n",
      " At random state 72 , the Training accuracy is :- 0.9905104260134598\n",
      " At random state 72 , the testing accuracy is :- 0.9557261279279586\n",
      "\n",
      "\n",
      " At random state 73 , the Training accuracy is :- 0.9903174887992753\n",
      " At random state 73 , the testing accuracy is :- 0.9590032903518014\n",
      "\n",
      "\n",
      " At random state 74 , the Training accuracy is :- 0.9901104067364086\n",
      " At random state 74 , the testing accuracy is :- 0.9521621984579276\n",
      "\n",
      "\n",
      " At random state 75 , the Training accuracy is :- 0.9895761423226515\n",
      " At random state 75 , the testing accuracy is :- 0.9528386538410762\n",
      "\n",
      "\n",
      " At random state 76 , the Training accuracy is :- 0.9899071035190354\n",
      " At random state 76 , the testing accuracy is :- 0.9508856713851702\n",
      "\n",
      "\n",
      " At random state 77 , the Training accuracy is :- 0.9896958036397349\n",
      " At random state 77 , the testing accuracy is :- 0.9651438097780521\n",
      "\n",
      "\n",
      " At random state 78 , the Training accuracy is :- 0.9907899546828067\n",
      " At random state 78 , the testing accuracy is :- 0.9460308596732718\n",
      "\n",
      "\n",
      " At random state 79 , the Training accuracy is :- 0.989508169864423\n",
      " At random state 79 , the testing accuracy is :- 0.9515388865389135\n",
      "\n",
      "\n",
      " At random state 80 , the Training accuracy is :- 0.9889313512464989\n",
      " At random state 80 , the testing accuracy is :- 0.9663382479590691\n",
      "\n",
      "\n",
      " At random state 81 , the Training accuracy is :- 0.9901251650138749\n",
      " At random state 81 , the testing accuracy is :- 0.9639723139082246\n",
      "\n",
      "\n",
      " At random state 82 , the Training accuracy is :- 0.9899455929080118\n",
      " At random state 82 , the testing accuracy is :- 0.9585167170992873\n",
      "\n",
      "\n",
      " At random state 83 , the Training accuracy is :- 0.9902740063908816\n",
      " At random state 83 , the testing accuracy is :- 0.9450103718396442\n",
      "\n",
      "\n",
      " At random state 84 , the Training accuracy is :- 0.9896928362657892\n",
      " At random state 84 , the testing accuracy is :- 0.9570072834808395\n",
      "\n",
      "\n",
      " At random state 85 , the Training accuracy is :- 0.9895484921168517\n",
      " At random state 85 , the testing accuracy is :- 0.9626897556061582\n",
      "\n",
      "\n",
      " At random state 86 , the Training accuracy is :- 0.989707065025424\n",
      " At random state 86 , the testing accuracy is :- 0.9532122248038922\n",
      "\n",
      "\n",
      " At random state 87 , the Training accuracy is :- 0.989859337853784\n",
      " At random state 87 , the testing accuracy is :- 0.952809523260469\n",
      "\n",
      "\n",
      " At random state 88 , the Training accuracy is :- 0.9908772764904958\n",
      " At random state 88 , the testing accuracy is :- 0.9442741883359259\n",
      "\n",
      "\n",
      " At random state 89 , the Training accuracy is :- 0.9897117718969088\n",
      " At random state 89 , the testing accuracy is :- 0.9625241275541307\n",
      "\n",
      "\n",
      " At random state 90 , the Training accuracy is :- 0.9905634232540371\n",
      " At random state 90 , the testing accuracy is :- 0.9583314300128595\n",
      "\n",
      "\n",
      " At random state 91 , the Training accuracy is :- 0.9907956260566723\n",
      " At random state 91 , the testing accuracy is :- 0.9479414310121705\n",
      "\n",
      "\n",
      " At random state 92 , the Training accuracy is :- 0.9889254055378192\n",
      " At random state 92 , the testing accuracy is :- 0.9580024767190578\n",
      "\n",
      "\n",
      " At random state 93 , the Training accuracy is :- 0.9904339290182411\n",
      " At random state 93 , the testing accuracy is :- 0.9483016085384325\n",
      "\n",
      "\n",
      " At random state 94 , the Training accuracy is :- 0.9901907941661683\n",
      " At random state 94 , the testing accuracy is :- 0.9577526097193438\n",
      "\n",
      "\n",
      " At random state 95 , the Training accuracy is :- 0.9909335225683849\n",
      " At random state 95 , the testing accuracy is :- 0.9630195212629136\n",
      "\n",
      "\n",
      " At random state 96 , the Training accuracy is :- 0.9897031768994644\n",
      " At random state 96 , the testing accuracy is :- 0.9622366263643032\n",
      "\n",
      "\n",
      " At random state 97 , the Training accuracy is :- 0.9891088993258167\n",
      " At random state 97 , the testing accuracy is :- 0.9676967955610333\n",
      "\n",
      "\n",
      " At random state 98 , the Training accuracy is :- 0.9901284739286701\n",
      " At random state 98 , the testing accuracy is :- 0.9531690260935456\n",
      "\n",
      "\n",
      " At random state 99 , the Training accuracy is :- 0.9899058013619055\n",
      " At random state 99 , the testing accuracy is :- 0.9586683296805992\n",
      "\n",
      "\n"
     ]
    }
   ],
   "source": [
    "#Lets check with diffrent method\n",
    "for i in range(0,100):\n",
    "    x_train,x_test,y_train,y_test=train_test_split(x_scaled,y,test_size=0.2,random_state=i)\n",
    "    xgb.fit(x_train,y_train)\n",
    "    x_pred=xgb.predict(x_train)\n",
    "    y_pred=xgb.predict(x_test)\n",
    "    print(f\" At random state {i} , the Training accuracy is :- {r2_score(y_train,x_pred)}\")\n",
    "    print(f\" At random state {i} , the testing accuracy is :- {r2_score(y_test,y_pred)}\")\n",
    "    print(\"\\n\")"
   ]
  },
  {
   "cell_type": "code",
   "execution_count": 212,
   "id": "3a7088bf",
   "metadata": {},
   "outputs": [],
   "source": [
    "x_train,x_test,y_train,y_test=train_test_split(x,y,test_size=0.2,random_state=3)"
   ]
  },
  {
   "cell_type": "code",
   "execution_count": 213,
   "id": "bbb99d36",
   "metadata": {},
   "outputs": [
    {
     "data": {
      "text/html": [
       "<style>#sk-container-id-9 {color: black;background-color: white;}#sk-container-id-9 pre{padding: 0;}#sk-container-id-9 div.sk-toggleable {background-color: white;}#sk-container-id-9 label.sk-toggleable__label {cursor: pointer;display: block;width: 100%;margin-bottom: 0;padding: 0.3em;box-sizing: border-box;text-align: center;}#sk-container-id-9 label.sk-toggleable__label-arrow:before {content: \"▸\";float: left;margin-right: 0.25em;color: #696969;}#sk-container-id-9 label.sk-toggleable__label-arrow:hover:before {color: black;}#sk-container-id-9 div.sk-estimator:hover label.sk-toggleable__label-arrow:before {color: black;}#sk-container-id-9 div.sk-toggleable__content {max-height: 0;max-width: 0;overflow: hidden;text-align: left;background-color: #f0f8ff;}#sk-container-id-9 div.sk-toggleable__content pre {margin: 0.2em;color: black;border-radius: 0.25em;background-color: #f0f8ff;}#sk-container-id-9 input.sk-toggleable__control:checked~div.sk-toggleable__content {max-height: 200px;max-width: 100%;overflow: auto;}#sk-container-id-9 input.sk-toggleable__control:checked~label.sk-toggleable__label-arrow:before {content: \"▾\";}#sk-container-id-9 div.sk-estimator input.sk-toggleable__control:checked~label.sk-toggleable__label {background-color: #d4ebff;}#sk-container-id-9 div.sk-label input.sk-toggleable__control:checked~label.sk-toggleable__label {background-color: #d4ebff;}#sk-container-id-9 input.sk-hidden--visually {border: 0;clip: rect(1px 1px 1px 1px);clip: rect(1px, 1px, 1px, 1px);height: 1px;margin: -1px;overflow: hidden;padding: 0;position: absolute;width: 1px;}#sk-container-id-9 div.sk-estimator {font-family: monospace;background-color: #f0f8ff;border: 1px dotted black;border-radius: 0.25em;box-sizing: border-box;margin-bottom: 0.5em;}#sk-container-id-9 div.sk-estimator:hover {background-color: #d4ebff;}#sk-container-id-9 div.sk-parallel-item::after {content: \"\";width: 100%;border-bottom: 1px solid gray;flex-grow: 1;}#sk-container-id-9 div.sk-label:hover label.sk-toggleable__label {background-color: #d4ebff;}#sk-container-id-9 div.sk-serial::before {content: \"\";position: absolute;border-left: 1px solid gray;box-sizing: border-box;top: 0;bottom: 0;left: 50%;z-index: 0;}#sk-container-id-9 div.sk-serial {display: flex;flex-direction: column;align-items: center;background-color: white;padding-right: 0.2em;padding-left: 0.2em;position: relative;}#sk-container-id-9 div.sk-item {position: relative;z-index: 1;}#sk-container-id-9 div.sk-parallel {display: flex;align-items: stretch;justify-content: center;background-color: white;position: relative;}#sk-container-id-9 div.sk-item::before, #sk-container-id-9 div.sk-parallel-item::before {content: \"\";position: absolute;border-left: 1px solid gray;box-sizing: border-box;top: 0;bottom: 0;left: 50%;z-index: -1;}#sk-container-id-9 div.sk-parallel-item {display: flex;flex-direction: column;z-index: 1;position: relative;background-color: white;}#sk-container-id-9 div.sk-parallel-item:first-child::after {align-self: flex-end;width: 50%;}#sk-container-id-9 div.sk-parallel-item:last-child::after {align-self: flex-start;width: 50%;}#sk-container-id-9 div.sk-parallel-item:only-child::after {width: 0;}#sk-container-id-9 div.sk-dashed-wrapped {border: 1px dashed gray;margin: 0 0.4em 0.5em 0.4em;box-sizing: border-box;padding-bottom: 0.4em;background-color: white;}#sk-container-id-9 div.sk-label label {font-family: monospace;font-weight: bold;display: inline-block;line-height: 1.2em;}#sk-container-id-9 div.sk-label-container {text-align: center;}#sk-container-id-9 div.sk-container {/* jupyter's `normalize.less` sets `[hidden] { display: none; }` but bootstrap.min.css set `[hidden] { display: none !important; }` so we also need the `!important` here to be able to override the default hidden behavior on the sphinx rendered scikit-learn.org. See: https://github.com/scikit-learn/scikit-learn/issues/21755 */display: inline-block !important;position: relative;}#sk-container-id-9 div.sk-text-repr-fallback {display: none;}</style><div id=\"sk-container-id-9\" class=\"sk-top-container\"><div class=\"sk-text-repr-fallback\"><pre>XGBRegressor(base_score=0.5, booster=&#x27;gbtree&#x27;, callbacks=None,\n",
       "             colsample_bylevel=1, colsample_bynode=1, colsample_bytree=1,\n",
       "             early_stopping_rounds=None, enable_categorical=False,\n",
       "             eval_metric=None, gamma=0, gpu_id=-1, grow_policy=&#x27;depthwise&#x27;,\n",
       "             importance_type=None, interaction_constraints=&#x27;&#x27;,\n",
       "             learning_rate=0.300000012, max_bin=256, max_cat_to_onehot=4,\n",
       "             max_delta_step=0, max_depth=6, max_leaves=0, min_child_weight=1,\n",
       "             missing=nan, monotone_constraints=&#x27;()&#x27;, n_estimators=100, n_jobs=0,\n",
       "             num_parallel_tree=1, predictor=&#x27;auto&#x27;, random_state=0, reg_alpha=0,\n",
       "             reg_lambda=1, ...)</pre><b>In a Jupyter environment, please rerun this cell to show the HTML representation or trust the notebook. <br />On GitHub, the HTML representation is unable to render, please try loading this page with nbviewer.org.</b></div><div class=\"sk-container\" hidden><div class=\"sk-item\"><div class=\"sk-estimator sk-toggleable\"><input class=\"sk-toggleable__control sk-hidden--visually\" id=\"sk-estimator-id-9\" type=\"checkbox\" checked><label for=\"sk-estimator-id-9\" class=\"sk-toggleable__label sk-toggleable__label-arrow\">XGBRegressor</label><div class=\"sk-toggleable__content\"><pre>XGBRegressor(base_score=0.5, booster=&#x27;gbtree&#x27;, callbacks=None,\n",
       "             colsample_bylevel=1, colsample_bynode=1, colsample_bytree=1,\n",
       "             early_stopping_rounds=None, enable_categorical=False,\n",
       "             eval_metric=None, gamma=0, gpu_id=-1, grow_policy=&#x27;depthwise&#x27;,\n",
       "             importance_type=None, interaction_constraints=&#x27;&#x27;,\n",
       "             learning_rate=0.300000012, max_bin=256, max_cat_to_onehot=4,\n",
       "             max_delta_step=0, max_depth=6, max_leaves=0, min_child_weight=1,\n",
       "             missing=nan, monotone_constraints=&#x27;()&#x27;, n_estimators=100, n_jobs=0,\n",
       "             num_parallel_tree=1, predictor=&#x27;auto&#x27;, random_state=0, reg_alpha=0,\n",
       "             reg_lambda=1, ...)</pre></div></div></div></div></div>"
      ],
      "text/plain": [
       "XGBRegressor(base_score=0.5, booster='gbtree', callbacks=None,\n",
       "             colsample_bylevel=1, colsample_bynode=1, colsample_bytree=1,\n",
       "             early_stopping_rounds=None, enable_categorical=False,\n",
       "             eval_metric=None, gamma=0, gpu_id=-1, grow_policy='depthwise',\n",
       "             importance_type=None, interaction_constraints='',\n",
       "             learning_rate=0.300000012, max_bin=256, max_cat_to_onehot=4,\n",
       "             max_delta_step=0, max_depth=6, max_leaves=0, min_child_weight=1,\n",
       "             missing=nan, monotone_constraints='()', n_estimators=100, n_jobs=0,\n",
       "             num_parallel_tree=1, predictor='auto', random_state=0, reg_alpha=0,\n",
       "             reg_lambda=1, ...)"
      ]
     },
     "execution_count": 213,
     "metadata": {},
     "output_type": "execute_result"
    }
   ],
   "source": [
    "xgb.fit(x_train,y_train)"
   ]
  },
  {
   "cell_type": "code",
   "execution_count": 214,
   "id": "6aa76e45",
   "metadata": {},
   "outputs": [
    {
     "name": "stdout",
     "output_type": "stream",
     "text": [
      "0.990448343436521\n"
     ]
    }
   ],
   "source": [
    "#Lets Print Training Score\n",
    "pred_train=xgb.predict(x_train)\n",
    "print(r2_score(y_train,pred_train))"
   ]
  },
  {
   "cell_type": "code",
   "execution_count": 215,
   "id": "e4673803",
   "metadata": {},
   "outputs": [
    {
     "name": "stdout",
     "output_type": "stream",
     "text": [
      "0.966678676644087\n"
     ]
    }
   ],
   "source": [
    "#Lets Print Testing Score\n",
    "train_pred=xgb.predict(x_test)\n",
    "print(r2_score(y_test,train_pred))"
   ]
  },
  {
   "cell_type": "markdown",
   "id": "e0ae3592",
   "metadata": {},
   "source": [
    "# Cross Validation of the Model"
   ]
  },
  {
   "cell_type": "code",
   "execution_count": 216,
   "id": "ad4b23f8",
   "metadata": {},
   "outputs": [
    {
     "name": "stdout",
     "output_type": "stream",
     "text": [
      "At cross fold 2 the CV Score is 0.93553939147756 and accuracy for training is -1.0228439380478789 and accuracy for testing is -0.9947148174146554\n",
      "\n",
      "\n",
      "At cross fold 3 the CV Score is 0.9525657194813762 and accuracy for training is -1.0228439380478789 and accuracy for testing is -0.9947148174146554\n",
      "\n",
      "\n",
      "At cross fold 4 the CV Score is 0.9466539243601146 and accuracy for training is -1.0228439380478789 and accuracy for testing is -0.9947148174146554\n",
      "\n",
      "\n",
      "At cross fold 5 the CV Score is 0.9526686561083608 and accuracy for training is -1.0228439380478789 and accuracy for testing is -0.9947148174146554\n",
      "\n",
      "\n",
      "At cross fold 6 the CV Score is 0.9588075761598288 and accuracy for training is -1.0228439380478789 and accuracy for testing is -0.9947148174146554\n",
      "\n",
      "\n",
      "At cross fold 7 the CV Score is 0.9511479833482961 and accuracy for training is -1.0228439380478789 and accuracy for testing is -0.9947148174146554\n",
      "\n",
      "\n",
      "At cross fold 8 the CV Score is 0.9563882064995577 and accuracy for training is -1.0228439380478789 and accuracy for testing is -0.9947148174146554\n",
      "\n",
      "\n",
      "At cross fold 9 the CV Score is 0.9543657169338409 and accuracy for training is -1.0228439380478789 and accuracy for testing is -0.9947148174146554\n",
      "\n",
      "\n"
     ]
    }
   ],
   "source": [
    "train_accuracy=r2_score(y_train,x_pred)\n",
    "test_accuracy=r2_score(y_test,y_pred)\n",
    "#Lets import Cross Validation\n",
    "from sklearn.model_selection import cross_val_score\n",
    "for j in range(2,10):\n",
    "    cv_score=cross_val_score(xgb,x,y,cv=j)\n",
    "    cv_mean=cv_score.mean()\n",
    "    \n",
    "    print(f\"At cross fold {j} the CV Score is {cv_mean} and accuracy for training is {train_accuracy} and accuracy for testing is {test_accuracy}\")\n",
    "    print(\"\\n\")"
   ]
  },
  {
   "cell_type": "markdown",
   "id": "23f7a854",
   "metadata": {},
   "source": [
    "# Lets Plot Best Fit Line and Check How Data points are Close to the Best Fit Line"
   ]
  },
  {
   "cell_type": "code",
   "execution_count": 217,
   "id": "e94f5319",
   "metadata": {},
   "outputs": [
    {
     "data": {
      "image/png": "[encoded data removed]",
      "text/plain": [
       "<Figure size 576x432 with 1 Axes>"
      ]
     },
     "metadata": {
      "needs_background": "light"
     },
     "output_type": "display_data"
    }
   ],
   "source": [
    "plt.figure(figsize=(8,6))\n",
    "plt.scatter(x=y_test,y=train_pred,color='r')\n",
    "plt.plot(y_test,y_test,color='b')\n",
    "plt.xlabel(\"Acutal Charges \",fontsize=14)\n",
    "plt.ylabel(\"Predicted Charges \",fontsize=14)\n",
    "plt.title(\" XGBOOST \",fontsize=18)\n",
    "plt.savefig('xgb.png')\n",
    "plt.show()"
   ]
  },
  {
   "cell_type": "markdown",
   "id": "9786a827",
   "metadata": {},
   "source": [
    "# hyperparameter tuning. with Random Forest Regressor"
   ]
  },
  {
   "cell_type": "code",
   "execution_count": 218,
   "id": "35423827",
   "metadata": {},
   "outputs": [],
   "source": [
    "parameter={'criterion':['mse','mae'],\n",
    "          'max_features':['auto','sqrt','log2'],\n",
    "          'max_depth':range(10,15),\n",
    "          'min_samples_split':range(9,10),\n",
    "          'min_samples_leaf':range(5,6)}"
   ]
  },
  {
   "cell_type": "code",
   "execution_count": 219,
   "id": "8d074c7d",
   "metadata": {},
   "outputs": [
    {
     "name": "stdout",
     "output_type": "stream",
     "text": [
      "{'criterion': 'mse', 'max_depth': 14, 'max_features': 'auto', 'min_samples_leaf': 5, 'min_samples_split': 9}\n"
     ]
    }
   ],
   "source": [
    "rf = RandomForestRegressor()\n",
    "clf=GridSearchCV(rf,parameter)\n",
    "clf.fit(x_train,y_train)\n",
    "print(clf.best_params_)"
   ]
  },
  {
   "cell_type": "code",
   "execution_count": 220,
   "id": "5eba8505",
   "metadata": {},
   "outputs": [
    {
     "name": "stdout",
     "output_type": "stream",
     "text": [
      "R2 Score 88.93042064431853\n",
      "Cross Val Score 89.0572293722042\n"
     ]
    }
   ],
   "source": [
    "rf=RandomForestRegressor(criterion='mse',max_features='log2',max_depth=12,min_samples_leaf=5,min_samples_split=9)\n",
    "rf.fit(x_train,y_train)\n",
    "rf.score(x_train,y_train)\n",
    "pred_decision=rf.predict(x_test)\n",
    "rfs=r2_score(y_test,pred_decision)\n",
    "print(\"R2 Score\",rfs*100)\n",
    "rfs_score=cross_val_score(rf,x_scaled,y,cv=13)\n",
    "rfc=rfs_score.mean()\n",
    "print('Cross Val Score',rfc*100)"
   ]
  },
  {
   "cell_type": "markdown",
   "id": "4fa412a3",
   "metadata": {},
   "source": [
    "# Lets Save Our Model"
   ]
  },
  {
   "cell_type": "code",
   "execution_count": 222,
   "id": "f0b9f603",
   "metadata": {},
   "outputs": [],
   "source": [
    "import pickle\n",
    "filename='CAR_PRICE_PREDICTION.'\n",
    "pickle.dump(rf,open(filename,'wb'))"
   ]
  },
  {
   "cell_type": "markdown",
   "id": "8a8163ee",
   "metadata": {},
   "source": [
    "# Conclusion"
   ]
  },
  {
   "cell_type": "code",
   "execution_count": 223,
   "id": "474229e1",
   "metadata": {},
   "outputs": [
    {
     "name": "stdout",
     "output_type": "stream",
     "text": [
      "88.93042064431853\n"
     ]
    }
   ],
   "source": [
    "loaded_model=pickle.load(open('CAR_PRICE_PREDICTION','rb'))\n",
    "result=loaded_model.score(x_test,y_test)\n",
    "print(result*100)"
   ]
  },
  {
   "cell_type": "code",
   "execution_count": null,
   "id": "7a0eb7d0",
   "metadata": {},
   "outputs": [],
   "source": []
  }
 ],
 "metadata": {
  "kernelspec": {
   "display_name": "Python 3 (ipykernel)",
   "language": "python",
   "name": "python3"
  },
  "language_info": {
   "codemirror_mode": {
    "name": "ipython",
    "version": 3
   },
   "file_extension": ".py",
   "mimetype": "text/x-python",
   "name": "python",
   "nbconvert_exporter": "python",
   "pygments_lexer": "ipython3",
   "version": "3.9.12"
  }
 },
 "nbformat": 4,
 "nbformat_minor": 5
}
