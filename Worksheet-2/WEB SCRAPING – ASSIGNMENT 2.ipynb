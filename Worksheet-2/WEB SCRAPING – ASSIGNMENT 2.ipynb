{
 "cells": [
  {
   "cell_type": "markdown",
   "id": "e473e66e",
   "metadata": {},
   "source": [
    "# 1. All the questions must be done in a single Jupyter notebook.\n",
    "# 2. There should be proper comments in code."
   ]
  },
  {
   "cell_type": "code",
   "execution_count": 1,
   "id": "6bdb3b04",
   "metadata": {},
   "outputs": [],
   "source": [
    "import selenium\n",
    "from selenium import webdriver \n",
    "import pandas as pd\n",
    "from selenium.webdriver.common.by import By\n",
    "import warnings\n",
    "warnings.filterwarnings('ignore')\n",
    "import time"
   ]
  },
  {
   "cell_type": "code",
   "execution_count": 102,
   "id": "3956359a",
   "metadata": {},
   "outputs": [],
   "source": [
    "driver = webdriver.Edge(r\"C:/Users/yjjai/Downloads/edgedriver_win64/msedgedriver.exe\")"
   ]
  },
  {
   "cell_type": "code",
   "execution_count": 103,
   "id": "0be4552d",
   "metadata": {},
   "outputs": [],
   "source": [
    "driver.maximize_window()"
   ]
  },
  {
   "cell_type": "markdown",
   "id": "85e0e551",
   "metadata": {},
   "source": [
    "# Q1: Write a python program to scrape data for “Data Analyst” Job position in “Bangalore” location. You\n",
    "# have to scrape the job-title, job-location, company_name, experience_required. You have to scrape first 10\n",
    "# jobs data.\n",
    "# This task will be done in following steps:"
   ]
  },
  {
   "cell_type": "markdown",
   "id": "1b0f6c98",
   "metadata": {},
   "source": [
    "# 1. First get the webpage https://www.naukri.com/\n",
    "# 2. Enter “Data Analyst” in “Skill, Designations, Companies” field and enter “Bangalore” in “enter the\n",
    "# location” field.\n",
    "# 3. Then click the search button.\n",
    "# 4. Then scrape the data for the first 10 jobs results you get.\n",
    "# 5. Finally create a dataframe of the scraped data.\n",
    "# Note: All of the above steps have to be done in code. No step is to be done manually."
   ]
  },
  {
   "cell_type": "code",
   "execution_count": 104,
   "id": "e9591c00",
   "metadata": {},
   "outputs": [],
   "source": [
    "url = \"https://www.naukri.com/\"\n",
    "driver.get(url)"
   ]
  },
  {
   "cell_type": "code",
   "execution_count": 105,
   "id": "12f20c7b",
   "metadata": {},
   "outputs": [],
   "source": [
    "# finding web element for search job bar\n",
    "search_job = driver.find_element(By.CLASS_NAME,\"suggestor-input\")\n",
    "search_job.send_keys(\"Data Analyst\")"
   ]
  },
  {
   "cell_type": "code",
   "execution_count": 106,
   "id": "70138cf9",
   "metadata": {},
   "outputs": [],
   "source": [
    "# finding web element for seach locn bar using absolute xpath\n",
    "search_locn = driver.find_element(By.XPATH,'/html/body/div[1]/div[6]/div/div/div[5]/div/div/div/input')\n",
    "search_locn.send_keys('Bangalore')"
   ]
  },
  {
   "cell_type": "code",
   "execution_count": 107,
   "id": "411fd8a4",
   "metadata": {},
   "outputs": [],
   "source": [
    "# clicking usjing absolute Xpath function\n",
    "search_btn = driver.find_element(By.CLASS_NAME,'qsbSubmit')\n",
    "search_btn.click()"
   ]
  },
  {
   "cell_type": "markdown",
   "id": "cfe95b59",
   "metadata": {},
   "source": [
    "# Extracting job titles"
   ]
  },
  {
   "cell_type": "code",
   "execution_count": 108,
   "id": "bc9d0986",
   "metadata": {},
   "outputs": [
    {
     "data": {
      "text/plain": [
       "[['Senior Data Analyst - PLM Data Migration'],\n",
       " ['Associate Healthcare Research & Data Analyst'],\n",
       " ['Lead Data Analyst'],\n",
       " ['Contractual Hiring For Top MNC || Business Data Analyst || Bangalore'],\n",
       " ['Master Data Management Business Analyst'],\n",
       " ['Data Analyst'],\n",
       " ['Sr. Data Analyst (SAS Data Management)'],\n",
       " ['Data Analyst'],\n",
       " ['Data Analyst'],\n",
       " ['Lead Data Management Analyst']]"
      ]
     },
     "execution_count": 108,
     "metadata": {},
     "output_type": "execute_result"
    }
   ],
   "source": [
    "# let's extract all web element having jobs title\n",
    "job_titles = []\n",
    "title_tags = driver.find_elements(By.XPATH,\"//a[@class='title fw500 ellipsis']\")\n",
    "for i in title_tags:\n",
    "    job_titles.append(i.text.split(\",\"))\n",
    "job_titles=job_titles[0:10]\n",
    "job_titles"
   ]
  },
  {
   "cell_type": "markdown",
   "id": "d3101e36",
   "metadata": {},
   "source": [
    "# Extracting company Name"
   ]
  },
  {
   "cell_type": "code",
   "execution_count": 109,
   "id": "49156247",
   "metadata": {},
   "outputs": [
    {
     "data": {
      "text/plain": [
       "[['CGI'],\n",
       " ['Clarivate'],\n",
       " ['Mobile Premier League (MPL)'],\n",
       " ['TeamLease'],\n",
       " ['Accenture'],\n",
       " ['Elasticsearch'],\n",
       " ['NMS Consultant'],\n",
       " ['IBM'],\n",
       " ['IBM'],\n",
       " ['Wells Fargo']]"
      ]
     },
     "execution_count": 109,
     "metadata": {},
     "output_type": "execute_result"
    }
   ],
   "source": [
    "# let's extract all web element having company names\n",
    "company_names = []\n",
    "company_tags = driver.find_elements(By.XPATH,'//a[@class=\"subTitle ellipsis fleft\"]')\n",
    "for i in company_tags:\n",
    "    company_names.append(i.text.split(\",\"))\n",
    "company_names=company_names[0:10]\n",
    "company_names"
   ]
  },
  {
   "cell_type": "markdown",
   "id": "2aef2910",
   "metadata": {},
   "source": [
    "# Extracting experience"
   ]
  },
  {
   "cell_type": "code",
   "execution_count": 110,
   "id": "b84d8a01",
   "metadata": {},
   "outputs": [
    {
     "data": {
      "text/plain": [
       "[['3-6 Yrs'],\n",
       " ['3-4 Yrs'],\n",
       " ['4-7 Yrs'],\n",
       " ['5-8 Yrs'],\n",
       " ['6-8 Yrs'],\n",
       " ['2-5 Yrs'],\n",
       " ['5-10 Yrs'],\n",
       " ['3-4 Yrs'],\n",
       " ['3-4 Yrs'],\n",
       " ['5-8 Yrs']]"
      ]
     },
     "execution_count": 110,
     "metadata": {},
     "output_type": "execute_result"
    }
   ],
   "source": [
    "experience = []\n",
    "exp_tags = driver.find_elements(By.XPATH,'//span[@class=\"ellipsis fleft fs12 lh16 expwdth\"]')\n",
    "for i in exp_tags:\n",
    "    experience.append(i.text.split(\",\"))\n",
    "experience=experience[0:10]\n",
    "experience"
   ]
  },
  {
   "cell_type": "markdown",
   "id": "0403cd9c",
   "metadata": {},
   "source": [
    "# Extracting Location"
   ]
  },
  {
   "cell_type": "code",
   "execution_count": 111,
   "id": "def50926",
   "metadata": {},
   "outputs": [
    {
     "data": {
      "text/plain": [
       "[['Bangalore/Bengaluru'],\n",
       " ['Bangalore/Bengaluru'],\n",
       " ['Bangalore/Bengaluru'],\n",
       " ['Bangalore/Bengaluru'],\n",
       " ['Bangalore/Bengaluru'],\n",
       " ['Bangalore/Bengaluru'],\n",
       " ['Bangalore/Bengaluru', ' New Delhi'],\n",
       " ['Bangalore/Bengaluru'],\n",
       " ['Bangalore/Bengaluru'],\n",
       " ['Bangalore/Bengaluru', ' Chennai']]"
      ]
     },
     "execution_count": 111,
     "metadata": {},
     "output_type": "execute_result"
    }
   ],
   "source": [
    "location = []\n",
    "locn_tags = driver.find_elements(By.XPATH,'//span[@class=\"ellipsis fleft fs12 lh16 locWdth\"]')\n",
    "for i in locn_tags:\n",
    "    location.append(i.text.split(\",\"))\n",
    "location=location[0:10]\n",
    "location"
   ]
  },
  {
   "cell_type": "code",
   "execution_count": 112,
   "id": "81daab00",
   "metadata": {},
   "outputs": [
    {
     "data": {
      "text/plain": [
       "(10, 10, 10, 10)"
      ]
     },
     "execution_count": 112,
     "metadata": {},
     "output_type": "execute_result"
    }
   ],
   "source": [
    "len(job_titles),len(company_names),len(experience),len(location)"
   ]
  },
  {
   "cell_type": "code",
   "execution_count": 113,
   "id": "952c00ed",
   "metadata": {},
   "outputs": [
    {
     "data": {
      "text/html": [
       "<div>\n",
       "<style scoped>\n",
       "    .dataframe tbody tr th:only-of-type {\n",
       "        vertical-align: middle;\n",
       "    }\n",
       "\n",
       "    .dataframe tbody tr th {\n",
       "        vertical-align: top;\n",
       "    }\n",
       "\n",
       "    .dataframe thead th {\n",
       "        text-align: right;\n",
       "    }\n",
       "</style>\n",
       "<table border=\"1\" class=\"dataframe\">\n",
       "  <thead>\n",
       "    <tr style=\"text-align: right;\">\n",
       "      <th></th>\n",
       "      <th>job title</th>\n",
       "      <th>company names</th>\n",
       "      <th>experience</th>\n",
       "      <th>location</th>\n",
       "    </tr>\n",
       "  </thead>\n",
       "  <tbody>\n",
       "    <tr>\n",
       "      <th>0</th>\n",
       "      <td>[Senior Data Analyst - PLM Data Migration]</td>\n",
       "      <td>[CGI]</td>\n",
       "      <td>[3-6 Yrs]</td>\n",
       "      <td>[Bangalore/Bengaluru]</td>\n",
       "    </tr>\n",
       "    <tr>\n",
       "      <th>1</th>\n",
       "      <td>[Associate Healthcare Research &amp; Data Analyst]</td>\n",
       "      <td>[Clarivate]</td>\n",
       "      <td>[3-4 Yrs]</td>\n",
       "      <td>[Bangalore/Bengaluru]</td>\n",
       "    </tr>\n",
       "    <tr>\n",
       "      <th>2</th>\n",
       "      <td>[Lead Data Analyst]</td>\n",
       "      <td>[Mobile Premier League (MPL)]</td>\n",
       "      <td>[4-7 Yrs]</td>\n",
       "      <td>[Bangalore/Bengaluru]</td>\n",
       "    </tr>\n",
       "    <tr>\n",
       "      <th>3</th>\n",
       "      <td>[Contractual Hiring For Top MNC || Business Da...</td>\n",
       "      <td>[TeamLease]</td>\n",
       "      <td>[5-8 Yrs]</td>\n",
       "      <td>[Bangalore/Bengaluru]</td>\n",
       "    </tr>\n",
       "    <tr>\n",
       "      <th>4</th>\n",
       "      <td>[Master Data Management Business Analyst]</td>\n",
       "      <td>[Accenture]</td>\n",
       "      <td>[6-8 Yrs]</td>\n",
       "      <td>[Bangalore/Bengaluru]</td>\n",
       "    </tr>\n",
       "    <tr>\n",
       "      <th>5</th>\n",
       "      <td>[Data Analyst]</td>\n",
       "      <td>[Elasticsearch]</td>\n",
       "      <td>[2-5 Yrs]</td>\n",
       "      <td>[Bangalore/Bengaluru]</td>\n",
       "    </tr>\n",
       "    <tr>\n",
       "      <th>6</th>\n",
       "      <td>[Sr. Data Analyst (SAS Data Management)]</td>\n",
       "      <td>[NMS Consultant]</td>\n",
       "      <td>[5-10 Yrs]</td>\n",
       "      <td>[Bangalore/Bengaluru,  New Delhi]</td>\n",
       "    </tr>\n",
       "    <tr>\n",
       "      <th>7</th>\n",
       "      <td>[Data Analyst]</td>\n",
       "      <td>[IBM]</td>\n",
       "      <td>[3-4 Yrs]</td>\n",
       "      <td>[Bangalore/Bengaluru]</td>\n",
       "    </tr>\n",
       "    <tr>\n",
       "      <th>8</th>\n",
       "      <td>[Data Analyst]</td>\n",
       "      <td>[IBM]</td>\n",
       "      <td>[3-4 Yrs]</td>\n",
       "      <td>[Bangalore/Bengaluru]</td>\n",
       "    </tr>\n",
       "    <tr>\n",
       "      <th>9</th>\n",
       "      <td>[Lead Data Management Analyst]</td>\n",
       "      <td>[Wells Fargo]</td>\n",
       "      <td>[5-8 Yrs]</td>\n",
       "      <td>[Bangalore/Bengaluru,  Chennai]</td>\n",
       "    </tr>\n",
       "  </tbody>\n",
       "</table>\n",
       "</div>"
      ],
      "text/plain": [
       "                                           job title  \\\n",
       "0         [Senior Data Analyst - PLM Data Migration]   \n",
       "1     [Associate Healthcare Research & Data Analyst]   \n",
       "2                                [Lead Data Analyst]   \n",
       "3  [Contractual Hiring For Top MNC || Business Da...   \n",
       "4          [Master Data Management Business Analyst]   \n",
       "5                                     [Data Analyst]   \n",
       "6           [Sr. Data Analyst (SAS Data Management)]   \n",
       "7                                     [Data Analyst]   \n",
       "8                                     [Data Analyst]   \n",
       "9                     [Lead Data Management Analyst]   \n",
       "\n",
       "                   company names  experience  \\\n",
       "0                          [CGI]   [3-6 Yrs]   \n",
       "1                    [Clarivate]   [3-4 Yrs]   \n",
       "2  [Mobile Premier League (MPL)]   [4-7 Yrs]   \n",
       "3                    [TeamLease]   [5-8 Yrs]   \n",
       "4                    [Accenture]   [6-8 Yrs]   \n",
       "5                [Elasticsearch]   [2-5 Yrs]   \n",
       "6               [NMS Consultant]  [5-10 Yrs]   \n",
       "7                          [IBM]   [3-4 Yrs]   \n",
       "8                          [IBM]   [3-4 Yrs]   \n",
       "9                  [Wells Fargo]   [5-8 Yrs]   \n",
       "\n",
       "                            location  \n",
       "0              [Bangalore/Bengaluru]  \n",
       "1              [Bangalore/Bengaluru]  \n",
       "2              [Bangalore/Bengaluru]  \n",
       "3              [Bangalore/Bengaluru]  \n",
       "4              [Bangalore/Bengaluru]  \n",
       "5              [Bangalore/Bengaluru]  \n",
       "6  [Bangalore/Bengaluru,  New Delhi]  \n",
       "7              [Bangalore/Bengaluru]  \n",
       "8              [Bangalore/Bengaluru]  \n",
       "9    [Bangalore/Bengaluru,  Chennai]  "
      ]
     },
     "execution_count": 113,
     "metadata": {},
     "output_type": "execute_result"
    }
   ],
   "source": [
    "jobs = pd.DataFrame()\n",
    "jobs['job title'] = job_titles\n",
    "jobs['company names'] = company_names\n",
    "jobs['experience'] = experience\n",
    "jobs['location'] = location\n",
    "jobs"
   ]
  },
  {
   "cell_type": "code",
   "execution_count": 114,
   "id": "e0bca5e7",
   "metadata": {},
   "outputs": [],
   "source": [
    "driver.close()"
   ]
  },
  {
   "cell_type": "markdown",
   "id": "7feed3c0",
   "metadata": {},
   "source": [
    "# Q2: Write a python program to scrape data for “Data Scientist” Job position in “Bangalore” location. You\n",
    "# have to scrape the job-title, job-location, company_name. You have to scrape first 10 jobs data.\n",
    "# This task will be done in following steps:\n",
    "# 1. First get the webpage https://www.naukri.com/\n",
    "# 2. Enter “Data Scientist” in “Skill, Designations, Companies” field and enter “Bangalore” in “enter the\n",
    "# location” field.\n",
    "# 3. Then click the search button.\n",
    "# 4. Then scrape the data for the first 10 jobs results you get.\n",
    "# 5. Finally create a dataframe of the scraped data.\n",
    "# Note: All of the above steps have to be done in code. No step is to be done manually."
   ]
  },
  {
   "cell_type": "code",
   "execution_count": 115,
   "id": "53d19454",
   "metadata": {},
   "outputs": [],
   "source": [
    "driver = webdriver.Edge(r\"C:/Users/yjjai/Downloads/edgedriver_win64/msedgedriver.exe\")"
   ]
  },
  {
   "cell_type": "code",
   "execution_count": 116,
   "id": "f571d162",
   "metadata": {},
   "outputs": [],
   "source": [
    "driver.maximize_window()"
   ]
  },
  {
   "cell_type": "code",
   "execution_count": 117,
   "id": "c698668e",
   "metadata": {},
   "outputs": [],
   "source": [
    "url = \"https://www.naukri.com/\"\n",
    "driver.get(url)"
   ]
  },
  {
   "cell_type": "code",
   "execution_count": 118,
   "id": "f4f3dd31",
   "metadata": {},
   "outputs": [],
   "source": [
    "# finding web element for search job bar\n",
    "search_job = driver.find_element(By.CLASS_NAME,\"suggestor-input\")\n",
    "search_job.send_keys(\"Data Scientist\")"
   ]
  },
  {
   "cell_type": "code",
   "execution_count": 119,
   "id": "8077d761",
   "metadata": {},
   "outputs": [],
   "source": [
    "# finding web element for seach locn bar using absolute xpath\n",
    "search_locn = driver.find_element(By.XPATH,'/html/body/div[1]/div[6]/div/div/div[5]/div/div/div/input')\n",
    "search_locn.send_keys('Bangalore')"
   ]
  },
  {
   "cell_type": "code",
   "execution_count": 120,
   "id": "87a98334",
   "metadata": {},
   "outputs": [],
   "source": [
    "# clicking usjing absolute Xpath function\n",
    "search_btn = driver.find_element(By.CLASS_NAME,'qsbSubmit')\n",
    "search_btn.click()"
   ]
  },
  {
   "cell_type": "markdown",
   "id": "216dcc7c",
   "metadata": {},
   "source": [
    "# Extracting job titles"
   ]
  },
  {
   "cell_type": "code",
   "execution_count": 121,
   "id": "cae7e57d",
   "metadata": {},
   "outputs": [
    {
     "data": {
      "text/plain": [
       "[['Analystics & Modeling Specialist'],\n",
       " ['Assistant Manager - Data Science'],\n",
       " ['Senior Data Scientist'],\n",
       " ['Program Manager', ' Analytics'],\n",
       " ['Data Scientist'],\n",
       " ['ACN - Applied Intelligence - Data Scientist - 09'],\n",
       " ['Data Scientist - Looking For Immediate Joiners'],\n",
       " ['Data Scientist'],\n",
       " ['Senior Data Scientist'],\n",
       " ['Data Scientist - II']]"
      ]
     },
     "execution_count": 121,
     "metadata": {},
     "output_type": "execute_result"
    }
   ],
   "source": [
    "# let's extract all web element having jobs title\n",
    "job_titles = []\n",
    "title_tags = driver.find_elements(By.XPATH,'//a[@class=\"title fw500 ellipsis\"]')\n",
    "for i in title_tags:\n",
    "    job_titles.append(i.text.split(\",\"))\n",
    "job_titles=job_titles[0:10]\n",
    "job_titles"
   ]
  },
  {
   "cell_type": "markdown",
   "id": "4145f676",
   "metadata": {},
   "source": [
    "# Extracting company Name"
   ]
  },
  {
   "cell_type": "code",
   "execution_count": 122,
   "id": "978c8db7",
   "metadata": {},
   "outputs": [
    {
     "data": {
      "text/plain": [
       "[['Accenture'],\n",
       " ['Citiustech'],\n",
       " ['Wipro'],\n",
       " ['Uber'],\n",
       " ['Quest Global'],\n",
       " ['Accenture'],\n",
       " ['Wipro'],\n",
       " ['Altair'],\n",
       " ['Boston Consulting Group'],\n",
       " ['Bizongo']]"
      ]
     },
     "execution_count": 122,
     "metadata": {},
     "output_type": "execute_result"
    }
   ],
   "source": [
    "# let's extract all web element having company names\n",
    "company_names = []\n",
    "company_tags = driver.find_elements(By.XPATH,'//a[@class=\"subTitle ellipsis fleft\"]')\n",
    "for i in company_tags:\n",
    "    company_names.append(i.text.split(\",\"))\n",
    "company_names=company_names[0:10]\n",
    "company_names"
   ]
  },
  {
   "cell_type": "markdown",
   "id": "135a005c",
   "metadata": {},
   "source": [
    "# Extracting experience"
   ]
  },
  {
   "cell_type": "code",
   "execution_count": 123,
   "id": "5e84fc78",
   "metadata": {},
   "outputs": [
    {
     "data": {
      "text/plain": [
       "[['6-8 Yrs'],\n",
       " ['5-9 Yrs'],\n",
       " ['6-11 Yrs'],\n",
       " ['3-7 Yrs'],\n",
       " ['5-7 Yrs'],\n",
       " ['2-6 Yrs'],\n",
       " ['5-10 Yrs'],\n",
       " ['2-7 Yrs'],\n",
       " ['5-10 Yrs'],\n",
       " ['3-6 Yrs']]"
      ]
     },
     "execution_count": 123,
     "metadata": {},
     "output_type": "execute_result"
    }
   ],
   "source": [
    "experience = []\n",
    "exp_tags = driver.find_elements(By.XPATH,'//span[@class=\"ellipsis fleft fs12 lh16 expwdth\"]')\n",
    "for i in exp_tags:\n",
    "    experience.append(i.text.split(\",\"))\n",
    "experience= experience[0:10] \n",
    "experience"
   ]
  },
  {
   "cell_type": "markdown",
   "id": "77cfc3d5",
   "metadata": {},
   "source": [
    "# Extracting Location"
   ]
  },
  {
   "cell_type": "code",
   "execution_count": 124,
   "id": "f989d76f",
   "metadata": {},
   "outputs": [
    {
     "data": {
      "text/plain": [
       "[['Bangalore/Bengaluru',\n",
       "  ' Kolkata',\n",
       "  ' Mumbai',\n",
       "  ' Hyderabad/Secunderabad',\n",
       "  ' Pune',\n",
       "  ' Chennai'],\n",
       " ['Hybrid - Bangalore/Bengaluru', ' Mumbai', ' Pune'],\n",
       " ['Hybrid - Bangalore/Bengaluru', ' Pune', ' Chennai'],\n",
       " ['Bangalore/Bengaluru'],\n",
       " ['Bangalore/Bengaluru'],\n",
       " ['Bangalore/Bengaluru'],\n",
       " ['Hybrid - Bangalore/Bengaluru', ' Hyderabad/Secunderabad'],\n",
       " ['Bangalore/Bengaluru', ' Hyderabad/Secunderabad', ' Pune', ' Chennai'],\n",
       " ['Bangalore/Bengaluru', ' Mumbai', ' New Delhi', ' Chennai'],\n",
       " ['Bangalore/Bengaluru', ' India', ' Mumbai (All Areas)']]"
      ]
     },
     "execution_count": 124,
     "metadata": {},
     "output_type": "execute_result"
    }
   ],
   "source": [
    "location = []\n",
    "locn_tags = driver.find_elements(By.XPATH,'//span[@class=\"ellipsis fleft fs12 lh16 locWdth\"]')\n",
    "for i in locn_tags:\n",
    "    location.append(i.text.split(\",\"))\n",
    "location=location[0:10]\n",
    "location"
   ]
  },
  {
   "cell_type": "code",
   "execution_count": 125,
   "id": "b0f4080c",
   "metadata": {},
   "outputs": [
    {
     "data": {
      "text/plain": [
       "(10, 10, 10, 10)"
      ]
     },
     "execution_count": 125,
     "metadata": {},
     "output_type": "execute_result"
    }
   ],
   "source": [
    "len(job_titles),len(company_names),len(experience),len(location)"
   ]
  },
  {
   "cell_type": "code",
   "execution_count": 126,
   "id": "808b138a",
   "metadata": {},
   "outputs": [
    {
     "data": {
      "text/html": [
       "<div>\n",
       "<style scoped>\n",
       "    .dataframe tbody tr th:only-of-type {\n",
       "        vertical-align: middle;\n",
       "    }\n",
       "\n",
       "    .dataframe tbody tr th {\n",
       "        vertical-align: top;\n",
       "    }\n",
       "\n",
       "    .dataframe thead th {\n",
       "        text-align: right;\n",
       "    }\n",
       "</style>\n",
       "<table border=\"1\" class=\"dataframe\">\n",
       "  <thead>\n",
       "    <tr style=\"text-align: right;\">\n",
       "      <th></th>\n",
       "      <th>job title</th>\n",
       "      <th>company names</th>\n",
       "      <th>experience</th>\n",
       "      <th>location</th>\n",
       "    </tr>\n",
       "  </thead>\n",
       "  <tbody>\n",
       "    <tr>\n",
       "      <th>0</th>\n",
       "      <td>[Analystics &amp; Modeling Specialist]</td>\n",
       "      <td>[Accenture]</td>\n",
       "      <td>[6-8 Yrs]</td>\n",
       "      <td>[Bangalore/Bengaluru,  Kolkata,  Mumbai,  Hyde...</td>\n",
       "    </tr>\n",
       "    <tr>\n",
       "      <th>1</th>\n",
       "      <td>[Assistant Manager - Data Science]</td>\n",
       "      <td>[Citiustech]</td>\n",
       "      <td>[5-9 Yrs]</td>\n",
       "      <td>[Hybrid - Bangalore/Bengaluru,  Mumbai,  Pune]</td>\n",
       "    </tr>\n",
       "    <tr>\n",
       "      <th>2</th>\n",
       "      <td>[Senior Data Scientist]</td>\n",
       "      <td>[Wipro]</td>\n",
       "      <td>[6-11 Yrs]</td>\n",
       "      <td>[Hybrid - Bangalore/Bengaluru,  Pune,  Chennai]</td>\n",
       "    </tr>\n",
       "    <tr>\n",
       "      <th>3</th>\n",
       "      <td>[Program Manager,  Analytics]</td>\n",
       "      <td>[Uber]</td>\n",
       "      <td>[3-7 Yrs]</td>\n",
       "      <td>[Bangalore/Bengaluru]</td>\n",
       "    </tr>\n",
       "    <tr>\n",
       "      <th>4</th>\n",
       "      <td>[Data Scientist]</td>\n",
       "      <td>[Quest Global]</td>\n",
       "      <td>[5-7 Yrs]</td>\n",
       "      <td>[Bangalore/Bengaluru]</td>\n",
       "    </tr>\n",
       "    <tr>\n",
       "      <th>5</th>\n",
       "      <td>[ACN - Applied Intelligence - Data Scientist -...</td>\n",
       "      <td>[Accenture]</td>\n",
       "      <td>[2-6 Yrs]</td>\n",
       "      <td>[Bangalore/Bengaluru]</td>\n",
       "    </tr>\n",
       "    <tr>\n",
       "      <th>6</th>\n",
       "      <td>[Data Scientist - Looking For Immediate Joiners]</td>\n",
       "      <td>[Wipro]</td>\n",
       "      <td>[5-10 Yrs]</td>\n",
       "      <td>[Hybrid - Bangalore/Bengaluru,  Hyderabad/Secu...</td>\n",
       "    </tr>\n",
       "    <tr>\n",
       "      <th>7</th>\n",
       "      <td>[Data Scientist]</td>\n",
       "      <td>[Altair]</td>\n",
       "      <td>[2-7 Yrs]</td>\n",
       "      <td>[Bangalore/Bengaluru,  Hyderabad/Secunderabad,...</td>\n",
       "    </tr>\n",
       "    <tr>\n",
       "      <th>8</th>\n",
       "      <td>[Senior Data Scientist]</td>\n",
       "      <td>[Boston Consulting Group]</td>\n",
       "      <td>[5-10 Yrs]</td>\n",
       "      <td>[Bangalore/Bengaluru,  Mumbai,  New Delhi,  Ch...</td>\n",
       "    </tr>\n",
       "    <tr>\n",
       "      <th>9</th>\n",
       "      <td>[Data Scientist - II]</td>\n",
       "      <td>[Bizongo]</td>\n",
       "      <td>[3-6 Yrs]</td>\n",
       "      <td>[Bangalore/Bengaluru,  India,  Mumbai (All Are...</td>\n",
       "    </tr>\n",
       "  </tbody>\n",
       "</table>\n",
       "</div>"
      ],
      "text/plain": [
       "                                           job title  \\\n",
       "0                 [Analystics & Modeling Specialist]   \n",
       "1                 [Assistant Manager - Data Science]   \n",
       "2                            [Senior Data Scientist]   \n",
       "3                      [Program Manager,  Analytics]   \n",
       "4                                   [Data Scientist]   \n",
       "5  [ACN - Applied Intelligence - Data Scientist -...   \n",
       "6   [Data Scientist - Looking For Immediate Joiners]   \n",
       "7                                   [Data Scientist]   \n",
       "8                            [Senior Data Scientist]   \n",
       "9                              [Data Scientist - II]   \n",
       "\n",
       "               company names  experience  \\\n",
       "0                [Accenture]   [6-8 Yrs]   \n",
       "1               [Citiustech]   [5-9 Yrs]   \n",
       "2                    [Wipro]  [6-11 Yrs]   \n",
       "3                     [Uber]   [3-7 Yrs]   \n",
       "4             [Quest Global]   [5-7 Yrs]   \n",
       "5                [Accenture]   [2-6 Yrs]   \n",
       "6                    [Wipro]  [5-10 Yrs]   \n",
       "7                   [Altair]   [2-7 Yrs]   \n",
       "8  [Boston Consulting Group]  [5-10 Yrs]   \n",
       "9                  [Bizongo]   [3-6 Yrs]   \n",
       "\n",
       "                                            location  \n",
       "0  [Bangalore/Bengaluru,  Kolkata,  Mumbai,  Hyde...  \n",
       "1     [Hybrid - Bangalore/Bengaluru,  Mumbai,  Pune]  \n",
       "2    [Hybrid - Bangalore/Bengaluru,  Pune,  Chennai]  \n",
       "3                              [Bangalore/Bengaluru]  \n",
       "4                              [Bangalore/Bengaluru]  \n",
       "5                              [Bangalore/Bengaluru]  \n",
       "6  [Hybrid - Bangalore/Bengaluru,  Hyderabad/Secu...  \n",
       "7  [Bangalore/Bengaluru,  Hyderabad/Secunderabad,...  \n",
       "8  [Bangalore/Bengaluru,  Mumbai,  New Delhi,  Ch...  \n",
       "9  [Bangalore/Bengaluru,  India,  Mumbai (All Are...  "
      ]
     },
     "execution_count": 126,
     "metadata": {},
     "output_type": "execute_result"
    }
   ],
   "source": [
    "jobs = pd.DataFrame()\n",
    "jobs['job title'] = job_titles\n",
    "jobs['company names'] = company_names\n",
    "jobs['experience'] = experience\n",
    "jobs['location'] = location\n",
    "jobs"
   ]
  },
  {
   "cell_type": "code",
   "execution_count": 127,
   "id": "5850cb7d",
   "metadata": {},
   "outputs": [],
   "source": [
    "driver.close()"
   ]
  },
  {
   "cell_type": "markdown",
   "id": "e08c2ca4",
   "metadata": {},
   "source": [
    "# Q3: In this question you have to scrape data using the filters available on the webpage as shown below:\n",
    "# You have to use the location and salary filter.\n",
    "# You have to scrape data for “Data Scientist” designation for first 10 job results.\n",
    "# You have to scrape the job-title, job-location, company name, experience required.\n",
    "# The location filter to be used is “Delhi/NCR”. The salary filter to be used is “3-6” lakhs\n",
    "# The task will be done as shown in the below steps:\n",
    "# 1. first get the webpage https://www.naukri.com/\n",
    "# 2. Enter “Data Scientist” in “Skill, Designations, and Companies” field.\n",
    "# 3. Then click the search button.\n",
    "# 4. Then apply the location filter and salary filter by checking the respective boxes\n",
    "# 5. Then scrape the data for the first 10 jobs results you get.\n",
    "# 6. Finally create a dataframe of the scraped data.\n",
    "# Note: All of the above steps have to be done in code. No step is to be done manually."
   ]
  },
  {
   "cell_type": "code",
   "execution_count": 29,
   "id": "a8992d53",
   "metadata": {},
   "outputs": [],
   "source": [
    "driver = webdriver.Edge(r\"C:/Users/yjjai/Downloads/edgedriver_win64/msedgedriver.exe\")"
   ]
  },
  {
   "cell_type": "code",
   "execution_count": 30,
   "id": "a4dc5933",
   "metadata": {},
   "outputs": [],
   "source": [
    "driver.maximize_window()"
   ]
  },
  {
   "cell_type": "code",
   "execution_count": 31,
   "id": "6b8ce6d2",
   "metadata": {},
   "outputs": [],
   "source": [
    "url = \"https://www.naukri.com/\"\n",
    "driver.get(url)"
   ]
  },
  {
   "cell_type": "code",
   "execution_count": 32,
   "id": "eee048f6",
   "metadata": {},
   "outputs": [],
   "source": [
    "# finding web element for search job bar\n",
    "search_job = driver.find_element(By.CLASS_NAME,\"suggestor-input\")\n",
    "search_job.send_keys(\"Data Scientist\")"
   ]
  },
  {
   "cell_type": "code",
   "execution_count": 33,
   "id": "89db92d1",
   "metadata": {},
   "outputs": [],
   "source": [
    "# clicking usjing absolute Xpath function\n",
    "search_btn = driver.find_element(By.CLASS_NAME,'qsbSubmit')\n",
    "search_btn.click()"
   ]
  },
  {
   "cell_type": "code",
   "execution_count": 34,
   "id": "e58e4f48",
   "metadata": {},
   "outputs": [],
   "source": [
    "location_filter=driver.find_element(By.XPATH,\"/html/body/div[1]/div[4]/div/section[1]/div[2]/div[5]/div[2]/div[2]/label/p/span[1]\") \n",
    "location_filter.click()"
   ]
  },
  {
   "cell_type": "code",
   "execution_count": 35,
   "id": "6ee788fa",
   "metadata": {},
   "outputs": [],
   "source": [
    "salary_filter=driver.find_element(By.XPATH,\"/html/body/div[1]/div[4]/div/section[1]/div[2]/div[6]/div[2]/div[2]/label/p/span[1]\") \n",
    "salary_filter.click()"
   ]
  },
  {
   "cell_type": "code",
   "execution_count": 43,
   "id": "6112fee9",
   "metadata": {},
   "outputs": [
    {
     "data": {
      "text/plain": [
       "[['Data Scientist'],\n",
       " ['DigitalBCG GAMMA Data Scientist'],\n",
       " ['Urgent hiring For Data Scientist (PHD Must Have)'],\n",
       " ['Manager - Data Science - Banking&Financial Services - IIM/ISB/MDI/FMS'],\n",
       " ['Data Scientist / Sr. Data Scientist'],\n",
       " ['Data Scientist'],\n",
       " ['Data Scientist'],\n",
       " ['Data Scientist'],\n",
       " ['Data scientist- Python'],\n",
       " ['Data Scientist']]"
      ]
     },
     "execution_count": 43,
     "metadata": {},
     "output_type": "execute_result"
    }
   ],
   "source": [
    "#Lets extract all web elements having Job Title \n",
    "job_titles = []\n",
    "title_tags = driver.find_elements(By.XPATH,'//a[@class=\"title fw500 ellipsis\"]')\n",
    "for i in title_tags:\n",
    "    job_titles.append(i.text.split(\",\"))\n",
    "job_titles=job_titles[0:10]\n",
    "job_titles"
   ]
  },
  {
   "cell_type": "code",
   "execution_count": 44,
   "id": "c001cff2",
   "metadata": {},
   "outputs": [
    {
     "data": {
      "text/plain": [
       "10"
      ]
     },
     "execution_count": 44,
     "metadata": {},
     "output_type": "execute_result"
    }
   ],
   "source": [
    "len(job_titles)"
   ]
  },
  {
   "cell_type": "code",
   "execution_count": 45,
   "id": "c29f7443",
   "metadata": {},
   "outputs": [
    {
     "data": {
      "text/plain": [
       "[['HCLTech'],\n",
       " ['Boston Consulting Group'],\n",
       " ['NGI Ventures'],\n",
       " ['Black Turtle'],\n",
       " ['Wegarner Solutions'],\n",
       " ['torcai digital media'],\n",
       " ['Meon Technologies'],\n",
       " ['Alliance Recruitment Agency'],\n",
       " ['TeamPlus Staffing Solution Pvt Ltd'],\n",
       " ['Razor Group GmbH']]"
      ]
     },
     "execution_count": 45,
     "metadata": {},
     "output_type": "execute_result"
    }
   ],
   "source": [
    "# let's extract all web element having company names\n",
    "company_names = []\n",
    "company_tags = driver.find_elements(By.XPATH,'//a[@class=\"subTitle ellipsis fleft\"]')\n",
    "for i in company_tags:\n",
    "    company_names.append(i.text.split(\",\"))\n",
    "company_names=company_names[0:10]\n",
    "company_names"
   ]
  },
  {
   "cell_type": "code",
   "execution_count": 46,
   "id": "79e43cf1",
   "metadata": {},
   "outputs": [
    {
     "data": {
      "text/plain": [
       "10"
      ]
     },
     "execution_count": 46,
     "metadata": {},
     "output_type": "execute_result"
    }
   ],
   "source": [
    "experience = []\n",
    "exp_tags = driver.find_elements(By.XPATH,'//span[@class=\"ellipsis fleft fs12 lh16 expwdth\"]')\n",
    "for i in exp_tags:\n",
    "    experience.append(i.text.split(\",\"))\n",
    "experience=experience[0:10]\n",
    "len(experience)"
   ]
  },
  {
   "cell_type": "code",
   "execution_count": 47,
   "id": "2ad20958",
   "metadata": {},
   "outputs": [
    {
     "data": {
      "text/plain": [
       "10"
      ]
     },
     "execution_count": 47,
     "metadata": {},
     "output_type": "execute_result"
    }
   ],
   "source": [
    "location = []\n",
    "locn_tags = driver.find_elements(By.XPATH,'//span[@class=\"ellipsis fleft fs12 lh16 locWdth\"]')\n",
    "for i in locn_tags:\n",
    "    location.append(i.text.split(\",\"))\n",
    "location=location[0:10]\n",
    "len(location)"
   ]
  },
  {
   "cell_type": "code",
   "execution_count": 48,
   "id": "eeb9c006",
   "metadata": {},
   "outputs": [
    {
     "data": {
      "text/html": [
       "<div>\n",
       "<style scoped>\n",
       "    .dataframe tbody tr th:only-of-type {\n",
       "        vertical-align: middle;\n",
       "    }\n",
       "\n",
       "    .dataframe tbody tr th {\n",
       "        vertical-align: top;\n",
       "    }\n",
       "\n",
       "    .dataframe thead th {\n",
       "        text-align: right;\n",
       "    }\n",
       "</style>\n",
       "<table border=\"1\" class=\"dataframe\">\n",
       "  <thead>\n",
       "    <tr style=\"text-align: right;\">\n",
       "      <th></th>\n",
       "      <th>job title</th>\n",
       "      <th>company names</th>\n",
       "      <th>experience</th>\n",
       "      <th>location</th>\n",
       "    </tr>\n",
       "  </thead>\n",
       "  <tbody>\n",
       "    <tr>\n",
       "      <th>0</th>\n",
       "      <td>[Data Scientist]</td>\n",
       "      <td>[HCLTech]</td>\n",
       "      <td>[4-9 Yrs]</td>\n",
       "      <td>[Noida,  Hyderabad/Secunderabad,  Chennai,  Ba...</td>\n",
       "    </tr>\n",
       "    <tr>\n",
       "      <th>1</th>\n",
       "      <td>[DigitalBCG GAMMA Data Scientist]</td>\n",
       "      <td>[Boston Consulting Group]</td>\n",
       "      <td>[2-5 Yrs]</td>\n",
       "      <td>[New Delhi,  Bangalore/Bengaluru]</td>\n",
       "    </tr>\n",
       "    <tr>\n",
       "      <th>2</th>\n",
       "      <td>[Urgent hiring For Data Scientist (PHD Must Ha...</td>\n",
       "      <td>[NGI Ventures]</td>\n",
       "      <td>[0-4 Yrs]</td>\n",
       "      <td>[Temp. WFH - Noida,  Pune]</td>\n",
       "    </tr>\n",
       "    <tr>\n",
       "      <th>3</th>\n",
       "      <td>[Manager - Data Science - Banking&amp;Financial Se...</td>\n",
       "      <td>[Black Turtle]</td>\n",
       "      <td>[4-8 Yrs]</td>\n",
       "      <td>[Delhi / NCR,  Bangalore/Bengaluru]</td>\n",
       "    </tr>\n",
       "    <tr>\n",
       "      <th>4</th>\n",
       "      <td>[Data Scientist / Sr. Data Scientist]</td>\n",
       "      <td>[Wegarner Solutions]</td>\n",
       "      <td>[3-8 Yrs]</td>\n",
       "      <td>[Temp. WFH - Noida]</td>\n",
       "    </tr>\n",
       "    <tr>\n",
       "      <th>5</th>\n",
       "      <td>[Data Scientist]</td>\n",
       "      <td>[torcai digital media]</td>\n",
       "      <td>[2-7 Yrs]</td>\n",
       "      <td>[Dehradun,  Hyderabad/Secunderabad,  Gurgaon/G...</td>\n",
       "    </tr>\n",
       "    <tr>\n",
       "      <th>6</th>\n",
       "      <td>[Data Scientist]</td>\n",
       "      <td>[Meon Technologies]</td>\n",
       "      <td>[2-5 Yrs]</td>\n",
       "      <td>[Noida]</td>\n",
       "    </tr>\n",
       "    <tr>\n",
       "      <th>7</th>\n",
       "      <td>[Data Scientist]</td>\n",
       "      <td>[Alliance Recruitment Agency]</td>\n",
       "      <td>[3-4 Yrs]</td>\n",
       "      <td>[Noida]</td>\n",
       "    </tr>\n",
       "    <tr>\n",
       "      <th>8</th>\n",
       "      <td>[Data scientist- Python]</td>\n",
       "      <td>[TeamPlus Staffing Solution Pvt Ltd]</td>\n",
       "      <td>[3-6 Yrs]</td>\n",
       "      <td>[Gurgaon/Gurugram]</td>\n",
       "    </tr>\n",
       "    <tr>\n",
       "      <th>9</th>\n",
       "      <td>[Data Scientist]</td>\n",
       "      <td>[Razor Group GmbH]</td>\n",
       "      <td>[2-3 Yrs]</td>\n",
       "      <td>[New Delhi]</td>\n",
       "    </tr>\n",
       "  </tbody>\n",
       "</table>\n",
       "</div>"
      ],
      "text/plain": [
       "                                           job title  \\\n",
       "0                                   [Data Scientist]   \n",
       "1                  [DigitalBCG GAMMA Data Scientist]   \n",
       "2  [Urgent hiring For Data Scientist (PHD Must Ha...   \n",
       "3  [Manager - Data Science - Banking&Financial Se...   \n",
       "4              [Data Scientist / Sr. Data Scientist]   \n",
       "5                                   [Data Scientist]   \n",
       "6                                   [Data Scientist]   \n",
       "7                                   [Data Scientist]   \n",
       "8                           [Data scientist- Python]   \n",
       "9                                   [Data Scientist]   \n",
       "\n",
       "                          company names experience  \\\n",
       "0                             [HCLTech]  [4-9 Yrs]   \n",
       "1             [Boston Consulting Group]  [2-5 Yrs]   \n",
       "2                        [NGI Ventures]  [0-4 Yrs]   \n",
       "3                        [Black Turtle]  [4-8 Yrs]   \n",
       "4                  [Wegarner Solutions]  [3-8 Yrs]   \n",
       "5                [torcai digital media]  [2-7 Yrs]   \n",
       "6                   [Meon Technologies]  [2-5 Yrs]   \n",
       "7         [Alliance Recruitment Agency]  [3-4 Yrs]   \n",
       "8  [TeamPlus Staffing Solution Pvt Ltd]  [3-6 Yrs]   \n",
       "9                    [Razor Group GmbH]  [2-3 Yrs]   \n",
       "\n",
       "                                            location  \n",
       "0  [Noida,  Hyderabad/Secunderabad,  Chennai,  Ba...  \n",
       "1                  [New Delhi,  Bangalore/Bengaluru]  \n",
       "2                         [Temp. WFH - Noida,  Pune]  \n",
       "3                [Delhi / NCR,  Bangalore/Bengaluru]  \n",
       "4                                [Temp. WFH - Noida]  \n",
       "5  [Dehradun,  Hyderabad/Secunderabad,  Gurgaon/G...  \n",
       "6                                            [Noida]  \n",
       "7                                            [Noida]  \n",
       "8                                 [Gurgaon/Gurugram]  \n",
       "9                                        [New Delhi]  "
      ]
     },
     "execution_count": 48,
     "metadata": {},
     "output_type": "execute_result"
    }
   ],
   "source": [
    "jobs = pd.DataFrame()\n",
    "jobs['job title'] = job_titles\n",
    "jobs['company names'] = company_names\n",
    "jobs['experience'] = experience\n",
    "jobs['location'] = location\n",
    "jobs"
   ]
  },
  {
   "cell_type": "code",
   "execution_count": 49,
   "id": "e9284f92",
   "metadata": {},
   "outputs": [],
   "source": [
    "driver.close()"
   ]
  },
  {
   "cell_type": "markdown",
   "id": "b9020118",
   "metadata": {},
   "source": [
    "# Q4: Scrape data of first 100 sunglasses listings on flipkart.com. You have to scrape four attributes:\n",
    "# 1. Brand\n",
    "# 2. Product Description\n",
    "# 3. Price\n",
    "# The attributes which you have to scrape is ticked marked in the below image.\n",
    "# To scrape the data you have to go through following steps:\n",
    "# 1. Go to Flipkart webpage by url : https://www.flipkart.com/\n",
    "# 2. Enter “sunglasses” in the search field where “search for products, brands and more” is written and\n",
    "# click the search icon\n",
    "# 3. After that you will reach to the page having a lot of sunglasses. From this page you can scrap the\n",
    "# required data as usual.\n",
    "# 4. After scraping data from the first page, go to the “Next” Button at the bottom other page , then\n",
    "# click on it.\n",
    "# 5. Now scrape data from this page as usual\n",
    "# 6. Repeat this until you get data for 100 sunglasses."
   ]
  },
  {
   "cell_type": "code",
   "execution_count": 38,
   "id": "5553d32b",
   "metadata": {},
   "outputs": [],
   "source": [
    "driver = webdriver.Edge(r\"C:/Users/yjjai/Downloads/edgedriver_win64/msedgedriver.exe\")"
   ]
  },
  {
   "cell_type": "code",
   "execution_count": 39,
   "id": "ee8b9449",
   "metadata": {},
   "outputs": [],
   "source": [
    "driver.maximize_window()"
   ]
  },
  {
   "cell_type": "code",
   "execution_count": 41,
   "id": "6bb62edd",
   "metadata": {},
   "outputs": [],
   "source": [
    "url = \"https://www.flipkart.com/\"\n",
    "driver.get(url)"
   ]
  },
  {
   "cell_type": "code",
   "execution_count": 42,
   "id": "da7811d6",
   "metadata": {},
   "outputs": [],
   "source": [
    "#Finding the web element for search \"Sunglass\" \n",
    "search_job=driver.find_element(By.CLASS_NAME,\"_3704LK\") \n",
    "search_job.send_keys(\"sunglasses\")"
   ]
  },
  {
   "cell_type": "code",
   "execution_count": 43,
   "id": "55d37a82",
   "metadata": {},
   "outputs": [],
   "source": [
    "#Clicking using absolute xpath function \n",
    "search_btn=driver.find_element(By.CLASS_NAME,\"_34RNph\") \n",
    "search_btn.click()"
   ]
  },
  {
   "cell_type": "code",
   "execution_count": 44,
   "id": "87d0dc42",
   "metadata": {},
   "outputs": [],
   "source": [
    "#Lets extract all web elements having 100 Sunglass Brand \n",
    "brands=[] \n",
    "start=0 \n",
    "end=3 \n",
    "for page in range(start,end): \n",
    "     \n",
    "    title_tag=driver.find_elements(By.XPATH,\"//div[@class='_2WkVRV']\") \n",
    "    for i in title_tag: \n",
    "        brands.append(i.text.split(\",\")) \n",
    "brands=brands[0:100]"
   ]
  },
  {
   "cell_type": "code",
   "execution_count": 45,
   "id": "bd7cb17e",
   "metadata": {},
   "outputs": [],
   "source": [
    "#Lets extract all web elements having 100 Sunglass Product Discription \n",
    "prod_des=[] \n",
    "start=0 \n",
    "end=3 \n",
    "for page in range(start,end): \n",
    "     \n",
    "    title_tag=driver.find_elements(By.XPATH,\"//a[@class='IRpwTa']\") \n",
    "    for i in title_tag: \n",
    "        prod_des.append(i.text.split(\",\")) \n",
    "prod_des=prod_des[0:100]"
   ]
  },
  {
   "cell_type": "code",
   "execution_count": 46,
   "id": "c7256d09",
   "metadata": {},
   "outputs": [],
   "source": [
    "#Lets extract all web elements having 100 Sunglass Price \n",
    "price=[] \n",
    "start=0 \n",
    "end=3 \n",
    "for page in range(start,end): \n",
    "     \n",
    "    title_tag=driver.find_elements(By.XPATH,\"//div[@class='_30jeq3']\") \n",
    "    for i in title_tag: \n",
    "        price.append(i.text.split(\" \")) \n",
    "price=price[0:100]"
   ]
  },
  {
   "cell_type": "code",
   "execution_count": 47,
   "id": "95f31059",
   "metadata": {},
   "outputs": [
    {
     "data": {
      "text/html": [
       "<div>\n",
       "<style scoped>\n",
       "    .dataframe tbody tr th:only-of-type {\n",
       "        vertical-align: middle;\n",
       "    }\n",
       "\n",
       "    .dataframe tbody tr th {\n",
       "        vertical-align: top;\n",
       "    }\n",
       "\n",
       "    .dataframe thead th {\n",
       "        text-align: right;\n",
       "    }\n",
       "</style>\n",
       "<table border=\"1\" class=\"dataframe\">\n",
       "  <thead>\n",
       "    <tr style=\"text-align: right;\">\n",
       "      <th></th>\n",
       "      <th>Sunglass Brands</th>\n",
       "      <th>Production Descripion</th>\n",
       "      <th>Sunglass Price</th>\n",
       "    </tr>\n",
       "  </thead>\n",
       "  <tbody>\n",
       "    <tr>\n",
       "      <th>0</th>\n",
       "      <td>[Resist]</td>\n",
       "      <td>[Toughened Glass Lens,  UV Protection,  Riding...</td>\n",
       "      <td>[₹1,399]</td>\n",
       "    </tr>\n",
       "    <tr>\n",
       "      <th>1</th>\n",
       "      <td>[ARICKS]</td>\n",
       "      <td>[UV Protection,  Polarized Rectangular Sunglas...</td>\n",
       "      <td>[₹236]</td>\n",
       "    </tr>\n",
       "    <tr>\n",
       "      <th>2</th>\n",
       "      <td>[Fastrack]</td>\n",
       "      <td>[UV Protection Wayfarer Sunglasses (Free Size)]</td>\n",
       "      <td>[₹649]</td>\n",
       "    </tr>\n",
       "    <tr>\n",
       "      <th>3</th>\n",
       "      <td>[PIRASO]</td>\n",
       "      <td>[UV Protection Rectangular Sunglasses (52)]</td>\n",
       "      <td>[₹199]</td>\n",
       "    </tr>\n",
       "    <tr>\n",
       "      <th>4</th>\n",
       "      <td>[VINCENT CHASE]</td>\n",
       "      <td>[UV Protection Wayfarer Sunglasses (59)]</td>\n",
       "      <td>[₹649]</td>\n",
       "    </tr>\n",
       "    <tr>\n",
       "      <th>...</th>\n",
       "      <td>...</td>\n",
       "      <td>...</td>\n",
       "      <td>...</td>\n",
       "    </tr>\n",
       "    <tr>\n",
       "      <th>95</th>\n",
       "      <td>[Sewell]</td>\n",
       "      <td>[Mirrored,  Night Vision,  UV Protection,  Rid...</td>\n",
       "      <td>[₹265]</td>\n",
       "    </tr>\n",
       "    <tr>\n",
       "      <th>96</th>\n",
       "      <td>[ROZZETTA CRAFT]</td>\n",
       "      <td>[UV Protection,  Gradient Rectangular Sunglass...</td>\n",
       "      <td>[₹426]</td>\n",
       "    </tr>\n",
       "    <tr>\n",
       "      <th>97</th>\n",
       "      <td>[Singco India]</td>\n",
       "      <td>[UV Protection,  Riding Glasses,  Others Aviat...</td>\n",
       "      <td>[₹215]</td>\n",
       "    </tr>\n",
       "    <tr>\n",
       "      <th>98</th>\n",
       "      <td>[VINCENT CHASE]</td>\n",
       "      <td>[by Lenskart Polarized,  UV Protection Cat-eye...</td>\n",
       "      <td>[₹949]</td>\n",
       "    </tr>\n",
       "    <tr>\n",
       "      <th>99</th>\n",
       "      <td>[Fastrack]</td>\n",
       "      <td>[Gradient,  UV Protection Wayfarer Sunglasses ...</td>\n",
       "      <td>[₹679]</td>\n",
       "    </tr>\n",
       "  </tbody>\n",
       "</table>\n",
       "<p>100 rows × 3 columns</p>\n",
       "</div>"
      ],
      "text/plain": [
       "     Sunglass Brands                              Production Descripion  \\\n",
       "0           [Resist]  [Toughened Glass Lens,  UV Protection,  Riding...   \n",
       "1           [ARICKS]  [UV Protection,  Polarized Rectangular Sunglas...   \n",
       "2         [Fastrack]    [UV Protection Wayfarer Sunglasses (Free Size)]   \n",
       "3           [PIRASO]        [UV Protection Rectangular Sunglasses (52)]   \n",
       "4    [VINCENT CHASE]           [UV Protection Wayfarer Sunglasses (59)]   \n",
       "..               ...                                                ...   \n",
       "95          [Sewell]  [Mirrored,  Night Vision,  UV Protection,  Rid...   \n",
       "96  [ROZZETTA CRAFT]  [UV Protection,  Gradient Rectangular Sunglass...   \n",
       "97    [Singco India]  [UV Protection,  Riding Glasses,  Others Aviat...   \n",
       "98   [VINCENT CHASE]  [by Lenskart Polarized,  UV Protection Cat-eye...   \n",
       "99        [Fastrack]  [Gradient,  UV Protection Wayfarer Sunglasses ...   \n",
       "\n",
       "   Sunglass Price  \n",
       "0        [₹1,399]  \n",
       "1          [₹236]  \n",
       "2          [₹649]  \n",
       "3          [₹199]  \n",
       "4          [₹649]  \n",
       "..            ...  \n",
       "95         [₹265]  \n",
       "96         [₹426]  \n",
       "97         [₹215]  \n",
       "98         [₹949]  \n",
       "99         [₹679]  \n",
       "\n",
       "[100 rows x 3 columns]"
      ]
     },
     "execution_count": 47,
     "metadata": {},
     "output_type": "execute_result"
    }
   ],
   "source": [
    "#Lets make datafram \n",
    "import pandas as pd \n",
    "sunglass=pd.DataFrame({\"Sunglass Brands\":brands,\"Production Descripion\":prod_des,\"Sunglass Price\":price}) \n",
    "sunglass"
   ]
  },
  {
   "cell_type": "code",
   "execution_count": 48,
   "id": "57ea0841",
   "metadata": {},
   "outputs": [],
   "source": [
    "driver.close()"
   ]
  },
  {
   "cell_type": "markdown",
   "id": "d33db180",
   "metadata": {},
   "source": [
    "# Q5: Scrape 100 reviews data from flipkart.com for iphone11 phone. You have to go the link\n",
    "# When you will open the above link you will reach to the below shown webpage .\n",
    "# As shown in the above page you have to scrape the tick marked attributes.These are:\n",
    "# 1. Rating\n",
    "# 2. Review summary\n",
    "# 3. Full review\n",
    "# 4. You have to scrape this data for first 100 reviews.\n",
    "# Note: All the steps required during scraping should be done through code only and not manually"
   ]
  },
  {
   "cell_type": "code",
   "execution_count": 52,
   "id": "a12585c6",
   "metadata": {},
   "outputs": [],
   "source": [
    "driver = webdriver.Edge(r\"C:/Users/yjjai/Downloads/edgedriver_win64/msedgedriver.exe\")"
   ]
  },
  {
   "cell_type": "code",
   "execution_count": 53,
   "id": "c2bedcec",
   "metadata": {},
   "outputs": [],
   "source": [
    "driver.maximize_window()"
   ]
  },
  {
   "cell_type": "code",
   "execution_count": 54,
   "id": "1408cea6",
   "metadata": {},
   "outputs": [],
   "source": [
    "url = \"https://www.flipkart.com/apple-iphone-11-black-64-gb/p/itm4e5041ba101fd\"\n",
    "driver.get(url)"
   ]
  },
  {
   "cell_type": "code",
   "execution_count": 55,
   "id": "44b4a5bf",
   "metadata": {},
   "outputs": [
    {
     "data": {
      "text/plain": [
       "['5', '4', '5', '5', '5', '5', '5', '5', '4', '5']"
      ]
     },
     "execution_count": 55,
     "metadata": {},
     "output_type": "execute_result"
    }
   ],
   "source": [
    "Rating = []\n",
    "rat_tags = driver.find_elements(By.XPATH,'//div[@class=\"_3LWZlK _1BLPMq\"]')\n",
    "for i in rat_tags:\n",
    "    Rating.append(i.text)\n",
    "Rating"
   ]
  },
  {
   "cell_type": "code",
   "execution_count": 56,
   "id": "0a38338d",
   "metadata": {},
   "outputs": [
    {
     "data": {
      "text/plain": [
       "['Simply awesome',\n",
       " 'Value-for-money',\n",
       " 'Perfect product!',\n",
       " 'Best in the market!',\n",
       " 'Highly recommended',\n",
       " 'Worth every penny',\n",
       " 'Highly recommended',\n",
       " 'Perfect product!',\n",
       " 'Pretty good',\n",
       " 'Great product']"
      ]
     },
     "execution_count": 56,
     "metadata": {},
     "output_type": "execute_result"
    }
   ],
   "source": [
    "Review_summary = []\n",
    "summ_tags = driver.find_elements(By.XPATH,'//p[@class=\"_2-N8zT\"]')\n",
    "for i in summ_tags:\n",
    "    Review_summary.append(i.text)\n",
    "Review_summary"
   ]
  },
  {
   "cell_type": "code",
   "execution_count": 58,
   "id": "cdb94047",
   "metadata": {},
   "outputs": [
    {
     "data": {
      "text/plain": [
       "['Really satisfied with the Product I received... It’s totally genuine and the packaging was also really good so if ur planning to buy just go for it.',\n",
       " \"I'm Really happy with the product\\nDelivery was fast as well\\n..it was a gift for my sister and she loved it so much.\",\n",
       " 'Amazing phone with great cameras and better battery which gives you the best performance. I just love the camera .',\n",
       " 'Great iPhone very snappy experience as apple kind. Upgraded from iPhone 7.\\nPros\\n-Camera top class\\n- Battery top performed\\n-Chipset no need to say as apple kind\\n-Security as you expect from apple\\n- Display super bright industry leading colour\\naccuracy and super responsive\\n-Build quality as expect from apple sturdy\\npremium durable beautiful stylish.\\n-Os most stable os in smartphone industry\\n\\nCons\\n-No 5G\\n-Display is not based on OLED technology\\n-Charger headphones and 1 apple stic...\\nREAD MORE',\n",
       " 'What a camera .....just awesome ..you can feel this iPhone just awesome . Good for gaming also ...try pubg in hd it’s just wow',\n",
       " 'Previously I was using one plus 3t it was a great phone\\nAnd then I decided to upgrade I am stuck between Samsung s10 plus or iPhone 11\\nI have seen the specs and everything were good except the display it’s somewhere between 720-1080 and it’s not even an amoled it’s an LCD display\\nBut I decided to go with iPhone because I have never used an IOS device I have Been an android user from the past 9 years I ordered IPhone 11 (128gb) product red\\nMy experience after using 3 weeks\\n1. The delivery ...\\nREAD MORE',\n",
       " \"It's my first time to use iOS phone and I am loving my upgradation 😍😍 I love the color, I love the assebility of the phone....I need to learn more about its functionality, but as far as I have seen, it's quite easy and it has a lot of functions to work on, specially if you are a content writer or a blogger you get a lot of content creation platforms and they are really amazing.\\n\\nThis phone not only for good quality photography but a lot of other task too.😍💯\",\n",
       " 'Value for money\\n5 star rating\\nExcellent camera\\nBattery backup full day in single charge.\\n\\nTougher and water resistant design, glossy back.\\nThe screen has excellent brightness and contrast.\\nApple A13 Bionic is the fastest smartphone chip on the planet.\\nExcellent battery life, fast charging support.\\nStereo speakers with great quality.',\n",
       " 'I was using Iphone 6s and also Oneplus 6t. Both mobiles were perfectly alright in Photos, gaming, and smooth interface . My 6s mobile getting battery issue. thought upgrade to 11. Really like this mobile of its Internal storage (compare to 6s) , camera and its touch feeling. Its a worth buying mobile for me.',\n",
       " 'Amazing Powerful and Durable Gadget.\\n\\nI’m am very happy with the camera picture quality, Amazing face id unlocked in dark room, Strong battery with perfect screen size as you can carry easily in pocket. This is my third iPhone.\\n\\nI shifted from android Samsung Note series to iPhone because of the strong build quality and peace of mind for next 3-4 years.\\n\\nDon’t think to much just go for it and I suggest you to go for minimum 128gb variant or more 256gb.\\n\\nI’ve attached my puppy pics and no fi...\\nREAD MORE']"
      ]
     },
     "execution_count": 58,
     "metadata": {},
     "output_type": "execute_result"
    }
   ],
   "source": [
    "Full_review = []\n",
    "rev_tags = driver.find_elements(By.XPATH,'//div[@class=\"t-ZTKy\"]')\n",
    "for i in rev_tags:\n",
    "    Full_review.append(i.text)\n",
    "Full_review"
   ]
  },
  {
   "cell_type": "code",
   "execution_count": 59,
   "id": "5a1891d0",
   "metadata": {},
   "outputs": [
    {
     "data": {
      "text/html": [
       "<div>\n",
       "<style scoped>\n",
       "    .dataframe tbody tr th:only-of-type {\n",
       "        vertical-align: middle;\n",
       "    }\n",
       "\n",
       "    .dataframe tbody tr th {\n",
       "        vertical-align: top;\n",
       "    }\n",
       "\n",
       "    .dataframe thead th {\n",
       "        text-align: right;\n",
       "    }\n",
       "</style>\n",
       "<table border=\"1\" class=\"dataframe\">\n",
       "  <thead>\n",
       "    <tr style=\"text-align: right;\">\n",
       "      <th></th>\n",
       "      <th>Rating</th>\n",
       "      <th>Reviewsummary</th>\n",
       "      <th>Fullreview</th>\n",
       "    </tr>\n",
       "  </thead>\n",
       "  <tbody>\n",
       "    <tr>\n",
       "      <th>0</th>\n",
       "      <td>Really satisfied with the Product I received.....</td>\n",
       "      <td>Simply awesome</td>\n",
       "      <td>Really satisfied with the Product I received.....</td>\n",
       "    </tr>\n",
       "    <tr>\n",
       "      <th>1</th>\n",
       "      <td>I'm Really happy with the product\\nDelivery wa...</td>\n",
       "      <td>Value-for-money</td>\n",
       "      <td>I'm Really happy with the product\\nDelivery wa...</td>\n",
       "    </tr>\n",
       "    <tr>\n",
       "      <th>2</th>\n",
       "      <td>Amazing phone with great cameras and better ba...</td>\n",
       "      <td>Perfect product!</td>\n",
       "      <td>Amazing phone with great cameras and better ba...</td>\n",
       "    </tr>\n",
       "    <tr>\n",
       "      <th>3</th>\n",
       "      <td>Great iPhone very snappy experience as apple k...</td>\n",
       "      <td>Best in the market!</td>\n",
       "      <td>Great iPhone very snappy experience as apple k...</td>\n",
       "    </tr>\n",
       "    <tr>\n",
       "      <th>4</th>\n",
       "      <td>What a camera .....just awesome ..you can feel...</td>\n",
       "      <td>Highly recommended</td>\n",
       "      <td>What a camera .....just awesome ..you can feel...</td>\n",
       "    </tr>\n",
       "    <tr>\n",
       "      <th>5</th>\n",
       "      <td>Previously I was using one plus 3t it was a gr...</td>\n",
       "      <td>Worth every penny</td>\n",
       "      <td>Previously I was using one plus 3t it was a gr...</td>\n",
       "    </tr>\n",
       "    <tr>\n",
       "      <th>6</th>\n",
       "      <td>It's my first time to use iOS phone and I am l...</td>\n",
       "      <td>Highly recommended</td>\n",
       "      <td>It's my first time to use iOS phone and I am l...</td>\n",
       "    </tr>\n",
       "    <tr>\n",
       "      <th>7</th>\n",
       "      <td>Value for money\\n5 star rating\\nExcellent came...</td>\n",
       "      <td>Perfect product!</td>\n",
       "      <td>Value for money\\n5 star rating\\nExcellent came...</td>\n",
       "    </tr>\n",
       "    <tr>\n",
       "      <th>8</th>\n",
       "      <td>I was using Iphone 6s and also Oneplus 6t. Bot...</td>\n",
       "      <td>Pretty good</td>\n",
       "      <td>I was using Iphone 6s and also Oneplus 6t. Bot...</td>\n",
       "    </tr>\n",
       "    <tr>\n",
       "      <th>9</th>\n",
       "      <td>Amazing Powerful and Durable Gadget.\\n\\nI’m am...</td>\n",
       "      <td>Great product</td>\n",
       "      <td>Amazing Powerful and Durable Gadget.\\n\\nI’m am...</td>\n",
       "    </tr>\n",
       "  </tbody>\n",
       "</table>\n",
       "</div>"
      ],
      "text/plain": [
       "                                              Rating        Reviewsummary  \\\n",
       "0  Really satisfied with the Product I received.....       Simply awesome   \n",
       "1  I'm Really happy with the product\\nDelivery wa...      Value-for-money   \n",
       "2  Amazing phone with great cameras and better ba...     Perfect product!   \n",
       "3  Great iPhone very snappy experience as apple k...  Best in the market!   \n",
       "4  What a camera .....just awesome ..you can feel...   Highly recommended   \n",
       "5  Previously I was using one plus 3t it was a gr...    Worth every penny   \n",
       "6  It's my first time to use iOS phone and I am l...   Highly recommended   \n",
       "7  Value for money\\n5 star rating\\nExcellent came...     Perfect product!   \n",
       "8  I was using Iphone 6s and also Oneplus 6t. Bot...          Pretty good   \n",
       "9  Amazing Powerful and Durable Gadget.\\n\\nI’m am...        Great product   \n",
       "\n",
       "                                          Fullreview  \n",
       "0  Really satisfied with the Product I received.....  \n",
       "1  I'm Really happy with the product\\nDelivery wa...  \n",
       "2  Amazing phone with great cameras and better ba...  \n",
       "3  Great iPhone very snappy experience as apple k...  \n",
       "4  What a camera .....just awesome ..you can feel...  \n",
       "5  Previously I was using one plus 3t it was a gr...  \n",
       "6  It's my first time to use iOS phone and I am l...  \n",
       "7  Value for money\\n5 star rating\\nExcellent came...  \n",
       "8  I was using Iphone 6s and also Oneplus 6t. Bot...  \n",
       "9  Amazing Powerful and Durable Gadget.\\n\\nI’m am...  "
      ]
     },
     "execution_count": 59,
     "metadata": {},
     "output_type": "execute_result"
    }
   ],
   "source": [
    "iphone=pd.DataFrame({'Rating':Rating,'Reviewsummary':Review_summary,'Fullreview':Full_review})\n",
    "iphone"
   ]
  },
  {
   "cell_type": "code",
   "execution_count": 60,
   "id": "1a12bd41",
   "metadata": {},
   "outputs": [],
   "source": [
    "driver.close()"
   ]
  },
  {
   "cell_type": "markdown",
   "id": "17b1acb5",
   "metadata": {},
   "source": [
    "# Q6: Scrape data for first 100 sneakers you find when you visit flipkart.com and search for “sneakers” in the\n",
    "# search field.\n",
    "# You have to scrape 4 attributes of each sneaker:\n",
    "# 1. Brand\n",
    "# 2. Product Description\n",
    "# 3. Price\n",
    "# As shown in the below image, you have to scrape the tick marked attributes."
   ]
  },
  {
   "cell_type": "code",
   "execution_count": 61,
   "id": "78429a0a",
   "metadata": {},
   "outputs": [],
   "source": [
    "driver = webdriver.Edge(r\"C:/Users/yjjai/Downloads/edgedriver_win64/msedgedriver.exe\")"
   ]
  },
  {
   "cell_type": "code",
   "execution_count": 62,
   "id": "9f890c9f",
   "metadata": {},
   "outputs": [],
   "source": [
    "driver.maximize_window()"
   ]
  },
  {
   "cell_type": "code",
   "execution_count": 63,
   "id": "6af53547",
   "metadata": {},
   "outputs": [],
   "source": [
    "url = \"https://www.flipkart.com/\"\n",
    "driver.get(url)"
   ]
  },
  {
   "cell_type": "code",
   "execution_count": 64,
   "id": "8537f33a",
   "metadata": {},
   "outputs": [],
   "source": [
    "#Finding the web element for search \"Sunglass\" \n",
    "search=driver.find_element(By.CLASS_NAME,\"_3704LK\") \n",
    "search.send_keys(\"sneakers\")"
   ]
  },
  {
   "cell_type": "code",
   "execution_count": 65,
   "id": "ca82c750",
   "metadata": {},
   "outputs": [],
   "source": [
    "search_btn=driver.find_element(By.CLASS_NAME,\"_34RNph\") \n",
    "search_btn.click()"
   ]
  },
  {
   "cell_type": "code",
   "execution_count": 66,
   "id": "e4ff604e",
   "metadata": {},
   "outputs": [],
   "source": [
    "#Lets extract all web elements having 100 sneakers Brand \n",
    "brands=[] \n",
    "start=0 \n",
    "end=3 \n",
    "for page in range(start,end): \n",
    "     \n",
    "    title_tag=driver.find_elements(By.XPATH,'//div[@class=\"_2WkVRV\"]') \n",
    "    for i in title_tag: \n",
    "        brands.append(i.text.split(\",\")) \n",
    "brands=brands[0:100]"
   ]
  },
  {
   "cell_type": "code",
   "execution_count": 67,
   "id": "23243fa8",
   "metadata": {},
   "outputs": [],
   "source": [
    "#Lets extract all web elements having 100 sneakers Product Discription \n",
    "prod_des=[] \n",
    "start=0 \n",
    "end=3 \n",
    "for page in range(start,end): \n",
    "     \n",
    "    title_tag=driver.find_elements(By.XPATH,'//a[@class=\"_3bPFwb\"]') \n",
    "    for i in title_tag: \n",
    "        prod_des.append(i.text.split(\",\")) \n",
    "prod_des=prod_des[0:100]"
   ]
  },
  {
   "cell_type": "code",
   "execution_count": 68,
   "id": "b32f6556",
   "metadata": {},
   "outputs": [],
   "source": [
    "#Lets extract all web elements having 100 Sunglass Price \n",
    "price=[] \n",
    "start=0 \n",
    "end=3 \n",
    "for page in range(start,end): \n",
    "     \n",
    "    title_tag=driver.find_elements(By.XPATH,'//div[@class=\"_30jeq3\"]') \n",
    "    for i in title_tag: \n",
    "        price.append(i.text.split(\" \")) \n",
    "price=price[0:100]"
   ]
  },
  {
   "cell_type": "code",
   "execution_count": 69,
   "id": "592fc2f9",
   "metadata": {},
   "outputs": [
    {
     "data": {
      "text/html": [
       "<div>\n",
       "<style scoped>\n",
       "    .dataframe tbody tr th:only-of-type {\n",
       "        vertical-align: middle;\n",
       "    }\n",
       "\n",
       "    .dataframe tbody tr th {\n",
       "        vertical-align: top;\n",
       "    }\n",
       "\n",
       "    .dataframe thead th {\n",
       "        text-align: right;\n",
       "    }\n",
       "</style>\n",
       "<table border=\"1\" class=\"dataframe\">\n",
       "  <thead>\n",
       "    <tr style=\"text-align: right;\">\n",
       "      <th></th>\n",
       "      <th>sneakers Brands</th>\n",
       "      <th>Production Descripion</th>\n",
       "      <th>sneakers Price</th>\n",
       "    </tr>\n",
       "  </thead>\n",
       "  <tbody>\n",
       "    <tr>\n",
       "      <th>0</th>\n",
       "      <td>[RapidBox]</td>\n",
       "      <td>[₹549₹99945% off]</td>\n",
       "      <td>[₹549]</td>\n",
       "    </tr>\n",
       "    <tr>\n",
       "      <th>1</th>\n",
       "      <td>[Bullchi]</td>\n",
       "      <td>[₹579₹1, 19951% off]</td>\n",
       "      <td>[₹579]</td>\n",
       "    </tr>\n",
       "    <tr>\n",
       "      <th>2</th>\n",
       "      <td>[RED TAPE]</td>\n",
       "      <td>[₹1, 249₹4, 99975% off]</td>\n",
       "      <td>[₹1,249]</td>\n",
       "    </tr>\n",
       "    <tr>\n",
       "      <th>3</th>\n",
       "      <td>[RED TAPE]</td>\n",
       "      <td>[₹1, 079₹5, 39980% off]</td>\n",
       "      <td>[₹1,079]</td>\n",
       "    </tr>\n",
       "    <tr>\n",
       "      <th>4</th>\n",
       "      <td>[Labbin]</td>\n",
       "      <td>[₹395₹99960% off]</td>\n",
       "      <td>[₹395]</td>\n",
       "    </tr>\n",
       "    <tr>\n",
       "      <th>...</th>\n",
       "      <td>...</td>\n",
       "      <td>...</td>\n",
       "      <td>...</td>\n",
       "    </tr>\n",
       "    <tr>\n",
       "      <th>95</th>\n",
       "      <td>[Robbie jones]</td>\n",
       "      <td>[₹329₹99967% off\\nFree delivery]</td>\n",
       "      <td>[₹329]</td>\n",
       "    </tr>\n",
       "    <tr>\n",
       "      <th>96</th>\n",
       "      <td>[gargcreation]</td>\n",
       "      <td>[₹299₹59950% off\\nFree delivery]</td>\n",
       "      <td>[₹299]</td>\n",
       "    </tr>\n",
       "    <tr>\n",
       "      <th>97</th>\n",
       "      <td>[Kraasa]</td>\n",
       "      <td>[₹499₹99950% off\\nFree delivery]</td>\n",
       "      <td>[₹499]</td>\n",
       "    </tr>\n",
       "    <tr>\n",
       "      <th>98</th>\n",
       "      <td>[aadi]</td>\n",
       "      <td>[₹499₹1, 99975% off\\nFree delivery]</td>\n",
       "      <td>[₹499]</td>\n",
       "    </tr>\n",
       "    <tr>\n",
       "      <th>99</th>\n",
       "      <td>[Deals4you]</td>\n",
       "      <td>[₹389₹99961% off\\nFree delivery]</td>\n",
       "      <td>[₹389]</td>\n",
       "    </tr>\n",
       "  </tbody>\n",
       "</table>\n",
       "<p>100 rows × 3 columns</p>\n",
       "</div>"
      ],
      "text/plain": [
       "   sneakers Brands                Production Descripion sneakers Price\n",
       "0       [RapidBox]                    [₹549₹99945% off]         [₹549]\n",
       "1        [Bullchi]                 [₹579₹1, 19951% off]         [₹579]\n",
       "2       [RED TAPE]              [₹1, 249₹4, 99975% off]       [₹1,249]\n",
       "3       [RED TAPE]              [₹1, 079₹5, 39980% off]       [₹1,079]\n",
       "4         [Labbin]                    [₹395₹99960% off]         [₹395]\n",
       "..             ...                                  ...            ...\n",
       "95  [Robbie jones]     [₹329₹99967% off\\nFree delivery]         [₹329]\n",
       "96  [gargcreation]     [₹299₹59950% off\\nFree delivery]         [₹299]\n",
       "97        [Kraasa]     [₹499₹99950% off\\nFree delivery]         [₹499]\n",
       "98          [aadi]  [₹499₹1, 99975% off\\nFree delivery]         [₹499]\n",
       "99     [Deals4you]     [₹389₹99961% off\\nFree delivery]         [₹389]\n",
       "\n",
       "[100 rows x 3 columns]"
      ]
     },
     "execution_count": 69,
     "metadata": {},
     "output_type": "execute_result"
    }
   ],
   "source": [
    "#Lets make datafram \n",
    "import pandas as pd \n",
    "sneakers=pd.DataFrame({\"sneakers Brands\":brands,\"Production Descripion\":prod_des,\"sneakers Price\":price}) \n",
    "sneakers"
   ]
  },
  {
   "cell_type": "code",
   "execution_count": 70,
   "id": "6d4319b2",
   "metadata": {},
   "outputs": [],
   "source": [
    "driver.close()"
   ]
  },
  {
   "cell_type": "markdown",
   "id": "17d7914c",
   "metadata": {},
   "source": [
    "# Q7: Go to the link - https://www.myntra.com/shoes\n",
    "# Set second Price filter and Color filter to “Black”, as shown in the below image.\n",
    "# And then scrape First 100 shoes data you get. The data should include “Brand” of the shoes , Short Shoe\n",
    "# description, price of the shoe as shown in the below image.\n",
    "# Note: Applying the filter and scraping the data, everything should be done through code only and there\n",
    "# should not be any manual step.\n",
    "# : In Case, Inspect click don’t works, Please use ctrl+shift+c to inspect the element."
   ]
  },
  {
   "cell_type": "code",
   "execution_count": 50,
   "id": "70f030d7",
   "metadata": {},
   "outputs": [],
   "source": [
    "driver = webdriver.Edge(r\"C:/Users/yjjai/Downloads/edgedriver_win64/msedgedriver.exe\")"
   ]
  },
  {
   "cell_type": "code",
   "execution_count": 51,
   "id": "59bbc1e7",
   "metadata": {},
   "outputs": [],
   "source": [
    "driver.maximize_window()"
   ]
  },
  {
   "cell_type": "code",
   "execution_count": 52,
   "id": "7e5473dc",
   "metadata": {},
   "outputs": [],
   "source": [
    "url = \"https://www.myntra.com/shoes\"\n",
    "driver.get(url)"
   ]
  },
  {
   "cell_type": "code",
   "execution_count": 53,
   "id": "aa00b849",
   "metadata": {},
   "outputs": [],
   "source": [
    "price_filter=driver.find_element(By.XPATH,\"/html/body/div[2]/div/main/div[3]/div[1]/section/div/div[5]/ul/li[2]/label\") \n",
    "price_filter.click()"
   ]
  },
  {
   "cell_type": "code",
   "execution_count": 54,
   "id": "9801eacf",
   "metadata": {},
   "outputs": [],
   "source": [
    "color_filter=driver.find_element(By.XPATH,\"/html/body/div[2]/div/main/div[3]/div[1]/section/div/div[6]/ul/li[1]/label\") \n",
    "color_filter.click()"
   ]
  },
  {
   "cell_type": "code",
   "execution_count": 58,
   "id": "be8eb7b0",
   "metadata": {},
   "outputs": [
    {
     "data": {
      "text/plain": [
       "['Puma',\n",
       " 'Nike',\n",
       " 'UNDER ARMOUR',\n",
       " 'UNDER ARMOUR',\n",
       " 'Nike',\n",
       " 'UNDER ARMOUR',\n",
       " 'Nike',\n",
       " 'Puma',\n",
       " 'Ruosh',\n",
       " 'UNDER ARMOUR',\n",
       " 'ADIDAS Originals',\n",
       " 'Nike',\n",
       " 'ADIDAS',\n",
       " 'UNDER ARMOUR',\n",
       " 'ADIDAS',\n",
       " 'Saint G',\n",
       " 'Skechers',\n",
       " 'Nike',\n",
       " 'Skechers',\n",
       " 'ADIDAS Originals',\n",
       " 'Nike',\n",
       " 'Tommy Hilfiger',\n",
       " 'ADIDAS',\n",
       " 'Skechers',\n",
       " 'UNDER ARMOUR',\n",
       " 'Skechers',\n",
       " 'ADIDAS',\n",
       " 'Puma',\n",
       " 'Xtep',\n",
       " 'ADIDAS Originals',\n",
       " 'ADIDAS',\n",
       " 'Geox',\n",
       " 'Geox',\n",
       " 'Nike',\n",
       " 'ADIDAS',\n",
       " 'ADIDAS',\n",
       " 'Nike',\n",
       " 'ADIDAS',\n",
       " 'Nike',\n",
       " 'Ruosh',\n",
       " 'ALDO',\n",
       " 'Nike',\n",
       " 'ADIDAS Originals',\n",
       " 'ALDO',\n",
       " 'Nike',\n",
       " 'Ruosh',\n",
       " 'Saint G',\n",
       " 'Skechers',\n",
       " 'Louis Philippe',\n",
       " 'Saint G',\n",
       " 'Puma',\n",
       " 'Nike',\n",
       " 'UNDER ARMOUR',\n",
       " 'UNDER ARMOUR',\n",
       " 'Nike',\n",
       " 'UNDER ARMOUR',\n",
       " 'Nike',\n",
       " 'Puma',\n",
       " 'Ruosh',\n",
       " 'UNDER ARMOUR',\n",
       " 'ADIDAS Originals',\n",
       " 'Nike',\n",
       " 'ADIDAS',\n",
       " 'UNDER ARMOUR',\n",
       " 'ADIDAS',\n",
       " 'Saint G',\n",
       " 'Skechers',\n",
       " 'Nike',\n",
       " 'Skechers',\n",
       " 'ADIDAS Originals',\n",
       " 'Nike',\n",
       " 'Tommy Hilfiger',\n",
       " 'ADIDAS',\n",
       " 'Skechers',\n",
       " 'UNDER ARMOUR',\n",
       " 'Skechers',\n",
       " 'ADIDAS',\n",
       " 'Puma',\n",
       " 'Xtep',\n",
       " 'ADIDAS Originals',\n",
       " 'ADIDAS',\n",
       " 'Geox',\n",
       " 'Geox',\n",
       " 'Nike',\n",
       " 'ADIDAS',\n",
       " 'ADIDAS',\n",
       " 'Nike',\n",
       " 'ADIDAS',\n",
       " 'Nike',\n",
       " 'Ruosh',\n",
       " 'ALDO',\n",
       " 'Nike',\n",
       " 'ADIDAS Originals',\n",
       " 'ALDO',\n",
       " 'Nike',\n",
       " 'Ruosh',\n",
       " 'Saint G',\n",
       " 'Skechers',\n",
       " 'Louis Philippe',\n",
       " 'Saint G']"
      ]
     },
     "execution_count": 58,
     "metadata": {},
     "output_type": "execute_result"
    }
   ],
   "source": [
    "#Lets extract all web elements having 100 shoes Brand \n",
    "brands=[] \n",
    "start=0 \n",
    "end=2 \n",
    "for page in range(start,end): \n",
    "     \n",
    "    title_tag=driver.find_elements(By.XPATH,'//h3[@class=\"product-brand\"]') \n",
    "    for i in title_tag: \n",
    "        brands.append(i.text) \n",
    "brands"
   ]
  },
  {
   "cell_type": "code",
   "execution_count": 60,
   "id": "58cdfd91",
   "metadata": {},
   "outputs": [
    {
     "data": {
      "text/plain": [
       "['Men Magnify Nitro Running',\n",
       " 'Men Vomero 16 Running Shoes',\n",
       " 'Men HOVR SonicSE Running Shoes',\n",
       " 'Men ChargedEscape 3 BL Running',\n",
       " 'JORDAN ZION 2 Basketball Shoes',\n",
       " 'Unisex 3ZER0 IV Basketball',\n",
       " 'JORDAN MAX AURA 4 Shoes',\n",
       " 'Eternity Nitro Running Shoes',\n",
       " 'Men Textured Leather Loafers',\n",
       " 'Women HOVR SonicSE Running',\n",
       " 'Men ZX 22 BOOST Sneakers',\n",
       " 'Men FREE RUN 2 Sneakers',\n",
       " 'Men Runner Fl Running Shoes',\n",
       " 'Men HOVR SonicSE Running Shoes',\n",
       " 'Men Ultraboost 5.0 DNA Running',\n",
       " 'Suede Above The Knee Boots',\n",
       " 'Men Walking Shoes',\n",
       " 'Men Air Max Flyknit Sneakers',\n",
       " 'Men Sky Vault Walking Shoes',\n",
       " 'Men Solid NMD_R1 V3 Sneakers',\n",
       " 'Men AIR MAX DAWN Sneakers',\n",
       " 'Men Textured Leather Loafers',\n",
       " 'Men Adistar Running Shoes',\n",
       " 'Men GO WALK - TERRA Shoes',\n",
       " 'W omen TriBase Reign 4 Running',\n",
       " 'Men Woven Design Sneakers',\n",
       " 'Men Response Super 3.0 Run',\n",
       " 'Men Nitro 2 WIDE Running Shoes',\n",
       " 'Men Running Shoes',\n",
       " 'Men Leather Ozelia Sneakers',\n",
       " 'Men Ultraboost 5.0 DNA Running',\n",
       " 'Woman Leather Ankle Boots',\n",
       " 'Leather Heeled Boots',\n",
       " 'Men KD 15 Basketball Shoes',\n",
       " 'Women Ultraboost 22 Running',\n",
       " 'Men Adistar CS Running Shoes',\n",
       " 'Women AIR ZOOM Running Shoes',\n",
       " 'Men Response Super 3.0 Run',\n",
       " 'Men Air Max Sneakers',\n",
       " 'Men Leather Loafers',\n",
       " 'Men Slip-On Sneakers',\n",
       " 'Men Kyrie Flytrap Basketball',\n",
       " 'Men Woven Nmd_R1 Sneakers',\n",
       " 'Men Solid Leather Slip On Formal Shoes',\n",
       " 'Men AIR WINFLO 9 Running Shoes',\n",
       " 'Men Textured Leather Loafers',\n",
       " 'Block Heeled Boots',\n",
       " 'Women Go Walk EU Walking Shoes',\n",
       " 'Men Leather Formal Slip-Ons',\n",
       " 'Women High-Top Heeled Boots',\n",
       " 'Men Magnify Nitro Running',\n",
       " 'Men Vomero 16 Running Shoes',\n",
       " 'Men HOVR SonicSE Running Shoes',\n",
       " 'Men ChargedEscape 3 BL Running',\n",
       " 'JORDAN ZION 2 Basketball Shoes',\n",
       " 'Unisex 3ZER0 IV Basketball',\n",
       " 'JORDAN MAX AURA 4 Shoes',\n",
       " 'Eternity Nitro Running Shoes',\n",
       " 'Men Textured Leather Loafers',\n",
       " 'Women HOVR SonicSE Running',\n",
       " 'Men ZX 22 BOOST Sneakers',\n",
       " 'Men FREE RUN 2 Sneakers',\n",
       " 'Men Runner Fl Running Shoes',\n",
       " 'Men HOVR SonicSE Running Shoes',\n",
       " 'Men Ultraboost 5.0 DNA Running',\n",
       " 'Suede Above The Knee Boots',\n",
       " 'Men Walking Shoes',\n",
       " 'Men Air Max Flyknit Sneakers',\n",
       " 'Men Sky Vault Walking Shoes',\n",
       " 'Men Solid NMD_R1 V3 Sneakers',\n",
       " 'Men AIR MAX DAWN Sneakers',\n",
       " 'Men Textured Leather Loafers',\n",
       " 'Men Adistar Running Shoes',\n",
       " 'Men GO WALK - TERRA Shoes',\n",
       " 'W omen TriBase Reign 4 Running',\n",
       " 'Men Woven Design Sneakers',\n",
       " 'Men Response Super 3.0 Run',\n",
       " 'Men Nitro 2 WIDE Running Shoes',\n",
       " 'Men Running Shoes',\n",
       " 'Men Leather Ozelia Sneakers',\n",
       " 'Men Ultraboost 5.0 DNA Running',\n",
       " 'Woman Leather Ankle Boots',\n",
       " 'Leather Heeled Boots',\n",
       " 'Men KD 15 Basketball Shoes',\n",
       " 'Women Ultraboost 22 Running',\n",
       " 'Men Adistar CS Running Shoes',\n",
       " 'Women AIR ZOOM Running Shoes',\n",
       " 'Men Response Super 3.0 Run',\n",
       " 'Men Air Max Sneakers',\n",
       " 'Men Leather Loafers',\n",
       " 'Men Slip-On Sneakers',\n",
       " 'Men Kyrie Flytrap Basketball',\n",
       " 'Men Woven Nmd_R1 Sneakers',\n",
       " 'Men Solid Leather Slip On Formal Shoes',\n",
       " 'Men AIR WINFLO 9 Running Shoes',\n",
       " 'Men Textured Leather Loafers',\n",
       " 'Block Heeled Boots',\n",
       " 'Women Go Walk EU Walking Shoes',\n",
       " 'Men Leather Formal Slip-Ons',\n",
       " 'Women High-Top Heeled Boots']"
      ]
     },
     "execution_count": 60,
     "metadata": {},
     "output_type": "execute_result"
    }
   ],
   "source": [
    "#Lets extract all web elements having 100 shoes Product Discription\n",
    "pro_dec=[] \n",
    "start=0 \n",
    "end=2 \n",
    "for page in range(start,end): \n",
    "     \n",
    "    title_tag=driver.find_elements(By.XPATH,'//h4[@class=\"product-product\"]') \n",
    "    for i in title_tag: \n",
    "        pro_dec.append(i.text) \n",
    "pro_dec"
   ]
  },
  {
   "cell_type": "code",
   "execution_count": 61,
   "id": "a6cabb59",
   "metadata": {},
   "outputs": [
    {
     "data": {
      "text/plain": [
       "100"
      ]
     },
     "execution_count": 61,
     "metadata": {},
     "output_type": "execute_result"
    }
   ],
   "source": [
    "len(pro_dec)"
   ]
  },
  {
   "cell_type": "code",
   "execution_count": 62,
   "id": "2781b066",
   "metadata": {},
   "outputs": [
    {
     "data": {
      "text/plain": [
       "['Rs. 9099Rs. 12999(30% OFF)',\n",
       " 'Rs. 11470Rs. 13495(15% OFF)',\n",
       " 'Rs. 9999',\n",
       " 'Rs. 8999',\n",
       " 'Rs. 9175Rs. 10795(15% OFF)',\n",
       " 'Rs. 8999',\n",
       " 'Rs. 10165Rs. 11295(10% OFF)',\n",
       " 'Rs. 12999',\n",
       " 'Rs. 7990',\n",
       " 'Rs. 9999',\n",
       " 'Rs. 9599Rs. 11999(20% OFF)',\n",
       " 'Rs. 9695',\n",
       " 'Rs. 11249Rs. 14999(25% OFF)',\n",
       " 'Rs. 9999',\n",
       " 'Rs. 11899Rs. 16999(30% OFF)',\n",
       " 'Rs. 13410Rs. 14900(10% OFF)',\n",
       " 'Rs. 8999',\n",
       " 'Rs. 12745Rs. 14995(15% OFF)',\n",
       " 'Rs. 8999',\n",
       " 'Rs. 12799Rs. 15999(20% OFF)',\n",
       " 'Rs. 9175Rs. 10795(15% OFF)',\n",
       " 'Rs. 8999',\n",
       " 'Rs. 12999',\n",
       " 'Rs. 7499Rs. 9999(25% OFF)',\n",
       " 'Rs. 11999',\n",
       " 'Rs. 7499',\n",
       " 'Rs. 8999',\n",
       " 'Rs. 11999',\n",
       " 'Rs. 7199Rs. 7999(10% OFF)',\n",
       " 'Rs. 8799Rs. 10999(20% OFF)',\n",
       " 'Rs. 11049Rs. 16999(35% OFF)',\n",
       " 'Rs. 13990',\n",
       " 'Rs. 13990',\n",
       " 'Rs. 11196Rs. 13995(20% OFF)',\n",
       " 'Rs. 12349Rs. 18999(35% OFF)',\n",
       " 'Rs. 11999Rs. 15999(25% OFF)',\n",
       " 'Rs. 8750Rs. 10295(15% OFF)',\n",
       " 'Rs. 8999',\n",
       " 'Rs. 8295',\n",
       " 'Rs. 8990',\n",
       " 'Rs. 9099Rs. 12999(30% OFF)',\n",
       " 'Rs. 7220Rs. 8495(15% OFF)',\n",
       " 'Rs. 12999',\n",
       " 'Rs. 11399Rs. 18999(40% OFF)',\n",
       " 'Rs. 7220Rs. 8495(15% OFF)',\n",
       " 'Rs. 8990',\n",
       " 'Rs. 7560Rs. 8400(10% OFF)',\n",
       " 'Rs. 7499',\n",
       " 'Rs. 7224Rs. 8499(15% OFF)',\n",
       " 'Rs. 10710Rs. 11900(10% OFF)',\n",
       " 'Rs. 9099Rs. 12999(30% OFF)',\n",
       " 'Rs. 11470Rs. 13495(15% OFF)',\n",
       " 'Rs. 9999',\n",
       " 'Rs. 8999',\n",
       " 'Rs. 9175Rs. 10795(15% OFF)',\n",
       " 'Rs. 8999',\n",
       " 'Rs. 10165Rs. 11295(10% OFF)',\n",
       " 'Rs. 12999',\n",
       " 'Rs. 7990',\n",
       " 'Rs. 9999',\n",
       " 'Rs. 9599Rs. 11999(20% OFF)',\n",
       " 'Rs. 9695',\n",
       " 'Rs. 11249Rs. 14999(25% OFF)',\n",
       " 'Rs. 9999',\n",
       " 'Rs. 11899Rs. 16999(30% OFF)',\n",
       " 'Rs. 13410Rs. 14900(10% OFF)',\n",
       " 'Rs. 8999',\n",
       " 'Rs. 12745Rs. 14995(15% OFF)',\n",
       " 'Rs. 8999',\n",
       " 'Rs. 12799Rs. 15999(20% OFF)',\n",
       " 'Rs. 9175Rs. 10795(15% OFF)',\n",
       " 'Rs. 8999',\n",
       " 'Rs. 12999',\n",
       " 'Rs. 7499Rs. 9999(25% OFF)',\n",
       " 'Rs. 11999',\n",
       " 'Rs. 7499',\n",
       " 'Rs. 8999',\n",
       " 'Rs. 11999',\n",
       " 'Rs. 7199Rs. 7999(10% OFF)',\n",
       " 'Rs. 8799Rs. 10999(20% OFF)',\n",
       " 'Rs. 11049Rs. 16999(35% OFF)',\n",
       " 'Rs. 13990',\n",
       " 'Rs. 13990',\n",
       " 'Rs. 11196Rs. 13995(20% OFF)',\n",
       " 'Rs. 12349Rs. 18999(35% OFF)',\n",
       " 'Rs. 11999Rs. 15999(25% OFF)',\n",
       " 'Rs. 8750Rs. 10295(15% OFF)',\n",
       " 'Rs. 8999',\n",
       " 'Rs. 8295',\n",
       " 'Rs. 8990',\n",
       " 'Rs. 9099Rs. 12999(30% OFF)',\n",
       " 'Rs. 7220Rs. 8495(15% OFF)',\n",
       " 'Rs. 12999',\n",
       " 'Rs. 11399Rs. 18999(40% OFF)',\n",
       " 'Rs. 7220Rs. 8495(15% OFF)',\n",
       " 'Rs. 8990',\n",
       " 'Rs. 7560Rs. 8400(10% OFF)',\n",
       " 'Rs. 7499',\n",
       " 'Rs. 7224Rs. 8499(15% OFF)',\n",
       " 'Rs. 10710Rs. 11900(10% OFF)']"
      ]
     },
     "execution_count": 62,
     "metadata": {},
     "output_type": "execute_result"
    }
   ],
   "source": [
    "#Lets extract all web elements having 100 Shoes Price\n",
    "price=[] \n",
    "start=0 \n",
    "end=2 \n",
    "for page in range(start,end): \n",
    "     \n",
    "    title_tag=driver.find_elements(By.XPATH,'//div[@class=\"product-price\"]') \n",
    "    for i in title_tag: \n",
    "        price.append(i.text) \n",
    "price"
   ]
  },
  {
   "cell_type": "code",
   "execution_count": 63,
   "id": "d93a8009",
   "metadata": {},
   "outputs": [
    {
     "data": {
      "text/html": [
       "<div>\n",
       "<style scoped>\n",
       "    .dataframe tbody tr th:only-of-type {\n",
       "        vertical-align: middle;\n",
       "    }\n",
       "\n",
       "    .dataframe tbody tr th {\n",
       "        vertical-align: top;\n",
       "    }\n",
       "\n",
       "    .dataframe thead th {\n",
       "        text-align: right;\n",
       "    }\n",
       "</style>\n",
       "<table border=\"1\" class=\"dataframe\">\n",
       "  <thead>\n",
       "    <tr style=\"text-align: right;\">\n",
       "      <th></th>\n",
       "      <th>shoes Brands</th>\n",
       "      <th>Production Descripion</th>\n",
       "      <th>shoes Price</th>\n",
       "    </tr>\n",
       "  </thead>\n",
       "  <tbody>\n",
       "    <tr>\n",
       "      <th>0</th>\n",
       "      <td>Puma</td>\n",
       "      <td>Men Magnify Nitro Running</td>\n",
       "      <td>Rs. 9099Rs. 12999(30% OFF)</td>\n",
       "    </tr>\n",
       "    <tr>\n",
       "      <th>1</th>\n",
       "      <td>Nike</td>\n",
       "      <td>Men Vomero 16 Running Shoes</td>\n",
       "      <td>Rs. 11470Rs. 13495(15% OFF)</td>\n",
       "    </tr>\n",
       "    <tr>\n",
       "      <th>2</th>\n",
       "      <td>UNDER ARMOUR</td>\n",
       "      <td>Men HOVR SonicSE Running Shoes</td>\n",
       "      <td>Rs. 9999</td>\n",
       "    </tr>\n",
       "    <tr>\n",
       "      <th>3</th>\n",
       "      <td>UNDER ARMOUR</td>\n",
       "      <td>Men ChargedEscape 3 BL Running</td>\n",
       "      <td>Rs. 8999</td>\n",
       "    </tr>\n",
       "    <tr>\n",
       "      <th>4</th>\n",
       "      <td>Nike</td>\n",
       "      <td>JORDAN ZION 2 Basketball Shoes</td>\n",
       "      <td>Rs. 9175Rs. 10795(15% OFF)</td>\n",
       "    </tr>\n",
       "    <tr>\n",
       "      <th>...</th>\n",
       "      <td>...</td>\n",
       "      <td>...</td>\n",
       "      <td>...</td>\n",
       "    </tr>\n",
       "    <tr>\n",
       "      <th>95</th>\n",
       "      <td>Ruosh</td>\n",
       "      <td>Men Textured Leather Loafers</td>\n",
       "      <td>Rs. 8990</td>\n",
       "    </tr>\n",
       "    <tr>\n",
       "      <th>96</th>\n",
       "      <td>Saint G</td>\n",
       "      <td>Block Heeled Boots</td>\n",
       "      <td>Rs. 7560Rs. 8400(10% OFF)</td>\n",
       "    </tr>\n",
       "    <tr>\n",
       "      <th>97</th>\n",
       "      <td>Skechers</td>\n",
       "      <td>Women Go Walk EU Walking Shoes</td>\n",
       "      <td>Rs. 7499</td>\n",
       "    </tr>\n",
       "    <tr>\n",
       "      <th>98</th>\n",
       "      <td>Louis Philippe</td>\n",
       "      <td>Men Leather Formal Slip-Ons</td>\n",
       "      <td>Rs. 7224Rs. 8499(15% OFF)</td>\n",
       "    </tr>\n",
       "    <tr>\n",
       "      <th>99</th>\n",
       "      <td>Saint G</td>\n",
       "      <td>Women High-Top Heeled Boots</td>\n",
       "      <td>Rs. 10710Rs. 11900(10% OFF)</td>\n",
       "    </tr>\n",
       "  </tbody>\n",
       "</table>\n",
       "<p>100 rows × 3 columns</p>\n",
       "</div>"
      ],
      "text/plain": [
       "      shoes Brands           Production Descripion  \\\n",
       "0             Puma       Men Magnify Nitro Running   \n",
       "1             Nike     Men Vomero 16 Running Shoes   \n",
       "2     UNDER ARMOUR  Men HOVR SonicSE Running Shoes   \n",
       "3     UNDER ARMOUR  Men ChargedEscape 3 BL Running   \n",
       "4             Nike  JORDAN ZION 2 Basketball Shoes   \n",
       "..             ...                             ...   \n",
       "95           Ruosh    Men Textured Leather Loafers   \n",
       "96         Saint G              Block Heeled Boots   \n",
       "97        Skechers  Women Go Walk EU Walking Shoes   \n",
       "98  Louis Philippe     Men Leather Formal Slip-Ons   \n",
       "99         Saint G     Women High-Top Heeled Boots   \n",
       "\n",
       "                    shoes Price  \n",
       "0    Rs. 9099Rs. 12999(30% OFF)  \n",
       "1   Rs. 11470Rs. 13495(15% OFF)  \n",
       "2                      Rs. 9999  \n",
       "3                      Rs. 8999  \n",
       "4    Rs. 9175Rs. 10795(15% OFF)  \n",
       "..                          ...  \n",
       "95                     Rs. 8990  \n",
       "96    Rs. 7560Rs. 8400(10% OFF)  \n",
       "97                     Rs. 7499  \n",
       "98    Rs. 7224Rs. 8499(15% OFF)  \n",
       "99  Rs. 10710Rs. 11900(10% OFF)  \n",
       "\n",
       "[100 rows x 3 columns]"
      ]
     },
     "execution_count": 63,
     "metadata": {},
     "output_type": "execute_result"
    }
   ],
   "source": [
    "#Lets make datafram \n",
    "import pandas as pd \n",
    "shoes=pd.DataFrame({\"shoes Brands\":brands,\"Production Descripion\":pro_dec,\"shoes Price\":price}) \n",
    "shoes"
   ]
  },
  {
   "cell_type": "code",
   "execution_count": 64,
   "id": "73499531",
   "metadata": {},
   "outputs": [],
   "source": [
    "driver.close()"
   ]
  },
  {
   "cell_type": "markdown",
   "id": "9369a84e",
   "metadata": {},
   "source": [
    "# Q8: Go to webpage https://www.amazon.in/\n",
    "# Enter “Laptop” in the search field and then click the search icon.\n",
    "# Then set CPU Type filter to “Intel Core i7” as shown in the below image:\n",
    "# After setting the filters scrape first 10 laptops data. You have to scrape 3 attributesfor each laptop:\n",
    "# 1. Title\n",
    "# 2. Ratings\n",
    "# 3. Price"
   ]
  },
  {
   "cell_type": "code",
   "execution_count": 72,
   "id": "83c85f94",
   "metadata": {},
   "outputs": [],
   "source": [
    "driver = webdriver.Edge(r\"C:/Users/yjjai/Downloads/edgedriver_win64/msedgedriver.exe\")"
   ]
  },
  {
   "cell_type": "code",
   "execution_count": 73,
   "id": "76cd195b",
   "metadata": {},
   "outputs": [],
   "source": [
    "driver.maximize_window()"
   ]
  },
  {
   "cell_type": "code",
   "execution_count": 74,
   "id": "41cfbd1c",
   "metadata": {},
   "outputs": [],
   "source": [
    "url = \"https://www.amazon.in/\"\n",
    "driver.get(url)"
   ]
  },
  {
   "cell_type": "code",
   "execution_count": 75,
   "id": "fd7bbee1",
   "metadata": {},
   "outputs": [],
   "source": [
    "laptop=driver.find_element(By.XPATH,\"/html/body/div[1]/header/div/div[1]/div[2]/div/form/div[2]/div[1]/input\") \n",
    "laptop.send_keys(\"Laptop\")"
   ]
  },
  {
   "cell_type": "code",
   "execution_count": 76,
   "id": "c7779dac",
   "metadata": {},
   "outputs": [],
   "source": [
    "search_btn=driver.find_element(By.XPATH,\"/html/body/div[1]/header/div/div[1]/div[2]/div/form/div[3]/div/span/input\") \n",
    "search_btn.click()"
   ]
  },
  {
   "cell_type": "code",
   "execution_count": 77,
   "id": "03cc5988",
   "metadata": {},
   "outputs": [],
   "source": [
    "#Filter i7 processor \n",
    "pros=driver.find_element(By.XPATH,\"/html/body/div[1]/div[2]/div[1]/div[2]/div/div[3]/span/div[1]/div/div/div[5]/ul[5]/li[10]/span/a/span\") \n",
    "pros.click()"
   ]
  },
  {
   "cell_type": "code",
   "execution_count": 78,
   "id": "b720498f",
   "metadata": {},
   "outputs": [],
   "source": [
    "title=[] \n",
    "start=0 \n",
    "end=1 \n",
    "for page in range(start,end): \n",
    "     \n",
    "    title_tag=driver.find_elements(By.XPATH,'//span[@class=\"a-size-medium a-color-base a-text-normal\"]') \n",
    "    for i in title_tag: \n",
    "        title.append(i.text) \n",
    "title=title[0:10]"
   ]
  },
  {
   "cell_type": "code",
   "execution_count": 79,
   "id": "e46fa13a",
   "metadata": {},
   "outputs": [
    {
     "data": {
      "text/plain": [
       "10"
      ]
     },
     "execution_count": 79,
     "metadata": {},
     "output_type": "execute_result"
    }
   ],
   "source": [
    "len(title)"
   ]
  },
  {
   "cell_type": "code",
   "execution_count": 80,
   "id": "9dd0eeed",
   "metadata": {},
   "outputs": [],
   "source": [
    "price=[] \n",
    "start=0 \n",
    "end=1 \n",
    "for page in range(start,end): \n",
    "     \n",
    "    title_tag=driver.find_elements(By.XPATH,'//span[@class=\"a-price-whole\"]') \n",
    "    for i in title_tag: \n",
    "        price.append(i.text) \n",
    "price=price[0:10]"
   ]
  },
  {
   "cell_type": "code",
   "execution_count": 81,
   "id": "ccf09abe",
   "metadata": {},
   "outputs": [
    {
     "data": {
      "text/plain": [
       "['97,990',\n",
       " '1,03,490',\n",
       " '93,999',\n",
       " '77,500',\n",
       " '80,490',\n",
       " '83,990',\n",
       " '25,895',\n",
       " '84,918',\n",
       " '25,990',\n",
       " '1,01,990']"
      ]
     },
     "execution_count": 81,
     "metadata": {},
     "output_type": "execute_result"
    }
   ],
   "source": [
    "price"
   ]
  },
  {
   "cell_type": "code",
   "execution_count": 82,
   "id": "ae98724b",
   "metadata": {},
   "outputs": [],
   "source": [
    "rating=[] \n",
    "start=0 \n",
    "end=1 \n",
    "for page in range(start,end): \n",
    "     \n",
    "    title_tag=driver.find_elements(By.XPATH,'//span[@class=\"a-size-base puis-light-weight-text s-link-centralized-style\"]') \n",
    "    for i in title_tag: \n",
    "        rating.append(i.text) \n",
    "rating=rating[0:10]"
   ]
  },
  {
   "cell_type": "code",
   "execution_count": 83,
   "id": "7173a703",
   "metadata": {},
   "outputs": [
    {
     "data": {
      "text/plain": [
       "['19', '15', '65', '25', '8', '115', '34', '34', '1', '18']"
      ]
     },
     "execution_count": 83,
     "metadata": {},
     "output_type": "execute_result"
    }
   ],
   "source": [
    "rating"
   ]
  },
  {
   "cell_type": "code",
   "execution_count": 84,
   "id": "7327cef7",
   "metadata": {},
   "outputs": [
    {
     "data": {
      "text/html": [
       "<div>\n",
       "<style scoped>\n",
       "    .dataframe tbody tr th:only-of-type {\n",
       "        vertical-align: middle;\n",
       "    }\n",
       "\n",
       "    .dataframe tbody tr th {\n",
       "        vertical-align: top;\n",
       "    }\n",
       "\n",
       "    .dataframe thead th {\n",
       "        text-align: right;\n",
       "    }\n",
       "</style>\n",
       "<table border=\"1\" class=\"dataframe\">\n",
       "  <thead>\n",
       "    <tr style=\"text-align: right;\">\n",
       "      <th></th>\n",
       "      <th>laptops names</th>\n",
       "      <th>Rating</th>\n",
       "      <th>Price</th>\n",
       "    </tr>\n",
       "  </thead>\n",
       "  <tbody>\n",
       "    <tr>\n",
       "      <th>0</th>\n",
       "      <td>Samsung Galaxy Book2 360 Intel 12th Gen i7 Evo...</td>\n",
       "      <td>19</td>\n",
       "      <td>97,990</td>\n",
       "    </tr>\n",
       "    <tr>\n",
       "      <th>1</th>\n",
       "      <td>Samsung Galaxy Book2 Pro Intel 12th Gen i7 Evo...</td>\n",
       "      <td>15</td>\n",
       "      <td>1,03,490</td>\n",
       "    </tr>\n",
       "    <tr>\n",
       "      <th>2</th>\n",
       "      <td>HP Pavilion Plus, 12th Gen Intel Core i7 16GB ...</td>\n",
       "      <td>65</td>\n",
       "      <td>93,999</td>\n",
       "    </tr>\n",
       "    <tr>\n",
       "      <th>3</th>\n",
       "      <td>Lenovo ThinkBook 15 Intel 11th Gen Core i7 15....</td>\n",
       "      <td>25</td>\n",
       "      <td>77,500</td>\n",
       "    </tr>\n",
       "    <tr>\n",
       "      <th>4</th>\n",
       "      <td>HP Pavilion x360 11th Gen Intel Core i7 14 inc...</td>\n",
       "      <td>8</td>\n",
       "      <td>80,490</td>\n",
       "    </tr>\n",
       "    <tr>\n",
       "      <th>5</th>\n",
       "      <td>ASUS Vivobook 15, 15.6-inch (39.62 cms) FHD, I...</td>\n",
       "      <td>115</td>\n",
       "      <td>83,990</td>\n",
       "    </tr>\n",
       "    <tr>\n",
       "      <th>6</th>\n",
       "      <td>Lenovo IdeaPad Slim 5 12th Gen Intel Core i7 1...</td>\n",
       "      <td>34</td>\n",
       "      <td>25,895</td>\n",
       "    </tr>\n",
       "    <tr>\n",
       "      <th>7</th>\n",
       "      <td>(Renewed) HP ProBook 430 G3 6th Gen Intel Core...</td>\n",
       "      <td>34</td>\n",
       "      <td>84,918</td>\n",
       "    </tr>\n",
       "    <tr>\n",
       "      <th>8</th>\n",
       "      <td>Dell Inspiron 5320 Laptop, i7-1260P, 16GB LPDD...</td>\n",
       "      <td>1</td>\n",
       "      <td>25,990</td>\n",
       "    </tr>\n",
       "    <tr>\n",
       "      <th>9</th>\n",
       "      <td>(Renewed) HP Workstation Zbook Intel Core i7-4...</td>\n",
       "      <td>18</td>\n",
       "      <td>1,01,990</td>\n",
       "    </tr>\n",
       "  </tbody>\n",
       "</table>\n",
       "</div>"
      ],
      "text/plain": [
       "                                       laptops names Rating     Price\n",
       "0  Samsung Galaxy Book2 360 Intel 12th Gen i7 Evo...     19    97,990\n",
       "1  Samsung Galaxy Book2 Pro Intel 12th Gen i7 Evo...     15  1,03,490\n",
       "2  HP Pavilion Plus, 12th Gen Intel Core i7 16GB ...     65    93,999\n",
       "3  Lenovo ThinkBook 15 Intel 11th Gen Core i7 15....     25    77,500\n",
       "4  HP Pavilion x360 11th Gen Intel Core i7 14 inc...      8    80,490\n",
       "5  ASUS Vivobook 15, 15.6-inch (39.62 cms) FHD, I...    115    83,990\n",
       "6  Lenovo IdeaPad Slim 5 12th Gen Intel Core i7 1...     34    25,895\n",
       "7  (Renewed) HP ProBook 430 G3 6th Gen Intel Core...     34    84,918\n",
       "8  Dell Inspiron 5320 Laptop, i7-1260P, 16GB LPDD...      1    25,990\n",
       "9  (Renewed) HP Workstation Zbook Intel Core i7-4...     18  1,01,990"
      ]
     },
     "execution_count": 84,
     "metadata": {},
     "output_type": "execute_result"
    }
   ],
   "source": [
    "#Lets make datafram \n",
    "import pandas as pd \n",
    "laptop=pd.DataFrame({\"laptops names\":title,\"Rating\":rating,\"Price\":price}) \n",
    "laptop"
   ]
  },
  {
   "cell_type": "code",
   "execution_count": 85,
   "id": "a0caf447",
   "metadata": {},
   "outputs": [],
   "source": [
    "driver.close()"
   ]
  },
  {
   "cell_type": "markdown",
   "id": "44e3ddcf",
   "metadata": {},
   "source": [
    "# Q9: Write a python program to scrape data for Top 1000 Quotes of All Time.\n",
    "# The above task will be done in following steps:\n",
    "# 1.First get the webpage https://www.azquotes.com/\n",
    "# 2. Click on Top Quotes\n",
    "# 3. Than scrap a) Quote b) Author c) Type Of Quote"
   ]
  },
  {
   "cell_type": "code",
   "execution_count": 2,
   "id": "83a4a818",
   "metadata": {},
   "outputs": [],
   "source": [
    "driver = webdriver.Edge(r\"C:/Users/yjjai/Downloads/edgedriver_win64/msedgedriver.exe\")"
   ]
  },
  {
   "cell_type": "code",
   "execution_count": 3,
   "id": "596c4e58",
   "metadata": {},
   "outputs": [],
   "source": [
    "driver.maximize_window()"
   ]
  },
  {
   "cell_type": "code",
   "execution_count": 4,
   "id": "eb3c6cec",
   "metadata": {},
   "outputs": [],
   "source": [
    "url = \"https://www.azquotes.com/\"\n",
    "driver.get(url)"
   ]
  },
  {
   "cell_type": "code",
   "execution_count": 5,
   "id": "8858020a",
   "metadata": {},
   "outputs": [],
   "source": [
    "pros=driver.find_element(By.XPATH,\"/html/body/div[1]/div[1]/div[1]/div/div[3]/ul/li[5]/a\") \n",
    "pros.click()"
   ]
  },
  {
   "cell_type": "code",
   "execution_count": 6,
   "id": "d54c8d7c",
   "metadata": {},
   "outputs": [],
   "source": [
    "Quote=[] \n",
    "start=0 \n",
    "end=10 \n",
    "for page in range(start,end): \n",
    "     \n",
    "    title_tag=driver.find_elements(By.XPATH,'//a[@class=\"title\"]') \n",
    "    for i in title_tag: \n",
    "        Quote.append(i.text.split(\",\")) \n",
    "Quote=Quote[0:1000]"
   ]
  },
  {
   "cell_type": "code",
   "execution_count": 7,
   "id": "f8c89735",
   "metadata": {},
   "outputs": [],
   "source": [
    "Author=[] \n",
    "start=0 \n",
    "end=10 \n",
    "for page in range(start,end): \n",
    "     \n",
    "    title_tag=driver.find_elements(By.XPATH,'//div[@class=\"author\"]') \n",
    "    for i in title_tag: \n",
    "        Author.append(i.text.split(\",\")) \n",
    "Author=Author[0:1000]"
   ]
  },
  {
   "cell_type": "code",
   "execution_count": 8,
   "id": "3810b4ca",
   "metadata": {},
   "outputs": [],
   "source": [
    "Type_Quote=[] \n",
    "start=0 \n",
    "end=10 \n",
    "for page in range(start,end): \n",
    "     \n",
    "    title_tag=driver.find_elements(By.XPATH,'//div[@class=\"tags\"]') \n",
    "    for i in title_tag: \n",
    "        Type_Quote.append(i.text.split(\",\")) \n",
    "Type_Quote=Type_Quote[0:1000]"
   ]
  },
  {
   "cell_type": "code",
   "execution_count": 9,
   "id": "1ca29cad",
   "metadata": {},
   "outputs": [
    {
     "data": {
      "text/html": [
       "<div>\n",
       "<style scoped>\n",
       "    .dataframe tbody tr th:only-of-type {\n",
       "        vertical-align: middle;\n",
       "    }\n",
       "\n",
       "    .dataframe tbody tr th {\n",
       "        vertical-align: top;\n",
       "    }\n",
       "\n",
       "    .dataframe thead th {\n",
       "        text-align: right;\n",
       "    }\n",
       "</style>\n",
       "<table border=\"1\" class=\"dataframe\">\n",
       "  <thead>\n",
       "    <tr style=\"text-align: right;\">\n",
       "      <th></th>\n",
       "      <th>Quote</th>\n",
       "      <th>Author</th>\n",
       "      <th>Type of Quote</th>\n",
       "    </tr>\n",
       "  </thead>\n",
       "  <tbody>\n",
       "    <tr>\n",
       "      <th>0</th>\n",
       "      <td>[The essence of strategy is choosing what not ...</td>\n",
       "      <td>[Michael Porter]</td>\n",
       "      <td>[Essence,  Deep Thought,  Transcendentalism]</td>\n",
       "    </tr>\n",
       "    <tr>\n",
       "      <th>1</th>\n",
       "      <td>[One cannot and must not try to erase the past...</td>\n",
       "      <td>[Golda Meir]</td>\n",
       "      <td>[Inspiration,  Past,  Trying]</td>\n",
       "    </tr>\n",
       "    <tr>\n",
       "      <th>2</th>\n",
       "      <td>[Patriotism means to stand by the country. It ...</td>\n",
       "      <td>[Theodore Roosevelt]</td>\n",
       "      <td>[Country,  Peace,  War]</td>\n",
       "    </tr>\n",
       "    <tr>\n",
       "      <th>3</th>\n",
       "      <td>[Death is something inevitable. When a man has...</td>\n",
       "      <td>[Nelson Mandela]</td>\n",
       "      <td>[Inspirational,  Motivational,  Death]</td>\n",
       "    </tr>\n",
       "    <tr>\n",
       "      <th>4</th>\n",
       "      <td>[You have to love a nation that celebrates its...</td>\n",
       "      <td>[Erma Bombeck]</td>\n",
       "      <td>[4th Of July,  Food,  Patriotic]</td>\n",
       "    </tr>\n",
       "    <tr>\n",
       "      <th>...</th>\n",
       "      <td>...</td>\n",
       "      <td>...</td>\n",
       "      <td>...</td>\n",
       "    </tr>\n",
       "    <tr>\n",
       "      <th>995</th>\n",
       "      <td>[When the going gets weird,  the weird turn pro.]</td>\n",
       "      <td>[Hunter S. Thompson]</td>\n",
       "      <td>[Music,  Sports,  Hunting]</td>\n",
       "    </tr>\n",
       "    <tr>\n",
       "      <th>996</th>\n",
       "      <td>[When a train goes through a tunnel and it get...</td>\n",
       "      <td>[Corrie Ten Boom]</td>\n",
       "      <td>[Trust,  Encouraging,  Uplifting]</td>\n",
       "    </tr>\n",
       "    <tr>\n",
       "      <th>997</th>\n",
       "      <td>[God doesn't require us to succeed,  he only r...</td>\n",
       "      <td>[Mother Teresa]</td>\n",
       "      <td>[Success,  God,  Mother]</td>\n",
       "    </tr>\n",
       "    <tr>\n",
       "      <th>998</th>\n",
       "      <td>[If you think you are too small to make a diff...</td>\n",
       "      <td>[Dalai Lama]</td>\n",
       "      <td>[Inspirational,  Funny,  Change]</td>\n",
       "    </tr>\n",
       "    <tr>\n",
       "      <th>999</th>\n",
       "      <td>[Change your thoughts and you change your world.]</td>\n",
       "      <td>[Norman Vincent Peale]</td>\n",
       "      <td>[Inspirational,  Motivational,  Change]</td>\n",
       "    </tr>\n",
       "  </tbody>\n",
       "</table>\n",
       "<p>1000 rows × 3 columns</p>\n",
       "</div>"
      ],
      "text/plain": [
       "                                                 Quote  \\\n",
       "0    [The essence of strategy is choosing what not ...   \n",
       "1    [One cannot and must not try to erase the past...   \n",
       "2    [Patriotism means to stand by the country. It ...   \n",
       "3    [Death is something inevitable. When a man has...   \n",
       "4    [You have to love a nation that celebrates its...   \n",
       "..                                                 ...   \n",
       "995  [When the going gets weird,  the weird turn pro.]   \n",
       "996  [When a train goes through a tunnel and it get...   \n",
       "997  [God doesn't require us to succeed,  he only r...   \n",
       "998  [If you think you are too small to make a diff...   \n",
       "999  [Change your thoughts and you change your world.]   \n",
       "\n",
       "                     Author                                 Type of Quote  \n",
       "0          [Michael Porter]  [Essence,  Deep Thought,  Transcendentalism]  \n",
       "1              [Golda Meir]                 [Inspiration,  Past,  Trying]  \n",
       "2      [Theodore Roosevelt]                       [Country,  Peace,  War]  \n",
       "3          [Nelson Mandela]        [Inspirational,  Motivational,  Death]  \n",
       "4            [Erma Bombeck]              [4th Of July,  Food,  Patriotic]  \n",
       "..                      ...                                           ...  \n",
       "995    [Hunter S. Thompson]                    [Music,  Sports,  Hunting]  \n",
       "996       [Corrie Ten Boom]             [Trust,  Encouraging,  Uplifting]  \n",
       "997         [Mother Teresa]                      [Success,  God,  Mother]  \n",
       "998            [Dalai Lama]              [Inspirational,  Funny,  Change]  \n",
       "999  [Norman Vincent Peale]       [Inspirational,  Motivational,  Change]  \n",
       "\n",
       "[1000 rows x 3 columns]"
      ]
     },
     "execution_count": 9,
     "metadata": {},
     "output_type": "execute_result"
    }
   ],
   "source": [
    "import pandas as pd \n",
    "Top_Quotes=pd.DataFrame({\"Quote\":Quote,\"Author\":Author,\"Type of Quote\":Type_Quote}) \n",
    "Top_Quotes"
   ]
  },
  {
   "cell_type": "code",
   "execution_count": 10,
   "id": "aa39e142",
   "metadata": {},
   "outputs": [],
   "source": [
    "driver.close()"
   ]
  },
  {
   "cell_type": "markdown",
   "id": "2fd2c472",
   "metadata": {},
   "source": [
    "# Q11: Write s python program to display list of 50 Most expensive cars in the world (i.e. Company name, Model\n",
    "# name and Price) from https://www.motor1.com/\n",
    "# This task will be done in following steps:\n",
    "# 1. First get the webpage https://www.motor1.com/\n",
    "# 2. Then You have to click on the List option from Dropdown menu on left side.\n",
    "# 3. Then click on 50 most expensive cars in the world..\n",
    "# 4. Then scrap the mentioned data and make the"
   ]
  },
  {
   "cell_type": "code",
   "execution_count": 11,
   "id": "b70591be",
   "metadata": {},
   "outputs": [],
   "source": [
    "driver = webdriver.Edge(r\"C:/Users/yjjai/Downloads/edgedriver_win64/msedgedriver.exe\")"
   ]
  },
  {
   "cell_type": "code",
   "execution_count": 12,
   "id": "cd64af8a",
   "metadata": {},
   "outputs": [],
   "source": [
    "driver.maximize_window()"
   ]
  },
  {
   "cell_type": "code",
   "execution_count": 13,
   "id": "a326e91c",
   "metadata": {},
   "outputs": [],
   "source": [
    "url = \"https://www.motor1.com/\"\n",
    "driver.get(url)"
   ]
  },
  {
   "cell_type": "code",
   "execution_count": 18,
   "id": "8b567327",
   "metadata": {},
   "outputs": [],
   "source": [
    "lists=driver.find_element(By.XPATH,\"/html/body\") \n",
    "lists.click()"
   ]
  },
  {
   "cell_type": "code",
   "execution_count": 19,
   "id": "68f2afb2",
   "metadata": {},
   "outputs": [],
   "source": [
    "cars=driver.find_element(By.XPATH,\"/html/body/div[2]/div[9]/div[1]/div[1]/div/div/div[1]/div/div[1]/h3/a\") \n",
    "cars.click()"
   ]
  },
  {
   "cell_type": "code",
   "execution_count": 20,
   "id": "a7474ee2",
   "metadata": {},
   "outputs": [
    {
     "data": {
      "text/plain": [
       "[['Drako GTE'],\n",
       " ['De Tomaso P72'],\n",
       " ['Ferrari LaFerrari'],\n",
       " ['Pagani Huayra'],\n",
       " ['McLaren Elva'],\n",
       " ['Czinger 21C'],\n",
       " ['Ferrari Monza'],\n",
       " ['Gordon Murray T.33'],\n",
       " ['Koenigsegg Gemera'],\n",
       " ['Zenvo TSR-S'],\n",
       " ['Hennessey Venom F5'],\n",
       " ['Bentley Bacalar'],\n",
       " ['Hispano Suiza Carmen Boulogne'],\n",
       " ['Bentley Mulliner Batur'],\n",
       " ['Deus Vayanne'],\n",
       " ['SSC Tuatara'],\n",
       " ['Lotus Evija'],\n",
       " ['Aston Martin Vulcan'],\n",
       " ['Delage D12'],\n",
       " ['McLaren Speedtail'],\n",
       " ['Rimac Nevera'],\n",
       " ['Pagani Utopia'],\n",
       " ['Pininfarina Battista'],\n",
       " ['Ferrari FXX K Evo'],\n",
       " ['Gordon Murray T.50'],\n",
       " ['Lamborghini Countach'],\n",
       " ['Mercedes-AMG Project One'],\n",
       " ['Aston Martin Victor'],\n",
       " ['Hennessey Venom F5 Roadster'],\n",
       " ['Koenigsegg Jesko'],\n",
       " ['Aston Martin Valkyrie'],\n",
       " ['W Motors Lykan Hypersport'],\n",
       " ['McLaren Solus'],\n",
       " ['Pagani Huayra Roadster BC'],\n",
       " ['Bugatti Chiron Pur Sport'],\n",
       " ['Lamborghini Sian'],\n",
       " ['Koenigsegg CC850'],\n",
       " ['Bugatti Chiron Super Sport 300+'],\n",
       " ['Lamborghini Veneno'],\n",
       " ['Bugatti Bolide'],\n",
       " ['Bugatti Mistral'],\n",
       " ['Pagani Huayra Imola'],\n",
       " ['Bugatti Divo'],\n",
       " ['SP Automotive Chaos'],\n",
       " ['Pagani Codalunga'],\n",
       " ['Mercedes-Maybach Exelero'],\n",
       " ['Bugatti Centodieci'],\n",
       " ['Rolls-Royce Sweptail'],\n",
       " ['Bugatti La Voiture Noire'],\n",
       " ['Rolls-Royce Boat Tail*']]"
      ]
     },
     "execution_count": 20,
     "metadata": {},
     "output_type": "execute_result"
    }
   ],
   "source": [
    "company_name = []\n",
    "comp_tags = driver.find_elements(By.XPATH,'//h3[@class=\"subheader\"]')\n",
    "for i in comp_tags:\n",
    "    company_name.append(i.text.split(\",\"))\n",
    "company_name=company_name[0:50]\n",
    "company_name"
   ]
  },
  {
   "cell_type": "code",
   "execution_count": 21,
   "id": "3673b1d7",
   "metadata": {},
   "outputs": [
    {
     "data": {
      "text/plain": [
       "50"
      ]
     },
     "execution_count": 21,
     "metadata": {},
     "output_type": "execute_result"
    }
   ],
   "source": [
    "len(company_name)"
   ]
  },
  {
   "cell_type": "code",
   "execution_count": 22,
   "id": "9667a8a5",
   "metadata": {},
   "outputs": [
    {
     "data": {
      "text/plain": [
       "50"
      ]
     },
     "execution_count": 22,
     "metadata": {},
     "output_type": "execute_result"
    }
   ],
   "source": [
    "car_price=[] \n",
    " \n",
    "Car_Price=driver.find_elements(By.XPATH,\"/html/body/div[2]/div[7]/div[2]/div[1]/div[2]/div[1]/ul/li\") \n",
    "for i in Car_Price: \n",
    "    car_price.append(i.text) \n",
    "len(car_price)"
   ]
  },
  {
   "cell_type": "code",
   "execution_count": 23,
   "id": "30b0137e",
   "metadata": {},
   "outputs": [
    {
     "data": {
      "text/html": [
       "<div>\n",
       "<style scoped>\n",
       "    .dataframe tbody tr th:only-of-type {\n",
       "        vertical-align: middle;\n",
       "    }\n",
       "\n",
       "    .dataframe tbody tr th {\n",
       "        vertical-align: top;\n",
       "    }\n",
       "\n",
       "    .dataframe thead th {\n",
       "        text-align: right;\n",
       "    }\n",
       "</style>\n",
       "<table border=\"1\" class=\"dataframe\">\n",
       "  <thead>\n",
       "    <tr style=\"text-align: right;\">\n",
       "      <th></th>\n",
       "      <th>car_name</th>\n",
       "      <th>price</th>\n",
       "    </tr>\n",
       "  </thead>\n",
       "  <tbody>\n",
       "    <tr>\n",
       "      <th>0</th>\n",
       "      <td>[Drako GTE]</td>\n",
       "      <td>Drako GTE - $1.2 Million</td>\n",
       "    </tr>\n",
       "    <tr>\n",
       "      <th>1</th>\n",
       "      <td>[De Tomaso P72]</td>\n",
       "      <td>DeTomaso P72: $1.3 Million</td>\n",
       "    </tr>\n",
       "    <tr>\n",
       "      <th>2</th>\n",
       "      <td>[Ferrari LaFerrari]</td>\n",
       "      <td>Ferrari LaFerrari - $1.4 Million</td>\n",
       "    </tr>\n",
       "    <tr>\n",
       "      <th>3</th>\n",
       "      <td>[Pagani Huayra]</td>\n",
       "      <td>Pagani Huayra - $1.4 Million</td>\n",
       "    </tr>\n",
       "    <tr>\n",
       "      <th>4</th>\n",
       "      <td>[McLaren Elva]</td>\n",
       "      <td>Czinger 21C - $1.7 Million</td>\n",
       "    </tr>\n",
       "    <tr>\n",
       "      <th>5</th>\n",
       "      <td>[Czinger 21C]</td>\n",
       "      <td>Ferrari Monza - $1.7 Million</td>\n",
       "    </tr>\n",
       "    <tr>\n",
       "      <th>6</th>\n",
       "      <td>[Ferrari Monza]</td>\n",
       "      <td>Gordon Murray T.33 - $1.7 Million</td>\n",
       "    </tr>\n",
       "    <tr>\n",
       "      <th>7</th>\n",
       "      <td>[Gordon Murray T.33]</td>\n",
       "      <td>Koenigsegg Gemera - $1.7 Million</td>\n",
       "    </tr>\n",
       "    <tr>\n",
       "      <th>8</th>\n",
       "      <td>[Koenigsegg Gemera]</td>\n",
       "      <td>McLaren Elva - $1.7 Million</td>\n",
       "    </tr>\n",
       "    <tr>\n",
       "      <th>9</th>\n",
       "      <td>[Zenvo TSR-S]</td>\n",
       "      <td>Zenvo TSR-S - $1.7 Million</td>\n",
       "    </tr>\n",
       "    <tr>\n",
       "      <th>10</th>\n",
       "      <td>[Hennessey Venom F5]</td>\n",
       "      <td>Hennessey Venom F5 - $1.8 Million</td>\n",
       "    </tr>\n",
       "    <tr>\n",
       "      <th>11</th>\n",
       "      <td>[Bentley Bacalar]</td>\n",
       "      <td>Bentley Bacalar - $1.9 Million</td>\n",
       "    </tr>\n",
       "    <tr>\n",
       "      <th>12</th>\n",
       "      <td>[Hispano Suiza Carmen Boulogne]</td>\n",
       "      <td>Hispano Suiza Carmen Boulogne: $1.9 Million</td>\n",
       "    </tr>\n",
       "    <tr>\n",
       "      <th>13</th>\n",
       "      <td>[Bentley Mulliner Batur]</td>\n",
       "      <td>Bentley Mulliner Batur: $2.0 Million</td>\n",
       "    </tr>\n",
       "    <tr>\n",
       "      <th>14</th>\n",
       "      <td>[Deus Vayanne]</td>\n",
       "      <td>Deus Vayanne: $2.0 Million</td>\n",
       "    </tr>\n",
       "    <tr>\n",
       "      <th>15</th>\n",
       "      <td>[SSC Tuatara]</td>\n",
       "      <td>SSC Tuatara - $2.0 Million*</td>\n",
       "    </tr>\n",
       "    <tr>\n",
       "      <th>16</th>\n",
       "      <td>[Lotus Evija]</td>\n",
       "      <td>Lotus Evija - $2.1 Million</td>\n",
       "    </tr>\n",
       "    <tr>\n",
       "      <th>17</th>\n",
       "      <td>[Aston Martin Vulcan]</td>\n",
       "      <td>Aston Martin Vulcan - $2.3 Million</td>\n",
       "    </tr>\n",
       "    <tr>\n",
       "      <th>18</th>\n",
       "      <td>[Delage D12]</td>\n",
       "      <td>Delage D12: $2.3 Million</td>\n",
       "    </tr>\n",
       "    <tr>\n",
       "      <th>19</th>\n",
       "      <td>[McLaren Speedtail]</td>\n",
       "      <td>McLaren Speedtail - $2.3 Million</td>\n",
       "    </tr>\n",
       "    <tr>\n",
       "      <th>20</th>\n",
       "      <td>[Rimac Nevera]</td>\n",
       "      <td>Rimac Nevera - $2.4 Million</td>\n",
       "    </tr>\n",
       "    <tr>\n",
       "      <th>21</th>\n",
       "      <td>[Pagani Utopia]</td>\n",
       "      <td>Pagani Utopia: $2.5 Million</td>\n",
       "    </tr>\n",
       "    <tr>\n",
       "      <th>22</th>\n",
       "      <td>[Pininfarina Battista]</td>\n",
       "      <td>Pininfarina Battista - $2.5 Million</td>\n",
       "    </tr>\n",
       "    <tr>\n",
       "      <th>23</th>\n",
       "      <td>[Ferrari FXX K Evo]</td>\n",
       "      <td>Ferrari FXX K Evo - $2.6 Million</td>\n",
       "    </tr>\n",
       "    <tr>\n",
       "      <th>24</th>\n",
       "      <td>[Gordon Murray T.50]</td>\n",
       "      <td>Gordon Murray T.50 - $2.6 Million</td>\n",
       "    </tr>\n",
       "    <tr>\n",
       "      <th>25</th>\n",
       "      <td>[Lamborghini Countach]</td>\n",
       "      <td>Lamborghini Countach - $2.6 Million</td>\n",
       "    </tr>\n",
       "    <tr>\n",
       "      <th>26</th>\n",
       "      <td>[Mercedes-AMG Project One]</td>\n",
       "      <td>Mercedes-AMG Project One - $2.7 Million</td>\n",
       "    </tr>\n",
       "    <tr>\n",
       "      <th>27</th>\n",
       "      <td>[Aston Martin Victor]</td>\n",
       "      <td>Aston Martin Victor - $3.0 Million</td>\n",
       "    </tr>\n",
       "    <tr>\n",
       "      <th>28</th>\n",
       "      <td>[Hennessey Venom F5 Roadster]</td>\n",
       "      <td>Hennessey Venom F5 Roadster: $3.0 Million</td>\n",
       "    </tr>\n",
       "    <tr>\n",
       "      <th>29</th>\n",
       "      <td>[Koenigsegg Jesko]</td>\n",
       "      <td>Koenigsegg Jesko - $3.0 Million</td>\n",
       "    </tr>\n",
       "    <tr>\n",
       "      <th>30</th>\n",
       "      <td>[Aston Martin Valkyrie]</td>\n",
       "      <td>Aston Martin Valkyrie - $3.2 Million</td>\n",
       "    </tr>\n",
       "    <tr>\n",
       "      <th>31</th>\n",
       "      <td>[W Motors Lykan Hypersport]</td>\n",
       "      <td>W Motors Lykan Hypersport - $3.4 Million</td>\n",
       "    </tr>\n",
       "    <tr>\n",
       "      <th>32</th>\n",
       "      <td>[McLaren Solus]</td>\n",
       "      <td>McLaren Solus: $3.5 Million</td>\n",
       "    </tr>\n",
       "    <tr>\n",
       "      <th>33</th>\n",
       "      <td>[Pagani Huayra Roadster BC]</td>\n",
       "      <td>Pagani Huayra Roadster BC - $3.5 Million</td>\n",
       "    </tr>\n",
       "    <tr>\n",
       "      <th>34</th>\n",
       "      <td>[Bugatti Chiron Pur Sport]</td>\n",
       "      <td>Bugatti Chiron Pur Sport - $3.6 Million</td>\n",
       "    </tr>\n",
       "    <tr>\n",
       "      <th>35</th>\n",
       "      <td>[Lamborghini Sian]</td>\n",
       "      <td>Lamborghini Sian - $3.6 million</td>\n",
       "    </tr>\n",
       "    <tr>\n",
       "      <th>36</th>\n",
       "      <td>[Koenigsegg CC850]</td>\n",
       "      <td>Koenigsegg CC850: $3.7 Million</td>\n",
       "    </tr>\n",
       "    <tr>\n",
       "      <th>37</th>\n",
       "      <td>[Bugatti Chiron Super Sport 300+]</td>\n",
       "      <td>Bugatti Chiron Super Sport 300+ - $3.9 Million</td>\n",
       "    </tr>\n",
       "    <tr>\n",
       "      <th>38</th>\n",
       "      <td>[Lamborghini Veneno]</td>\n",
       "      <td>Lamborghini Veneno - $4.5 Million</td>\n",
       "    </tr>\n",
       "    <tr>\n",
       "      <th>39</th>\n",
       "      <td>[Bugatti Bolide]</td>\n",
       "      <td>Bugatti Bolide - $4.7 Million</td>\n",
       "    </tr>\n",
       "    <tr>\n",
       "      <th>40</th>\n",
       "      <td>[Bugatti Mistral]</td>\n",
       "      <td>Bugatti Mistral: $5.0 Million</td>\n",
       "    </tr>\n",
       "    <tr>\n",
       "      <th>41</th>\n",
       "      <td>[Pagani Huayra Imola]</td>\n",
       "      <td>Pagani Huayra Imola: $5.4 Million</td>\n",
       "    </tr>\n",
       "    <tr>\n",
       "      <th>42</th>\n",
       "      <td>[Bugatti Divo]</td>\n",
       "      <td>Bugatti Divo - $5.8 Million</td>\n",
       "    </tr>\n",
       "    <tr>\n",
       "      <th>43</th>\n",
       "      <td>[SP Automotive Chaos]</td>\n",
       "      <td>SP Automotive Chaos - $6.4 Million</td>\n",
       "    </tr>\n",
       "    <tr>\n",
       "      <th>44</th>\n",
       "      <td>[Pagani Codalunga]</td>\n",
       "      <td>Pagani Codalunga: $7.4 Million</td>\n",
       "    </tr>\n",
       "    <tr>\n",
       "      <th>45</th>\n",
       "      <td>[Mercedes-Maybach Exelero]</td>\n",
       "      <td>Mercedes-Maybach Exelero - $8.0 Million</td>\n",
       "    </tr>\n",
       "    <tr>\n",
       "      <th>46</th>\n",
       "      <td>[Bugatti Centodieci]</td>\n",
       "      <td>Bugatti Centodieci - $9.0 Million</td>\n",
       "    </tr>\n",
       "    <tr>\n",
       "      <th>47</th>\n",
       "      <td>[Rolls-Royce Sweptail]</td>\n",
       "      <td>Rolls-Royce Sweptail - $12.8 Million</td>\n",
       "    </tr>\n",
       "    <tr>\n",
       "      <th>48</th>\n",
       "      <td>[Bugatti La Voiture Noire]</td>\n",
       "      <td>Bugatti La Voiture Noire - $13.4 Million</td>\n",
       "    </tr>\n",
       "    <tr>\n",
       "      <th>49</th>\n",
       "      <td>[Rolls-Royce Boat Tail*]</td>\n",
       "      <td>Rolls-Royce Boat Tail - $28.0 Million*</td>\n",
       "    </tr>\n",
       "  </tbody>\n",
       "</table>\n",
       "</div>"
      ],
      "text/plain": [
       "                             car_name  \\\n",
       "0                         [Drako GTE]   \n",
       "1                     [De Tomaso P72]   \n",
       "2                 [Ferrari LaFerrari]   \n",
       "3                     [Pagani Huayra]   \n",
       "4                      [McLaren Elva]   \n",
       "5                       [Czinger 21C]   \n",
       "6                     [Ferrari Monza]   \n",
       "7                [Gordon Murray T.33]   \n",
       "8                 [Koenigsegg Gemera]   \n",
       "9                       [Zenvo TSR-S]   \n",
       "10               [Hennessey Venom F5]   \n",
       "11                  [Bentley Bacalar]   \n",
       "12    [Hispano Suiza Carmen Boulogne]   \n",
       "13           [Bentley Mulliner Batur]   \n",
       "14                     [Deus Vayanne]   \n",
       "15                      [SSC Tuatara]   \n",
       "16                      [Lotus Evija]   \n",
       "17              [Aston Martin Vulcan]   \n",
       "18                       [Delage D12]   \n",
       "19                [McLaren Speedtail]   \n",
       "20                     [Rimac Nevera]   \n",
       "21                    [Pagani Utopia]   \n",
       "22             [Pininfarina Battista]   \n",
       "23                [Ferrari FXX K Evo]   \n",
       "24               [Gordon Murray T.50]   \n",
       "25             [Lamborghini Countach]   \n",
       "26         [Mercedes-AMG Project One]   \n",
       "27              [Aston Martin Victor]   \n",
       "28      [Hennessey Venom F5 Roadster]   \n",
       "29                 [Koenigsegg Jesko]   \n",
       "30            [Aston Martin Valkyrie]   \n",
       "31        [W Motors Lykan Hypersport]   \n",
       "32                    [McLaren Solus]   \n",
       "33        [Pagani Huayra Roadster BC]   \n",
       "34         [Bugatti Chiron Pur Sport]   \n",
       "35                 [Lamborghini Sian]   \n",
       "36                 [Koenigsegg CC850]   \n",
       "37  [Bugatti Chiron Super Sport 300+]   \n",
       "38               [Lamborghini Veneno]   \n",
       "39                   [Bugatti Bolide]   \n",
       "40                  [Bugatti Mistral]   \n",
       "41              [Pagani Huayra Imola]   \n",
       "42                     [Bugatti Divo]   \n",
       "43              [SP Automotive Chaos]   \n",
       "44                 [Pagani Codalunga]   \n",
       "45         [Mercedes-Maybach Exelero]   \n",
       "46               [Bugatti Centodieci]   \n",
       "47             [Rolls-Royce Sweptail]   \n",
       "48         [Bugatti La Voiture Noire]   \n",
       "49           [Rolls-Royce Boat Tail*]   \n",
       "\n",
       "                                             price  \n",
       "0                         Drako GTE - $1.2 Million  \n",
       "1                       DeTomaso P72: $1.3 Million  \n",
       "2                 Ferrari LaFerrari - $1.4 Million  \n",
       "3                     Pagani Huayra - $1.4 Million  \n",
       "4                       Czinger 21C - $1.7 Million  \n",
       "5                     Ferrari Monza - $1.7 Million  \n",
       "6                Gordon Murray T.33 - $1.7 Million  \n",
       "7                 Koenigsegg Gemera - $1.7 Million  \n",
       "8                      McLaren Elva - $1.7 Million  \n",
       "9                       Zenvo TSR-S - $1.7 Million  \n",
       "10               Hennessey Venom F5 - $1.8 Million  \n",
       "11                  Bentley Bacalar - $1.9 Million  \n",
       "12     Hispano Suiza Carmen Boulogne: $1.9 Million  \n",
       "13            Bentley Mulliner Batur: $2.0 Million  \n",
       "14                      Deus Vayanne: $2.0 Million  \n",
       "15                     SSC Tuatara - $2.0 Million*  \n",
       "16                      Lotus Evija - $2.1 Million  \n",
       "17              Aston Martin Vulcan - $2.3 Million  \n",
       "18                        Delage D12: $2.3 Million  \n",
       "19                McLaren Speedtail - $2.3 Million  \n",
       "20                     Rimac Nevera - $2.4 Million  \n",
       "21                     Pagani Utopia: $2.5 Million  \n",
       "22             Pininfarina Battista - $2.5 Million  \n",
       "23                Ferrari FXX K Evo - $2.6 Million  \n",
       "24               Gordon Murray T.50 - $2.6 Million  \n",
       "25             Lamborghini Countach - $2.6 Million  \n",
       "26         Mercedes-AMG Project One - $2.7 Million  \n",
       "27              Aston Martin Victor - $3.0 Million  \n",
       "28       Hennessey Venom F5 Roadster: $3.0 Million  \n",
       "29                 Koenigsegg Jesko - $3.0 Million  \n",
       "30            Aston Martin Valkyrie - $3.2 Million  \n",
       "31        W Motors Lykan Hypersport - $3.4 Million  \n",
       "32                     McLaren Solus: $3.5 Million  \n",
       "33        Pagani Huayra Roadster BC - $3.5 Million  \n",
       "34         Bugatti Chiron Pur Sport - $3.6 Million  \n",
       "35                 Lamborghini Sian - $3.6 million  \n",
       "36                  Koenigsegg CC850: $3.7 Million  \n",
       "37  Bugatti Chiron Super Sport 300+ - $3.9 Million  \n",
       "38               Lamborghini Veneno - $4.5 Million  \n",
       "39                   Bugatti Bolide - $4.7 Million  \n",
       "40                   Bugatti Mistral: $5.0 Million  \n",
       "41               Pagani Huayra Imola: $5.4 Million  \n",
       "42                     Bugatti Divo - $5.8 Million  \n",
       "43              SP Automotive Chaos - $6.4 Million  \n",
       "44                  Pagani Codalunga: $7.4 Million  \n",
       "45         Mercedes-Maybach Exelero - $8.0 Million  \n",
       "46               Bugatti Centodieci - $9.0 Million  \n",
       "47            Rolls-Royce Sweptail - $12.8 Million  \n",
       "48        Bugatti La Voiture Noire - $13.4 Million  \n",
       "49          Rolls-Royce Boat Tail - $28.0 Million*  "
      ]
     },
     "execution_count": 23,
     "metadata": {},
     "output_type": "execute_result"
    }
   ],
   "source": [
    "#Lets Make DataFrame \n",
    "import pandas as pd \n",
    "expensive_cars=pd.DataFrame({\"car_name\":company_name,\"price\":car_price}) \n",
    "expensive_cars"
   ]
  },
  {
   "cell_type": "code",
   "execution_count": 25,
   "id": "d1b4c234",
   "metadata": {},
   "outputs": [],
   "source": [
    "driver.close()"
   ]
  },
  {
   "cell_type": "code",
   "execution_count": null,
   "id": "ec334df1",
   "metadata": {},
   "outputs": [],
   "source": []
  },
  {
   "cell_type": "code",
   "execution_count": null,
   "id": "ae17b1d1",
   "metadata": {},
   "outputs": [],
   "source": []
  }
 ],
 "metadata": {
  "kernelspec": {
   "display_name": "Python 3 (ipykernel)",
   "language": "python",
   "name": "python3"
  },
  "language_info": {
   "codemirror_mode": {
    "name": "ipython",
    "version": 3
   },
   "file_extension": ".py",
   "mimetype": "text/x-python",
   "name": "python",
   "nbconvert_exporter": "python",
   "pygments_lexer": "ipython3",
   "version": "3.9.12"
  }
 },
 "nbformat": 4,
 "nbformat_minor": 5
}
