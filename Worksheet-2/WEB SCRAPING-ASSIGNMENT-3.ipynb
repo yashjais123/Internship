{
 "cells": [
  {
   "cell_type": "markdown",
   "id": "d3c019fc",
   "metadata": {},
   "source": [
    "# * WEB SCRAPING-ASSIGNMENT-3"
   ]
  },
  {
   "cell_type": "markdown",
   "id": "68dd9ace",
   "metadata": {},
   "source": [
    "# Instructions:"
   ]
  },
  {
   "cell_type": "markdown",
   "id": "2cd3ba8d",
   "metadata": {},
   "source": [
    "# • All questions are compulsory.\n",
    "# • In each of the questions you have to automate the process. You do not have to click on any button, click any clickable element, enter keywords in search boxes manually. Each process has to be performed via coding.\n",
    "# • Q1 and Q2 are connected questions i.e. after attempting Q1 proceed to Q2. Do not write whole code from beginning for Q2.\n",
    "# • You may use any web scraping library and tools.\n",
    "# • The question can be attempted in various ways; the correctness of question depends on the output.\n",
    "# • If you encounter any Null values during scraping, you may replace it by hyphen."
   ]
  },
  {
   "cell_type": "markdown",
   "id": "96254963",
   "metadata": {},
   "source": [
    "# Exercise:"
   ]
  },
  {
   "cell_type": "markdown",
   "id": "d11add68",
   "metadata": {},
   "source": [
    "# Q1. Write a python program which searches all the product under a particular product from www.amazon.in.The product to be searched will be taken as input from user. For e.g. If user input is ‘guitar’. Then search for guitars."
   ]
  },
  {
   "cell_type": "code",
   "execution_count": 1,
   "id": "bbcee41e",
   "metadata": {},
   "outputs": [],
   "source": [
    "import selenium\n",
    "from selenium import webdriver \n",
    "import pandas as pd\n",
    "from selenium.webdriver.common.by import By\n",
    "import warnings\n",
    "warnings.filterwarnings('ignore')\n",
    "import time\n",
    "\n",
    "from selenium.common.exceptions import StaleElementReferenceException, NoSuchElementException"
   ]
  },
  {
   "cell_type": "code",
   "execution_count": 2,
   "id": "5052df21",
   "metadata": {},
   "outputs": [],
   "source": [
    "driver = webdriver.Edge(r\"C:/Users/yjjai/Downloads/edgedriver_win64/msedgedriver.exe\")"
   ]
  },
  {
   "cell_type": "code",
   "execution_count": 15,
   "id": "d2199009",
   "metadata": {},
   "outputs": [],
   "source": [
    "driver.maximize_window()"
   ]
  },
  {
   "cell_type": "code",
   "execution_count": 16,
   "id": "38d7ff0b",
   "metadata": {},
   "outputs": [],
   "source": [
    "url = \"https://www.amazon.in/\"\n",
    "driver.get(url)"
   ]
  },
  {
   "cell_type": "code",
   "execution_count": 17,
   "id": "cc0ff6c2",
   "metadata": {},
   "outputs": [],
   "source": [
    "guitar=driver.find_element(By.XPATH,\"/html/body/div[1]/header/div/div[1]/div[2]/div/form/div[2]/div[1]/input\") \n",
    "guitar.send_keys(\"guitars\")"
   ]
  },
  {
   "cell_type": "code",
   "execution_count": 18,
   "id": "109ef856",
   "metadata": {},
   "outputs": [],
   "source": [
    "search_btn=driver.find_element(By.XPATH,\"/html/body/div[1]/header/div/div[1]/div[2]/div/form/div[3]/div/span/input\") \n",
    "search_btn.click()"
   ]
  },
  {
   "cell_type": "markdown",
   "id": "a32f1cd8",
   "metadata": {},
   "source": [
    "# 2. In the above question, now scrape the following details of each product listed in first 3 pages of your search results and save it in a data frame and csv. In case if any product has less than 3 pages in search results then scrape all the products available under that product name. Details to be scraped are: \"Brand Name\", \"Name of the Product\", \"Price\", \"Return/Exchange\", \"Expected Delivery\", \"Availability\" and “Product URL”. In case, if any of the details are missing for any of the product then replace it by “-“."
   ]
  },
  {
   "cell_type": "code",
   "execution_count": 19,
   "id": "72ab7739",
   "metadata": {},
   "outputs": [],
   "source": [
    "urls=[]\n",
    "start=0\n",
    "end=1\n",
    "for page in range(start,end):\n",
    "    url=driver.find_elements(By.XPATH,\"//a[@class='a-link-normal s-underline-text s-underline-link-text s-link-style a-text-normal']\")\n",
    "    for i in url:\n",
    "        urls.append(i.get_attribute('href'))\n",
    "    next_button=driver.find_elements(By.XPATH,\"//A[@CLASS='s-pagination-item s-pagination-next s-pagination-button s-pagination-separator']\")"
   ]
  },
  {
   "cell_type": "code",
   "execution_count": 20,
   "id": "72f962e0",
   "metadata": {},
   "outputs": [
    {
     "data": {
      "text/plain": [
       "64"
      ]
     },
     "execution_count": 20,
     "metadata": {},
     "output_type": "execute_result"
    }
   ],
   "source": [
    "len(urls)"
   ]
  },
  {
   "cell_type": "code",
   "execution_count": 21,
   "id": "3a24d4d1",
   "metadata": {},
   "outputs": [],
   "source": [
    "# Scraping details of product for which you want\n",
    "Brand_Name=[]\n",
    "Name_of_Product=[]\n",
    "Ratings=[]\n",
    "Num_of_Ratings=[]\n",
    "Price=[]\n",
    "for i in urls:\n",
    "\n",
    "    driver.get(i)\n",
    "\n",
    "    time.sleep(5)\n",
    "\n",
    "    \n",
    "\n",
    "    try:\n",
    "\n",
    "        brand=driver.find_element(By.XPATH,\"//table[@id='productDetails_techSpec_section_1']/tbody/tr[1]/td\")\n",
    "\n",
    "        Brand_Name.append(brand.text)\n",
    "\n",
    "    except:\n",
    "\n",
    "        Brand_Name.append('-')\n",
    "        \n",
    "    try:\n",
    "\n",
    "        NOP=driver.find_element(By.XPATH,\"//table[@id='productDetails_techSpec_section_1']/tbody/tr[3]/td\")\n",
    "\n",
    "        Name_of_Product.append(NOP.text)\n",
    "\n",
    "    except:\n",
    "\n",
    "        Name_of_Product.append('-')\n",
    "    \n",
    "    try:\n",
    "\n",
    "        rating=driver.find_element(By.XPATH,\"//span[@class='a-size-base a-nowrap']\")\n",
    "\n",
    "        Ratings.append(rating.text)\n",
    "\n",
    "    except:\n",
    "\n",
    "        Ratings.append('-')\n",
    "        \n",
    "        \n",
    "    try:\n",
    "\n",
    "        NOR=driver.find_element(By.XPATH,\"//span[@id='acrCustomerReviewText']\")\n",
    "\n",
    "        Num_of_Ratings.append(NOR.text)\n",
    "\n",
    "    except:\n",
    "\n",
    "        Num_of_Ratings.append('-')\n",
    "        \n",
    "    try:\n",
    "\n",
    "        price=driver.find_element(By.XPATH,\"/html/body/div[2]/div[2]/div[6]/div[4]/div[1]/div[3]/div/div/div/div/form/div/div/div/div/div[2]/div[1]/div/span/span[2]/span[2]\")\n",
    "\n",
    "        Price.append(price.text)\n",
    "\n",
    "    except:\n",
    "\n",
    "        Price.append('-')"
   ]
  },
  {
   "cell_type": "code",
   "execution_count": 24,
   "id": "c2bce9cf",
   "metadata": {},
   "outputs": [
    {
     "data": {
      "text/html": [
       "<div>\n",
       "<style scoped>\n",
       "    .dataframe tbody tr th:only-of-type {\n",
       "        vertical-align: middle;\n",
       "    }\n",
       "\n",
       "    .dataframe tbody tr th {\n",
       "        vertical-align: top;\n",
       "    }\n",
       "\n",
       "    .dataframe thead th {\n",
       "        text-align: right;\n",
       "    }\n",
       "</style>\n",
       "<table border=\"1\" class=\"dataframe\">\n",
       "  <thead>\n",
       "    <tr style=\"text-align: right;\">\n",
       "      <th></th>\n",
       "      <th>Brand</th>\n",
       "      <th>Names</th>\n",
       "      <th>Ratings</th>\n",
       "      <th>Num_of_Ratings</th>\n",
       "      <th>Price</th>\n",
       "    </tr>\n",
       "  </thead>\n",
       "  <tbody>\n",
       "    <tr>\n",
       "      <th>0</th>\n",
       "      <td>Kadence</td>\n",
       "      <td>SH-02-03-04</td>\n",
       "      <td>4 out of 5</td>\n",
       "      <td>534 ratings</td>\n",
       "      <td>-</td>\n",
       "    </tr>\n",
       "    <tr>\n",
       "      <th>1</th>\n",
       "      <td>FESTRA</td>\n",
       "      <td>38C</td>\n",
       "      <td>3.9 out of 5</td>\n",
       "      <td>22 ratings</td>\n",
       "      <td>-</td>\n",
       "    </tr>\n",
       "    <tr>\n",
       "      <th>2</th>\n",
       "      <td>Gibz's</td>\n",
       "      <td>G 38-Matte- Black</td>\n",
       "      <td>-</td>\n",
       "      <td>-</td>\n",
       "      <td>-</td>\n",
       "    </tr>\n",
       "    <tr>\n",
       "      <th>3</th>\n",
       "      <td>VAULT</td>\n",
       "      <td>DA40NT</td>\n",
       "      <td>4 out of 5</td>\n",
       "      <td>1 rating</td>\n",
       "      <td>-</td>\n",
       "    </tr>\n",
       "    <tr>\n",
       "      <th>4</th>\n",
       "      <td>43 x 98 x 11 cm; 2.06 Kilograms</td>\n",
       "      <td>Wood, Basswood</td>\n",
       "      <td>4 out of 5</td>\n",
       "      <td>18,045 ratings</td>\n",
       "      <td>2,399</td>\n",
       "    </tr>\n",
       "    <tr>\n",
       "      <th>...</th>\n",
       "      <td>...</td>\n",
       "      <td>...</td>\n",
       "      <td>...</td>\n",
       "      <td>...</td>\n",
       "      <td>...</td>\n",
       "    </tr>\n",
       "    <tr>\n",
       "      <th>59</th>\n",
       "      <td>Kadence</td>\n",
       "      <td>FNTR-C</td>\n",
       "      <td>4 out of 5</td>\n",
       "      <td>1,797 ratings</td>\n",
       "      <td>-</td>\n",
       "    </tr>\n",
       "    <tr>\n",
       "      <th>60</th>\n",
       "      <td>Blueberry</td>\n",
       "      <td>R-40</td>\n",
       "      <td>-</td>\n",
       "      <td>-</td>\n",
       "      <td>-</td>\n",
       "    </tr>\n",
       "    <tr>\n",
       "      <th>61</th>\n",
       "      <td>15 x 5 x 5 cm; 120 Grams</td>\n",
       "      <td>Alloy Steel</td>\n",
       "      <td>3.8 out of 5</td>\n",
       "      <td>163 ratings</td>\n",
       "      <td>975</td>\n",
       "    </tr>\n",
       "    <tr>\n",
       "      <th>62</th>\n",
       "      <td>Blueberry</td>\n",
       "      <td>B-40L</td>\n",
       "      <td>3.7 out of 5</td>\n",
       "      <td>30 ratings</td>\n",
       "      <td>-</td>\n",
       "    </tr>\n",
       "    <tr>\n",
       "      <th>63</th>\n",
       "      <td>Blueberry</td>\n",
       "      <td>B-38C-Brown</td>\n",
       "      <td>-</td>\n",
       "      <td>-</td>\n",
       "      <td>-</td>\n",
       "    </tr>\n",
       "  </tbody>\n",
       "</table>\n",
       "<p>64 rows × 5 columns</p>\n",
       "</div>"
      ],
      "text/plain": [
       "                              Brand              Names       Ratings  \\\n",
       "0                           Kadence        SH-02-03-04    4 out of 5   \n",
       "1                            FESTRA                38C  3.9 out of 5   \n",
       "2                            Gibz's  G 38-Matte- Black             -   \n",
       "3                             VAULT             DA40NT    4 out of 5   \n",
       "4   43 x 98 x 11 cm; 2.06 Kilograms     Wood, Basswood    4 out of 5   \n",
       "..                              ...                ...           ...   \n",
       "59                          Kadence             FNTR-C    4 out of 5   \n",
       "60                        Blueberry               R-40             -   \n",
       "61         15 x 5 x 5 cm; 120 Grams        Alloy Steel  3.8 out of 5   \n",
       "62                        Blueberry              B-40L  3.7 out of 5   \n",
       "63                        Blueberry        B-38C-Brown             -   \n",
       "\n",
       "    Num_of_Ratings  Price  \n",
       "0      534 ratings      -  \n",
       "1       22 ratings      -  \n",
       "2                -      -  \n",
       "3         1 rating      -  \n",
       "4   18,045 ratings  2,399  \n",
       "..             ...    ...  \n",
       "59   1,797 ratings      -  \n",
       "60               -      -  \n",
       "61     163 ratings    975  \n",
       "62      30 ratings      -  \n",
       "63               -      -  \n",
       "\n",
       "[64 rows x 5 columns]"
      ]
     },
     "execution_count": 24,
     "metadata": {},
     "output_type": "execute_result"
    }
   ],
   "source": [
    "import pandas as pd\n",
    "guitar = pd.DataFrame()\n",
    "guitar['Brand'] = Brand_Name\n",
    "guitar['Names'] = Name_of_Product\n",
    "guitar['Ratings'] = Ratings\n",
    "guitar['Num_of_Ratings'] = Num_of_Ratings\n",
    "guitar['Price'] = Price\n",
    "guitar "
   ]
  },
  {
   "cell_type": "code",
   "execution_count": 25,
   "id": "69c7d58d",
   "metadata": {},
   "outputs": [],
   "source": [
    "driver.close()"
   ]
  },
  {
   "cell_type": "markdown",
   "id": "6d87af07",
   "metadata": {},
   "source": [
    "# Q6. Write a program to scrap details of all the funding deals for second quarter (i.e Jan 21 – March 21) from trak.in."
   ]
  },
  {
   "cell_type": "code",
   "execution_count": 15,
   "id": "6c6cd00e",
   "metadata": {},
   "outputs": [],
   "source": [
    "driver = webdriver.Edge(r\"C:/Users/yjjai/Downloads/edgedriver_win64/msedgedriver.exe\")"
   ]
  },
  {
   "cell_type": "code",
   "execution_count": 16,
   "id": "9f028f87",
   "metadata": {},
   "outputs": [],
   "source": [
    "driver.maximize_window()"
   ]
  },
  {
   "cell_type": "code",
   "execution_count": 17,
   "id": "44f2925c",
   "metadata": {},
   "outputs": [],
   "source": [
    "url = \"https://trak.in/\"\n",
    "driver.get(url)"
   ]
  },
  {
   "cell_type": "code",
   "execution_count": 18,
   "id": "378c93e9",
   "metadata": {},
   "outputs": [],
   "source": [
    "search_btn=driver.find_element(By.XPATH,\"/html/body/div[1]/header/div[2]/div/div/div/div/nav/ul/li[9]/a\") \n",
    "search_btn.click()"
   ]
  },
  {
   "cell_type": "code",
   "execution_count": 20,
   "id": "1a419bc4",
   "metadata": {},
   "outputs": [],
   "source": [
    "series = []\n",
    "name_tags= driver.find_elements(By.XPATH,'//td[@class=\"column-1\"]')\n",
    "for i in name_tags:\n",
    "    series.append(i.text)"
   ]
  },
  {
   "cell_type": "code",
   "execution_count": 21,
   "id": "6c3c9e6b",
   "metadata": {},
   "outputs": [
    {
     "data": {
      "text/plain": [
       "392"
      ]
     },
     "execution_count": 21,
     "metadata": {},
     "output_type": "execute_result"
    }
   ],
   "source": [
    "len(series)"
   ]
  },
  {
   "cell_type": "code",
   "execution_count": 22,
   "id": "5ab457a9",
   "metadata": {},
   "outputs": [],
   "source": [
    "Date = []\n",
    "name_tags= driver.find_elements(By.XPATH,'//td[@class=\"column-2\"]')\n",
    "for i in name_tags:\n",
    "    Date.append(i.text)"
   ]
  },
  {
   "cell_type": "code",
   "execution_count": 23,
   "id": "142ad2d1",
   "metadata": {},
   "outputs": [
    {
     "data": {
      "text/plain": [
       "392"
      ]
     },
     "execution_count": 23,
     "metadata": {},
     "output_type": "execute_result"
    }
   ],
   "source": [
    "len(Date)"
   ]
  },
  {
   "cell_type": "code",
   "execution_count": 24,
   "id": "971d80ef",
   "metadata": {},
   "outputs": [],
   "source": [
    "startup = []\n",
    "name_tags= driver.find_elements(By.XPATH,'//td[@class=\"column-3\"]')\n",
    "for i in name_tags:\n",
    "    startup.append(i.text)"
   ]
  },
  {
   "cell_type": "code",
   "execution_count": 25,
   "id": "fec6ca7b",
   "metadata": {},
   "outputs": [
    {
     "data": {
      "text/plain": [
       "392"
      ]
     },
     "execution_count": 25,
     "metadata": {},
     "output_type": "execute_result"
    }
   ],
   "source": [
    "len(startup)"
   ]
  },
  {
   "cell_type": "code",
   "execution_count": 26,
   "id": "89b0c5b5",
   "metadata": {},
   "outputs": [],
   "source": [
    "Industry = []\n",
    "name_tags= driver.find_elements(By.XPATH,'//td[@class=\"column-4\"]')\n",
    "for i in name_tags:\n",
    "    Industry.append(i.text)"
   ]
  },
  {
   "cell_type": "code",
   "execution_count": 27,
   "id": "46cb76b9",
   "metadata": {},
   "outputs": [
    {
     "data": {
      "text/plain": [
       "392"
      ]
     },
     "execution_count": 27,
     "metadata": {},
     "output_type": "execute_result"
    }
   ],
   "source": [
    "len(Industry)"
   ]
  },
  {
   "cell_type": "code",
   "execution_count": 28,
   "id": "f553b862",
   "metadata": {},
   "outputs": [],
   "source": [
    "sub_vertical = []\n",
    "name_tags= driver.find_elements(By.XPATH,'//td[@class=\"column-5\"]')\n",
    "for i in name_tags:\n",
    "    sub_vertical.append(i.text)"
   ]
  },
  {
   "cell_type": "code",
   "execution_count": 29,
   "id": "3713fb0c",
   "metadata": {},
   "outputs": [
    {
     "data": {
      "text/plain": [
       "392"
      ]
     },
     "execution_count": 29,
     "metadata": {},
     "output_type": "execute_result"
    }
   ],
   "source": [
    "len(sub_vertical)"
   ]
  },
  {
   "cell_type": "code",
   "execution_count": 30,
   "id": "83357627",
   "metadata": {},
   "outputs": [],
   "source": [
    "city = []\n",
    "name_tags= driver.find_elements(By.XPATH,'//td[@class=\"column-6\"]')\n",
    "for i in name_tags:\n",
    "    city.append(i.text)"
   ]
  },
  {
   "cell_type": "code",
   "execution_count": 31,
   "id": "e1b26398",
   "metadata": {},
   "outputs": [
    {
     "data": {
      "text/plain": [
       "392"
      ]
     },
     "execution_count": 31,
     "metadata": {},
     "output_type": "execute_result"
    }
   ],
   "source": [
    "len(city)"
   ]
  },
  {
   "cell_type": "code",
   "execution_count": 32,
   "id": "54742947",
   "metadata": {},
   "outputs": [],
   "source": [
    "Invertor_name = []\n",
    "name_tags= driver.find_elements(By.XPATH,'//td[@class=\"column-7\"]')\n",
    "for i in name_tags:\n",
    "    Invertor_name.append(i.text)"
   ]
  },
  {
   "cell_type": "code",
   "execution_count": 33,
   "id": "5343883a",
   "metadata": {},
   "outputs": [
    {
     "data": {
      "text/plain": [
       "392"
      ]
     },
     "execution_count": 33,
     "metadata": {},
     "output_type": "execute_result"
    }
   ],
   "source": [
    "len(Invertor_name)"
   ]
  },
  {
   "cell_type": "code",
   "execution_count": 34,
   "id": "2baff979",
   "metadata": {},
   "outputs": [],
   "source": [
    "Investment_type = []\n",
    "name_tags= driver.find_elements(By.XPATH,'//td[@class=\"column-8\"]')\n",
    "for i in name_tags:\n",
    "    Investment_type.append(i.text)"
   ]
  },
  {
   "cell_type": "code",
   "execution_count": 35,
   "id": "9cfe7e83",
   "metadata": {},
   "outputs": [
    {
     "data": {
      "text/plain": [
       "392"
      ]
     },
     "execution_count": 35,
     "metadata": {},
     "output_type": "execute_result"
    }
   ],
   "source": [
    "len(Investment_type)"
   ]
  },
  {
   "cell_type": "code",
   "execution_count": 36,
   "id": "23b4d03c",
   "metadata": {},
   "outputs": [],
   "source": [
    "Amount = []\n",
    "name_tags= driver.find_elements(By.XPATH,'//td[@class=\"column-9\"]')\n",
    "for i in name_tags:\n",
    "    Amount.append(i.text)"
   ]
  },
  {
   "cell_type": "code",
   "execution_count": 37,
   "id": "003896c0",
   "metadata": {},
   "outputs": [
    {
     "data": {
      "text/plain": [
       "392"
      ]
     },
     "execution_count": 37,
     "metadata": {},
     "output_type": "execute_result"
    }
   ],
   "source": [
    "len(Amount)"
   ]
  },
  {
   "cell_type": "code",
   "execution_count": 38,
   "id": "73f07aa3",
   "metadata": {},
   "outputs": [
    {
     "data": {
      "text/html": [
       "<div>\n",
       "<style scoped>\n",
       "    .dataframe tbody tr th:only-of-type {\n",
       "        vertical-align: middle;\n",
       "    }\n",
       "\n",
       "    .dataframe tbody tr th {\n",
       "        vertical-align: top;\n",
       "    }\n",
       "\n",
       "    .dataframe thead th {\n",
       "        text-align: right;\n",
       "    }\n",
       "</style>\n",
       "<table border=\"1\" class=\"dataframe\">\n",
       "  <thead>\n",
       "    <tr style=\"text-align: right;\">\n",
       "      <th></th>\n",
       "      <th>series</th>\n",
       "      <th>Date</th>\n",
       "      <th>startup</th>\n",
       "      <th>Industry</th>\n",
       "      <th>sub_vertical</th>\n",
       "      <th>city</th>\n",
       "      <th>Invertor_name</th>\n",
       "      <th>Investment_type</th>\n",
       "    </tr>\n",
       "  </thead>\n",
       "  <tbody>\n",
       "    <tr>\n",
       "      <th>0</th>\n",
       "      <td>1</td>\n",
       "      <td>01/04/2021</td>\n",
       "      <td>BYJU’S</td>\n",
       "      <td>Edu-tech</td>\n",
       "      <td>Online tutoring</td>\n",
       "      <td>Bengaluru</td>\n",
       "      <td>Innoven Capital</td>\n",
       "      <td>Series F</td>\n",
       "    </tr>\n",
       "    <tr>\n",
       "      <th>1</th>\n",
       "      <td>2</td>\n",
       "      <td>05/04/2021</td>\n",
       "      <td>Meesho</td>\n",
       "      <td>E-commerce</td>\n",
       "      <td>Online reselling platform</td>\n",
       "      <td>Bengaluru</td>\n",
       "      <td>SoftBank Vision Fund 2</td>\n",
       "      <td>Series E</td>\n",
       "    </tr>\n",
       "    <tr>\n",
       "      <th>2</th>\n",
       "      <td>3</td>\n",
       "      <td>14/04/2021</td>\n",
       "      <td>Swiggy</td>\n",
       "      <td>Online Food Delivery</td>\n",
       "      <td>Online Food Delivery</td>\n",
       "      <td>Bengaluru</td>\n",
       "      <td>Amansa Holdings, Carmignac, Falcon Edge Capita...</td>\n",
       "      <td>Series J</td>\n",
       "    </tr>\n",
       "    <tr>\n",
       "      <th>3</th>\n",
       "      <td>4</td>\n",
       "      <td>07/04/2021</td>\n",
       "      <td>Groww</td>\n",
       "      <td>FinTech</td>\n",
       "      <td>Investment platform</td>\n",
       "      <td>Bengaluru</td>\n",
       "      <td>MC Global Edtech, B Capital, Baron, others</td>\n",
       "      <td>Series D</td>\n",
       "    </tr>\n",
       "    <tr>\n",
       "      <th>4</th>\n",
       "      <td>5</td>\n",
       "      <td>14/04/2021</td>\n",
       "      <td>Beldara</td>\n",
       "      <td>E-commerce</td>\n",
       "      <td>Global B2B marketplace</td>\n",
       "      <td>Mumbai</td>\n",
       "      <td>Hindustan Media Ventures</td>\n",
       "      <td>Venture</td>\n",
       "    </tr>\n",
       "    <tr>\n",
       "      <th>...</th>\n",
       "      <td>...</td>\n",
       "      <td>...</td>\n",
       "      <td>...</td>\n",
       "      <td>...</td>\n",
       "      <td>...</td>\n",
       "      <td>...</td>\n",
       "      <td>...</td>\n",
       "      <td>...</td>\n",
       "    </tr>\n",
       "    <tr>\n",
       "      <th>387</th>\n",
       "      <td>6</td>\n",
       "      <td>09/07/2018</td>\n",
       "      <td>zippserv</td>\n",
       "      <td>Consumer Internet</td>\n",
       "      <td>Online Platform For Risk-Assessment Services F...</td>\n",
       "      <td>Bengaluru</td>\n",
       "      <td>Info Edge (India) Ltd</td>\n",
       "      <td>Seed/ Angel Funding</td>\n",
       "    </tr>\n",
       "    <tr>\n",
       "      <th>388</th>\n",
       "      <td>7</td>\n",
       "      <td>09/07/2018</td>\n",
       "      <td>Groww</td>\n",
       "      <td>Consumer Internet</td>\n",
       "      <td>Online Platform That Sells Direct Plans Of Mut...</td>\n",
       "      <td>Bengaluru</td>\n",
       "      <td>Insignia Ventures Partners, Lightbridge Partne...</td>\n",
       "      <td>Seed/ Angel Funding</td>\n",
       "    </tr>\n",
       "    <tr>\n",
       "      <th>389</th>\n",
       "      <td>8</td>\n",
       "      <td>10/07/2018</td>\n",
       "      <td>Avenue Growth</td>\n",
       "      <td>Consumer Internet</td>\n",
       "      <td>Online Platform That Connects Brands With Free...</td>\n",
       "      <td>Gurugram</td>\n",
       "      <td>Avtar Monga, chief operating office at IDFC Ba...</td>\n",
       "      <td>Seed/ Angel Funding</td>\n",
       "    </tr>\n",
       "    <tr>\n",
       "      <th>390</th>\n",
       "      <td>9</td>\n",
       "      <td>10/07/2018</td>\n",
       "      <td>iNICU</td>\n",
       "      <td>Healthcare</td>\n",
       "      <td>Med-tech Platform Providing Care For Newborns</td>\n",
       "      <td>Delhi</td>\n",
       "      <td>Venture Catalysts</td>\n",
       "      <td>Seed/ Angel Funding</td>\n",
       "    </tr>\n",
       "    <tr>\n",
       "      <th>391</th>\n",
       "      <td>10</td>\n",
       "      <td>10/07/2018</td>\n",
       "      <td>Kinara Capital</td>\n",
       "      <td>Finance</td>\n",
       "      <td>Lending Platform For Micro and Small Enterprises</td>\n",
       "      <td>Bengaluru</td>\n",
       "      <td>ResponsAbility</td>\n",
       "      <td>Private Equity</td>\n",
       "    </tr>\n",
       "  </tbody>\n",
       "</table>\n",
       "<p>392 rows × 8 columns</p>\n",
       "</div>"
      ],
      "text/plain": [
       "    series        Date         startup              Industry  \\\n",
       "0        1  01/04/2021          BYJU’S              Edu-tech   \n",
       "1        2  05/04/2021          Meesho            E-commerce   \n",
       "2        3  14/04/2021          Swiggy  Online Food Delivery   \n",
       "3        4  07/04/2021           Groww               FinTech   \n",
       "4        5  14/04/2021         Beldara            E-commerce   \n",
       "..     ...         ...             ...                   ...   \n",
       "387      6  09/07/2018        zippserv     Consumer Internet   \n",
       "388      7  09/07/2018           Groww     Consumer Internet   \n",
       "389      8  10/07/2018   Avenue Growth     Consumer Internet   \n",
       "390      9  10/07/2018           iNICU            Healthcare   \n",
       "391     10  10/07/2018  Kinara Capital               Finance   \n",
       "\n",
       "                                          sub_vertical       city  \\\n",
       "0                                      Online tutoring  Bengaluru   \n",
       "1                            Online reselling platform  Bengaluru   \n",
       "2                                 Online Food Delivery  Bengaluru   \n",
       "3                                  Investment platform  Bengaluru   \n",
       "4                               Global B2B marketplace     Mumbai   \n",
       "..                                                 ...        ...   \n",
       "387  Online Platform For Risk-Assessment Services F...  Bengaluru   \n",
       "388  Online Platform That Sells Direct Plans Of Mut...  Bengaluru   \n",
       "389  Online Platform That Connects Brands With Free...   Gurugram   \n",
       "390      Med-tech Platform Providing Care For Newborns      Delhi   \n",
       "391   Lending Platform For Micro and Small Enterprises  Bengaluru   \n",
       "\n",
       "                                         Invertor_name      Investment_type  \n",
       "0                                      Innoven Capital             Series F  \n",
       "1                               SoftBank Vision Fund 2             Series E  \n",
       "2    Amansa Holdings, Carmignac, Falcon Edge Capita...             Series J  \n",
       "3           MC Global Edtech, B Capital, Baron, others             Series D  \n",
       "4                             Hindustan Media Ventures              Venture  \n",
       "..                                                 ...                  ...  \n",
       "387                              Info Edge (India) Ltd  Seed/ Angel Funding  \n",
       "388  Insignia Ventures Partners, Lightbridge Partne...  Seed/ Angel Funding  \n",
       "389  Avtar Monga, chief operating office at IDFC Ba...  Seed/ Angel Funding  \n",
       "390                                  Venture Catalysts  Seed/ Angel Funding  \n",
       "391                                     ResponsAbility       Private Equity  \n",
       "\n",
       "[392 rows x 8 columns]"
      ]
     },
     "execution_count": 38,
     "metadata": {},
     "output_type": "execute_result"
    }
   ],
   "source": [
    "import pandas as pd\n",
    "second_quarter = pd.DataFrame()\n",
    "second_quarter['series'] = series\n",
    "second_quarter['Date'] = Date\n",
    "second_quarter['startup'] = startup\n",
    "second_quarter['Industry'] = Industry\n",
    "second_quarter['sub_vertical'] = sub_vertical\n",
    "second_quarter['city'] = city\n",
    "second_quarter['Invertor_name'] = Invertor_name\n",
    "second_quarter['Investment_type'] = Investment_type\n",
    "second_quarter "
   ]
  },
  {
   "cell_type": "code",
   "execution_count": 39,
   "id": "7afcaf4a",
   "metadata": {},
   "outputs": [],
   "source": [
    "driver.close()"
   ]
  },
  {
   "cell_type": "markdown",
   "id": "3e2a3e85",
   "metadata": {},
   "source": [
    "# Q7. Write a program to scrap all the available details of best gaming laptops from digit.in"
   ]
  },
  {
   "cell_type": "code",
   "execution_count": 53,
   "id": "ae3961ff",
   "metadata": {},
   "outputs": [],
   "source": [
    "driver = webdriver.Edge(r\"C:/Users/yjjai/Downloads/edgedriver_win64/msedgedriver.exe\")"
   ]
  },
  {
   "cell_type": "code",
   "execution_count": 54,
   "id": "53049353",
   "metadata": {},
   "outputs": [],
   "source": [
    "driver.maximize_window()"
   ]
  },
  {
   "cell_type": "code",
   "execution_count": 55,
   "id": "31f1fca4",
   "metadata": {},
   "outputs": [],
   "source": [
    "url = \"https://www.digit.in/\"\n",
    "driver.get(url)"
   ]
  },
  {
   "cell_type": "code",
   "execution_count": 56,
   "id": "82a25b26",
   "metadata": {},
   "outputs": [],
   "source": [
    "#Clicking using absolute xpath function\n",
    "search_btn=driver.find_element(By.XPATH,\"//div[@class='listing_container']/ul/li[9]\")\n",
    "search_btn.click()"
   ]
  },
  {
   "cell_type": "code",
   "execution_count": 57,
   "id": "96604546",
   "metadata": {},
   "outputs": [],
   "source": [
    "Laptop_Name = []\n",
    "Operating_sys = []\n",
    "Display = []\n",
    "Processor = []\n",
    "Memory = []\n",
    "Weight = []\n",
    "Dimensions = []\n",
    "Graph_proc = []\n",
    "Price = []\n",
    "#scraping the data of laptop names\n",
    "laptop_name = driver.find_elements(By.XPATH,\"//div[@class='right-container']/div/div/div/a/h3\")\n",
    "for name in laptop_name:\n",
    "    Laptop_Name.append(name.text)\n",
    "    \n",
    "#scraping the data of operating system\n",
    "try:\n",
    "    op_sys = driver.find_elements(By.XPATH,\"//div[@class='product-detail']/div/ul/li[1]/div/div\")\n",
    "    for os in op_sys:\n",
    "        Operating_sys.append(os.text)\n",
    "except NoSuchElementException:\n",
    "    Operating_sys.append('-')\n",
    "\n",
    "\n",
    "#scraping data of display of the Laptop\n",
    "try:\n",
    "    display = driver.find_elements(By.XPATH,\"//div[@class='product-detail']/div/ul/li[2]/div/div\")\n",
    "    for disp in display:\n",
    "        Display.append(disp.text)\n",
    "except NoSuchElementException:\n",
    "    Display.append(\"-\")\n",
    "\n",
    "\n",
    "# scraping data of processor\n",
    "try:\n",
    "    processor = driver.find_elements(By.XPATH,\"//div[@class='Spcs-details'][1]/table/tbody/tr[2]/td[3]\")\n",
    "    for pro in processor:\n",
    "        Processor.append(pro.text)\n",
    "except NoSuchElementException:\n",
    "    Processor.append('-')\n",
    "\n",
    "\n",
    "# scraping the data of memory\n",
    "try:\n",
    "    memory = driver.find_elements(By.XPATH,\"//div[@class='Spcs-details'][1]/table/tbody/tr[6]/td[3]\")\n",
    "    for memo in memory:\n",
    "        Memory.append(memo.text)\n",
    "except NoSuchElementException:\n",
    "    Memory.append('-')\n",
    "\n",
    "\n",
    "# scraping data of weight\n",
    "try:\n",
    "    weight = driver.find_elements(By.XPATH,\"//div[@class='Spcs-details'][1]/table/tbody/tr[8]/td[3]\")\n",
    "    for wgt in weight:\n",
    "        Weight.append(wgt.text.split(\" \")[8:])\n",
    "except NoSuchElementException:\n",
    "    Weight.append('-')\n",
    "\n",
    "\n",
    "# scraping data of dimensions\n",
    "try:\n",
    "    dimension = driver.find_elements(By.XPATH,\"//div[@class='Spcs-details'][1]/table/tbody/tr[8]/td[3]\")\n",
    "    for dim in dimension:\n",
    "        Dimensions.append(dim.text)\n",
    "except NoSuchElementException:\n",
    "    Dimensions.append('-')\n",
    "\n",
    "\n",
    "# scraping data of graph processor\n",
    "try:\n",
    "    graph = driver.find_elements(By.XPATH,\"//div[@class='Spcs-details'][1]/table/tbody/tr[7]/td[3]\")\n",
    "    for gra in graph:\n",
    "        Graph_proc.append(gra.text)\n",
    "except NoSuchElementException:\n",
    "    Graph_proc.append('-')\n",
    "\n",
    "\n",
    "# scraping the data of price\n",
    "try:\n",
    "    price = driver.find_elements(By.XPATH,\"//td[@class='smprice']\")\n",
    "    for pri in price:\n",
    "        Price.append(pri.text)\n",
    "except NoSuchElementException:\n",
    "    Price.append('-')"
   ]
  },
  {
   "cell_type": "code",
   "execution_count": 61,
   "id": "05e11835",
   "metadata": {},
   "outputs": [
    {
     "data": {
      "text/html": [
       "<div>\n",
       "<style scoped>\n",
       "    .dataframe tbody tr th:only-of-type {\n",
       "        vertical-align: middle;\n",
       "    }\n",
       "\n",
       "    .dataframe tbody tr th {\n",
       "        vertical-align: top;\n",
       "    }\n",
       "\n",
       "    .dataframe thead th {\n",
       "        text-align: right;\n",
       "    }\n",
       "</style>\n",
       "<table border=\"1\" class=\"dataframe\">\n",
       "  <thead>\n",
       "    <tr style=\"text-align: right;\">\n",
       "      <th></th>\n",
       "      <th>Laptop Name</th>\n",
       "      <th>operating sys</th>\n",
       "      <th>Display</th>\n",
       "      <th>Price</th>\n",
       "      <th>Memory</th>\n",
       "      <th>Weight</th>\n",
       "      <th>Dimensions</th>\n",
       "      <th>Graph</th>\n",
       "    </tr>\n",
       "  </thead>\n",
       "  <tbody>\n",
       "    <tr>\n",
       "      <th>0</th>\n",
       "      <td>MSI Titan GT77-12UHS</td>\n",
       "      <td>Windows 11 Home OS</td>\n",
       "      <td>17.3\" (3840 x 2160) Display</td>\n",
       "      <td>N/A</td>\n",
       "      <td>64 GB DDR5 RAM &amp; 2 TB SSD</td>\n",
       "      <td>[3.3, kg, weight]</td>\n",
       "      <td>397 x 330 x 23 mm dimension &amp; 3.3 kg weight</td>\n",
       "      <td>16 GB DDR6 NVIDIA GeForce RTX 3080 Ti Graphics...</td>\n",
       "    </tr>\n",
       "    <tr>\n",
       "      <th>1</th>\n",
       "      <td>Alienware X17 R2</td>\n",
       "      <td>Windows 11 Home OS</td>\n",
       "      <td>17.3\" (1920 x 1080) Display</td>\n",
       "      <td>₹ 389,990</td>\n",
       "      <td>32 GB DDR5 RAM &amp; 1 TB SSD</td>\n",
       "      <td>[2.96, kg, weight]</td>\n",
       "      <td>299 x 359 x 21 mm dimension &amp; 2.96 kg weight</td>\n",
       "      <td>16 GB DDR6 NVIDIA GEFORCE RTX 3080 Ti Graphics...</td>\n",
       "    </tr>\n",
       "    <tr>\n",
       "      <th>2</th>\n",
       "      <td>Acer Predator Triton 500 SE PT516-52s</td>\n",
       "      <td>Windows 11 OS</td>\n",
       "      <td>16\" (2560 x 1600) Display</td>\n",
       "      <td>₹ 229,990</td>\n",
       "      <td>32 GB DDR5 RAM &amp; 2 TB SSD</td>\n",
       "      <td>[2.4, kg, weight]</td>\n",
       "      <td>262 x 359 x 20 mm dimension &amp; 2.4 kg weight</td>\n",
       "      <td>8 GB DDR6 NVIDIA GeForce RTX 3070 Ti Graphics ...</td>\n",
       "    </tr>\n",
       "    <tr>\n",
       "      <th>3</th>\n",
       "      <td>Omen By HP (16-B1371TX)</td>\n",
       "      <td>Windows 11 Home OS</td>\n",
       "      <td>16.1\" (2560 x 1440) Display</td>\n",
       "      <td>₹ 176,290</td>\n",
       "      <td>8 GB DDR5 RAM &amp; 1 TB SSD</td>\n",
       "      <td>[2.32, kg, weight]</td>\n",
       "      <td>369 x 248 x 23 mm dimension &amp; 2.32 kg weight</td>\n",
       "      <td>8 GB GDDR6 NVIDIA GeForce RTX 3070 Graphics card</td>\n",
       "    </tr>\n",
       "    <tr>\n",
       "      <th>4</th>\n",
       "      <td>Acer Predator Helios 300 AN515-45</td>\n",
       "      <td>Windows 11 Home OS</td>\n",
       "      <td>15.6\" (2560 x 1440) Display</td>\n",
       "      <td>₹ 172,999</td>\n",
       "      <td>16 GB DDR4 RAM &amp; 512 GB SSD</td>\n",
       "      <td>[2.4, kg, weight]</td>\n",
       "      <td>363 x 255 x 23.9 mm dimension &amp; 2.4 kg weight</td>\n",
       "      <td>8 GB DDR6 NVIDIA GeForce RTX 3070 Graphics card</td>\n",
       "    </tr>\n",
       "    <tr>\n",
       "      <th>5</th>\n",
       "      <td>MSI Delta 15 (A5EFK-083IN)</td>\n",
       "      <td>Windows 11 Home OS</td>\n",
       "      <td>15.6\" (1920 x 1080) Display</td>\n",
       "      <td>₹ 188,990</td>\n",
       "      <td>16 GB DDR4 RAM &amp; 1 TB SSD</td>\n",
       "      <td>[1.9, kg, weight]</td>\n",
       "      <td>357 x 247 x 19 mm dimension &amp; 1.9 kg weight</td>\n",
       "      <td>10 GB DDR6 AMD Radeon RX 6700M Graphics card</td>\n",
       "    </tr>\n",
       "    <tr>\n",
       "      <th>6</th>\n",
       "      <td>Omen By HP (16-C0141AX)</td>\n",
       "      <td>Windows 11 Home OS</td>\n",
       "      <td>16.1\" (2560 x 1440) Display</td>\n",
       "      <td>₹ 124,990</td>\n",
       "      <td>16 GB DDR4 RAM &amp; 1 TB NVMe</td>\n",
       "      <td>[2.3, kg, weight]</td>\n",
       "      <td>36.92 x 24.8 x 2.3 mm dimension &amp; 2.3 kg weight</td>\n",
       "      <td>8 GB GDDR6 AMD Radeon™ RX 6600M Graphics card</td>\n",
       "    </tr>\n",
       "    <tr>\n",
       "      <th>7</th>\n",
       "      <td>Lenovo Legion 5i Pro (82RF00MGIN)</td>\n",
       "      <td>Windows 11 Home OS</td>\n",
       "      <td>16\" (2560 x 1600) Display</td>\n",
       "      <td>₹ 162,869</td>\n",
       "      <td>16 GB DDR5 RAM &amp; 1 TB SSD</td>\n",
       "      <td>[2.49, kg, weight]</td>\n",
       "      <td>360 x 264 x 20 mm dimension &amp; 2.49 kg weight</td>\n",
       "      <td>6 GB DDR6 NVIDIA GeForce RTX 3060 Graphics card</td>\n",
       "    </tr>\n",
       "    <tr>\n",
       "      <th>8</th>\n",
       "      <td>Alienware M15 R5 Ryzen Edition Icc-C780001win</td>\n",
       "      <td>Windows 11 Home OS</td>\n",
       "      <td>15.6\" (1920 x 1080) Display</td>\n",
       "      <td>₹ 174,000</td>\n",
       "      <td>16 GB DDR4 RAM &amp; 512 GB SSD</td>\n",
       "      <td>[2.69, kg, weight]</td>\n",
       "      <td>356.2 x 272.5 x 22.85 mm dimension &amp; 2.69 kg w...</td>\n",
       "      <td>6 GB DDR6 NVIDIA GeForce RTX 3060 Graphics card</td>\n",
       "    </tr>\n",
       "    <tr>\n",
       "      <th>9</th>\n",
       "      <td>Lenovo Slim 7 Gen 6 (82K8002JIN)</td>\n",
       "      <td>Windows 11 Home OS</td>\n",
       "      <td>15.6 MP | NA Display</td>\n",
       "      <td>₹ 131,990</td>\n",
       "      <td>16 GB DDR4 RAM &amp; 1 TB SSD</td>\n",
       "      <td>[1.9, kg, weight]</td>\n",
       "      <td>356 x 252 x 16 mm dimension &amp; 1.9 kg weight</td>\n",
       "      <td>6 GB DDR6 NVIDIA GeForce 3060 Max-Q Graphics card</td>\n",
       "    </tr>\n",
       "  </tbody>\n",
       "</table>\n",
       "</div>"
      ],
      "text/plain": [
       "                                     Laptop Name       operating sys  \\\n",
       "0                           MSI Titan GT77-12UHS  Windows 11 Home OS   \n",
       "1                               Alienware X17 R2  Windows 11 Home OS   \n",
       "2          Acer Predator Triton 500 SE PT516-52s       Windows 11 OS   \n",
       "3                        Omen By HP (16-B1371TX)  Windows 11 Home OS   \n",
       "4              Acer Predator Helios 300 AN515-45  Windows 11 Home OS   \n",
       "5                     MSI Delta 15 (A5EFK-083IN)  Windows 11 Home OS   \n",
       "6                        Omen By HP (16-C0141AX)  Windows 11 Home OS   \n",
       "7              Lenovo Legion 5i Pro (82RF00MGIN)  Windows 11 Home OS   \n",
       "8  Alienware M15 R5 Ryzen Edition Icc-C780001win  Windows 11 Home OS   \n",
       "9               Lenovo Slim 7 Gen 6 (82K8002JIN)  Windows 11 Home OS   \n",
       "\n",
       "                       Display      Price                       Memory  \\\n",
       "0  17.3\" (3840 x 2160) Display        N/A    64 GB DDR5 RAM & 2 TB SSD   \n",
       "1  17.3\" (1920 x 1080) Display  ₹ 389,990    32 GB DDR5 RAM & 1 TB SSD   \n",
       "2    16\" (2560 x 1600) Display  ₹ 229,990    32 GB DDR5 RAM & 2 TB SSD   \n",
       "3  16.1\" (2560 x 1440) Display  ₹ 176,290     8 GB DDR5 RAM & 1 TB SSD   \n",
       "4  15.6\" (2560 x 1440) Display  ₹ 172,999  16 GB DDR4 RAM & 512 GB SSD   \n",
       "5  15.6\" (1920 x 1080) Display  ₹ 188,990    16 GB DDR4 RAM & 1 TB SSD   \n",
       "6  16.1\" (2560 x 1440) Display  ₹ 124,990   16 GB DDR4 RAM & 1 TB NVMe   \n",
       "7    16\" (2560 x 1600) Display  ₹ 162,869    16 GB DDR5 RAM & 1 TB SSD   \n",
       "8  15.6\" (1920 x 1080) Display  ₹ 174,000  16 GB DDR4 RAM & 512 GB SSD   \n",
       "9         15.6 MP | NA Display  ₹ 131,990    16 GB DDR4 RAM & 1 TB SSD   \n",
       "\n",
       "               Weight                                         Dimensions  \\\n",
       "0   [3.3, kg, weight]        397 x 330 x 23 mm dimension & 3.3 kg weight   \n",
       "1  [2.96, kg, weight]       299 x 359 x 21 mm dimension & 2.96 kg weight   \n",
       "2   [2.4, kg, weight]        262 x 359 x 20 mm dimension & 2.4 kg weight   \n",
       "3  [2.32, kg, weight]       369 x 248 x 23 mm dimension & 2.32 kg weight   \n",
       "4   [2.4, kg, weight]      363 x 255 x 23.9 mm dimension & 2.4 kg weight   \n",
       "5   [1.9, kg, weight]        357 x 247 x 19 mm dimension & 1.9 kg weight   \n",
       "6   [2.3, kg, weight]    36.92 x 24.8 x 2.3 mm dimension & 2.3 kg weight   \n",
       "7  [2.49, kg, weight]       360 x 264 x 20 mm dimension & 2.49 kg weight   \n",
       "8  [2.69, kg, weight]  356.2 x 272.5 x 22.85 mm dimension & 2.69 kg w...   \n",
       "9   [1.9, kg, weight]        356 x 252 x 16 mm dimension & 1.9 kg weight   \n",
       "\n",
       "                                               Graph  \n",
       "0  16 GB DDR6 NVIDIA GeForce RTX 3080 Ti Graphics...  \n",
       "1  16 GB DDR6 NVIDIA GEFORCE RTX 3080 Ti Graphics...  \n",
       "2  8 GB DDR6 NVIDIA GeForce RTX 3070 Ti Graphics ...  \n",
       "3   8 GB GDDR6 NVIDIA GeForce RTX 3070 Graphics card  \n",
       "4    8 GB DDR6 NVIDIA GeForce RTX 3070 Graphics card  \n",
       "5       10 GB DDR6 AMD Radeon RX 6700M Graphics card  \n",
       "6      8 GB GDDR6 AMD Radeon™ RX 6600M Graphics card  \n",
       "7    6 GB DDR6 NVIDIA GeForce RTX 3060 Graphics card  \n",
       "8    6 GB DDR6 NVIDIA GeForce RTX 3060 Graphics card  \n",
       "9  6 GB DDR6 NVIDIA GeForce 3060 Max-Q Graphics card  "
      ]
     },
     "execution_count": 61,
     "metadata": {},
     "output_type": "execute_result"
    }
   ],
   "source": [
    "import pandas as pd\n",
    "Laptop = pd.DataFrame()\n",
    "Laptop['Laptop Name'] = Laptop_Name\n",
    "Laptop['operating sys'] = Operating_sys\n",
    "Laptop['Display'] = Display\n",
    "Laptop['Price'] = Price\n",
    "Laptop['Memory'] = Memory\n",
    "Laptop['Weight'] = Weight\n",
    "Laptop['Dimensions'] = Dimensions\n",
    "Laptop['Graph'] = Graph_proc\n",
    "Laptop "
   ]
  },
  {
   "cell_type": "code",
   "execution_count": 62,
   "id": "f243bd1d",
   "metadata": {},
   "outputs": [],
   "source": [
    "driver.close()"
   ]
  },
  {
   "cell_type": "markdown",
   "id": "c5bc31d8",
   "metadata": {},
   "source": [
    "# Q8. Write a python program to scrape the details for all billionaires from www.forbes.com. Details to be scrapped: “Rank”, “Name”, “Net worth”, “Age”, “Citizenship”, “Source”, “Industry”."
   ]
  },
  {
   "cell_type": "code",
   "execution_count": 59,
   "id": "e9e42fe9",
   "metadata": {},
   "outputs": [],
   "source": [
    "driver = webdriver.Edge(r\"C:/Users/yjjai/Downloads/edgedriver_win64/msedgedriver.exe\")"
   ]
  },
  {
   "cell_type": "code",
   "execution_count": 60,
   "id": "f81cf214",
   "metadata": {},
   "outputs": [],
   "source": [
    "driver.maximize_window()"
   ]
  },
  {
   "cell_type": "code",
   "execution_count": 61,
   "id": "4e04df62",
   "metadata": {},
   "outputs": [],
   "source": [
    "url = \"https://www.forbes.com/\"\n",
    "driver.get(url)"
   ]
  },
  {
   "cell_type": "code",
   "execution_count": 62,
   "id": "b85466bb",
   "metadata": {},
   "outputs": [],
   "source": [
    "opt_btn = driver.find_element(By.XPATH,\"//div[@class='_69hVhdY4']\")\n",
    "opt_btn.click()\n",
    "time.sleep(3)"
   ]
  },
  {
   "cell_type": "code",
   "execution_count": 63,
   "id": "1c4d2de9",
   "metadata": {},
   "outputs": [],
   "source": [
    "#let's get option button from the page\n",
    "opt_btn = driver.find_element(By.XPATH,\"//div[@class='mpBfVZz3']\")\n",
    "opt_btn.click()\n",
    "time.sleep(3)"
   ]
  },
  {
   "cell_type": "code",
   "execution_count": 64,
   "id": "aa625b73",
   "metadata": {},
   "outputs": [],
   "source": [
    "#let's get option button from the page\n",
    "opt_btn = driver.find_element(By.XPATH,\"//a[@class='chansec-special-feature__title-wrapper']\")\n",
    "opt_btn.click()\n",
    "time.sleep(3)"
   ]
  },
  {
   "cell_type": "code",
   "execution_count": 65,
   "id": "689b8bc9",
   "metadata": {},
   "outputs": [],
   "source": [
    "Name = []\n",
    "name_tags= driver.find_elements(By.XPATH,'//div[@class=\"personName\"]')\n",
    "for i in name_tags:\n",
    "    Name.append(i.text)"
   ]
  },
  {
   "cell_type": "code",
   "execution_count": 66,
   "id": "1eb2a4a2",
   "metadata": {},
   "outputs": [
    {
     "data": {
      "text/plain": [
       "200"
      ]
     },
     "execution_count": 66,
     "metadata": {},
     "output_type": "execute_result"
    }
   ],
   "source": [
    "len(Name)"
   ]
  },
  {
   "cell_type": "code",
   "execution_count": 67,
   "id": "04a09af5",
   "metadata": {},
   "outputs": [],
   "source": [
    "Net_worth = []\n",
    "name_tags= driver.find_elements(By.XPATH,'//div[@class=\"netWorth\"]')\n",
    "for i in name_tags:\n",
    "    Net_worth.append(i.text)"
   ]
  },
  {
   "cell_type": "code",
   "execution_count": 68,
   "id": "5501f746",
   "metadata": {},
   "outputs": [
    {
     "data": {
      "text/plain": [
       "200"
      ]
     },
     "execution_count": 68,
     "metadata": {},
     "output_type": "execute_result"
    }
   ],
   "source": [
    "len(Net_worth)"
   ]
  },
  {
   "cell_type": "code",
   "execution_count": 69,
   "id": "6b53b371",
   "metadata": {},
   "outputs": [],
   "source": [
    "Country = []\n",
    "name_tags= driver.find_elements(By.XPATH,'//div[@class=\"countryOfCitizenship\"]')\n",
    "for i in name_tags:\n",
    "    Country.append(i.text)"
   ]
  },
  {
   "cell_type": "code",
   "execution_count": 70,
   "id": "f86c75d2",
   "metadata": {},
   "outputs": [
    {
     "data": {
      "text/plain": [
       "200"
      ]
     },
     "execution_count": 70,
     "metadata": {},
     "output_type": "execute_result"
    }
   ],
   "source": [
    "len(Country)"
   ]
  },
  {
   "cell_type": "code",
   "execution_count": 71,
   "id": "152699c2",
   "metadata": {},
   "outputs": [],
   "source": [
    "Source = []\n",
    "name_tags= driver.find_elements(By.XPATH,'//div[@class=\"source\"]')\n",
    "for i in name_tags:\n",
    "    Source.append(i.text)"
   ]
  },
  {
   "cell_type": "code",
   "execution_count": 72,
   "id": "8f876a01",
   "metadata": {},
   "outputs": [
    {
     "data": {
      "text/plain": [
       "200"
      ]
     },
     "execution_count": 72,
     "metadata": {},
     "output_type": "execute_result"
    }
   ],
   "source": [
    "len(Source)"
   ]
  },
  {
   "cell_type": "code",
   "execution_count": 73,
   "id": "95b48b01",
   "metadata": {},
   "outputs": [
    {
     "data": {
      "text/html": [
       "<div>\n",
       "<style scoped>\n",
       "    .dataframe tbody tr th:only-of-type {\n",
       "        vertical-align: middle;\n",
       "    }\n",
       "\n",
       "    .dataframe tbody tr th {\n",
       "        vertical-align: top;\n",
       "    }\n",
       "\n",
       "    .dataframe thead th {\n",
       "        text-align: right;\n",
       "    }\n",
       "</style>\n",
       "<table border=\"1\" class=\"dataframe\">\n",
       "  <thead>\n",
       "    <tr style=\"text-align: right;\">\n",
       "      <th></th>\n",
       "      <th>Name</th>\n",
       "      <th>Net_worth</th>\n",
       "      <th>Country</th>\n",
       "      <th>Source</th>\n",
       "    </tr>\n",
       "  </thead>\n",
       "  <tbody>\n",
       "    <tr>\n",
       "      <th>0</th>\n",
       "      <td>Elon Musk</td>\n",
       "      <td>$219 B</td>\n",
       "      <td>United States</td>\n",
       "      <td>Tesla, SpaceX</td>\n",
       "    </tr>\n",
       "    <tr>\n",
       "      <th>1</th>\n",
       "      <td>Jeff Bezos</td>\n",
       "      <td>$171 B</td>\n",
       "      <td>United States</td>\n",
       "      <td>Amazon</td>\n",
       "    </tr>\n",
       "    <tr>\n",
       "      <th>2</th>\n",
       "      <td>Bernard Arnault &amp; family</td>\n",
       "      <td>$158 B</td>\n",
       "      <td>France</td>\n",
       "      <td>LVMH</td>\n",
       "    </tr>\n",
       "    <tr>\n",
       "      <th>3</th>\n",
       "      <td>Bill Gates</td>\n",
       "      <td>$129 B</td>\n",
       "      <td>United States</td>\n",
       "      <td>Microsoft</td>\n",
       "    </tr>\n",
       "    <tr>\n",
       "      <th>4</th>\n",
       "      <td>Warren Buffett</td>\n",
       "      <td>$118 B</td>\n",
       "      <td>United States</td>\n",
       "      <td>Berkshire Hathaway</td>\n",
       "    </tr>\n",
       "    <tr>\n",
       "      <th>...</th>\n",
       "      <td>...</td>\n",
       "      <td>...</td>\n",
       "      <td>...</td>\n",
       "      <td>...</td>\n",
       "    </tr>\n",
       "    <tr>\n",
       "      <th>195</th>\n",
       "      <td>Marcel Herrmann Telles</td>\n",
       "      <td>$10.3 B</td>\n",
       "      <td>Brazil</td>\n",
       "      <td>beer</td>\n",
       "    </tr>\n",
       "    <tr>\n",
       "      <th>196</th>\n",
       "      <td>Leon Black</td>\n",
       "      <td>$10 B</td>\n",
       "      <td>United States</td>\n",
       "      <td>private equity</td>\n",
       "    </tr>\n",
       "    <tr>\n",
       "      <th>197</th>\n",
       "      <td>Joe Gebbia</td>\n",
       "      <td>$10 B</td>\n",
       "      <td>United States</td>\n",
       "      <td>Airbnb</td>\n",
       "    </tr>\n",
       "    <tr>\n",
       "      <th>198</th>\n",
       "      <td>David Geffen</td>\n",
       "      <td>$10 B</td>\n",
       "      <td>United States</td>\n",
       "      <td>movies, record labels</td>\n",
       "    </tr>\n",
       "    <tr>\n",
       "      <th>199</th>\n",
       "      <td>Yu Renrong</td>\n",
       "      <td>$10 B</td>\n",
       "      <td>China</td>\n",
       "      <td>semiconductors</td>\n",
       "    </tr>\n",
       "  </tbody>\n",
       "</table>\n",
       "<p>200 rows × 4 columns</p>\n",
       "</div>"
      ],
      "text/plain": [
       "                         Name Net_worth        Country                 Source\n",
       "0                   Elon Musk    $219 B  United States          Tesla, SpaceX\n",
       "1                  Jeff Bezos    $171 B  United States                 Amazon\n",
       "2    Bernard Arnault & family    $158 B         France                   LVMH\n",
       "3                  Bill Gates    $129 B  United States              Microsoft\n",
       "4              Warren Buffett    $118 B  United States     Berkshire Hathaway\n",
       "..                        ...       ...            ...                    ...\n",
       "195    Marcel Herrmann Telles   $10.3 B         Brazil                   beer\n",
       "196                Leon Black     $10 B  United States         private equity\n",
       "197                Joe Gebbia     $10 B  United States                 Airbnb\n",
       "198              David Geffen     $10 B  United States  movies, record labels\n",
       "199                Yu Renrong     $10 B          China         semiconductors\n",
       "\n",
       "[200 rows x 4 columns]"
      ]
     },
     "execution_count": 73,
     "metadata": {},
     "output_type": "execute_result"
    }
   ],
   "source": [
    "import pandas as pd\n",
    "billionaires = pd.DataFrame()\n",
    "billionaires['Name'] = Name\n",
    "billionaires['Net_worth'] = Net_worth\n",
    "billionaires['Country'] = Country\n",
    "billionaires['Source'] = Source\n",
    "billionaires"
   ]
  },
  {
   "cell_type": "code",
   "execution_count": 74,
   "id": "57e78c15",
   "metadata": {},
   "outputs": [],
   "source": [
    "driver.close()"
   ]
  },
  {
   "cell_type": "markdown",
   "id": "c636b982",
   "metadata": {},
   "source": [
    "# Q10. Write a python program to scrape a data for all available Hostels from https://www.hostelworld.com/ in “London” location. You have to scrape hostel name, distance from city centre, ratings, total reviews, overall reviews, privates from price, dorms from price, facilities and property description."
   ]
  },
  {
   "cell_type": "code",
   "execution_count": 9,
   "id": "55c64e0b",
   "metadata": {},
   "outputs": [],
   "source": [
    "driver = webdriver.Edge(r\"C:/Users/yjjai/Downloads/edgedriver_win64/msedgedriver.exe\")"
   ]
  },
  {
   "cell_type": "code",
   "execution_count": 10,
   "id": "ed6c314b",
   "metadata": {},
   "outputs": [],
   "source": [
    "driver.maximize_window()"
   ]
  },
  {
   "cell_type": "code",
   "execution_count": 11,
   "id": "a0092ed3",
   "metadata": {},
   "outputs": [],
   "source": [
    "url = \"https://www.hostelworld.com/\"\n",
    "driver.get(url)"
   ]
  },
  {
   "cell_type": "code",
   "execution_count": 13,
   "id": "9ab0d90e",
   "metadata": {},
   "outputs": [],
   "source": [
    "london=driver.find_element(By.XPATH,\"/html/body/div[3]/div/div/div[2]/div[1]/div/div/div[4]/div/div[2]/div/div[1]/div/div/div/input\") \n",
    "london.send_keys(\"London\")"
   ]
  },
  {
   "cell_type": "code",
   "execution_count": 14,
   "id": "6e6d5527",
   "metadata": {},
   "outputs": [],
   "source": [
    "search_btn=driver.find_element(By.XPATH,\"/html/body/div[3]/div/div/div[2]/div[1]/div/div/div[4]/div/div[2]/div/div[1]/div/div/ul/li[2]\") \n",
    "search_btn.click()"
   ]
  },
  {
   "cell_type": "code",
   "execution_count": 17,
   "id": "5d6ae4d3",
   "metadata": {},
   "outputs": [],
   "source": [
    "search_btn=driver.find_element(By.XPATH,\"/html/body/div[3]/div/div/div[2]/div[1]/div/div/div[4]/div/div[2]/div/div[5]/button\") \n",
    "search_btn.click()"
   ]
  },
  {
   "cell_type": "code",
   "execution_count": 22,
   "id": "3574d2cb",
   "metadata": {},
   "outputs": [],
   "source": [
    "hotel_name = []\n",
    "name_tags= driver.find_elements(By.XPATH,'//h2[@class=\"title title-6\"]')\n",
    "for i in name_tags:\n",
    "    hotel_name.append(i.text)"
   ]
  },
  {
   "cell_type": "code",
   "execution_count": 33,
   "id": "fc03a8b2",
   "metadata": {},
   "outputs": [],
   "source": [
    "#scraping the data of hotel distance\n",
    "hotel_dist = []\n",
    "try:\n",
    "    dist = driver.find_elements(By.XPATH,'//span[@class=\"description\"]')\n",
    "    for os in dist:\n",
    "        hotel_dist.append(os.text)\n",
    "except NoSuchElementException:\n",
    "    hotel_dist.append('-')"
   ]
  },
  {
   "cell_type": "code",
   "execution_count": 35,
   "id": "a6b6fc00",
   "metadata": {},
   "outputs": [],
   "source": [
    "Rating = []\n",
    "try:\n",
    "    rat = driver.find_elements(By.XPATH,'//div[@class=\"score orange big\"]')\n",
    "    for os in rat:\n",
    "        Rating.append(os.text)\n",
    "except NoSuchElementException:\n",
    "    Rating.append('-')"
   ]
  },
  {
   "cell_type": "code",
   "execution_count": 37,
   "id": "86c2546a",
   "metadata": {},
   "outputs": [],
   "source": [
    "Toatl_rev = []\n",
    "try:\n",
    "    rat = driver.find_elements(By.XPATH,'//div[@class=\"reviews\"]')\n",
    "    for os in rat:\n",
    "        Toatl_rev.append(os.text)\n",
    "except NoSuchElementException:\n",
    "    Toatl_rev.append('-')"
   ]
  },
  {
   "cell_type": "code",
   "execution_count": 40,
   "id": "b3d2e19f",
   "metadata": {},
   "outputs": [],
   "source": [
    "dorms_price = []\n",
    "try:\n",
    "    rat = driver.find_elements(By.XPATH,'//div[@class=\"price title-5\"]')\n",
    "    for os in rat:\n",
    "        dorms_price.append(os.text)\n",
    "except NoSuchElementException:\n",
    "    dorms_price.append('-')"
   ]
  },
  {
   "cell_type": "code",
   "execution_count": 47,
   "id": "00288f47",
   "metadata": {},
   "outputs": [],
   "source": [
    "privates_price = []\n",
    "try:\n",
    "    rat = driver.find_elements(By.XPATH,'//p[@class=\"no-price body-3 no-privates\"]')\n",
    "    for os in rat:\n",
    "        privates_price.append(os.text)\n",
    "except NoSuchElementException:\n",
    "    privates_price.append('-')"
   ]
  },
  {
   "cell_type": "code",
   "execution_count": 48,
   "id": "fac438e7",
   "metadata": {},
   "outputs": [],
   "source": [
    "property_description = []\n",
    "try:\n",
    "    rat = driver.find_elements(By.XPATH,'//div[@class=\"location\"]')\n",
    "    for os in rat:\n",
    "        property_description.append(os.text)\n",
    "except NoSuchElementException:\n",
    "    property_description.append('-')"
   ]
  },
  {
   "cell_type": "code",
   "execution_count": 52,
   "id": "42c03caf",
   "metadata": {},
   "outputs": [],
   "source": [
    "driver.close()"
   ]
  },
  {
   "cell_type": "code",
   "execution_count": null,
   "id": "a28d46b7",
   "metadata": {},
   "outputs": [],
   "source": []
  },
  {
   "cell_type": "code",
   "execution_count": null,
   "id": "40158ddd",
   "metadata": {},
   "outputs": [],
   "source": []
  },
  {
   "cell_type": "code",
   "execution_count": null,
   "id": "337e5c47",
   "metadata": {},
   "outputs": [],
   "source": []
  }
 ],
 "metadata": {
  "kernelspec": {
   "display_name": "Python 3 (ipykernel)",
   "language": "python",
   "name": "python3"
  },
  "language_info": {
   "codemirror_mode": {
    "name": "ipython",
    "version": 3
   },
   "file_extension": ".py",
   "mimetype": "text/x-python",
   "name": "python",
   "nbconvert_exporter": "python",
   "pygments_lexer": "ipython3",
   "version": "3.9.12"
  }
 },
 "nbformat": 4,
 "nbformat_minor": 5
}
