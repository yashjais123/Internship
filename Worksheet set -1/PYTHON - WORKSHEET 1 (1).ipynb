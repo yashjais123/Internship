{
 "cells": [
  {
   "cell_type": "markdown",
   "id": "5feadafa",
   "metadata": {},
   "source": [
    "# Q11 to Q15 are programming questions. Answer them in Jupyter Notebook"
   ]
  },
  {
   "cell_type": "code",
   "execution_count": 17,
   "id": "b1cc611b",
   "metadata": {},
   "outputs": [],
   "source": [
    "# 11. Write a python program to find the factorial of a number."
   ]
  },
  {
   "cell_type": "code",
   "execution_count": 19,
   "id": "25972013",
   "metadata": {},
   "outputs": [],
   "source": [
    "# factorial 5 = 5 x 4 X 3 X 2 X 1 like this "
   ]
  },
  {
   "cell_type": "code",
   "execution_count": 3,
   "id": "c8045cdd",
   "metadata": {},
   "outputs": [
    {
     "name": "stdout",
     "output_type": "stream",
     "text": [
      "enter Number 7\n",
      " The factorial of 7 is 5040\n"
     ]
    }
   ],
   "source": [
    "# num = 7\n",
    "\n",
    "num = int(input(\"enter Number \"))\n",
    "factorial = 1\n",
    "for i in range (1,num+1):\n",
    "    factorial = factorial * i\n",
    "print(\" The factorial of\",num,\"is\",factorial)"
   ]
  },
  {
   "cell_type": "code",
   "execution_count": 18,
   "id": "9fd11737",
   "metadata": {},
   "outputs": [],
   "source": [
    "# 12. Write a python program to find whether a number is prime or composite"
   ]
  },
  {
   "cell_type": "code",
   "execution_count": 16,
   "id": "ec5a0d50",
   "metadata": {},
   "outputs": [
    {
     "name": "stdout",
     "output_type": "stream",
     "text": [
      "Enter a Number to check Prime or composite 12\n",
      "12 is a Composite Number \n"
     ]
    }
   ],
   "source": [
    "num = int(input(\"Enter a Number to check Prime or composite \"))\n",
    "if num > 1:\n",
    "    for i in range(2,num):\n",
    "        if num%i==0:\n",
    "            print(num,\"is a Composite Number \")\n",
    "            break\n",
    "    else:\n",
    "        print(num,\"is a Prime Number \")\n",
    "else:\n",
    "    print(num,\" is a Composite Number \")"
   ]
  },
  {
   "cell_type": "code",
   "execution_count": null,
   "id": "d7252a76",
   "metadata": {},
   "outputs": [],
   "source": [
    "# 13. Write a python program to check whether a given string is palindrome or not."
   ]
  },
  {
   "cell_type": "code",
   "execution_count": 21,
   "id": "e3d68537",
   "metadata": {},
   "outputs": [
    {
     "name": "stdout",
     "output_type": "stream",
     "text": [
      "Enter string: MADAM\n",
      "Palindrome string \n"
     ]
    }
   ],
   "source": [
    "a = input(\"Enter string: \")\n",
    "b = a[-1::-1]\n",
    "if (a==b):\n",
    "    print(\"Palindrome string \")\n",
    "else:\n",
    "    print(\" Not Palindrome string\")"
   ]
  },
  {
   "cell_type": "code",
   "execution_count": 22,
   "id": "5c5f18b9",
   "metadata": {},
   "outputs": [],
   "source": [
    "# 14. Write a Python program to get the third side of right-angled triangle from two given sides."
   ]
  },
  {
   "cell_type": "code",
   "execution_count": 24,
   "id": "54aae732",
   "metadata": {},
   "outputs": [
    {
     "name": "stdout",
     "output_type": "stream",
     "text": [
      "Entry a base and perpendicular sides of your Triangle \n",
      "Entry base of the right angle triangle 2\n",
      "Entry perpendicular of the right angled triangle 4\n",
      "The third side of traiangled is  4.47213595499958\n"
     ]
    }
   ],
   "source": [
    "from math import sqrt\n",
    "print(\"Entry a base and perpendicular sides of your Triangle \")\n",
    "\n",
    "a = float(input(\"Entry base of the right angle triangle \"))\n",
    "b = float(input(\"Entry perpendicular of the right angled triangle \"))\n",
    "c = sqrt(a**2+b**2)\n",
    "\n",
    "print(\"The third side of traiangled is \",c)"
   ]
  },
  {
   "cell_type": "code",
   "execution_count": 25,
   "id": "ba70d3ec",
   "metadata": {},
   "outputs": [],
   "source": [
    "# 15. Write a python program to print the frequency of each of the characters present in a given string"
   ]
  },
  {
   "cell_type": "code",
   "execution_count": 26,
   "id": "09272473",
   "metadata": {},
   "outputs": [
    {
     "name": "stdout",
     "output_type": "stream",
     "text": [
      "Entry size of the List: 5\n",
      "entry Number: 5\n",
      "entry Number: 10\n",
      "entry Number: 5\n",
      "entry Number: 10\n",
      "entry Number: 3\n",
      "entry Number to find frequency: 10\n",
      "frequency= 2\n"
     ]
    }
   ],
   "source": [
    "a=[]\n",
    "size=int(input(\"Entry size of the List: \"))\n",
    "for i in range(size):\n",
    "    val=int(input(\"entry Number: \"))\n",
    "    a.append(val)\n",
    "key=int(input(\"entry Number to find frequency: \"))    \n",
    "count=0\n",
    "for i in range(size):\n",
    "    if (a[i]==key):\n",
    "        count=count+1\n",
    "print(\"frequency=\",count)"
   ]
  },
  {
   "cell_type": "code",
   "execution_count": null,
   "id": "94038bf8",
   "metadata": {},
   "outputs": [],
   "source": []
  }
 ],
 "metadata": {
  "kernelspec": {
   "display_name": "Python 3 (ipykernel)",
   "language": "python",
   "name": "python3"
  },
  "language_info": {
   "codemirror_mode": {
    "name": "ipython",
    "version": 3
   },
   "file_extension": ".py",
   "mimetype": "text/x-python",
   "name": "python",
   "nbconvert_exporter": "python",
   "pygments_lexer": "ipython3",
   "version": "3.9.12"
  }
 },
 "nbformat": 4,
 "nbformat_minor": 5
}
